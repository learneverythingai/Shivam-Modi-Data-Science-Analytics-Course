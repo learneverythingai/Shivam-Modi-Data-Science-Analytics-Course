{
  "nbformat": 4,
  "nbformat_minor": 0,
  "metadata": {
    "colab": {
      "provenance": [],
      "include_colab_link": true
    },
    "kernelspec": {
      "name": "python3",
      "display_name": "Python 3"
    },
    "language_info": {
      "name": "python"
    }
  },
  "cells": [
    {
      "cell_type": "markdown",
      "metadata": {
        "id": "view-in-github",
        "colab_type": "text"
      },
      "source": [
        "<a href=\"https://colab.research.google.com/github/learneverythingai/Shivam-Modi-Data-Science-Analytics-Course/blob/main/Deep%20Learning%20Course/Time_series_part-1.ipynb\" target=\"_parent\"><img src=\"https://colab.research.google.com/assets/colab-badge.svg\" alt=\"Open In Colab\"/></a>"
      ]
    },
    {
      "cell_type": "markdown",
      "source": [
        "# The Author and Instructor of this Notebook is **Shivam Modi**.\n",
        "\n",
        "## LinkedIn: https://www.linkedin.com/in/shivam-modi-datascientist/"
      ],
      "metadata": {
        "id": "y9URXCQsM1gg"
      }
    },
    {
      "cell_type": "markdown",
      "source": [
        "#Time Series\n",
        "Time series arise as recordings of processes which vary over a particular time interval. A recording can be either continuous trace or set of discrete observations. By appropriately choosing origin and scale we can define observed time as $t_1,t_2.....T$ and observation as $Y_1,Y_2.....Y_T$. Where as \"Time-Series Forecasting\" is the process of using a statistical model to predict future values of a time-series based on past results.<p>\n",
        "Number of things to be noted while performing time series analysis:\n",
        "* Modelling : We want to develop a simple mathematical model which\n",
        "explains the observed pattern of $Y_1,Y_2, . . . ,Y_T$ . This model may depend on unknown parameters and need to be estimated.\n",
        "* Forecasting : On the basis of the above observation we wish to predict what will be the value of $Y_{T+L}$ and this will give the uncertainty in the prediction.\n",
        "* Controlling : It states the process which is producing the\n",
        "$Y_t$ values in such a way that the future values can be modified to produce a required/respective outcome.\n",
        " \n",
        "<p>Components of Time-Series:-\n",
        " \n",
        "1. Trends : It shows the direction of time-series data over a particular interval of time. It can be increasing, decreasing or horizontal i.e., upward, downward or stationary respectively.\n",
        " \n",
        "2. Seasionality : It exhibits a trend which repeats with respect to timing, magnitude and direction.\n",
        " \n",
        "3. Cyclical component : These are the trends with no repetition over a particular time period.A cycle red=fers to ups & downs and are mostly observed in business areas.\n",
        " \n",
        "4. Irregular Variation : These are the fluctuations in the time series data which become transparent when trend and cyclical variations are removed. These variations are unpredictable, inconsistent, and may or may not be random.\n"
      ],
      "metadata": {
        "id": "hwfl4KHurfRU"
      }
    },
    {
      "cell_type": "markdown",
      "source": [
        "# Covid-19 Forecasting\n",
        "\n",
        "Dataset can be downloaded from the given link : [Dataset](https://drive.google.com/file/d/1WDz10aVdFetLN_R4mSkzugqb2s5gpr89/view?usp=sharing)"
      ],
      "metadata": {
        "id": "oV1f95lWw6Ed"
      }
    },
    {
      "cell_type": "code",
      "source": [
        "#Importing necessary and required modules\n",
        "import os\n",
        "from keras.models import Sequential\n",
        "from sklearn.preprocessing import MinMaxScaler\n",
        "from tensorflow.python import keras\n",
        "from keras.preprocessing.sequence import TimeseriesGenerator\n",
        "from keras.models import Sequential\n",
        "from keras.layers import Dense\n",
        "from keras.layers import LSTM\n",
        "from sklearn.preprocessing import MinMaxScaler\n",
        "from sklearn.metrics import mean_squared_error\n",
        "import numpy as np\n",
        "from pandas import read_csv\n",
        "import pandas as pd\n",
        "import matplotlib.pyplot as plt"
      ],
      "metadata": {
        "id": "j8vqfTqvw4G7"
      },
      "execution_count": null,
      "outputs": []
    },
    {
      "cell_type": "code",
      "source": [
        "dataset = pd.read_csv('/content/dataset.csv',usecols=[5]).values.astype('float64')"
      ],
      "metadata": {
        "id": "126AuJrZw4EZ"
      },
      "execution_count": null,
      "outputs": []
    },
    {
      "cell_type": "code",
      "source": [
        "#Shift features and labels one step relative to each other\n",
        "def delta_time_series(data):\n",
        "    return data[1:]- data[:-1]\n",
        "\n",
        "dataset = delta_time_series(dataset)\n",
        "dataset.shape\n",
        "#plotting the dataset\n",
        "def plot_delta(data):\n",
        "    plt.plot(delta_time_series(data))\n",
        "    plt.ylabel('cases')\n",
        "    plt.show()\n",
        "    \n",
        "plot_delta(dataset) "
      ],
      "metadata": {
        "colab": {
          "base_uri": "https://localhost:8080/",
          "height": 265
        },
        "id": "RB4mAyLPw4Cr",
        "outputId": "39a87ff1-ab50-46d0-a648-a3f9f8ba4afd"
      },
      "execution_count": null,
      "outputs": [
        {
          "output_type": "display_data",
          "data": {
            "text/plain": [
              "<Figure size 432x288 with 1 Axes>"
            ],
            "image/png": "[encoded data removed]"
          },
          "metadata": {
            "needs_background": "light"
          }
        }
      ]
    },
    {
      "cell_type": "code",
      "source": [
        "# Helper function to get y as a numpy array from the TimeseriesGenerator\n",
        "def get_y_from_generator(gen):\n",
        "    y = None\n",
        "    for i in range(len(gen)):\n",
        "        batch_y = gen[i][1]\n",
        "        if y is None:\n",
        "            y = batch_y\n",
        "        else:\n",
        "            y = np.append(y, batch_y)\n",
        "    y = y.reshape((-1,1))\n",
        "    print(y.shape)\n",
        "    return y"
      ],
      "metadata": {
        "id": "4rJNSEmLyP1S"
      },
      "execution_count": null,
      "outputs": []
    },
    {
      "cell_type": "markdown",
      "source": [
        "The above set of codes will divide the dataset into training dataset(first 16,000 rows of the data) and the remaining will be the validation and test dataset ."
      ],
      "metadata": {
        "id": "OlhQJZOxy3Dr"
      }
    },
    {
      "cell_type": "code",
      "source": [
        "# normalize the dataset\n",
        "scaler = MinMaxScaler(feature_range=(0, 1))\n",
        "dataset = scaler.fit_transform(dataset)\n",
        "\n",
        "# split into train and test sets\n",
        "train, val, test = dataset[0:16000, :], dataset[16001:17000, :], dataset[17001:None, :]\n",
        "lookback = 100\n",
        "step = 1\n",
        "batch_size = 128\n",
        "\n",
        "#assigning the dataset after splitation \n",
        "train_data_gen = TimeseriesGenerator(train, train,\n",
        "                                     length=lookback, sampling_rate=step, stride=1,shuffle=True,\n",
        "                                     batch_size=batch_size)\n",
        "\n",
        "val_data_gen = TimeseriesGenerator(val, val,\n",
        "                                   length=lookback, sampling_rate=step, stride=1,\n",
        "                                   batch_size=batch_size)\n",
        "\n",
        "test_data_gen = TimeseriesGenerator(test, test,\n",
        "                                    length=lookback, sampling_rate=step, stride=1,\n",
        "                                    batch_size=batch_size)\n",
        "\n",
        "val_steps = (17000 - 16001 - lookback)\n",
        "test_steps = (len(dataset) - 17001 - lookback)"
      ],
      "metadata": {
        "id": "t5YrKPq0yPyp"
      },
      "execution_count": null,
      "outputs": []
    },
    {
      "cell_type": "code",
      "source": [
        "#training the model\n",
        "from keras.models import Sequential\n",
        "from keras import layers\n",
        "from tensorflow.keras.optimizers import RMSprop\n",
        "\n",
        "model = Sequential()\n",
        "model.add(layers.GRU(32, dropout=0.2,input_shape=(None, dataset.shape[-1])))\n",
        "model.add(layers.Dense(1))\n",
        "\n",
        "model.compile(optimizer=RMSprop(), loss='mae')\n",
        "\n",
        "history = model.fit(train_data_gen,epochs=10,validation_data=val_data_gen)\n",
        "\n",
        "loss = history.history['loss']\n",
        "val_loss = history.history['val_loss']\n",
        "epochs = range(1, len(loss) + 1)\n",
        "plt.figure()\n",
        "plt.plot(epochs, loss, 'bo', label='Training loss')\n",
        "plt.plot(epochs, val_loss, 'b', label='Validation loss')\n",
        "plt.title('Training and validation loss')\n",
        "plt.legend()\n",
        "plt.show()\n",
        "\n"
      ],
      "metadata": {
        "colab": {
          "base_uri": "https://localhost:8080/",
          "height": 668
        },
        "id": "0o8safs2yPrd",
        "outputId": "44c55632-0736-4e69-ce4f-2839e68ace50"
      },
      "execution_count": null,
      "outputs": [
        {
          "output_type": "stream",
          "name": "stdout",
          "text": [
            "Epoch 1/10\n",
            "125/125 [==============================] - 9s 59ms/step - loss: 0.0704 - val_loss: 0.0244\n",
            "Epoch 2/10\n",
            "125/125 [==============================] - 7s 52ms/step - loss: 0.0242 - val_loss: 0.0259\n",
            "Epoch 3/10\n",
            "125/125 [==============================] - 7s 53ms/step - loss: 0.0217 - val_loss: 0.0152\n",
            "Epoch 4/10\n",
            "125/125 [==============================] - 7s 52ms/step - loss: 0.0201 - val_loss: 0.0239\n",
            "Epoch 5/10\n",
            "125/125 [==============================] - 6s 51ms/step - loss: 0.0184 - val_loss: 0.0140\n",
            "Epoch 6/10\n",
            "125/125 [==============================] - 7s 53ms/step - loss: 0.0174 - val_loss: 0.0269\n",
            "Epoch 7/10\n",
            "125/125 [==============================] - 7s 53ms/step - loss: 0.0162 - val_loss: 0.0089\n",
            "Epoch 8/10\n",
            "125/125 [==============================] - 6s 51ms/step - loss: 0.0155 - val_loss: 0.0231\n",
            "Epoch 9/10\n",
            "125/125 [==============================] - 6s 51ms/step - loss: 0.0148 - val_loss: 0.0056\n",
            "Epoch 10/10\n",
            "125/125 [==============================] - 7s 52ms/step - loss: 0.0140 - val_loss: 0.0257\n"
          ]
        },
        {
          "output_type": "display_data",
          "data": {
            "text/plain": [
              "<Figure size 432x288 with 1 Axes>"
            ],
            "image/png": "[encoded data removed]"
          },
          "metadata": {
            "needs_background": "light"
          }
        }
      ]
    },
    {
      "cell_type": "code",
      "source": [
        "test_loss = model.evaluate(test_data_gen,steps=test_steps)\n",
        "print('test loss:', test_loss)\n",
        "testPredict = model.predict(test_data_gen)\n",
        "testPredict.shape\n",
        "testY = get_y_from_generator(test_data_gen)\n",
        "\n",
        "\n"
      ],
      "metadata": {
        "colab": {
          "base_uri": "https://localhost:8080/"
        },
        "id": "KNS6CWKAyPox",
        "outputId": "fa1c2621-15e6-4fb4-86e1-f82eed0ed581"
      },
      "execution_count": null,
      "outputs": [
        {
          "output_type": "stream",
          "name": "stdout",
          "text": [
            "  35/4696 [..............................] - ETA: 1:47 - loss: 0.0253WARNING:tensorflow:Your input ran out of data; interrupting training. Make sure that your dataset or generator can generate at least `steps_per_epoch * epochs` batches (in this case, 4696 batches). You may need to use the repeat() function when building your dataset.\n"
          ]
        },
        {
          "output_type": "stream",
          "name": "stderr",
          "text": [
            "WARNING:tensorflow:Your input ran out of data; interrupting training. Make sure that your dataset or generator can generate at least `steps_per_epoch * epochs` batches (in this case, 4696 batches). You may need to use the repeat() function when building your dataset.\n"
          ]
        },
        {
          "output_type": "stream",
          "name": "stdout",
          "text": [
            "\b\b\b\b\b\b\b\b\b\b\b\b\b\b\b\b\b\b\b\b\b\b\b\b\b\b\b\b\b\b\b\b\b\b\b\b\b\b\b\b\b\b\b\b\b\b\b\b\b\b\b\b\b\b\b\b\b\b\b\b\b\b\b\b\b\b\b\b\b\r4696/4696 [==============================] - 1s 183us/step - loss: 0.0253\n",
            "test loss: 0.0252920500934124\n",
            "(4696, 1)\n"
          ]
        }
      ]
    },
    {
      "cell_type": "code",
      "source": [
        "from sklearn.metrics import mean_squared_error\n",
        "import math\n",
        "# calculate root mean squared error\n",
        "testScore = math.sqrt(mean_squared_error(testY[:, 0], testPredict[:,0]))\n",
        "print('Test Score: %.2f RMSE' % (testScore))\n",
        "\n",
        "# error distribution\n",
        "error = testPredict - testY\n",
        "plt.hist(error, bins = 25)\n",
        "plt.xlabel(\"Prediction Error \")\n",
        "plt.ylabel(\"Count\")\n",
        "print('Here \"error\" represents the difference between the predicted value and the true value.')"
      ],
      "metadata": {
        "colab": {
          "base_uri": "https://localhost:8080/",
          "height": 318
        },
        "id": "KA_raQ2lw39h",
        "outputId": "26d40c56-ad17-4dc7-f71f-03e16e700ed0"
      },
      "execution_count": null,
      "outputs": [
        {
          "output_type": "stream",
          "name": "stdout",
          "text": [
            "Test Score: 0.03 RMSE\n",
            "Here \"error\" represents the difference between the predicted value and the true value.\n"
          ]
        },
        {
          "output_type": "display_data",
          "data": {
            "text/plain": [
              "<Figure size 432x288 with 1 Axes>"
            ],
            "image/png": "[encoded data removed]"
          },
          "metadata": {
            "needs_background": "light"
          }
        }
      ]
    },
    {
      "cell_type": "code",
      "execution_count": null,
      "metadata": {
        "id": "cRLWqzl7jxVn"
      },
      "outputs": [],
      "source": []
    }
  ]
}