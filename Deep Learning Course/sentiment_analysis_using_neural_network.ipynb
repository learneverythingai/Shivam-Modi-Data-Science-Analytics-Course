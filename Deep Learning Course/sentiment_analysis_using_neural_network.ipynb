{
  "cells": [
    {
      "cell_type": "markdown",
      "metadata": {
        "id": "view-in-github",
        "colab_type": "text"
      },
      "source": [
        "<a href=\"https://colab.research.google.com/github/learneverythingai/Shivam-Modi-Data-Science-Analytics-Course/blob/main/Deep%20Learning%20Course/sentiment_analysis_using_neural_network.ipynb\" target=\"_parent\"><img src=\"https://colab.research.google.com/assets/colab-badge.svg\" alt=\"Open In Colab\"/></a>"
      ]
    },
    {
      "cell_type": "markdown",
      "source": [
        "# The Author and Instructor of this Notebook is **Shivam Modi**.\n",
        "\n",
        "## LinkedIn: https://www.linkedin.com/in/shivam-modi-datascientist/"
      ],
      "metadata": {
        "id": "y9URXCQsM1gg"
      }
    },
    {
      "metadata": {
        "trusted": true,
        "_uuid": "7a4c983a3a1c42cba4f15c2126d7a6ba7939589c",
        "colab": {
          "base_uri": "https://localhost:8080/"
        },
        "id": "8E0kwt-259pq",
        "outputId": "f2318510-f4bf-4847-83e3-b82818e008ce"
      },
      "cell_type": "code",
      "source": [
        "# importing all necessary libraries to run the code\n",
        "import pandas as pd\n",
        "import numpy as np\n",
        "import matplotlib.pyplot as plt\n",
        "from nltk.corpus import stopwords\n",
        "from nltk.stem import PorterStemmer\n",
        "from sklearn.model_selection import train_test_split\n",
        "from nltk.stem import PorterStemmer\n",
        "import re\n",
        "import nltk \n",
        "# using the variable sw to hold all stopwords that are in English\n",
        "nltk.download('stopwords')\n",
        "sw = stopwords.words('english')"
      ],
      "execution_count": null,
      "outputs": [
        {
          "output_type": "stream",
          "name": "stderr",
          "text": [
            "[nltk_data] Downloading package stopwords to /root/nltk_data...\n",
            "[nltk_data]   Package stopwords is already up-to-date!\n"
          ]
        }
      ]
    },
    {
      "metadata": {
        "trusted": false,
        "_uuid": "24d8f272d2b6edf3e8e89f9226d00b0ea34385cd",
        "id": "yJ5Ja2Hj59qI"
      },
      "cell_type": "code",
      "source": [
        "# reading csv file with the data for analyse\n",
        "ds = pd.read_csv('/content/googleplaystore_user_reviews.csv')"
      ],
      "execution_count": null,
      "outputs": []
    },
    {
      "metadata": {
        "trusted": false,
        "_uuid": "8b45731467621e98c45e00412332edf86d83a34b",
        "colab": {
          "base_uri": "https://localhost:8080/",
          "height": 206
        },
        "id": "Le4Tjnxl59qM",
        "outputId": "7a20a0ed-b508-4d15-c6cc-6596e5f97bc5"
      },
      "cell_type": "code",
      "source": [
        "# checking to see how the data are formatted\n",
        "ds.head()"
      ],
      "execution_count": null,
      "outputs": [
        {
          "output_type": "execute_result",
          "data": {
            "text/plain": [
              "                     App                                  Translated_Review  \\\n",
              "0  10 Best Foods for You  I like eat delicious food. That's I'm cooking ...   \n",
              "1  10 Best Foods for You    This help eating healthy exercise regular basis   \n",
              "2  10 Best Foods for You                                                NaN   \n",
              "3  10 Best Foods for You         Works great especially going grocery store   \n",
              "4  10 Best Foods for You                                       Best idea us   \n",
              "\n",
              "  Sentiment  Sentiment_Polarity  Sentiment_Subjectivity  \n",
              "0  Positive                1.00                0.533333  \n",
              "1  Positive                0.25                0.288462  \n",
              "2       NaN                 NaN                     NaN  \n",
              "3  Positive                0.40                0.875000  \n",
              "4  Positive                1.00                0.300000  "
            ],
            "text/html": [
              "\n",
              "  <div id=\"df-1d42c03b-bf72-4040-a8be-79a96687fba0\">\n",
              "    <div class=\"colab-df-container\">\n",
              "      <div>\n",
              "<style scoped>\n",
              "    .dataframe tbody tr th:only-of-type {\n",
              "        vertical-align: middle;\n",
              "    }\n",
              "\n",
              "    .dataframe tbody tr th {\n",
              "        vertical-align: top;\n",
              "    }\n",
              "\n",
              "    .dataframe thead th {\n",
              "        text-align: right;\n",
              "    }\n",
              "</style>\n",
              "<table border=\"1\" class=\"dataframe\">\n",
              "  <thead>\n",
              "    <tr style=\"text-align: right;\">\n",
              "      <th></th>\n",
              "      <th>App</th>\n",
              "      <th>Translated_Review</th>\n",
              "      <th>Sentiment</th>\n",
              "      <th>Sentiment_Polarity</th>\n",
              "      <th>Sentiment_Subjectivity</th>\n",
              "    </tr>\n",
              "  </thead>\n",
              "  <tbody>\n",
              "    <tr>\n",
              "      <th>0</th>\n",
              "      <td>10 Best Foods for You</td>\n",
              "      <td>I like eat delicious food. That's I'm cooking ...</td>\n",
              "      <td>Positive</td>\n",
              "      <td>1.00</td>\n",
              "      <td>0.533333</td>\n",
              "    </tr>\n",
              "    <tr>\n",
              "      <th>1</th>\n",
              "      <td>10 Best Foods for You</td>\n",
              "      <td>This help eating healthy exercise regular basis</td>\n",
              "      <td>Positive</td>\n",
              "      <td>0.25</td>\n",
              "      <td>0.288462</td>\n",
              "    </tr>\n",
              "    <tr>\n",
              "      <th>2</th>\n",
              "      <td>10 Best Foods for You</td>\n",
              "      <td>NaN</td>\n",
              "      <td>NaN</td>\n",
              "      <td>NaN</td>\n",
              "      <td>NaN</td>\n",
              "    </tr>\n",
              "    <tr>\n",
              "      <th>3</th>\n",
              "      <td>10 Best Foods for You</td>\n",
              "      <td>Works great especially going grocery store</td>\n",
              "      <td>Positive</td>\n",
              "      <td>0.40</td>\n",
              "      <td>0.875000</td>\n",
              "    </tr>\n",
              "    <tr>\n",
              "      <th>4</th>\n",
              "      <td>10 Best Foods for You</td>\n",
              "      <td>Best idea us</td>\n",
              "      <td>Positive</td>\n",
              "      <td>1.00</td>\n",
              "      <td>0.300000</td>\n",
              "    </tr>\n",
              "  </tbody>\n",
              "</table>\n",
              "</div>\n",
              "      <button class=\"colab-df-convert\" onclick=\"convertToInteractive('df-1d42c03b-bf72-4040-a8be-79a96687fba0')\"\n",
              "              title=\"Convert this dataframe to an interactive table.\"\n",
              "              style=\"display:none;\">\n",
              "        \n",
              "  <svg xmlns=\"http://www.w3.org/2000/svg\" height=\"24px\"viewBox=\"0 0 24 24\"\n",
              "       width=\"24px\">\n",
              "    <path d=\"M0 0h24v24H0V0z\" fill=\"none\"/>\n",
              "    <path d=\"M18.56 5.44l.94 2.06.94-2.06 2.06-.94-2.06-.94-.94-2.06-.94 2.06-2.06.94zm-11 1L8.5 8.5l.94-2.06 2.06-.94-2.06-.94L8.5 2.5l-.94 2.06-2.06.94zm10 10l.94 2.06.94-2.06 2.06-.94-2.06-.94-.94-2.06-.94 2.06-2.06.94z\"/><path d=\"M17.41 7.96l-1.37-1.37c-.4-.4-.92-.59-1.43-.59-.52 0-1.04.2-1.43.59L10.3 9.45l-7.72 7.72c-.78.78-.78 2.05 0 2.83L4 21.41c.39.39.9.59 1.41.59.51 0 1.02-.2 1.41-.59l7.78-7.78 2.81-2.81c.8-.78.8-2.07 0-2.86zM5.41 20L4 18.59l7.72-7.72 1.47 1.35L5.41 20z\"/>\n",
              "  </svg>\n",
              "      </button>\n",
              "      \n",
              "  <style>\n",
              "    .colab-df-container {\n",
              "      display:flex;\n",
              "      flex-wrap:wrap;\n",
              "      gap: 12px;\n",
              "    }\n",
              "\n",
              "    .colab-df-convert {\n",
              "      background-color: #E8F0FE;\n",
              "      border: none;\n",
              "      border-radius: 50%;\n",
              "      cursor: pointer;\n",
              "      display: none;\n",
              "      fill: #1967D2;\n",
              "      height: 32px;\n",
              "      padding: 0 0 0 0;\n",
              "      width: 32px;\n",
              "    }\n",
              "\n",
              "    .colab-df-convert:hover {\n",
              "      background-color: #E2EBFA;\n",
              "      box-shadow: 0px 1px 2px rgba(60, 64, 67, 0.3), 0px 1px 3px 1px rgba(60, 64, 67, 0.15);\n",
              "      fill: #174EA6;\n",
              "    }\n",
              "\n",
              "    [theme=dark] .colab-df-convert {\n",
              "      background-color: #3B4455;\n",
              "      fill: #D2E3FC;\n",
              "    }\n",
              "\n",
              "    [theme=dark] .colab-df-convert:hover {\n",
              "      background-color: #434B5C;\n",
              "      box-shadow: 0px 1px 3px 1px rgba(0, 0, 0, 0.15);\n",
              "      filter: drop-shadow(0px 1px 2px rgba(0, 0, 0, 0.3));\n",
              "      fill: #FFFFFF;\n",
              "    }\n",
              "  </style>\n",
              "\n",
              "      <script>\n",
              "        const buttonEl =\n",
              "          document.querySelector('#df-1d42c03b-bf72-4040-a8be-79a96687fba0 button.colab-df-convert');\n",
              "        buttonEl.style.display =\n",
              "          google.colab.kernel.accessAllowed ? 'block' : 'none';\n",
              "\n",
              "        async function convertToInteractive(key) {\n",
              "          const element = document.querySelector('#df-1d42c03b-bf72-4040-a8be-79a96687fba0');\n",
              "          const dataTable =\n",
              "            await google.colab.kernel.invokeFunction('convertToInteractive',\n",
              "                                                     [key], {});\n",
              "          if (!dataTable) return;\n",
              "\n",
              "          const docLinkHtml = 'Like what you see? Visit the ' +\n",
              "            '<a target=\"_blank\" href=https://colab.research.google.com/notebooks/data_table.ipynb>data table notebook</a>'\n",
              "            + ' to learn more about interactive tables.';\n",
              "          element.innerHTML = '';\n",
              "          dataTable['output_type'] = 'display_data';\n",
              "          await google.colab.output.renderOutput(dataTable, element);\n",
              "          const docLink = document.createElement('div');\n",
              "          docLink.innerHTML = docLinkHtml;\n",
              "          element.appendChild(docLink);\n",
              "        }\n",
              "      </script>\n",
              "    </div>\n",
              "  </div>\n",
              "  "
            ]
          },
          "metadata": {},
          "execution_count": 3
        }
      ]
    },
    {
      "metadata": {
        "_uuid": "e011b55de1e9424d2119208ce8c520471b0362d7",
        "id": "sDlwa8hn59qO"
      },
      "cell_type": "markdown",
      "source": [
        "It is possible to realize that the data have NaN values, so we need to remove them, since this data will not add anything to our analysis. We are trying to predict the Sentiment of a person, based on their app review. So, the columns 'Translated_Review' and 'Sentiment' will be used to get our result."
      ]
    },
    {
      "metadata": {
        "trusted": false,
        "_uuid": "989f1821a2c45c0816b6cc0ddd673a159b5359b0",
        "colab": {
          "base_uri": "https://localhost:8080/"
        },
        "id": "EHifJP1a59qX",
        "outputId": "5ff82178-2c59-4280-9881-33decbdc2a65"
      },
      "cell_type": "code",
      "source": [
        "# the method info of a dataframe shows us the number of null coluns of our data\n",
        "ds.info()"
      ],
      "execution_count": null,
      "outputs": [
        {
          "output_type": "stream",
          "name": "stdout",
          "text": [
            "<class 'pandas.core.frame.DataFrame'>\n",
            "RangeIndex: 64295 entries, 0 to 64294\n",
            "Data columns (total 5 columns):\n",
            " #   Column                  Non-Null Count  Dtype  \n",
            "---  ------                  --------------  -----  \n",
            " 0   App                     64295 non-null  object \n",
            " 1   Translated_Review       37427 non-null  object \n",
            " 2   Sentiment               37432 non-null  object \n",
            " 3   Sentiment_Polarity      37432 non-null  float64\n",
            " 4   Sentiment_Subjectivity  37432 non-null  float64\n",
            "dtypes: float64(2), object(3)\n",
            "memory usage: 2.5+ MB\n"
          ]
        }
      ]
    },
    {
      "metadata": {
        "trusted": false,
        "_uuid": "615b25eb37ad9346ba40f4325ad0561cfbd8b8e1",
        "colab": {
          "base_uri": "https://localhost:8080/"
        },
        "id": "nq72prhC59qc",
        "outputId": "abb44437-9004-4fb0-c403-9bfb736c2fca"
      },
      "cell_type": "code",
      "source": [
        "# Number of elements before removing the NaN values\n",
        "print('Size before removing Nan: %s'% len(ds))\n",
        "\n",
        "# Number of elements after removing the NaN values\n",
        "ds.dropna(axis=0, inplace=True)\n",
        "print('Size before removing Nan: %s'% len(ds))"
      ],
      "execution_count": null,
      "outputs": [
        {
          "output_type": "stream",
          "name": "stdout",
          "text": [
            "Size before removing Nan: 64295\n",
            "Size before removing Nan: 37427\n"
          ]
        }
      ]
    },
    {
      "metadata": {
        "_uuid": "3b68b3b6af875ad853a4e0c0a83025eeee27228a",
        "id": "o5FvbauP59qf"
      },
      "cell_type": "markdown",
      "source": [
        "This function was used to clean the data. The stopwords were removed from the data since it also does not add too much to the analysis. To detect the words that have negative meaning was used a regex. This regex find the words ends in \"n't\" or is the word \"not\" or \"no\" or \"never\". More words can be add later and it may increase the result. When this words are found, the next word will have a \"not_\" before the word. <br>\n",
        "I.E: <lo> <li><b>Input:</b> 'This app is not good' <br> </li>\n",
        "     <li><b>Output:</b> ['app', 'not_good'] </li> </lo> <br>\n",
        "This is the return of the cleaning_data function to the input given above"
      ]
    },
    {
      "metadata": {
        "trusted": false,
        "_uuid": "593d19fa071a0e5fd2218cdb6979eec64a9c94d8",
        "id": "sRgFAjpU59qj"
      },
      "cell_type": "code",
      "source": [
        "def cleaning_data(data):\n",
        "    aux_list = []\n",
        "    flag = False\n",
        "    for phase_word in data:\n",
        "        word_list = []\n",
        "        for word in phase_word.split():\n",
        "            word = word.lower()\n",
        "            if flag and not word in sw:\n",
        "                flag = False\n",
        "                word_list.append('not_'+word)\n",
        "                continue\n",
        "            if re.search('(n\\'t)$|(not)|(no)|(never)', word):\n",
        "                flag = True\n",
        "                continue\n",
        "            if not word in sw:\n",
        "                word = re.sub('[\\W_0-9]', ' ', word)\n",
        "                word_list.append(word)\n",
        "        aux_list.append(' '.join(word_list))\n",
        "    return aux_list"
      ],
      "execution_count": null,
      "outputs": []
    },
    {
      "cell_type": "code",
      "source": [
        "ds.head()"
      ],
      "metadata": {
        "colab": {
          "base_uri": "https://localhost:8080/",
          "height": 206
        },
        "id": "QVHsZ-Nf6qop",
        "outputId": "573f64e3-1ba3-40d3-f70f-09f15485348e"
      },
      "execution_count": null,
      "outputs": [
        {
          "output_type": "execute_result",
          "data": {
            "text/plain": [
              "                     App                                  Translated_Review  \\\n",
              "0  10 Best Foods for You  I like eat delicious food. That's I'm cooking ...   \n",
              "1  10 Best Foods for You    This help eating healthy exercise regular basis   \n",
              "3  10 Best Foods for You         Works great especially going grocery store   \n",
              "4  10 Best Foods for You                                       Best idea us   \n",
              "5  10 Best Foods for You                                           Best way   \n",
              "\n",
              "  Sentiment  Sentiment_Polarity  Sentiment_Subjectivity  \n",
              "0  Positive                1.00                0.533333  \n",
              "1  Positive                0.25                0.288462  \n",
              "3  Positive                0.40                0.875000  \n",
              "4  Positive                1.00                0.300000  \n",
              "5  Positive                1.00                0.300000  "
            ],
            "text/html": [
              "\n",
              "  <div id=\"df-a67addef-b916-4f9e-8a45-2c6f9493e62c\">\n",
              "    <div class=\"colab-df-container\">\n",
              "      <div>\n",
              "<style scoped>\n",
              "    .dataframe tbody tr th:only-of-type {\n",
              "        vertical-align: middle;\n",
              "    }\n",
              "\n",
              "    .dataframe tbody tr th {\n",
              "        vertical-align: top;\n",
              "    }\n",
              "\n",
              "    .dataframe thead th {\n",
              "        text-align: right;\n",
              "    }\n",
              "</style>\n",
              "<table border=\"1\" class=\"dataframe\">\n",
              "  <thead>\n",
              "    <tr style=\"text-align: right;\">\n",
              "      <th></th>\n",
              "      <th>App</th>\n",
              "      <th>Translated_Review</th>\n",
              "      <th>Sentiment</th>\n",
              "      <th>Sentiment_Polarity</th>\n",
              "      <th>Sentiment_Subjectivity</th>\n",
              "    </tr>\n",
              "  </thead>\n",
              "  <tbody>\n",
              "    <tr>\n",
              "      <th>0</th>\n",
              "      <td>10 Best Foods for You</td>\n",
              "      <td>I like eat delicious food. That's I'm cooking ...</td>\n",
              "      <td>Positive</td>\n",
              "      <td>1.00</td>\n",
              "      <td>0.533333</td>\n",
              "    </tr>\n",
              "    <tr>\n",
              "      <th>1</th>\n",
              "      <td>10 Best Foods for You</td>\n",
              "      <td>This help eating healthy exercise regular basis</td>\n",
              "      <td>Positive</td>\n",
              "      <td>0.25</td>\n",
              "      <td>0.288462</td>\n",
              "    </tr>\n",
              "    <tr>\n",
              "      <th>3</th>\n",
              "      <td>10 Best Foods for You</td>\n",
              "      <td>Works great especially going grocery store</td>\n",
              "      <td>Positive</td>\n",
              "      <td>0.40</td>\n",
              "      <td>0.875000</td>\n",
              "    </tr>\n",
              "    <tr>\n",
              "      <th>4</th>\n",
              "      <td>10 Best Foods for You</td>\n",
              "      <td>Best idea us</td>\n",
              "      <td>Positive</td>\n",
              "      <td>1.00</td>\n",
              "      <td>0.300000</td>\n",
              "    </tr>\n",
              "    <tr>\n",
              "      <th>5</th>\n",
              "      <td>10 Best Foods for You</td>\n",
              "      <td>Best way</td>\n",
              "      <td>Positive</td>\n",
              "      <td>1.00</td>\n",
              "      <td>0.300000</td>\n",
              "    </tr>\n",
              "  </tbody>\n",
              "</table>\n",
              "</div>\n",
              "      <button class=\"colab-df-convert\" onclick=\"convertToInteractive('df-a67addef-b916-4f9e-8a45-2c6f9493e62c')\"\n",
              "              title=\"Convert this dataframe to an interactive table.\"\n",
              "              style=\"display:none;\">\n",
              "        \n",
              "  <svg xmlns=\"http://www.w3.org/2000/svg\" height=\"24px\"viewBox=\"0 0 24 24\"\n",
              "       width=\"24px\">\n",
              "    <path d=\"M0 0h24v24H0V0z\" fill=\"none\"/>\n",
              "    <path d=\"M18.56 5.44l.94 2.06.94-2.06 2.06-.94-2.06-.94-.94-2.06-.94 2.06-2.06.94zm-11 1L8.5 8.5l.94-2.06 2.06-.94-2.06-.94L8.5 2.5l-.94 2.06-2.06.94zm10 10l.94 2.06.94-2.06 2.06-.94-2.06-.94-.94-2.06-.94 2.06-2.06.94z\"/><path d=\"M17.41 7.96l-1.37-1.37c-.4-.4-.92-.59-1.43-.59-.52 0-1.04.2-1.43.59L10.3 9.45l-7.72 7.72c-.78.78-.78 2.05 0 2.83L4 21.41c.39.39.9.59 1.41.59.51 0 1.02-.2 1.41-.59l7.78-7.78 2.81-2.81c.8-.78.8-2.07 0-2.86zM5.41 20L4 18.59l7.72-7.72 1.47 1.35L5.41 20z\"/>\n",
              "  </svg>\n",
              "      </button>\n",
              "      \n",
              "  <style>\n",
              "    .colab-df-container {\n",
              "      display:flex;\n",
              "      flex-wrap:wrap;\n",
              "      gap: 12px;\n",
              "    }\n",
              "\n",
              "    .colab-df-convert {\n",
              "      background-color: #E8F0FE;\n",
              "      border: none;\n",
              "      border-radius: 50%;\n",
              "      cursor: pointer;\n",
              "      display: none;\n",
              "      fill: #1967D2;\n",
              "      height: 32px;\n",
              "      padding: 0 0 0 0;\n",
              "      width: 32px;\n",
              "    }\n",
              "\n",
              "    .colab-df-convert:hover {\n",
              "      background-color: #E2EBFA;\n",
              "      box-shadow: 0px 1px 2px rgba(60, 64, 67, 0.3), 0px 1px 3px 1px rgba(60, 64, 67, 0.15);\n",
              "      fill: #174EA6;\n",
              "    }\n",
              "\n",
              "    [theme=dark] .colab-df-convert {\n",
              "      background-color: #3B4455;\n",
              "      fill: #D2E3FC;\n",
              "    }\n",
              "\n",
              "    [theme=dark] .colab-df-convert:hover {\n",
              "      background-color: #434B5C;\n",
              "      box-shadow: 0px 1px 3px 1px rgba(0, 0, 0, 0.15);\n",
              "      filter: drop-shadow(0px 1px 2px rgba(0, 0, 0, 0.3));\n",
              "      fill: #FFFFFF;\n",
              "    }\n",
              "  </style>\n",
              "\n",
              "      <script>\n",
              "        const buttonEl =\n",
              "          document.querySelector('#df-a67addef-b916-4f9e-8a45-2c6f9493e62c button.colab-df-convert');\n",
              "        buttonEl.style.display =\n",
              "          google.colab.kernel.accessAllowed ? 'block' : 'none';\n",
              "\n",
              "        async function convertToInteractive(key) {\n",
              "          const element = document.querySelector('#df-a67addef-b916-4f9e-8a45-2c6f9493e62c');\n",
              "          const dataTable =\n",
              "            await google.colab.kernel.invokeFunction('convertToInteractive',\n",
              "                                                     [key], {});\n",
              "          if (!dataTable) return;\n",
              "\n",
              "          const docLinkHtml = 'Like what you see? Visit the ' +\n",
              "            '<a target=\"_blank\" href=https://colab.research.google.com/notebooks/data_table.ipynb>data table notebook</a>'\n",
              "            + ' to learn more about interactive tables.';\n",
              "          element.innerHTML = '';\n",
              "          dataTable['output_type'] = 'display_data';\n",
              "          await google.colab.output.renderOutput(dataTable, element);\n",
              "          const docLink = document.createElement('div');\n",
              "          docLink.innerHTML = docLinkHtml;\n",
              "          element.appendChild(docLink);\n",
              "        }\n",
              "      </script>\n",
              "    </div>\n",
              "  </div>\n",
              "  "
            ]
          },
          "metadata": {},
          "execution_count": 7
        }
      ]
    },
    {
      "metadata": {
        "_uuid": "90e55d42ddaeab46f8664776ed19d7f565711b3e",
        "id": "NxL9Jvll59qq"
      },
      "cell_type": "markdown",
      "source": [
        "After removing the null values, let's split the data in, training and test case, so we can train our model and test to check the model accuracy."
      ]
    },
    {
      "metadata": {
        "trusted": false,
        "_uuid": "ceebb49a48923b5f6c93500edd03b34d1f4764c4",
        "id": "GAjlMQmo59qv"
      },
      "cell_type": "code",
      "source": [
        "X = cleaning_data(ds['Translated_Review'])\n",
        "y = ds['Sentiment']\n",
        "X_train, X_test, y_train, y_test = train_test_split(X, y, test_size=0.2)"
      ],
      "execution_count": null,
      "outputs": []
    },
    {
      "metadata": {
        "_uuid": "bade1dce8e3dc0b55e2cf6eb7c409b371a5cc706",
        "id": "dIkNi9vr59q1"
      },
      "cell_type": "markdown",
      "source": [
        "To use a NN is necessary to apply an label encode in the output. Since the output is 'Positive','Neutral' or 'Negative' with the enconder applied the result is 0,1 or 2"
      ]
    },
    {
      "metadata": {
        "trusted": false,
        "_uuid": "fcc9c0df8d39380533bc554f21c1a2f99dc5f095",
        "id": "9D6EEqls59q2"
      },
      "cell_type": "code",
      "source": [
        "# This CountVectorizer is used to represent the words as a list of values, instead of text\n",
        "from sklearn.feature_extraction.text import CountVectorizer\n",
        "vectorizer = CountVectorizer()\n",
        "\n",
        "vectorizer.fit(X)\n",
        "X_train = vectorizer.transform(X_train)\n",
        "X_test = vectorizer.transform(X_test)\n",
        "\n",
        "from sklearn.preprocessing import LabelEncoder\n",
        "le = LabelEncoder()\n",
        "le.fit(y)\n",
        "y_train = le.transform(y_train)\n",
        "y_test = le.transform(y_test)"
      ],
      "execution_count": null,
      "outputs": []
    },
    {
      "metadata": {
        "_uuid": "9318726abf1a92a7586fdcbc5048ccc61ddfd374",
        "id": "KrQ5iPqz59q3"
      },
      "cell_type": "markdown",
      "source": [
        "The keras library was used to create a NN. The NN uses the relu as activation function in the hidden layer and the sigmoid in the output layer. "
      ]
    },
    {
      "metadata": {
        "trusted": false,
        "_uuid": "0a68bc60ebebb04de84940163bec6a666e8c7c5b",
        "colab": {
          "base_uri": "https://localhost:8080/"
        },
        "id": "No6toEqW59q5",
        "outputId": "698e6847-a6f8-4f2e-c704-3fb643f3c1d5"
      },
      "cell_type": "code",
      "source": [
        "from keras.models import Sequential\n",
        "from keras.layers import Dense\n",
        "\n",
        "model = Sequential()\n",
        "model.add(Dense(units=100, activation='relu', input_dim=len(vectorizer.get_feature_names())))\n",
        "model.add(Dense(units=3, activation='sigmoid'))\n",
        "model.compile(loss='sparse_categorical_crossentropy', optimizer='adam', metrics=['accuracy'])\n",
        "history = model.fit(X_train, y_train, epochs=2, verbose=1)\n",
        "scores = model.evaluate(X_test, y_test, verbose=1)\n",
        "print(\"Accuracy:\", scores[1])"
      ],
      "execution_count": null,
      "outputs": [
        {
          "output_type": "stream",
          "name": "stderr",
          "text": [
            "/usr/local/lib/python3.7/dist-packages/sklearn/utils/deprecation.py:87: FutureWarning: Function get_feature_names is deprecated; get_feature_names is deprecated in 1.0 and will be removed in 1.2. Please use get_feature_names_out instead.\n",
            "  warnings.warn(msg, category=FutureWarning)\n"
          ]
        },
        {
          "output_type": "stream",
          "name": "stdout",
          "text": [
            "Epoch 1/2\n"
          ]
        },
        {
          "output_type": "stream",
          "name": "stderr",
          "text": [
            "/usr/local/lib/python3.7/dist-packages/tensorflow/python/framework/indexed_slices.py:446: UserWarning: Converting sparse IndexedSlices(IndexedSlices(indices=Tensor(\"gradient_tape/sequential/dense/embedding_lookup_sparse/Reshape_1:0\", shape=(None,), dtype=int32), values=Tensor(\"gradient_tape/sequential/dense/embedding_lookup_sparse/Reshape:0\", shape=(None, 100), dtype=float32), dense_shape=Tensor(\"gradient_tape/sequential/dense/embedding_lookup_sparse/Cast:0\", shape=(2,), dtype=int32))) to a dense Tensor of unknown shape. This may consume a large amount of memory.\n",
            "  \"shape. This may consume a large amount of memory.\" % value)\n"
          ]
        },
        {
          "output_type": "stream",
          "name": "stdout",
          "text": [
            "936/936 [==============================] - 43s 44ms/step - loss: 0.4065 - accuracy: 0.8474\n",
            "Epoch 2/2\n",
            "936/936 [==============================] - 28s 30ms/step - loss: 0.1301 - accuracy: 0.9615\n",
            "234/234 [==============================] - 1s 2ms/step - loss: 0.2309 - accuracy: 0.9241\n",
            "Accuracy: 0.9241250157356262\n"
          ]
        }
      ]
    },
    {
      "metadata": {
        "_uuid": "b8be71ff595e885d20720868da5c667217688ffb",
        "id": "E_i1A-7_59q6"
      },
      "cell_type": "markdown",
      "source": [
        "The result of the analysis can be seen above, the NN created was capable of predict correctly about 92% of the test cases."
      ]
    }
  ],
  "metadata": {
    "kernelspec": {
      "display_name": "Python 3",
      "language": "python",
      "name": "python3"
    },
    "language_info": {
      "name": "python",
      "version": "3.6.6",
      "mimetype": "text/x-python",
      "codemirror_mode": {
        "name": "ipython",
        "version": 3
      },
      "pygments_lexer": "ipython3",
      "nbconvert_exporter": "python",
      "file_extension": ".py"
    },
    "colab": {
      "provenance": [],
      "include_colab_link": true
    }
  },
  "nbformat": 4,
  "nbformat_minor": 0
}