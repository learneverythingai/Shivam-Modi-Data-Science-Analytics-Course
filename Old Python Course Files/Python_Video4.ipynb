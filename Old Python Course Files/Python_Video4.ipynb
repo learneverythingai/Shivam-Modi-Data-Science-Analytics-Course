{
  "nbformat": 4,
  "nbformat_minor": 0,
  "metadata": {
    "colab": {
      "provenance": [],
      "include_colab_link": true
    },
    "kernelspec": {
      "name": "python3",
      "display_name": "Python 3"
    },
    "language_info": {
      "name": "python"
    }
  },
  "cells": [
    {
      "cell_type": "markdown",
      "metadata": {
        "id": "view-in-github",
        "colab_type": "text"
      },
      "source": [
        "<a href=\"https://colab.research.google.com/github/learneverythingai/Shivam-Modi-Data-Science-Analytics-Course/blob/main/Python%20Course/Python_Video4.ipynb\" target=\"_parent\"><img src=\"https://colab.research.google.com/assets/colab-badge.svg\" alt=\"Open In Colab\"/></a>"
      ]
    },
    {
      "cell_type": "markdown",
      "source": [
        "Lists are used to store multiple items in a single variable.\n",
        "\n",
        "\n",
        "Lists are created using square brackets"
      ],
      "metadata": {
        "id": "jjx4SV0pQatt"
      }
    },
    {
      "cell_type": "code",
      "execution_count": null,
      "metadata": {
        "colab": {
          "base_uri": "https://localhost:8080/"
        },
        "id": "uZz1eN_KPuwD",
        "outputId": "dba15be5-e524-473b-a489-bfc71cd477f6"
      },
      "outputs": [
        {
          "output_type": "stream",
          "name": "stdout",
          "text": [
            "['abc', 'xyz', 'pqr']\n"
          ]
        }
      ],
      "source": [
        "mylist = [\"abc\", \"xyz\", \"pqr\"]\n",
        "print(mylist)"
      ]
    },
    {
      "cell_type": "code",
      "source": [
        "mylist = [\"abc\", \"xyz\", \"pqr\"]\n",
        "mylist"
      ],
      "metadata": {
        "colab": {
          "base_uri": "https://localhost:8080/"
        },
        "id": "tlIrZj9lQYR-",
        "outputId": "b2a87ea1-2fce-4b7c-af48-58224b84c11c"
      },
      "execution_count": null,
      "outputs": [
        {
          "output_type": "execute_result",
          "data": {
            "text/plain": [
              "['abc', 'xyz', 'pqr']"
            ]
          },
          "metadata": {},
          "execution_count": 23
        }
      ]
    },
    {
      "cell_type": "markdown",
      "source": [
        "List Items\n",
        "List items are ordered, changeable, and allow duplicate values.\n",
        "\n",
        "List items are indexed, the first item has index [0], the second item has index [1] etc."
      ],
      "metadata": {
        "id": "swabJpNLQpmm"
      }
    },
    {
      "cell_type": "markdown",
      "source": [
        "Ordered\n",
        "\n",
        "When we say that lists are ordered, it means that the items have a defined order, and that order will not change.\n",
        "\n",
        "If you add new items to a list, the new items will be placed at the end of the list"
      ],
      "metadata": {
        "id": "4UGlkLXZQveI"
      }
    },
    {
      "cell_type": "markdown",
      "source": [
        "Changeable\n",
        "\n",
        "The list is changeable, meaning that we can change, add, and remove items in a list after it has been created."
      ],
      "metadata": {
        "id": "MVbbuW8PQ02J"
      }
    },
    {
      "cell_type": "markdown",
      "source": [
        "Allow Duplicates\n",
        "\n",
        "Since lists are indexed, lists can have items with the same value"
      ],
      "metadata": {
        "id": "JxKUnMkSQ7eL"
      }
    },
    {
      "cell_type": "code",
      "source": [
        "list1 = [\"apple\", \"banana\", \"cherry\", \"apple\", \"cherry\"]\n",
        "print(list1)"
      ],
      "metadata": {
        "colab": {
          "base_uri": "https://localhost:8080/"
        },
        "id": "lwlq6ulcQj_w",
        "outputId": "13d9a2a8-362a-411b-e03c-a49f086028be"
      },
      "execution_count": null,
      "outputs": [
        {
          "output_type": "stream",
          "name": "stdout",
          "text": [
            "['apple', 'banana', 'cherry', 'apple', 'cherry']\n"
          ]
        }
      ]
    },
    {
      "cell_type": "markdown",
      "source": [
        "List Length\n"
      ],
      "metadata": {
        "id": "pHklfoFZRHvk"
      }
    },
    {
      "cell_type": "code",
      "source": [
        "mylist = [\"abc\", \"xyz\", \"pqr\"]\n",
        "print(len(mylist))"
      ],
      "metadata": {
        "colab": {
          "base_uri": "https://localhost:8080/"
        },
        "id": "v1h2BLesRCFF",
        "outputId": "5e1e5fae-b216-44f1-892c-a563ceeb90d5"
      },
      "execution_count": null,
      "outputs": [
        {
          "output_type": "stream",
          "name": "stdout",
          "text": [
            "3\n"
          ]
        }
      ]
    },
    {
      "cell_type": "markdown",
      "source": [
        "A list with strings, integers and boolean values\n"
      ],
      "metadata": {
        "id": "C25jIrZFRR-z"
      }
    },
    {
      "cell_type": "code",
      "source": [
        "list1 = [\"abc\", 34, True, 40, \"male\"]"
      ],
      "metadata": {
        "id": "EMIs3rSRROyx"
      },
      "execution_count": null,
      "outputs": []
    },
    {
      "cell_type": "code",
      "source": [
        "thislist1 = list((\"apple\", \"banana\", \"cherry\")) # note the double round-brackets\n",
        "print(thislist1)\n",
        "print(type(thislist1))"
      ],
      "metadata": {
        "colab": {
          "base_uri": "https://localhost:8080/"
        },
        "id": "IRsr11haRTX_",
        "outputId": "34da09fa-a6d2-4b60-c408-c6e8e532e70a"
      },
      "execution_count": null,
      "outputs": [
        {
          "output_type": "stream",
          "name": "stdout",
          "text": [
            "['apple', 'banana', 'cherry']\n",
            "<class 'list'>\n"
          ]
        }
      ]
    },
    {
      "cell_type": "markdown",
      "source": [
        "Access List Items\n"
      ],
      "metadata": {
        "id": "Od5WPk_ERoXn"
      }
    },
    {
      "cell_type": "code",
      "source": [
        "mylist = [\"abc\", \"xyz\", \"pqr\"]\n",
        "print(mylist[2])"
      ],
      "metadata": {
        "colab": {
          "base_uri": "https://localhost:8080/"
        },
        "id": "fXyjk1uhRZ59",
        "outputId": "830ec4d1-1beb-4450-f278-81d4d508e7fa"
      },
      "execution_count": null,
      "outputs": [
        {
          "output_type": "stream",
          "name": "stdout",
          "text": [
            "pqr\n"
          ]
        }
      ]
    },
    {
      "cell_type": "markdown",
      "source": [
        "Negative Indexing\n",
        "Negative indexing means start from the end\n",
        "\n",
        "-1 refers to the last item, -2 refers to the second last item etc"
      ],
      "metadata": {
        "id": "U7rSINzSRzUg"
      }
    },
    {
      "cell_type": "code",
      "source": [
        "mylist = [\"abc\", \"xyz\", \"pqr\"]\n",
        "print(mylist[-2])"
      ],
      "metadata": {
        "colab": {
          "base_uri": "https://localhost:8080/"
        },
        "id": "3dOR9DTqRvry",
        "outputId": "2fe731a6-463f-4f10-d4bd-4ea60e7491d9"
      },
      "execution_count": null,
      "outputs": [
        {
          "output_type": "stream",
          "name": "stdout",
          "text": [
            "xyz\n"
          ]
        }
      ]
    },
    {
      "cell_type": "markdown",
      "source": [
        "Range of Indexes\n",
        "\n",
        "You can specify a range of indexes by specifying where to start and where to end the range.\n",
        "\n",
        "\n",
        "When specifying a range, the return value will be a new list with the specified items.\n",
        "\n"
      ],
      "metadata": {
        "id": "T-vW-25RSMoM"
      }
    },
    {
      "cell_type": "code",
      "source": [
        "mylist.append(\"ghi\")\n",
        "mylist.append(\"klm\")\n",
        "mylist.append(\"str\")"
      ],
      "metadata": {
        "id": "fhS_GkOlSI0f"
      },
      "execution_count": null,
      "outputs": []
    },
    {
      "cell_type": "code",
      "source": [
        "mylist"
      ],
      "metadata": {
        "colab": {
          "base_uri": "https://localhost:8080/"
        },
        "id": "4BIkG-tcSfo9",
        "outputId": "cf1cad84-ef8b-473b-eef8-23a266097ad3"
      },
      "execution_count": null,
      "outputs": [
        {
          "output_type": "execute_result",
          "data": {
            "text/plain": [
              "['abc', 'xyz', 'pqr', 'ghi', 'klm', 'str']"
            ]
          },
          "metadata": {},
          "execution_count": 31
        }
      ]
    },
    {
      "cell_type": "code",
      "source": [
        "print(len(mylist))"
      ],
      "metadata": {
        "colab": {
          "base_uri": "https://localhost:8080/"
        },
        "id": "yQMSiqUMBePf",
        "outputId": "4768c34f-cb25-4e01-d3ae-b009107a8590"
      },
      "execution_count": null,
      "outputs": [
        {
          "output_type": "stream",
          "name": "stdout",
          "text": [
            "6\n"
          ]
        }
      ]
    },
    {
      "cell_type": "code",
      "source": [
        "mylist[2:4]"
      ],
      "metadata": {
        "colab": {
          "base_uri": "https://localhost:8080/"
        },
        "id": "QVpcLS2nTi7L",
        "outputId": "f2e3674e-e687-4079-de98-149fd8afa8df"
      },
      "execution_count": null,
      "outputs": [
        {
          "output_type": "execute_result",
          "data": {
            "text/plain": [
              "['pqr', 'ghi']"
            ]
          },
          "metadata": {},
          "execution_count": 33
        }
      ]
    },
    {
      "cell_type": "code",
      "source": [
        "mylist[:4]"
      ],
      "metadata": {
        "colab": {
          "base_uri": "https://localhost:8080/"
        },
        "id": "PIcP8PcoTuWH",
        "outputId": "75250a6c-9b31-4868-d4b9-2205465eb25e"
      },
      "execution_count": null,
      "outputs": [
        {
          "output_type": "execute_result",
          "data": {
            "text/plain": [
              "['abc', 'xyz', 'pqr', 'ghi']"
            ]
          },
          "metadata": {},
          "execution_count": 34
        }
      ]
    },
    {
      "cell_type": "code",
      "source": [
        "mylist[2:]"
      ],
      "metadata": {
        "colab": {
          "base_uri": "https://localhost:8080/"
        },
        "id": "3mDYlV07Tw9T",
        "outputId": "179efff7-33a6-41b9-b541-940a0fc403de"
      },
      "execution_count": null,
      "outputs": [
        {
          "output_type": "execute_result",
          "data": {
            "text/plain": [
              "['pqr', 'ghi', 'klm', 'str']"
            ]
          },
          "metadata": {},
          "execution_count": 35
        }
      ]
    },
    {
      "cell_type": "code",
      "source": [
        "mylist[3]='fgh'"
      ],
      "metadata": {
        "id": "Qv6nhqGhTx6K"
      },
      "execution_count": null,
      "outputs": []
    },
    {
      "cell_type": "code",
      "source": [
        "mylist"
      ],
      "metadata": {
        "colab": {
          "base_uri": "https://localhost:8080/"
        },
        "id": "kVQhwouNT7ht",
        "outputId": "68d1b1d9-a91b-4a19-f2eb-a157ede020a1"
      },
      "execution_count": null,
      "outputs": [
        {
          "output_type": "execute_result",
          "data": {
            "text/plain": [
              "['abc', 'xyz', 'pqr', 'fgh', 'klm', 'str']"
            ]
          },
          "metadata": {},
          "execution_count": 37
        }
      ]
    },
    {
      "cell_type": "markdown",
      "source": [
        "Insert Items\n",
        "\n",
        "To insert a new list item, without replacing any of the existing values, we can use the insert() method.\n",
        "\n"
      ],
      "metadata": {
        "id": "3ZWmlGAMUBob"
      }
    },
    {
      "cell_type": "code",
      "source": [
        "mylist.insert(1,\"xyz\")"
      ],
      "metadata": {
        "id": "GAqZFxhNT85t"
      },
      "execution_count": null,
      "outputs": []
    },
    {
      "cell_type": "code",
      "source": [
        "mylist"
      ],
      "metadata": {
        "colab": {
          "base_uri": "https://localhost:8080/"
        },
        "id": "k-BhWDoXUlkM",
        "outputId": "9e38f2b9-f339-48a8-eaf9-2f33e23b5d8c"
      },
      "execution_count": null,
      "outputs": [
        {
          "output_type": "execute_result",
          "data": {
            "text/plain": [
              "['abc', 'xyz', 'xyz', 'pqr', 'fgh', 'klm', 'str']"
            ]
          },
          "metadata": {},
          "execution_count": 39
        }
      ]
    },
    {
      "cell_type": "code",
      "source": [
        "mylist.extend((\"bnm\",\"lkh\"))"
      ],
      "metadata": {
        "id": "AU4PDZQtUmrc"
      },
      "execution_count": null,
      "outputs": []
    },
    {
      "cell_type": "code",
      "source": [
        "mylist"
      ],
      "metadata": {
        "colab": {
          "base_uri": "https://localhost:8080/"
        },
        "id": "N0iNlsieU6WE",
        "outputId": "18842ad1-b196-40a3-dc7c-4c0672dd3f6e"
      },
      "execution_count": null,
      "outputs": [
        {
          "output_type": "execute_result",
          "data": {
            "text/plain": [
              "['abc', 'xyz', 'xyz', 'pqr', 'fgh', 'klm', 'str', 'bnm', 'lkh']"
            ]
          },
          "metadata": {},
          "execution_count": 41
        }
      ]
    },
    {
      "cell_type": "code",
      "source": [
        "mylist.remove(\"abc\")"
      ],
      "metadata": {
        "id": "MxlotS0XU7en"
      },
      "execution_count": null,
      "outputs": []
    },
    {
      "cell_type": "code",
      "source": [
        "mylist"
      ],
      "metadata": {
        "colab": {
          "base_uri": "https://localhost:8080/"
        },
        "id": "oGe_pz2MViy9",
        "outputId": "a1c8d9a4-c0df-477a-f343-73c69c017e7f"
      },
      "execution_count": null,
      "outputs": [
        {
          "output_type": "execute_result",
          "data": {
            "text/plain": [
              "['xyz', 'xyz', 'pqr', 'fgh', 'klm', 'str', 'bnm', 'lkh']"
            ]
          },
          "metadata": {},
          "execution_count": 43
        }
      ]
    },
    {
      "cell_type": "markdown",
      "source": [
        "Remove Specified Index\n",
        "\n",
        "The pop() method removes the specified index."
      ],
      "metadata": {
        "id": "w8FcEhvfVn64"
      }
    },
    {
      "cell_type": "code",
      "source": [
        "mylist.pop()"
      ],
      "metadata": {
        "colab": {
          "base_uri": "https://localhost:8080/",
          "height": 35
        },
        "id": "c16yY-q2Vkga",
        "outputId": "89f083b2-f991-48d5-9315-77edfd67a722"
      },
      "execution_count": null,
      "outputs": [
        {
          "output_type": "execute_result",
          "data": {
            "text/plain": [
              "'lkh'"
            ],
            "application/vnd.google.colaboratory.intrinsic+json": {
              "type": "string"
            }
          },
          "metadata": {},
          "execution_count": 44
        }
      ]
    },
    {
      "cell_type": "code",
      "source": [
        "mylist"
      ],
      "metadata": {
        "colab": {
          "base_uri": "https://localhost:8080/"
        },
        "id": "xLErqi8AVt0X",
        "outputId": "661c82a7-70e2-4a14-ee38-a75ff9d50fc3"
      },
      "execution_count": null,
      "outputs": [
        {
          "output_type": "execute_result",
          "data": {
            "text/plain": [
              "['xyz', 'xyz', 'pqr', 'fgh', 'klm', 'str', 'bnm']"
            ]
          },
          "metadata": {},
          "execution_count": 45
        }
      ]
    },
    {
      "cell_type": "code",
      "source": [
        "thislist = [\"apple\", \"banana\", \"cherry\"]\n",
        "for x in thislist:\n",
        "  print(x)"
      ],
      "metadata": {
        "colab": {
          "base_uri": "https://localhost:8080/"
        },
        "id": "0Uwjr1WmVu77",
        "outputId": "27ebb425-2ebb-4a1c-bc75-ddb19cb5508e"
      },
      "execution_count": null,
      "outputs": [
        {
          "output_type": "stream",
          "name": "stdout",
          "text": [
            "apple\n",
            "banana\n",
            "cherry\n"
          ]
        }
      ]
    },
    {
      "cell_type": "code",
      "source": [
        "thislist = [\"apple\", \"banana\", \"cherry\"]\n",
        "for i in range(len(thislist)):\n",
        "  print(thislist[i])"
      ],
      "metadata": {
        "colab": {
          "base_uri": "https://localhost:8080/"
        },
        "id": "TRK-Qx3DV0lP",
        "outputId": "c4399f9c-b390-4db6-e592-d8e6bba73fe7"
      },
      "execution_count": null,
      "outputs": [
        {
          "output_type": "stream",
          "name": "stdout",
          "text": [
            "apple\n",
            "banana\n",
            "cherry\n"
          ]
        }
      ]
    },
    {
      "cell_type": "code",
      "source": [
        "thislist = [\"apple\", \"banana\", \"cherry\"]\n",
        "[print(x) for x in thislist]"
      ],
      "metadata": {
        "colab": {
          "base_uri": "https://localhost:8080/"
        },
        "id": "lpHzLHp1V2Uk",
        "outputId": "375b4bd1-880d-4f00-f4a8-f960b2ccea49"
      },
      "execution_count": null,
      "outputs": [
        {
          "output_type": "stream",
          "name": "stdout",
          "text": [
            "apple\n",
            "banana\n",
            "cherry\n"
          ]
        },
        {
          "output_type": "execute_result",
          "data": {
            "text/plain": [
              "[None, None, None]"
            ]
          },
          "metadata": {},
          "execution_count": 48
        }
      ]
    },
    {
      "cell_type": "markdown",
      "source": [
        "List Comprehension\n",
        "\n",
        "List comprehension offers a shorter syntax when you want to create a new list based on the values of an existing list\n",
        "\n",
        "\n",
        "![image.png](data:image/png;base64,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)"
      ],
      "metadata": {
        "id": "wiBbJbBCV-Pj"
      }
    },
    {
      "cell_type": "code",
      "source": [
        "fruits = [\"apple\", \"banana\", \"cherry\", \"kiwi\", \"mango\"]\n",
        "newlist = []\n",
        "\n",
        "for x in fruits:\n",
        "  if \"a\" in x:\n",
        "    newlist.append(x)\n",
        "\n",
        "print(newlist)"
      ],
      "metadata": {
        "colab": {
          "base_uri": "https://localhost:8080/"
        },
        "id": "QyIE6H1RV4vh",
        "outputId": "0e1a551b-8eee-4808-b4bc-50a6f0ac6a11"
      },
      "execution_count": null,
      "outputs": [
        {
          "output_type": "stream",
          "name": "stdout",
          "text": [
            "['apple', 'banana', 'mango']\n"
          ]
        }
      ]
    },
    {
      "cell_type": "code",
      "source": [
        "fruits = [\"apple\", \"banana\", \"cherry\", \"kiwi\", \"mango\"]\n",
        "\n",
        "newlist = [x for x in fruits if \"a\" in x]\n",
        "\n",
        "print(newlist)"
      ],
      "metadata": {
        "colab": {
          "base_uri": "https://localhost:8080/"
        },
        "id": "ZPg6cOgyWhhY",
        "outputId": "2553483b-0b38-4b35-c120-bf4129ca896c"
      },
      "execution_count": null,
      "outputs": [
        {
          "output_type": "stream",
          "name": "stdout",
          "text": [
            "['apple', 'banana', 'mango']\n"
          ]
        }
      ]
    },
    {
      "cell_type": "code",
      "source": [
        "newlist = [x.upper() for x in fruits]"
      ],
      "metadata": {
        "id": "sWnihWk2WjnR"
      },
      "execution_count": null,
      "outputs": []
    },
    {
      "cell_type": "code",
      "source": [
        "newlist"
      ],
      "metadata": {
        "colab": {
          "base_uri": "https://localhost:8080/"
        },
        "id": "m8i3HY9_WyOc",
        "outputId": "389a712f-6731-4ec6-b101-b6a8bfee21e3"
      },
      "execution_count": null,
      "outputs": [
        {
          "output_type": "execute_result",
          "data": {
            "text/plain": [
              "['APPLE', 'BANANA', 'CHERRY', 'KIWI', 'MANGO']"
            ]
          },
          "metadata": {},
          "execution_count": 52
        }
      ]
    },
    {
      "cell_type": "code",
      "source": [
        "thislist = [\"orange\", \"mango\", \"kiwi\", \"pineapple\", \"banana\"]\n",
        "thislist.sort()\n",
        "thislist"
      ],
      "metadata": {
        "colab": {
          "base_uri": "https://localhost:8080/"
        },
        "id": "KR7-HgVZWy96",
        "outputId": "561a7fd3-8e3e-45db-8594-49229f134c31"
      },
      "execution_count": null,
      "outputs": [
        {
          "output_type": "execute_result",
          "data": {
            "text/plain": [
              "['banana', 'kiwi', 'mango', 'orange', 'pineapple']"
            ]
          },
          "metadata": {},
          "execution_count": 53
        }
      ]
    },
    {
      "cell_type": "code",
      "source": [
        "thislist = [100, 50, 65, 82, 23]\n",
        "thislist.sort()\n",
        "thislist"
      ],
      "metadata": {
        "colab": {
          "base_uri": "https://localhost:8080/"
        },
        "id": "QQFR5tV0W9M2",
        "outputId": "5218b046-3ac7-4dbf-c2a0-43a57a760e45"
      },
      "execution_count": null,
      "outputs": [
        {
          "output_type": "execute_result",
          "data": {
            "text/plain": [
              "[23, 50, 65, 82, 100]"
            ]
          },
          "metadata": {},
          "execution_count": 54
        }
      ]
    },
    {
      "cell_type": "code",
      "source": [
        "thislist.sort(reverse = True)\n",
        "thislist"
      ],
      "metadata": {
        "colab": {
          "base_uri": "https://localhost:8080/"
        },
        "id": "FbXB6x7iW_k3",
        "outputId": "64157f34-a78d-45c5-e766-f43d96e402ed"
      },
      "execution_count": null,
      "outputs": [
        {
          "output_type": "execute_result",
          "data": {
            "text/plain": [
              "[100, 82, 65, 50, 23]"
            ]
          },
          "metadata": {},
          "execution_count": 55
        }
      ]
    },
    {
      "cell_type": "code",
      "source": [
        "thislist = [\"banana\", \"Orange\", \"Kiwi\", \"cherry\"]\n",
        "thislist.reverse()"
      ],
      "metadata": {
        "id": "pnQgopdZXIFM"
      },
      "execution_count": null,
      "outputs": []
    },
    {
      "cell_type": "code",
      "source": [
        "thislist "
      ],
      "metadata": {
        "colab": {
          "base_uri": "https://localhost:8080/"
        },
        "id": "a6Wq3T5cXNlK",
        "outputId": "2f359b2f-51ca-4c05-aea1-1b1dde4494f5"
      },
      "execution_count": null,
      "outputs": [
        {
          "output_type": "execute_result",
          "data": {
            "text/plain": [
              "['cherry', 'Kiwi', 'Orange', 'banana']"
            ]
          },
          "metadata": {},
          "execution_count": 57
        }
      ]
    },
    {
      "cell_type": "code",
      "source": [
        "list1 = [\"a\", \"b\", \"c\"]\n",
        "list2 = [1, 2, 3]\n",
        "\n",
        "list3 = list1 + list2\n",
        "print(list3)"
      ],
      "metadata": {
        "colab": {
          "base_uri": "https://localhost:8080/"
        },
        "id": "EvRsk8aRXOYy",
        "outputId": "7c8e1632-c64f-4723-ffe4-4f5b06cc600c"
      },
      "execution_count": null,
      "outputs": [
        {
          "output_type": "stream",
          "name": "stdout",
          "text": [
            "['a', 'b', 'c', 1, 2, 3]\n"
          ]
        }
      ]
    },
    {
      "cell_type": "markdown",
      "source": [
        "![image.png](data:image/png;base64,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)"
      ],
      "metadata": {
        "id": "RwGfKHy3XYqI"
      }
    },
    {
      "cell_type": "markdown",
      "source": [
        "#tuples \n",
        "\n"
      ],
      "metadata": {
        "id": "ABDcNxBpT_zh"
      }
    },
    {
      "cell_type": "code",
      "source": [
        "mytuple = (\"apple\", \"banana\", \"cherry\")"
      ],
      "metadata": {
        "id": "pUIA2bqxXT1Y"
      },
      "execution_count": null,
      "outputs": []
    },
    {
      "cell_type": "markdown",
      "source": [
        "Tuples are used to store multiple items in a single variable.\n",
        "\n",
        "\n",
        "A tuple is a collection which is ordered and unchangeable.\n",
        "\n",
        "Tuples are written with round brackets."
      ],
      "metadata": {
        "id": "VwtABvsuUGE7"
      }
    },
    {
      "cell_type": "markdown",
      "source": [
        "Tuple Items\n",
        "<br>\n",
        "Tuple items are ordered, unchangeable, and allow duplicate values.\n",
        "\n",
        "Tuple items are indexed, the first item has index [0], the second item has index [1] etc.\n",
        "\n",
        "Ordered<br>\n",
        "When we say that tuples are ordered, it means that the items have a defined order, and that order will not change.\n",
        "\n",
        "Unchangeable<br>\n",
        "Tuples are unchangeable, meaning that we cannot change, add or remove items after the tuple has been created.\n",
        "\n",
        "Allow Duplicates<br>\n",
        "Since tuples are indexed, they can have items with the same value"
      ],
      "metadata": {
        "id": "em8rwwMNUKPn"
      }
    },
    {
      "cell_type": "code",
      "source": [
        "thistuple = (\"apple\", \"banana\", \"cherry\")\n",
        "print(len(thistuple))"
      ],
      "metadata": {
        "colab": {
          "base_uri": "https://localhost:8080/"
        },
        "id": "m1ibRLq0UC1b",
        "outputId": "068babec-1db7-47ec-ed59-c50b82ff419d"
      },
      "execution_count": null,
      "outputs": [
        {
          "output_type": "stream",
          "name": "stdout",
          "text": [
            "3\n"
          ]
        }
      ]
    },
    {
      "cell_type": "markdown",
      "source": [
        "Create Tuple With One Item\n",
        "\n",
        "To create a tuple with only one item, you have to add a comma after the item, otherwise Python will not recognize it as a tuple."
      ],
      "metadata": {
        "id": "RLG3ozV4YNJd"
      }
    },
    {
      "cell_type": "code",
      "source": [
        "t=(\"ABC\",)\n",
        "print(type(t))"
      ],
      "metadata": {
        "colab": {
          "base_uri": "https://localhost:8080/"
        },
        "id": "_fHBwT-5EWrK",
        "outputId": "da21b838-861a-41e4-9fd0-1787ee469e3c"
      },
      "execution_count": null,
      "outputs": [
        {
          "output_type": "stream",
          "name": "stdout",
          "text": [
            "<class 'tuple'>\n"
          ]
        }
      ]
    },
    {
      "cell_type": "code",
      "source": [
        "thistuple = (\"Mango\",)\n",
        "print(type(thistuple))\n",
        "\n",
        "#NOT a tuple\n",
        "thistuple = (\"Mango\")\n",
        "print(type(thistuple))"
      ],
      "metadata": {
        "colab": {
          "base_uri": "https://localhost:8080/"
        },
        "id": "eHhlAZRKUgoo",
        "outputId": "abc54c1b-2866-47a7-cbd3-d2e874eb143f"
      },
      "execution_count": null,
      "outputs": [
        {
          "output_type": "stream",
          "name": "stdout",
          "text": [
            "<class 'tuple'>\n",
            "<class 'str'>\n"
          ]
        }
      ]
    },
    {
      "cell_type": "markdown",
      "source": [
        "Tuple Items - Data Types"
      ],
      "metadata": {
        "id": "w2XpoUi9Y9De"
      }
    },
    {
      "cell_type": "code",
      "source": [
        "tuple1 = (\"apple\", \"banana\", \"cherry\")\n",
        "tuple2 = (1, 5, 7, 9, 3)\n",
        "tuple3 = (True, False, False)\n",
        "tuple4 = (\"abc\", 34, True, 40, \"male\")"
      ],
      "metadata": {
        "id": "CEK1pWtFYudQ"
      },
      "execution_count": null,
      "outputs": []
    },
    {
      "cell_type": "markdown",
      "source": [
        "The tuple() Constructor\n",
        "It is also possible to use the tuple() constructor to make a tuple."
      ],
      "metadata": {
        "id": "fceH75DwZF3l"
      }
    },
    {
      "cell_type": "code",
      "source": [
        "thistuple = tuple((\"apple\", \"banana\", \"cherry\")) # note the double round-brackets\n",
        "print(thistuple)"
      ],
      "metadata": {
        "colab": {
          "base_uri": "https://localhost:8080/"
        },
        "id": "APEZOxdvY-i7",
        "outputId": "70c7fcbb-e806-45be-eb18-321d0aa29632"
      },
      "execution_count": null,
      "outputs": [
        {
          "output_type": "stream",
          "name": "stdout",
          "text": [
            "('apple', 'banana', 'cherry')\n"
          ]
        }
      ]
    },
    {
      "cell_type": "markdown",
      "source": [
        "Access Tuple Items\n",
        "\n",
        "You can access tuple items by referring to the index number, inside square brackets"
      ],
      "metadata": {
        "id": "FTI1pANWZJmy"
      }
    },
    {
      "cell_type": "code",
      "source": [
        "thistuple = (\"ABC\", \"CBD\", \"SWQ\")\n",
        "print(thistuple[1])"
      ],
      "metadata": {
        "colab": {
          "base_uri": "https://localhost:8080/"
        },
        "id": "LfZGsc1SZD_k",
        "outputId": "f01a1e56-c356-4f69-f12a-9e0191aaf660"
      },
      "execution_count": null,
      "outputs": [
        {
          "output_type": "stream",
          "name": "stdout",
          "text": [
            "CBD\n"
          ]
        }
      ]
    },
    {
      "cell_type": "markdown",
      "source": [
        "Negative Indexing\n",
        "Negative indexing means start from the end.\n",
        "\n",
        "-1 refers to the last item, -2 refers to the second last item etc.\n",
        "\n"
      ],
      "metadata": {
        "id": "jzsJjMcuZTkI"
      }
    },
    {
      "cell_type": "code",
      "source": [
        "thistuple = (\"ABC\", \"CBD\", \"SWQ\")\n",
        "print(thistuple[-1])"
      ],
      "metadata": {
        "colab": {
          "base_uri": "https://localhost:8080/"
        },
        "id": "1FSMvMrIZMrQ",
        "outputId": "97f77c34-911e-4746-be0f-c608aacb631a"
      },
      "execution_count": null,
      "outputs": [
        {
          "output_type": "stream",
          "name": "stdout",
          "text": [
            "SWQ\n"
          ]
        }
      ]
    },
    {
      "cell_type": "markdown",
      "source": [
        "Range of Indexes\n",
        "You can specify a range of indexes by specifying where to start and where to end the range.\n",
        "\n",
        "When specifying a range, the return value will be a new tuple with the specified items."
      ],
      "metadata": {
        "id": "BVYEw_cBZaL-"
      }
    },
    {
      "cell_type": "code",
      "source": [
        "thistuple = (\"apple\", \"banana\", \"cherry\", \"orange\", \"kiwi\", \"melon\", \"mango\")\n",
        "print(thistuple[2:6])"
      ],
      "metadata": {
        "colab": {
          "base_uri": "https://localhost:8080/"
        },
        "id": "5plj8lJVZWM8",
        "outputId": "20b9d43d-53a8-4703-b5c6-7a428eb401f1"
      },
      "execution_count": null,
      "outputs": [
        {
          "output_type": "stream",
          "name": "stdout",
          "text": [
            "('cherry', 'orange', 'kiwi', 'melon')\n"
          ]
        }
      ]
    },
    {
      "cell_type": "code",
      "source": [
        "thistuple = (\"apple\", \"banana\", \"cherry\")\n",
        "if \"Mango\" in thistuple:\n",
        "  print(\"Yes, 'apple' is in the fruits tuple\")\n",
        "else:\n",
        "  print(\"Your is furits is not avaiable \")"
      ],
      "metadata": {
        "colab": {
          "base_uri": "https://localhost:8080/"
        },
        "id": "lajo2o2PZbqD",
        "outputId": "2cdc07ad-1bf2-4f78-b529-79ca9d3b2124"
      },
      "execution_count": null,
      "outputs": [
        {
          "output_type": "stream",
          "name": "stdout",
          "text": [
            "Your is furits is not avaiable \n"
          ]
        }
      ]
    },
    {
      "cell_type": "markdown",
      "source": [
        "Change Tuple Values<BR>\n",
        "Once a tuple is created, you cannot change its values. Tuples are unchangeable, or immutable as it also is called."
      ],
      "metadata": {
        "id": "neZCJ7luZ4oO"
      }
    },
    {
      "cell_type": "markdown",
      "source": [
        "Unpacking a Tuple\n",
        "\n",
        "\n",
        "When we create a tuple, we normally assign values to it. This is called \"packing\" a tuple"
      ],
      "metadata": {
        "id": "YpED26T4aCco"
      }
    },
    {
      "cell_type": "code",
      "source": [
        "fruits = (\"apple\", \"banana\", \"cherry\")"
      ],
      "metadata": {
        "id": "oXcLHksmZhP2"
      },
      "execution_count": null,
      "outputs": []
    },
    {
      "cell_type": "code",
      "source": [
        "fruits = (\"apple\", \"banana\", \"cherry\")\n",
        "\n",
        "(green, yellow, red) = fruits\n",
        "\n",
        "print(green)\n",
        "print(yellow)\n",
        "print(red)"
      ],
      "metadata": {
        "colab": {
          "base_uri": "https://localhost:8080/"
        },
        "id": "WwAg1_f1aF7U",
        "outputId": "679ed7ab-4e06-4020-dc80-1dd543c182b5"
      },
      "execution_count": null,
      "outputs": [
        {
          "output_type": "stream",
          "name": "stdout",
          "text": [
            "apple\n",
            "banana\n",
            "cherry\n"
          ]
        }
      ]
    },
    {
      "cell_type": "markdown",
      "source": [
        "Using Asterisk*\n",
        "\n",
        "If the number of variables is less than the number of values, you can add an * to the variable name and the values will be assigned to the variable as a list"
      ],
      "metadata": {
        "id": "oW82wYoWaKp0"
      }
    },
    {
      "cell_type": "code",
      "source": [
        "fruits = (\"apple\", \"banana\", \"cherry\", \"strawberry\", \"raspberry\")\n",
        "\n",
        "(green, yellow, *red) = fruits\n",
        "\n",
        "print(green)\n",
        "print(yellow)\n",
        "print(red)"
      ],
      "metadata": {
        "colab": {
          "base_uri": "https://localhost:8080/"
        },
        "id": "kXU2Vv2PaHSL",
        "outputId": "0fbe6d81-6516-4dfc-df11-01767fd0da62"
      },
      "execution_count": null,
      "outputs": [
        {
          "output_type": "stream",
          "name": "stdout",
          "text": [
            "apple\n",
            "banana\n",
            "['cherry', 'strawberry', 'raspberry']\n"
          ]
        }
      ]
    },
    {
      "cell_type": "code",
      "source": [
        "fruits = (\"apple\", \"mango\", \"papaya\", \"pineapple\", \"cherry\")\n",
        "\n",
        "(green, *tropic, red) = fruits\n",
        "\n",
        "print(green)\n",
        "print(tropic)\n",
        "print(red)"
      ],
      "metadata": {
        "colab": {
          "base_uri": "https://localhost:8080/"
        },
        "id": "63AzlkWqaMrt",
        "outputId": "4cbf6c02-bb61-4561-be7f-f7e70806a227"
      },
      "execution_count": null,
      "outputs": [
        {
          "output_type": "stream",
          "name": "stdout",
          "text": [
            "apple\n",
            "['mango', 'papaya', 'pineapple']\n",
            "cherry\n"
          ]
        }
      ]
    },
    {
      "cell_type": "markdown",
      "source": [
        "Loop Through a Tuple\n"
      ],
      "metadata": {
        "id": "EY9HkvwtaWZT"
      }
    },
    {
      "cell_type": "code",
      "source": [
        "thistuple = (\"apple\", \"banana\", \"cherry\")\n",
        "for x in thistuple:\n",
        "  print(x)"
      ],
      "metadata": {
        "colab": {
          "base_uri": "https://localhost:8080/"
        },
        "id": "1ndo0yVraPUG",
        "outputId": "ad553d08-9384-4384-9bc1-23d0eca920c3"
      },
      "execution_count": null,
      "outputs": [
        {
          "output_type": "stream",
          "name": "stdout",
          "text": [
            "apple\n",
            "banana\n",
            "cherry\n"
          ]
        }
      ]
    },
    {
      "cell_type": "markdown",
      "source": [
        "Loop Through the Index Numbers\n",
        "\n",
        "You can also loop through the tuple items by referring to their index number.\n",
        "\n",
        "Use the range() and len() functions to create a suitable iterable."
      ],
      "metadata": {
        "id": "8HEgq_n8abGO"
      }
    },
    {
      "cell_type": "code",
      "source": [
        "thistuple = (\"apple\", \"banana\", \"cherry\")\n",
        "for i in range(len(thistuple)):\n",
        "  print(thistuple[i])"
      ],
      "metadata": {
        "colab": {
          "base_uri": "https://localhost:8080/"
        },
        "id": "d_d53S7TaX8d",
        "outputId": "d3f9828e-a974-4443-f141-6eebec996602"
      },
      "execution_count": null,
      "outputs": [
        {
          "output_type": "stream",
          "name": "stdout",
          "text": [
            "apple\n",
            "banana\n",
            "cherry\n"
          ]
        }
      ]
    },
    {
      "cell_type": "markdown",
      "source": [
        "Join Two Tuples\n"
      ],
      "metadata": {
        "id": "OXO7erf_ahEX"
      }
    },
    {
      "cell_type": "code",
      "source": [
        "tuple1 = (\"a\", \"b\" , \"c\")\n",
        "tuple2 = (1, 2, 3)\n",
        "\n",
        "tuple3 = tuple1 + tuple2\n",
        "print(tuple3)"
      ],
      "metadata": {
        "colab": {
          "base_uri": "https://localhost:8080/"
        },
        "id": "wO4V4IBVadcV",
        "outputId": "12e89596-fb91-4917-b94d-496e58fb738f"
      },
      "execution_count": null,
      "outputs": [
        {
          "output_type": "stream",
          "name": "stdout",
          "text": [
            "('a', 'b', 'c', 1, 2, 3)\n"
          ]
        }
      ]
    },
    {
      "cell_type": "markdown",
      "source": [],
      "metadata": {
        "id": "v1gc4ACgawFl"
      }
    },
    {
      "cell_type": "markdown",
      "source": [
        "![image.png](data:image/png;base64,iVBORw0KGgoAAAANSUhEUgAAAl4AAAGhCAYAAACwDbrXAAAAAXNSR0IArs4c6QAAAARnQU1BAACxjwv8YQUAAAAJcEhZcwAADsMAAA7DAcdvqGQAAH3sSURBVHhe7f0PWFR13j/+P/en16DfaKcLU5mlmHW30d1cusNMur2kWz5oXvmnCFfWJTRdvFPIXf1gJhTpapjYH1a3AvUTq9uSeWMi3f7pNpmL7sbLFbLoI2kptgabQZpcUfhRuPPy93qfcwZmYGYYEE/+eT66Juac9/nzPu/zPq/zmnPOjD+6KEBEREREl9XNA8Px/zPeExEREdFlxsSLiIiIyCRMvIiIiIhMwsSLiIiIyCRMvIiIiIhMwsSLiIiIyCRMvIiIiIhMEiDxOoi8geGYVXLKGO7oFLalhuPmFw8aw+L7OpS9mIH7R8l4mff2e3+NhS/vw6nv9eJTJanaeN+vNXhfn4yI6Cqlx03fMc4jnn5ZglkynOcRPnWd427nuHkHRj+UgfyKJmMKpYt4bazPezn6q3MdiOhy6sUrXi14f20qppcNwqLSWnx9ugFVr6dhkHMNij7QA8SgxEJtvHodWT9JxmTibWP469MLcbc2FRHR1WokMtpi2k48KWMmrz9kDDdgU+IgfbJu84iV9S6sHnMMSycvx85GozhIT77trlv7K2OkUUhEpujFxOsYXH+pxuTZyRj3kxBtTMit8Xhy+5vIiLFqw0REdIn6WhE7538jFZvhet/zqhcRXQ169RmvfvJhrvYUAwER0WVltWKw/PnqbIs+TERXjV5MvKIw6dFJ+Gp5Kma97MSxRgYEIqLLoqkJX8mfwTfodxeI6OrRq1e87L8txLvb0zD4wB+RMMyOm0dNxsIXd+HYWWMCIiK6NN83wfXqn1CIZMTe3b3HOJ69v8PD9Z5fjiIiU/Rq4qUMGjMbq4tcOPLFUXyQPxX4j1QkPLEL/r4bSUREXcnF/e5kyTYMC8uGYsXOZZgcZhQHqdPD9Yv4ZD2R2Xo98WoTYoV9pCRhq2bjVPEuVDLzIiLqIc9vgDfgg7fzkM4vLRFdlXo38Wrx8VxXn37GGyIi0gwYhEj5c6iuwyfSL+twSP4Mjejpz04Q0ZWu9xKvL0swd8TdmPu3ajQZ+VfLl068uLoAg5ImYRTjCBGRLuRujJ8/CDuf/iOKPja+Cd5YjaKVf8TOQQsRe6c+ioiuPV0mXjvn3uH9MKa8fP468k8S8dybf8Tgd7Pwv27Rp4ueXoBT4wpR+twkMO8iInILQexTZdie1g+v/26YHltj07GtTxq2l2citodfVuwqXnd6uF5e/OV6InP96KIw3hMRERHRZaI+7Fy+h+uJiIiIyAsTLyIiIiKTMPEiIiIiMgkTLyIiIiKTMPEiIiIiMgkTLyIiIiKTMPEiIiIiMgkTLyIiIiKTMPEiIiIiMgkTLyIiIiKTMPEiIiIiMgkTLyIiIiKTMPEiIiIiMgkTLyIiIiKT/GjAzYMvGu+JiIiI6DLiFS8iIiIikzDxIiIiIjIJEy8iIiIikzDxIiIiIjIJEy8iIiIikzDxIiIiIjIJEy8iIiIikzDxIiIiIjIJEy8iIiIikzDxIiIiIjIJEy8iIiIikzDxIiIiIjIJEy8iIiIikzDxIiIiIjIJEy8iIiIikzDxIiIiIjKJ/8Trzy58ffoots8zhr2kYfvxBny9P88Y9i9qQiKmPjAGdmP42hKJ2Adk+yZEGcNdycP+0w34bHuaMewtfftRaXMX1hjDRHS10Y/xr329jr+JdGOqHgkYk680gWOdaYaMweSkRIy70xjuSi+d94gC6eEVr2rsLSnBtl0HjWH/UpflY33eQkwyhq8tk5CRJ9u3bLYxTETXtwyMHhiOm9XrjRoZboLraWP4tl8jX5/oOnAQO4tL8Kaz2hj+gUxYiLWv5GPF74xhoitADxOvfch/Ih1zV242homIiNw249nH0rHk5X3GMBG59TDx6nDJdUIe9n/efkn9s72rME5Gq1tnKQ55Yx2DFW2XbyORvvVQ27Rff16JLfMjVYEX++x87D/avsyTH76JJ8cahdrl4Fqc/MIo/zAfk2X0uGU7ccQ9rr4WR3Yu0+rhzbgEfrS2bboPtr+Oco91HdmeiVhj6jX7ZZzHLQLP24Fr9i9DrFXeOJLbxmHCMmz/0Fi2eh2V8b9VBe2sd2d6lO/F6glGQUdDZmPTfrU+Y9rjLmya3bmtiOjqECieuGPTyeOe8SNAfEA8Vuw8hJP1xrRfHMLby+KNskuPs1rdvpA4ayz/5NuZMjbQOj1532rUlvX5UXzmnk+2a8v2yvblfO7CenecVPG9XqZ1n1Ok7tu37G2ft/4QtmeOMSbueEvT89wkZc+MgQrRQ3/rHtfFuUVjxajM9nL3+cwX++xC7Ffrc0+7vxCpQ4xCIj965eH6FZnJGHp2H5aMCsddczfiUIsVdul8+Q8NQ5F2tX0flg4chofWyfukVZg/dhCObRyPmweOx7PvngIGqOzM24/DQtBUVYC52jJ3oeHWMUhd4Pm8QAhQvQZ3jfo1pv8hFzuxDE/NGwnrJwWIGxiOuBeqERLzOzy1zJi8A2uf97F01Cgs2dcE+5h4RDWVYPrAUVgqw4PGzEbGHGPCABaOXg5Xk7yp2SzbEouF8tZ+Qz/gy11YMj4cN48vQHWIAym/z/N+xu18NZ6V8rvmlqD2x1FSrubsbOoz/xuTHU3YOXcUbh6Vjm2NDkxeuAxTjXIiuvaEILj4gGcykR5jxbF1Riz9KAR3/3smVqiy3oqzISFo2P2wxLKH8UhWbuB1duUGK74pUcvaiGOyXePGWFG5UmJbimynxMmpaR7PTvWVdKlqucT3LLjORiI2Pkqfd5TE3LODEDt7IVKNSf3LwOin90GF6GNvSDwenaGN7frcIiH641w5j4zC3OI6WO9MxqJFRoGXRKx+fBKGfrvLWFYJvhkyCYuWJRrlRL71SuKlCemHwRGRqC3JwkOT01F4whjvR4g1ClESYPJmTcb05U5jbLvqF1Nx//Tl2CbLqS05iDo5eqyDPQNHEyp35aL2xD6U7asD5kUhsq+Me2u5LFXNvwuHmkIQeaf3AeXWVO1E/ok6FDqPaQdm7fu5KEMd8vdUy7AVg+/Qp+uutu3/SAY+Wo7/+6X8HRTp9YxbU/Uu5El5bUk6XLJ9IQ458I0yT7E/GwScOIhlJbJ9J0ow94BksT8Z2nY1joiuPcHGh/RfRcrE72Prci3iIW+nxK6QSER5PBh+6XG2DgdzZL6PnCiTOgWzTv9kWS+oZWWhUp0fmqqx92WJbXv07cRPIj2+fNCEQ84Cie8bsfeYitDGvCcKsLdahsMGy3b1TDDnlkM718jW1WHbY/twTFLhoff4eo53DCIlRNf+3b0sfTsGDXVfjSPyrVcSr6W5BSg75cBjWyr1y62dLt16KM7Ci8XV6B+/Cv+lLh1/cRT7/5xsFLrJAVhUqV1aPvl5rbwy9Vt6HX1v/G1jRWymml6fZ1TfFnxz9rxRFljLBQkAvWDcqr34TN3uVJfopR7Tgrns3EcCpPG2k1snYb+2PfJ6IBItsj0tRhERXQcCxQfrGDzljg+Zd6Pf2Sa0qLjYa3G2BedUUuTJ3zq75GNZgXgts5vz+hXkuaWjvv2MN53ZH3QZy5J4/5MWidGM0BRY71zx2rMc00cPQ8Qt6vbaRnxlG4OUOf4ut9ah8LHxuP02OyJso7Dk7y0YOm12h0vVszEtXpKMPQ8j4qcy3U9z9Vt6XWqCK1dN3/66K2WjUWaGRMx5IAr9PinAXbfo698aTLC4oMKKH//chdEe2xPx0/FYYhQR0bUsEv37yp9A8aFpH1Z6xYdRmP6qKriMcdbvOq8GPdzm7/1/gK99K9ajLeQ1PssoIfKtFxKvKKS+8iY2LdIv/Np/ZvX6dPatihh9rQg3rvzYE5dhy5ZVmKoNW2Ht7+uznCxDBRz5qz0bNWQQbtKGA1hXjbrvrRiVnK8v+86F2LQ9H6nB/n6LH65/nJJqRGG8ejD1zmWYFu358egrtKjtu8FqPHzprjfwY+3/8bjpBu2NF2vUJGRIveyJ+YhVdf2yGoXy5yvtk5IVNxkP02rrHhKPNVrbRmLqc69jyzOJ1+hvohFd+wLHE117fMjEyFtlhBEf0KRO/v1w02D9Ifn8j+tk4ruR8ooeE6IWFWL7K7O1W3CXK84GWucPYx/qtCaNR7psa9SyRIzybNLGFi1pvenH7i8ABLPNVtwxeaFsk8TcV8ZgqIyp+1R9gO8Y7/V128flafsLQxKxesvrWJGo7x8if7pIvKyIfab9Gxvaq9OPxzUhxBqJ2Mf3auUfrE9EeL0TLz9dopUWbtuHU32jkL7/ELbMkU8HZ/thcHQy1leq5e3Fk3cB1ZtysVSb2m0NivbUwTopHx+odVamIcrvtXa35Vi5bh8afpKoL3tvJmLtcpAFdaXMv21PF6Dsn/0Qu6xSlpmGoS2eCyzBq84aNA2ahC31e7EaG/FKSTXO/yoN5Vp7vY7Jg4xJPfUbiSf36m1l/1aCau5ybfS2v5XhWNMgTC5qwJGi2bLuP2HbJ0BspmrbSqxPHonBfZtQq01NRFebwPHE0C/KZ3zAX0rg+lKSi/mVOLl3FfB0LvL3faV9gFNxsvzxMYi09sO3Mulli7MB1vnDKMGSAidq+47BCtnW8nlDcd6zSYv/gnc+acKgSa/j63JpsyC3ud9dmRLDJeYmRaLpo41Y+bQa6xnv1flM1v1CCY5hjLa/vq7MR0r0IISc7Z3HVuja9aMBNw++aLwnIqIfjPpphGQM3rccP3+owBhHRNea3vtWIxEREREFxMSLiOiKoH8jLthvYhPR1Ym3GomIiIhMwiteRERERCZh4kVERERkEiZeRERERCZh4kVERERkEiZeRERERCZh4kVERERkEiZeRERERCZh4kVERERkEiZeRERERCZh4kVERERkEiZeRERERCZh4kVERERkEiZeRERERCZh4kVERERkkh+NHTv2ovGeiIiIiC6T6o8/4RUvIiIiIrMw8SIiIiIyCRMvIiIiIpMw8SIiIiIyCRMvIiIiIpMw8SIiIiIyCRMvIiIiIpMw8SIiIiIyCRMvIiIiIpMw8SIiIiIyCRMvIiIiIpMw8SIiIiIyCRMvIiIiIpMw8SIiIiIyCRMvIiIiIpMw8SIiIiIyie/Ea1oedpSXo9zX66+LZYIk5O1wv78UvbUcH57YJPXdgbxpfoZ7xIbosfGIH+0whkWvLLe7kpBbvEfbH3vWLTDGuXVo04hoxN4Xj5hh+mDvuwLapLvrM61/Xy8WY5O03Y68JGP4eqa3hc++tSNPepbopeMjKW+HLGeTrLG3ddyfvbR/h8Ug/r5YREcYwz9Qv0nK3YY9ZbI/9mxAp+jp1aY+Ylsvc4yW5Y+NljW5md0mP8w+uN75Try2ZmBKXBzi5FVQ1SwjarHbGI575Hl9ml5RgwNOJ5yuw8bwZVTtgvOdMhw4YQz3SCxmLMpG9twEY1j0ynK7KfEeDB9oQf07yZgwb60x0q1Dm46egSeyspH2oD7Y+66ANunu+rrs3yb2y2vCYbjecaKsssYYvp49j1nuvvR2rQw3oyrfGJ6SgWJ9ol5RU1km/d4lrX+59dL+fTAN2VlPYMZoY/gH6TcJuOcXYbA0OJE84VF0ip5ebeojtvWyhLmy/EUzZE1uZrcJj90fwg98q7EKxWtykPPqbmP4Mnq7EDmr1qL4oDHcWy7XcgPpo/9pvVCvv/FiYpv6Y3ab9Pr6roA2vKrsRuGqHKzdUmUMkxmqtqyVfl8orX+5Xa79+0P0G4sePy+0wGf0NK1N/TG7TXjs/hB+NHbs2IvGe5/Upde06DPYHTdLPsu5qVsxaYjuL2+NJABNNSh9Tj5B7NcHY+a+jCcShyNM+jkutKLxSCme+0MBKvRig7Gcxt36lQZ1Cf6+AWhuDUWoWva5elQdaoZjpAOh2sHSiKrXc5CxUXUSdYl0ImzNrbCEqpUIzzqoZd0/QD5tTkHG1s7Dtum5eHFmDGxqPV71i0Fa3gIk3GGDRVtnM2rfKcCs53Zj8V/LMTFSxmnUVRJpk0DLFa0NFSh8PBPFJ2Wg4/bJeusrCrHoqeJOQcD/cvTttuuj5QN1FQq8Pkl7tim8p63T29n24AqsmhMLe6g+urnOhcInl6JU6qjt7+EWtPaxaNvfeqQIEx77+AdrE9v0PLw8Jxph2nr9tJfX+mxIev5lpI0M08ukD1W8tgiZW3yF2S76d4/6ZbB9v7OY329A9oPuZUobuwqRtbwU9RFJyH0hFTHhRj/32ia9PwxoakWoVS/3at/RUp4tfcBo++ajpciZt1bqYsxXVYApGar3XPqx6F6W1qa/kHVZZF5jW2reysGjL+kt4L2drWi+YEFog7Hea0mH46CNNl6Oygvy3mgDrz4f4Pj05N13O/QDtcxDVWj+WQwcVn36xqoi5GQUyscKfV8P79MMS39jJb76VFvf6DDcoT+2nj6M0jXzUbDfhoSsVUiNt7ft2/qqYjy/WNapbu+nR8NYm4QttSx7wOV2q597CrAc73ilrkZ67xvPNoWv2BaRgBXPpiI20r1zauF6NQtL35I6avvVhtZWiZ1q1Q1OLP1tIQb4aROHtq62FjHqErite+fY9+S9vqDiLV2S6o8/ucQrXn3q4cpJRtxTTtSHOpAwO80oSEPqtOEIPVGMR+Pi8OhrNbBEJSB1rlEcSB/piJ8WIDllLarO2RAd48B3zkzEpRTIcBiiH5wBzwu/FtSgcF4cknP0OkycnmKUBJKExQ9LItDkQk6KzPtqBer/HxCqnj2ICJVlNsKV/yji4h5F8XEL7PfL9FL2/CNSB3VnSiUwXidqtxQ8pRKMRqe+XKnTmYExSF3iUSfZPkudapdkFBxqhW30b7DgPqOsTaDlPI9Z+RJQ5V3t213dvugwrXZii8eCmRLUm41tl2V/FxGLGXPjtTk0EjXOuKTN52Vi6Z8Lf8A2kbpOkyBQV2r0owo09hmAtljoy30L8BtJumrf0utaeLARsAacIzhB98se9v2IxUhLdMByXJ8v860aSXqkT0pRyhIJvAPPwKmOtZQcOBttiJn5lLRsu1BLLYrVcbC+Cq3hMfhNur4/02ZL4D1XhbVa25eipvVG2NqeselCN49FL3JC/25/DpLjMuFsCIXjwVRpGUXaZ7IkXXJSUv1BtY+6CHE9atX2tY8+39XxGUBon8MoSEnGWjkobdGSdDU7kanWIcNh0QmYkWhMKCyW7/Q+Na8Qhy9In5qcimijLJCkRTMkETijx37pCxUNEgD6q6eUVJLejMMlar8nI2f/GdhGyjrVs2zq9r7HrVc9ofN2Kf3cU6DleMerDglxB75iW3z6DEm6vjO2XZbdZEfsw2my19ykMx8vkmMmA5nPFcIVoE2KM6Zgd53Moj48+6mLucd+D+It9cilJV4nj6DAKbmwBNgqlWGHOySlEdMcsMmnqcPvFkhaBNS89h5qmi2wDQvmAT75dFwpGfbJUhyoVb2+HkekA+BkMQ7UyLA1DJ6POjbXvIeiozKVU6+DJXKE/5OB230jtE+T9YcK4JR56rcsxfxM/T1OOrE2Yz5ySrSao+AfKtcfIIFRzdiFRFmufLqoPSQHiFquzzq526UexX+XkyvCEH6nUeQW1HJ6agTCwzy23Vh2mH2EUa5Im0syiqMVqJC2/cHbxHIjHMNUP9L3U1dXjhSLJOEOWWLR0vnIXB/MHF0Jsl921ffVp+Jyjweu3Q/wP+iAva0dgIqXMjB/lQRLaaURkRLMT1YhRx1rsi9yDskJrL8dIzxOos2flqFAHQdbDsj6ZH/e4rE/JZEeMMgmbb8WGX/I6XTlxL/uHYveZNr18mFI9pZW3z42ONQJWJJLm2yOuz/o7aPPcX3x1+eDOT79a645gOKT9SitrJVlyvyHC2UPuNcRirDb9Ok07j51tAjvqZ0QcRvGGUX+xWOECp7u2C99YekfMvX37uMtX+33ejirG/R1DtHnDKwX+rkmuOX01IhbZOe0bbux7IGRstfcZL+6CuWYqUJF1RXQJj059nsQb6l7Li3x8nOfXBeK6Nl7sGe3eqVieJ9WfHdOPsIHQ12Cb9OKlqBPFKKP9BvjrV9WizaNz2ekRi/AhtI9KC8z6h7fdqOua+ryrC8d6+S1fT4Eu5xLYBu7ydg3ezBuYCtavfZNhzb/wdpEEr7XnKixxGDBnyVJkfXv+MtiTDRKfXpnLf72Tg1CYhbgZe2bSzuw6YmAcwQv6H4ZoO8/N0s+Pce1v9y319y3yzu1g4wP0IZdKdhYjIpGO5JyN2uJ3o438pA60igMRo+PRT/TBlHn60aAOBD4+Aye7+dAL8UA/Taar9ivbou9saM9Tsxpv7XYtUvr5+16azkBhMdik7Fv9oy1afvGa+947tcfsE26f+z3IN5Sj1zGh+ubUbVxAiZMbH8lP1VqlF0ONoSoziidvssQ1aQfKBb5FN5R/KR74VCXbh8x6u2UTxjB8hdIg6mTp95aTgD1787y2jedvx3Z7odsk3r1bFDSFEyYEIfklw6jdchEJKQbhT7Jp/1Vj2LqFKnnuGSsPdQK+30Jxm0us/Sg76v7ikqngCrjA7Rhl/YXIPMRvf3i5pXizMBoTHwouNtWl0UwdaZuHZ/mOoNW1VX7hHj8BILhwXGICW+Fa6lR51f1xxyCc4n9vE1vLSeABhdmee6biZ2/Hdnmh2yTHhz73Y+31BOXJ/HaWoP6C6EYfn824tU95WEpWJGXjYTL8FtSoY57kSLLtcWn4vZwGXG6BtopTjuRWRAa1jm5wjsfo/6czHNHmlY/W/wC5Obq72/UPs4J42NJTOiN+huNEXT634gYfYS3kg9RK8u136Fvty0+W/vNmta6D/U6Bau3lqMYSeaNoe4af4iGRllmzGKt3RARjwW5uUiL99FOhh+sTaRuaVK3BUbdQo0rlYHY4tNkXy7Q1qUqHBrS1Ry9rKd9v7JOUkaZb2yadvvOMXMF8rIS5H0pPqyTBo6IRrZqB2mT7DvswLlafFiiz+qfAwlZeVgxU78haLvlRo/20/tBqOMeJEk9HXPHYXjwH8V7rkS1T3t/cMyUpN6M9V41un989pi7T0kfvVfthMYGWbvSjFbZR5b/b0Dn5ApOfHxS9cfb9Tp51q+/0bu0571kG8LUs6EeAsXkS+rnnnprOUrn2PbhF7JzImKwWDumbIhfmIvc9Hgf7WTook20JukTigFavOroch37fsjyuxtvqWcu0xWvAhRurZIMWzpKUTnK16Ui2iYdLvhUP3gWB1LXlWNztnT+Zkm6Nhbo498qQ9Vp6X7TN/v4kdEirHytAvXWWK1+m7MTMPwmC5pPSlffXoaaCw4kyTLV5dnc0ca34zRObK+oRXNYLHLLOv/4Xttyw/TtVnUacLoChauLjPJg9dZyxDvbceBEM8Jic1H+f1SN9cvJtYjW2q28KBsT1e/anPN/S+IHa5OTzbDcNBwTs/RL5RtmDweOlqIw3yj3of6cBWG/mKj3u/INSL0dqHmrUHqkWXrY9w/mYK0kJa23JWGD2taZMQgPlT4pRUWrC1FxegDis6UdZH/Fh6lvNq2Ulu2KtF9oOKJnbtDaz932/5HvlDLpB1tlv/SJRprUc8M0O1ovx/HZibSP+uJAuN4+G2YO78atl+tB94/PHrswALGqT0kfHd5H+tTWtbJ2pRRlVZJgSF/c7ONHRrX+2GDMK/VLcNdvy24ZH6qPV/1tmsP7xO0Rk7et7Py0as/7ubfeWo6v2ObM/xucJ4Do2eqY2ozs+4cjrE+z/0duumiTUmcVGvtIbP3rNuT6eAbt8hz7fvQg3lLPdPlzEleuDl+7JaKrkPEzFg3FiPt389Lj61uHnw4hItNc+s9JEBF1i/qtp5eRt2giHNqtGv0WZ23NAaOciOjadhUnXvo3fYL+piQRXQHqUd8I2O9bjA3qVs1kG85UFaPgOf5ytnkkdjbr8ZOIzHcV32okIiIiunrwViMRERGRiZh4EREREZmEiRcRERGRSZh4EREREZmEiRcRERGRSZh4EREREZmEiRcRERGRSZh4EREREZmEiRcREQU2LAbx98UiOsIY1v69x3KU/3WxMdxDT2xCefkO5E0zhoNirLu842sTLqU2jtHxiB8bDZsxTHS5MPEiIqLAHkxDdtYTmDHaGEYNDjidcLoOG8M/gLrdiIuL83jNwqX8k98Jc7ORvWgGYo1hosuFiRcREXVTFYrX5CDn1d3GMBEFi/9WIxFRr4rBgnXZSBgWqg8218L1ahaWvlUPRCQh94VUxIRb9LJz9ah4bREyt0gZFmNT+UQMaGpFqFXKL7Si/lAVmn8WA4dVn7yxqgg5GYWS9qjbbWkY3qcZlv7GeryWFYO0vAVIuMMGSx8ZvNCM2ncKMOs5lSjp67Gda5V51Xrq4VyejMKwbKyaHQ+7sa7WBkmuXsxA4ZA87EiPhrEWNFcVYEoGtPVHN+5G3JPApqKJsLybgeTl+j92nvrKHqREHkaBTFgckYAVz6YiNtJHe6hbjfcPQFX+FGScyMbm5+MBpywnx2M54VV4fmom2lM8fdu1dT/S8RqXDQlZq5Aab0eott3ShlXFeH6xajMxWrY9eyLs/dWAVOVoKXLmrYU9bwfSotu2UK/PVmnDPz+BhNvD9DZsbcThkucwf32FDPhuwxyXtgAiv/hvNRIR9TLbE2mSdFlQs+VRxMVlorSmGa199JN6yhJJugaegTMnGXEpOXA22hAz8ymkaKW60D6SsKQkY21VM2zRknQ1O5EZl4wCGQ6LTsCMRGNCYbF8py9rXiEOX5BlTU5FtCqICIUFjXDlqzo8iuLjFtjvT8Litme0ZF7UoEjWk7H0eRRKwqCSveZPi5GTEieJjwtnwqORkJwEbM3AlLdrZQ6VkMRJ0lWsL8DtZBGqjst2/+Ihfd2QOgyRtR8ug5oyPn2GJF3fweXe5iY7Yh9Og6RY3g5KclSnljPJezk173kkXV0JRWj/ZkmQcpAsbZaz/wxsI6XNjGfI0mZL0nWuCmu1bSxFTeuNsEmbFGdMwW5Zt2SVKIhTSZe8T09FUlQoarfqbVh41ILhialI05ak69iGRMFg4kVE1IsSHHY5gR9G2foaGarA2oz5yClR7xMwItIiiUoVcpz18teJnEOS0PS3Y4RHMtVccwDFJ+tRWlkrqQ5Qf7hQllKP4r/XyHAowm7Tp9O4l3W0CO9JgoeI2zBOG+/0WG8NCv6hroINgK3tGS1Zz6fvoVDWU7W/SpYuU722FPMzC+A8Ket0fowGWVzoANmWLkndDsl6wm/DQyNlcHY0HP0bUfPfero04pYwqc8RFHhu88BIjNBKPdWj6KAsJyIav7lPBjssp5PIiV4P1296Qo2URGjpfGTmO2Vp9XBWN+htNkSbQ2exYMAgm2zjWmT8IQelsr2+JN1m89iPslyXtL/FBofHFwE6tiFRMJh4ERH1olDjLmJnUqBuWfnib7xovdCDU/roBdhQugflZXuwZ7e84rtKoGxIWrkZO8rK9el3p6LtzlsQ6l+qQs0FG26bFI3UkQ5YGmvw3ttGoRIei03acuU11obWc61oNYo81b9UgcPnwuD4XxN9L8dTh4frZz0n49St3Dd2tG/3nPZbpErBxmJUNNqRlLtZS9Z2vJEn6zEKfQmV7XHXe/ZwWM59J/vDKCPqISZeRES9qNlXRqGRAn8n7V4+mcdPuhcOSy2KH5mACRPl5VS3CgNJwLgYSYj2Z+rTTyxElbrcFrQCVJ1QtwnTEKNuD3661/v2YIMLs7Tlul+PYq1R5K0QB463IsyRhFhfy+nKg+MQE94K11JjPa9WaVcN2+wvQOYjUzBhgiRr80pxZmA0Jj7U6aZnu+YqFHrVOxmZJUYZUQ8x8SIi6kUHauuB0OEYN9chQw6krMhDdqJ6X4oP6yT5iohGdrxN/sYj+w47cK4WH/b0ZO5e1rAU3OsIBRob8KGMvtFiXHYzLvfEhN6ov/ErVH+AXP5qv2MVMUB/ON1NyyYtCA3z/ytXBfsPozXcAUf/ehze7jTGAh9+0SjLi8HimaoNbIhfmIvc9Hh9PT6WW+Q6jOYwO+zabcb25QRFPeiu/dWXZwtTz7q5OZCQlYcVWj2k7JYbPcqMqvQJxQDjObji4/p+nJil19UxcwXyshJkKUSXhokXEVEvqspZi9KjrXBM34Dy8g1IHRmOUIt+3aVodSEqTg9AfPZmlBdlIz5MfRNxJYq00h64MACxalnrUjG8jyxr61qoVKV0exlqLjiQtE5//il3dJg+vV9F2L2/HqGx2disnpkqSoLDMyt5qwxVpyX5mL4Z21YmGCM72HgANefkb8NxbD+oj1Kc+X+D8wQQPVu1x2Zk3z8cYX2a9WeiPJa7Z90CbXpsleWo5mqswd539FFB27IbFQ2hepvIdmye5vBIrpphCQ1H9ExVDynLjseA0xX4j3w9uSt1VqGxj7TZX7chVz1zl1+I4qozsMXrbbJhZjTCQy3eV9CIeoA/J0FEdNUJ9JMKV7mRxs9KePw8BdG1gj8nQUREVwzH6AQsmBMDG+pxZBeTLro2MfEiIrrqtKK1WV7n1INJ146JM1MRY6lHxZa1yPG4XUl0LeGtRiIiIiIT8FYjERERkYmYeBERERGZhIkXERERkUmYeBERERGZhIkXERERkUmYeBERERGZhIkXERERkUmYeBERERGZhIkXERERkUmYeBERERGZhIkXERERkUmYeBERERGZhIkXERERkUmYeBERERGZ5EcDbh580XhPRERERJcRr3gRERERmYSJFxEREZFJmHgRERERmYSJFxEREZFJmHgRERERmYSJFxEREZFJmHgRERERmYSJFxEREZFJmHgRERERmYSJFxEREZFJmHgRERERmYSJFxEREZFJmHgRERERmYSJFxEREZFJmHgRERERmYSJFxEREZFJfCde897EZ6cb8LWv1/48mSAN24+731+KjssJfrlRExIx9YExsBvDXv7skroexfZ5xnAQ0rcflXlcWGMMd8ud8ZiaNAmxQ4xhxde4SxCbtxef1UvbfFGJLXOMkVeY9C2HcFKr416sNsZdXnnYL33ys+1pxvA1aMgYTE5KxLg7jWFxSX31inQt7Ud9W3zGzuNvIt2Yqkd6ENd86s5yLiGOBYzRl0tvtdFVpRvHzyXsz6vhHHS18J14rfs1fj4wHDfLa+m+JhlRgyJj+ObRGfo0l0U19paUYNuug8awf6nL8rE+byEmGcNe/r4L24pLsPdTY/hy+90fsf6VPGRMMIYVX+MuwdSRUbCe3Yelt4zC9FeNkVeU2RgfPQgh/yzBXbeMxxJj7OV1EDtlP7/prDaGr0ETFmLtK/lY8TtjWFQ75Rgp3iVbT1eeDIx2x8o3amS4Ca6njeHbfo18faKrxyXEsYAx+nIxO/ZfEboRBy9hf17556CrxxV2q3Ef8p9Ix9yVm43hHnojF3Mfy0L+u8bwtaCv8feK1Q/oI3++P49afYQJNuPZx9Kx5OV9xvD1wfVylvTvXBQZw0RkuBZjf5dMioNX/DnoKjLg5sEXA72edn1z8eLFYxf/5jX+jxffU6P/R15uZw5dfPXh9ml+89L7F786b5T9z/mLXx3Iv/gbr2Wol7GcY6/7Hn749YtHm7UlaL6p+ou2DL1Obt9cfC/bc5ny2nzMY/zdF58u/0qfVGmuvbj3j3d7Ty8vfZnnL553r0/q/Pl//fHiCKN8xOKdF496rPabYzsvPnG3lGW7ZE3tvnH90fc4WYb/NtG3+3yzu/D8xco/daxbu6Ob1fjki69WeYz/n28uHvo/yd7znJftMfbR+ff/1FbWvj6P+Tu0S3fr+jfV5G3cbR+ojn62We07me4b936Qer1XdujiN+6+9j9fXXzvhanGMqR/yCh3+2rbLNvUPq13m/zm/3gu5/zFb9Sq2/qe5yuYenuUX2LbDXg4/+J7de5x4owcb79X0+vb18aoq94f2o9Jr+0S7uOkbVq/bRLcsdHxNeKProtfebSj+zjpWC/v41DNV3bxc4/jq71djO302IbzdWUXn1bHl3tZxmvE4m0Xj54xJhLn61wXX/y1Ue4nXnRchmmvDtuvXtpx8o3r4tPGsHeb6e1wXuuYBs+42ml5yRdfOfBV2zF+8fxXFytfau/vba+7/3hxr0f/0vufx37x16Z+4ljAfWC89O1y09e18oCst/n9iyvd0/1658XPpfTQ/1F9rottD3ZbexD7A26PtjyJFT77VVexwNgm9/H+P7UX33ykw3EgvPp6wPUZ7dopruvr6XL/dPu81P7y3p/uc1AQscfvOej6fl3aFa++ddg5dxRuTilB7Y+jkJq5zChYhqfmjYT1kwLEDQxH3AvVCIn5HZ5yFwdpRWYyhp7dhyWjwnHX3I041GKFfQiQ/9AwFGlX8fdh6cBheGidPr1PSaswf+wgHNs4HjcPHI9n3z0l2abDKOwoBA270nGXmu6D87BPmI0nx6rxiVj9+CQM/XYX5mp1KcE3QyZh0bJE/basxy2Fnz9U4HtcEG0ScsNX2JkiZSm/wxMrjZHCe3vDMfoPQOz6VUi9E3g/19iuD4CoOauwXquvIUS2Z/fDuHn8w3gkK9cY2S4kpAnb1P4bn4v3v4/EuJmZiNVKul/XhaOXw6Xdld4s9dH3STB19LnNfa1A1XLcNSoLrrORiI2Pwjclsh2jZB1nByF29kKkGpN2coMV3+xR+/BhbPunFVGzMrFCK5BtmhEF6z9LtH2otkl2t09B1bsX285+Qz/gy11YMj5clleA6hAHUn6fB7u6bfX0PulFwLE3pMzXbf6x+Vg9Jwr4IFdfX+5B4M7ZWL1+jDGB8Ncm3To23ORYSBuDQTUbje0rw6m+g9DVXOr5zTUL42FvNI6hlWWobQasns+atFQjX9rgruX7cP7WeMx/Ro6vDn4cFoKmqgLjONyFhlvHIHWB/myLv3hxtQlBNZ5V7SBxRsXVlN8vNEo6eCYT6TFWHFtn7L+PQnD3v7v7e7vYzNkYd+t5vT+PSsfOU94d32+b+oxjgfeBm68YnbfzfTTdEIXxi/RpYuV4tH9fjcoNdfoI4Xfbg9xWL0H27663R9rrY3V8jcLc4jpY70zGImMbFP+xQKe2KW/UKDw0KwPP7lqIdY/LcXBKj0NqOxts8XjqJc99HHh9XcX17u3P4M7Vvs5BQcWeLup6vbq0xOvEQSwrkYNGgrrrhAzfGqU/PDovCpF9m1D51nLpckD1i7twqCkEkXd6H5xBCemHwRGRqC3JwkOT01Go1tMDIdYoRKkDYNZkTF/uNMZ2VAPXY3LAq+l2Vkv3jETUA2r8GEQOAmr/vhzbZP21Jfr2Dhrq0cG6EkybqPbcI2V7nNo0gUz9ZaQcBNXY8aK2tA71davDwRzZ1o+cKPvIGOXpxD7MVfvvozXYUS2n9yFRmKrG91Jdg6qjz+U04ZCzALUnNmLvMZV2yHa8INtxogB7VT3DBsu+9EemXa72oRNzD0ik6CvrUw/aSoCIlHh27EC6tg/1bdLn6Ci4evde27X1bbWPPlqO//ul/B0UGdyzMQ/IyUu11841HuuTZO6XnkmLnzYxBHdsdNDPin+R5LT6xVTcP305yozRfiWNwTDJp9uOoZf1+dR7t6aqEiyVNqh92altw6CfdT6+3OvTj8ODqJPprIM9Tqa9FC9+SE3Vu5Cn2sGIMyEOOXEaZZ7Sf6X66fvYutyjn4Z471vFqz+fkBO+6gMeumzTDro7fZt1JXhfkr67J6uzumxTtNTr04PI99hH/rY92G31pav+3fX2uI+vOmx7bB+OSWI09J7ZRpnwFwsMTVW78OyJOrj27EPtnDEYekN7HPK9j7tYnzqeA8T1bu2fSzlXBxt7Ap2DrlOXlngFfJ7HKp+0anHyc/XKxKi+Lfjm7HmjLDhLcwtQdsqBx7ZUat8K+uzDN40rUN1QnIUXi6vRP34V/kv7RsZR7P9zslEYBI/72vYHXcb21GLaT1rQcrbFKAlWF23Sneej/N1v9xrfgnNy8PVML9Q1mDr6W873xl9Nd7bDz7T+6uJLUG0bSPfabtyqvfjsC9U39XmmdecqTVB19dMmPTo2SrDkhRJUh8Rj9U6Zp74Wn72XhxSj1C/5FK6us7RcaL+60X2RSC+q1L5Z5W7bWEnm3HolXlyJ+siJ2XjbiXUMntLaQl6Zd6Pf2Sa0eB07ImC/DdymnXV3ek+b8coB2f+/GIPVE2Yj6lY5WR+QD1hGqU+e2x7MtnoKqn/3cHv69jPedJO/fRFoHyte6wsUD3uyPT08V19K7LnOXcaH65vgyrUj4qftr7tSNhplQdqzHNNHD0PELeoWzEZ8ZRuDlDmdbz8EVofCx8bj9tukDrZRWPL3FgydNjvwJWpPHgd27VuxXtsTMT7LKAlWL7SJm7+AEygQdUsv1PWy17EburPOS653d9ouEXPkk2O/Twpw1y36tFu7E6guqa49OzZqN6Yj7l/04/KuJ99Hyy+TkfqMUejB3sfjVNIoH1TkT0ifSH24R2ZjWnwkWvY8bLRrrn57261X4sWVJBL91Unsgjp9+dG0Dys9+lnET3184yxgX+iiTTvp7vTeXH87iNq+URi3TL/N6Mryl4j72PZgttVLMP27m9szpJ+eIMmHpx7xty/87eNur68n+6eHsf6SYs/17fIkXuuqUfe9FaOS8zFVfXq/cyE2bc/Xnpvx9hVaVG+7wYpx+ggPUUh95U1sWqTfVLL/zOr1ieBbNV9fK8K7uDpgT1yGLVtW6fWQzN7aP9DnCgdiX0mEXdadMTlKpj6FugNq/D7UnZJljctDhtqGIYlYveV1rEg0TiJN6qDoh5sGe5xUOo4Luk2Cs+0TCVjWKEzR2sdd3zpU/6deHpQhY7BebYPUZUqUfCw6VQeXGt9Lde2VOvaWV9U2AUPv0bcpatEk3OHnk2BQ9e61tpN+bXxC/LH2/3jcdIP2RmckLDf9OF4f7ug/q1Ery7hj8kKpaft21X5SopcHEPDYGJuG1a/kY/W8kcYIg/T9FdL3Vxt9/8dhxolB5H+sTqLqGJK6ynTL/9XjeCh+H7VnZZ3/ukxbnz1xlaxbfx88d1tZ9d+GGjIIN7V9ug4cL64Urn9IIJG+NX6+6jvLMC26cye0Rk3S4ow9MRMjb5URX1ajUBV0iClae1vvRooWs9S+L8T2V2Zr/cCTSwUvd3+W/bL+Hs/bToHaVHSKbV1M78FnjH5XEoEa2TaHLO/TfVhqjHbzt+3Bbqun4GJ/MNvjPr4iMfXxkdp0dZ96JCb+YoEvr+7DMTkO3HHInpiv/aZWS80+fR9rulhfQN3cn5cS6y8h9lzvLtMVr+VYuW4fGn4iB3llA77em4lYu3SITpl3CV511qBp0CRsqT/U4UfZmhBijUTs43u12wYfrE9EeL0TLz+t79TCbftwSj45pe/vOJ+32rP9MDg6Wa/H6b148i6gelNupwNe830LwuVA+ECbrh9q9xRgSbEq0G+vHMMYPLlXllOZjxT1m1Vn1YlG/KUEri+l482vxJEi4158p3HBtklwXHOztGeC7s5U7WNs16tZmNudr1FfGIzJ6yu1utzdtw5lBVnYphX0Tl17pY69RrZpUzWabtW3qVwCWudTni6oevda223EKyXVOP+rNJSrH9k8/TomDzKKlOK/4J1PmjBo0uv4unyVMdLDu+lYIkkl7srU5i/PlETpo41YMrfrr5YHPDbumYSUJAmkN3X4tbATclwOGCknQP12nnt9K5+Wsqdzpd2aYE+SusoxMvmGJo9P8Wsw7wUnasMmaev7YP1s3D2gH5q6dRtiDYr21ME6SR2jUufKNES1nUsDx4srxbanC1D2z36IXab6ThqGtvjoGP2itDijtsH+rSQeucv18R4x5eRe6QvS3vn7vtJO3qo9yh8fg0hrP3yrT93GvU6tP8t+mRqmJ/O6QG0qOsWxLqb34DtG1+FPVXrcrN5nbJcnf9se5LZ6Ci72B7c9/e5Ux1cl1idFosnd3938xgJfjONgkB4f3P105e+9fw454PoC6u7+vIRYfwmx53r3I/XVRuM9XTfUvxCwDLGnNl/mH8S9khlt8M8C3Bzn4wTg1/XRdrGFldj+QAuKBsbCz3fqqNepXyBPxmBJSNzfILwWZeysxZO/qkbeTyfjWWPcFbvt6pfwfzsIrqd9fXv+MsSCgOuja8VlfMaL6EoSidRXdmJ7XrJ+Cf+5RIyyAseqg/wW33Um9ieDA98yIeou9c9fLSzEw3eFoOXjMo+ki+j6wsTrunQeLd/25FuZV7M61J4ChiXl6ZfwZ0SiYV8Blv6hu5fFr4+2O/9VHd537gpwy4R6n96vuvvt76tGfBqWzx6Klg9KsLTDrbUrdtvPy/Hu99uTlyEWBFwfXSt4q5GIiIjIJLziRURERGQSJl5EREREJmHiRURERGQSJl5EREREJmHiRURERGQSJl5EREREJmHiRURERGQSJl5EREREJvGbeKVvP4qvT7vQ8feFzRA1IRFTHxij/+vqGvXveDXgs+1pxvCVRv2bXQ34en+eMRyA+re4Th/F9nnGcCDdmRaRiH1A2m2Cx7/X3635iei6cbliw53xmJo0CbFDjGFTYnc34q+pfMRkIuE38ap2lmBb8S4cNIbNlLosH+vzFmKSMQypxc7iErzprDaGqbNJyMiTdlum/sV5w993yT4swd5PjWEiIuVyxYbf/RHrX8lDxgRj+LrmIyYTCb+Jl+vlLMx9LBdFxvAPazOefSwdS17u7r+rd517I1f2YRby3zWGiYgUxgaiH0yQtxqNy8VHa2Vcg/Y6+eHrSHdfTp4g5Z/r49Xrs72rMM4oss8uxH51Gdhdtr8QqcZ82jq+qMXJemOZb2dq41IcUmgdgxVtl8I7XK4ekoYtH7bX5evPK7FlfqRe1lVdPdhn52P/UWMZ2nRv4smxRqG6FF9/FJ+5t6u+Fh8UpbXd/hy3ai8+M+r9dX0mRt1gFHTUoa4nH3DX0zBkNjbtV21tLOu4C5tmd5imTTxW7DzU1l5ff3EIby+L10rW7F+GWKu8cSRLmbHfOtxOsM9/HR947Cevdulie4koSBOWYbtnfDoqx+NvjTLhHTuOYn/hbP046xgr/u9OrDCuHI1bthNHvnDPU4sjO5e1x9j5b+JI2/I8j9tIpG891LY8rzjpFRv0W3Unj3vEoaN7sbrtqpUsp6iyPe5InU9KXTrdPpz3Jj77rRa8EfuMd7n1nmVty/aOx/5jmrdgp9N1ed75XGKde1myrVu2e2zf5y6s99xffts+cLv5jMmyHWve8+wbnu1M14tuPVxvDTmG/PHhuGv5Ppy/NR7zn0nUxq/ITMbQs/uwZJSUzd2IQy1W2LVOnojVj0/C0G93Ya5WVoJvhkzComX6fJqQEDTsfhg3j38Yj2TlIv+hYSiqkfFN+7B04DA8tE6fzFPGS5kYZ/sK2+aOws2j0rHtVCTGPZ6PDKNc8VdXTz8OC0FTVYFRt11ouHUMUhd4BJO+VvSrKUDcwFFYeuA87BPSsDpJFSzEot9GwfrPEm3euBeqcb6vNkcnsZmzMe7W83g/d7xW152nQowS3dRn/jcmO5qw070tjQ5MXrgMU41yL89IYhpjxbF1sqyB4/HsRyG4+98zsUKKFo5eDleTvKnZLGWxUsOOFmLd4/Gwn9LrrPZFgy0eT73kMaXf7SWiYNlv6Ad8uQtLJP7cPL4A1SEOpPw+z0iu8rBiThT6fayOs3BM31SNpvMSi6QoPW+hxIqvjFiwHHv/KQf0DSpRWoan5o2E9RN9HhVvQmJ+h6eWqQVKjE0bg0E1G42yMpzqOwgq/UHSKswfOwjHNhrx4t1TwACtxKcQqxGHUkpQ++MopGZqK5DlLMP8CZE4/0GuFhvmljSpsN3Zul/j529owRuup8Px84cK9PFKS7XveBwgpnkJdjpNEOedG6z4pkSddzbimGzruDFWVK40tl3219Q09/Nigdpe56/dfMZk2Y6UX0r7PKHH+8IjLbjpJ/4+aNO1qluJV1NVCZZ+BNS+7MQh6VCDfjbGKBEh/TA4IhK1JVl4aLJ0qBNq5BhEDpLp/74c22S4tiQdLvk7aKjHfKjDwRwn8JETZbLsrs1GrEOO+hP7JADUyV9JJA7IwX6DA7FzjElEwLoaql9Mxf3T3XU7iDqZzjrYMzA1ofKt5aiWOubvkQCJQYhUi5kzBkNvkHnez9XmrX5xl7YOX6b+Ug6qpmrseLG6va4eYn8mDXTiIJZ5bstPhiLWKPeU/iu1rPexdbl61q0aeTulTiGRiArmAVmjzscOSHLnsS9CHJJsGpP43V4iClpbDFTx7KPl+L9fyt9Bkfozq7+LwtC24wwoy/o17n9so7xPxL1DrR6xoACzJj+Mper9vChE9m2fR483IYi80+NDYj8r/uXO9phWZoxWQqxRiFLxYtZkTF8usdYf97r36LEBt0YhXY2/Z6hEgiYc2rlGiw3bHtuHY2p8N/iLx8HGtO7FviDPOy+o804WKtW2Soze+7LHtksypG17MG3vr938CkG/wZGwS7xf8tBkzN0o89J1pVuJlz9LcwtQdsqBx7ZUapdPP/O8ZSfsD7pw8vNa7TXtJy1oOdtilCgtOKc6a9Dk02Qf421Hfq46+aZfPleXm/W6ZeqXhTv63vjryVhPy4UgDphg6nTrJOw32kfdimw5e15axQ/rGDzlnjbzbvQ724QWX3XsyF89pC29PrwGsywi8ku7lahuTanHKOQ4neb5mINV4pfS6TgbrF9F+v48avURHVgRm2kc9xKrRvVtwTcSJwA5eb9QguqQeKzeKeusr8Vn7+UhRc1SnIUXi6vRP34V/kvdRvviKPb/OVmV+OZv3d2Kqz0QbEzrZuzrvfOOv7Y3+N1nPjydi3znKQyd9zo+ULcaj1dieyY/3V5veiXxwp7lmD56GCJuUZfWN+Ir2xikzGm/rFv7Viwifmpvf43PMkp6Qjr8BeNtR91KGmZjWrwkOXseNuqVq18WDkZ31hPMtP/chdGe7fPT8VhiFHXStA8rvaYdhemvGmWB+KuHtKXfJI+IuikRcx6IQr9PCnDXLfoxutXzBK/uKyqdkpmv0KIOxL79/DxX2QRXrudxb8ddKRu1ktqN6Yj7Fz3+3vXk+2j5ZTJSn1EldSh8bDxuv02mt43Ckr+3YOi02X5uzwXQrbjaA8HGtG7Gvt477/hv++5zYun0WPxclqFumRZ+GYnYGWm+Hy2ha1YvJF5RSH3lTWxapP9Wif1nVo8rKPtQd0rGjctDxp0yOCQRq7e8jhWJge9pf6sFICvCPT8pttkIV41MMGQM1qvlyDLX3+MAztbAFUwC0kbqqQU/q/HsxSDcFOwnu1erUSfBaOg9+ZgqdYxaNAl3+LpaJlyqAaxRmKLax11XD65/SPmQeKzR2i8SU597HVueSdTrpAXpfrhpsN5e+R/XybLuRsorennUokJsf2W27AHFCNw3WNseuvXy6j4cO9teZ3tivvZbOy01+1BoTBLQbzOx/pVVSPe4kklEHbnjiv7clnqY+ibPL944a1Ar04x6cJl23LYfwyWoPKHi2kgsN+JaW6xcp+KNzJOsH7u4cyE2bc9HqhFTV8h0q42Y+uOwfm3x1564DFu2rNLnkXVa+3td2w7egTqckvnvmLxQ6ikx6pUxGGoUddIhZnUlcExr173Y17Pzjk+B2r5LnWNy1Jx8bN+k2lEMceAm4wIoXV96IfFqQohVsvbH92q3GT9Yn4jweidefrpEyvTL4McwBk/ubcDXlflIiR6EkLOBb9EVbtuHU32jkL7/ELZ4PLfllvf7XJTVD8bU9ZXaMqcOqkPZC+no3s/nrUHRnjpYJ+Xrl3wr0xAVdFxajpXqodhbJZGqbED543IYqQPMh21PF6Dsn/1wd6a0j6prWIvXpNue/hO2faIewlftV4n1ySMxuG+Tfun6LyVwfSkH6/xKnNy7Sr9Mve8rLWlSdS5/fAwirf3wrbakErwqQb1p0CRsqd+L1do4T2sw7wUnagfpdXbvp5W/D/Incv91EqYmJWL8L4xhIvJhI14pqcb5X6WhXMWV069j8iCjSHk3HUvkg5u7vPzxcW3HsBbX/jkYk424ltoWKyXerNuHhp/ox+7XezMRa5cET12hPyHxd8BISUj0xzzKM0cCH23EyqeB2rP9MDg6WZ/n9F48eRdQvSkXS1U9uqM4Cy9LrOx3V6bUWWJUoATGI2YdKQri96sCxjQPQcc+dc7o2XnHtwBt36XOMfnbflZEjlHtqNdLO3cVZGGbPgNdJ3404ObBF433REREgQ2R5KcyEf33pOP2FPUBm4i6o3ee8SIiomtUPFZs2YlNmeqfcYtC6ir1twlH9zHpIuoJJl5ERBRADWrPWhG74E18cHovVo8JwbHiXCz08RuLRNQ13mokIiIiMgmveBERERGZhIkXERERkUmYeBERERGZhIkXERERkUmYeBERERGZhIkXERERkUmYeBERERGZhIkXERERkUmYeBERERGZhIkXERERkUmYeBERERGZhIkXERERkUmYeBERERGZhIkXERERkUl+NHbs2IvGeyIiIiK6TKo//oRXvIiIiIjMwsSLiIiIyCRMvIiIiIhMwsSLiIiIyCRMvIiIiIhMwsSLiIiIyCRMvIiIiIhMwsSLiIiIyCRMvIiIiIhMwsSLiIiIyCRMvIiIiIhMwsSLiIiIyCRMvIiIiIhMwsSLiIiIyCRMvIiIiIhMwsSLiIiIyCT+E68nNqG8fAfyphnDXpKQt6Mc5X9dbAz75xgdj/ix0bAZw0RE167F2FQusdHXa0eeRM5LEDAmk19sN7rC9PCKVw0OOJ1wug4bw/4lzM1G9qIZiDWGiYiuXc9jVlwc4tTr7VoZbkZVvjE8JQPF+kREdB3rYeJVheI1Och5dbcxTERERERd+dHYsWMvGu+9qcuz9w+QT2tTkLHVGNdG3WpMQ3TjbsQ98jwwejE2ZU+Evb9e2ny0FDnz1sKetwNp0aH6SO2Tn1qWDUnPv4y0kWH66HP1qHhtETK31OvDbhFJyH0hFTHhFm2w9fRhlK6Zj4L9QMzvNyD7QQdC+2hFbeurUAOq3vcNQHNrKEJVfS60or6iEIueKkY9/K87SavrGeyOmyWfWYXX9uvbO1y2wRKqb0/z0QrUWKMR7a5fnRNrH8mBnorGIO3PTyDh9jBYVB1bG3G45DnMX6/VsF3Hukp9qg41wzHS2LYLjah6PQcZG6u0yW3Tc/HizBjYjHZubahA4eOZKD4pA1p9bWhttcCiqtTgxNLf5qB17st4InE4wtQ4aYvGI6V47g8Felu1UbdHJmJAUytCrTKharNDVWj+WQwcVn2Kxqoi5GQUSsotIhKw4tlUxEYa+7a5Fq5Xs7D0LdmHl3ub3g5H9mwHajZOwPzX1BzRWPFGHmKbS5H872tlHxNdIbxiiD5q8V/LMTGsCgXG1S/vuKMfh7bmVokzelxBUw1Kn3sUayXudV5ekHFGpluwLhsJwzofrwGPv45xoUO5bXoeXp4TjTDtuPaIs9PysCM9GmfejsOs59RcxnKqCjAlo1jf5l9INSwSI9S8so0V/whF9B02fTvO1cL50izkvK3mldoHiGF+66BmdOtWuwU6P8Vg8V9WYOIQH/umTW+eK7oXl4PZl7Zz0rf6q2XVw1l0BLc/Eg84M5Cco8fj1Ff2ICW8Cs9PzTTqp9iQkLUKqfF2I4ZLPaqK8fxi93qD2AfUpvrjT3rn4fq02ZJ0navC2pQ42YGlqGm9EbYIoDhjCnbXyQTNEmjijE5/3wL8Rjp17VuPIi7uURQebASskdpyPCUtmiFJ1xm4cpIRlyIHWUMz0N8GjMzGgkQHcKQQj8bF4dGNh4FhCViQHW3MKfqEwlJXLOXJKDjUCtvo32DBfTI+yHX7Y+n/HZxPyTrfqkXosBhEhx5GgWxz5jv1sETGS52NCdNTkRQVitqtxnqOWjA8MRVpRrEXqSs+LUByylpUnbMhOsaB75yZ2jZXnQtD9IMzkKBNmIKn1EHV6ESO1s5OnBkYg9QlKVqpTg6o40WyrAxkPlcIl6wxddpwhJ5QbSH1fq0GlqgEpM41Ju8gtI/anmSsrWqGLVoO7mYnMlUbynBYdAJmJOrTxafPkKTrO2Pf5MDZZEfsw2mQQ1h3ObfptfdwuNkiiZwxzciHcFs4UHOIBzpdGyyoQeE8/XioD3Vg4nTP48FDkHHG9kSaJF2y1C1qukyU1jSjVR2jQR1/EhcstShW9VlfhdbwGPwmXR3p8VgwTU62daVGbKlAY58BCDqa9g/VY8K8UtTKNsZE34jDr0o8eUq22WJH/DT388OBYlgP6xCo3QKdI2S+iUOaUbVGj3ul/2jFjQN9P73cm+eK4OJycPtS9a0iWVbG0udRuEkSJzk/234xST6+KqmIlqSyseY9j6RLUR+imyUhzEGyrDdn/xnYRsp6tWfmLrEfXKd671uNFgsGDLKh3rkWGX+QTqll2f5Z5GBzqE6wdD4yO31Ci8cIuwSGk0dQ4JTT6cliLP1Dpv7+326T/LsZNa4imVtOuHIiljgC28/G6bNqpJO8WyDl9Sj+e40MhSH8TqNIBF53AA1HUCifbmrWHIb29EbNAe3TRMWqKm14QIT+6GzSbXIwNh9G2XqthihySR0sNjh8Ptwp21IpScPJUhyolQ2ROh+Rzqu2+YDaMGuY1FUkjtCuKNYekkRH1lnvzEGV/LVEjjCSGEW221Uoy6pCRZW01TQHbH3cbeFuKwtsw3w/4qtvTz1KK2tlSbKOw4XyqdLdhqEIu02fbsQt8mmwbd/IgX5Itn5gJEboxeIybhOKUXa4EZbb79WCU/Qk6Q8XaiQoqDKiq1+znPiKjvo7HtoFG2cSHHaP6SqwNmM+ckrkfVDHn8z6aRkKVH22HNBibdgt7Uc6LDfCMUzFlqWYn9nxSnogRkw4uhaHZZ2y0Tigrirt1+sASWi0KBVMDOtmHYJpN//nCAssYeGwSdzT2lFd5felF88VQcXloPfleyiUZVXtr5Il1KPooKw3Ihq/URcmZkfD0b8RNf/d8REiox3yJSmW/5zVDfp6hxjFSo/7wfWpVxKvgo3FqGi0Iyl3s/btnR1v5CF1pFHY0Ttr8bd3ahASswAvl5WjfM8ObHpiolHoNkC/tXShRXZzB+pypi8dx18w/noKat0B+KqPP6HRSN29B3vUa/ZwWM59h1ZfdVK8xreiRQWejgJst2qqNp3WEYro2UY9dqdieJ9WfHeu1SgLrPVCgK0Nj8Um9/aNtaFVlum11Mu4TbvfPIz6Pg5E/z4GD/1CAteJw8bldKJrUMfjwVMQccZ917KTYI8/nyTxeM2JGksMFvxZYmnZHuz4y2IEH039xASf/MWwS6iDv3YLdI7IL0RxxRnYp+Vis/Yt1c3Ik2TFp8t1rhA+43IP92X9SxU4fE4+CP+viXLOdsDSWIP3jFu8bdRjP2/s0NpXq+OcaNkjbpfaD65PvXPFa38BMh+ZggkT4rRLx2cGRmPiQ203njqQzH3Vo5g6ZQImjEvG2kOtsN+X0OHy+Bm0quOqT0jnn6Hw1yEDdNR2waxbZ+vTdegJqLkKhRNlPW2vZGSWGGU9EWC7A6dRzaja6FmPCUh+qtQouwQNLszyWOaEiY9irVEUtJ5u08HtOCJB2xGTpt9mrOKzXXQtsiFEnVADHQ9BxJlmfzP3OKbo6t/KwaNJetxPfukwWodMREK6UegpIiSIRC4Q/zEs6Dp05LfdAp0jKlCQOQtTZHp1W7D0tA3Rk3/T/ohFT/XGuaLH+7IQB463IsyRhFh1m/HTvR1uM4oHxyEmvBWupUb9Xq3Srry59XgfXMd6IfFyICErDytmajePYLvlRq+DTDvo+4RiQIQ+bItPQ27uAsRrw6EIDfF1SDrx8UmZMeJ2pMVL6hURjwW5ufr7/z4uh0YoHLEp2u0qx8x74ZD0u/4fZfqsAQRad/Fxdeq2IzorRltf2h2dUr6gacsKHY6JWfFa4uiYuQJ5WQn67bWeKvkQteekhndka/W3xWcjWv621n0Iv2nU1hrUXwjF8Pv1eTAsBSvy1EO2enFPffhFo7RRDBZr+9yG+IW5yE3Xt7VberJNGglU6vZmhF27zViVb4wmusJpx06oA/dMl6NlWBrG/aL92oFbqONepMgxaotPxe3ywQKna/TjQQumFoSG6UdasHHmQK0+3bi5WsREyoo8ZKvnZHt8/AkVIyUmL1AxWaiHv9uiqRZ39OXGqPgw9/buxwa3QDEsUB08daPdAp0jHInZyFuhn3cQEYkbfa6se3rtXHEJ+7LIdRjNYXbYtduMTmOsB/UwvvZXbz9bWGh7Owe7D8hLF4lXKKLTy9t/AFC9Ov1oqvr2RjiiZ27Qyjdnx2PA6Qr8R76+A0udVWjs40DSX7chN1ESpHMWhP1iIrKL1PI2IPV2oOatQhRoU7crWl2IioYBiM3ejPIiOdB+EQbLOemkB3OwVj2fcHsqNsj6NsweDhwtxVrjWxmBBFx3fiFKjzbDdl+utr7Y/s1BferzSV2SrjqjdX51SXrDzGiEh1q8PiV0XxFWvlaB+rB4rf7udi5cXWSU+1KAwq1VODNQn6d8XSqibXLQXFpF4Mz/G5wngOjZap9vRvb9wxHWp7kHV516sk26+tdVAi5OVHXqO0RXKmf+f0hcsyB6rsS1dUmwt/o4GC0OpK7TjwdbsyRdG40e/lYZqk7LyXn6ZuxZtyDoOFOVs1ZiW6vMp45XiXsjwxGqBYGeH384KXH/JpUw6I+XuONwofYhSOLOWzVoDo9HrooPo29EsyQFPRMghgWsg4dutFugc4T6FmZ4tH7eUeeI+LB6VGxdCx+pSvB67VxxCftyq/7sHhprsPcdfZSXLbulz4bq52Kp4+ZpjvbkKth9QF78/5wE0ZVs5svYo35W4rUJmL/RGEd0VfP+2QUiU4yUpO/5eODdDCQv7/oCBl2aXvs5CSLz2BA9NgUr7lcPodbgAJMuIqIecYxOwII56oZwPY7sYtJlFiZedJWJwW/mPITIc4fhXL8SQVxIJ7pKtGrfDg72W8dEl2rizFTEWOpRsWUtcg4aI+my461GIiIiIhPwViMRERGRiZh4EREREZmEiRcRERGRSZh4EREREZmEiRcRERGRSZh4EREREZmEiRcRERGRSZh4EREREZmEiRcREXXPE5tQXr4DedOM4Tbqn/SKR/xohzHcHZ3nTcrbIevZhMXGcE91XE7Qyx0Wg/j7YhEdYQwT9QImXkRE1EtiMWNRNrLnJhjD3XEp83ZPTWUZnO+4cNgY9uvBNGRnPYEZo41hol7AxIuIiK4rVerfJlxViN3GMJGZ+G81EhH1qhgsWJeNhGGh+mBzLVyvZmHpW/VARBJyX0hFTLhFLztXj4rXFiFzi5RhMTaVT8SAplaEWqX8QivqD1Wh+WcxcFj1yRuripCTUYgqJCFvRxqG92mGpb+xHq9lxSAtbwES7rDB0kcGLzSj9p0CzHpOpRr6emznWmVetZ56OJcnozBsBVbNiYXdXe06FwqfXIrSkzLQod7qH/O29G9FVf4UZGzVRmkW/7UcEyONAdRid9wsPN+xPaQuNW/l4NGXKvRhg695a/N2IC1a5rsgo4zt8JzX9mCAOntQtxbTos8Y9ek4HIPFf1mBiUOMfdJUg9LnHsXaiDzsSI+GsWg0VxVgSkaxMUTUM/y3GomIepntiTRJMiyo2fIo4uIyUVrTjNY++uk7ZYkkLwPPwJmTjLiUHDgbbYiZ+RRStFJdaJ/DKEhJxtqqZtiiJelqdiIzLhkFMhwWnYAZicaEwmL5Tl/WvEIcviDLmpyKaFUQEQoLGuHKV3V4FMXHLbDfn4TFHs8qSQ1RJOvJWPo8Cl3xWDBTEphmF3JS4pCc48R3EbGYMTdemzZ6doIkXa04vFGWJ/V2NRpJSgfPP1IAqSZQt1vWqyc50dmSAA6DPq/UpfAI4EhcgOyR2ixtfM3rVr8/B8nSls6GUDgeTEWaNjZwnYOWnipJVzOq1uj7pPQfrbhxoA3YmoEpb9fKBFKWH8eki3oNEy8iol6U4LDLufowytbXyFAF1mbMR06Jep+AEZGSsJysQo6zXv46kXNITuz97RjhkUw11xxA8cl6lFbWyilfko7DhbKUehT/vUaGQxF2mz6dxr2so0V4TxI8RNyGcdp4p8d6a1DwD3UVbABsHs8qNX/6HgplPVX7q2TpIxAeJus6VADnSfnrzEGV/A2zj9CmHfczSUSaa/Dea7I8d72D5DWvSvZcajtsuO3f9PKu1ePIeqf8v0Jfbx8bHNpD/YHr3D0WWMLCYXO3m7o6SXSZMPEiIupFob4vBgkpULfLfPE3XrRe6EESMHoBNpTuQXnZHuzZLa94SQaDYBu7SZ9eXuMGtmq3FDUB6telHmyzt1a0dLh16MlvnYOVX4jiijOwT8vF5vJylO/YjLzZ2nVDosuCiRcRUS9q9nvelwL1rJIv/sb3UPyke+Gw1KL4kQmYMFFezuCuUNW/O0uf3v2at1YvuJT6XeZt9lvnoFWgIHMWpsi86lZo6Wkboif/Bt28YUkUNCZeRES96EBtPRA6HOPmqt+jciBlRR6yE9X7UnxYJ8lXRDSy423yNx7Zd9iBc7X4sESbtfvcyxqWgnsdoUBjAz6U0TdajMtuxpPhMaE36m/8+hANjYAtZjFShsmg1G1Bbi7S1LJVab0Uhjpw70zZDne9fTqDVpV49r8RMfoIlKnbnO55VXvEOqRa9Tj+33p5u87zBha4zp7OaFfBbsSNPn4WwpGYjbwVKVIzEREpbaeN1mlZtAWhYZ2XSdRTTLyIiHpRVc5alB5thWP6BpSXb0DqyHCEWtTTWkDR6kJUnB6A+OzNKC/KRnyY+ibiShRppT1wYQBi1bLWpWJ4H1nW1rVwyujS7WWoueBA0rpyqUM5ckeH6dP75cTa15yoRTRS1TxSt4m/CIPlnH6b05n/H6hosGD4bNkmVW9rq7p+54MT2ytq0RwWi9yyDVggY/T2gD6vao/bgZqStcg5qM/RrvO8gQWusyfnrgOobQ5D7MpybFvp/TthzZZQhEenYoO6zejeJ0Y74q0yVJ2W5Gz65k7zEfUUf06CiOiqo/+cRHTjbsQ94vn9PyK6kvHnJIiIiIhMxMSLiOiq04rW5h58g4+IfnC81UhERERkAt5qJCIiIjIREy8iIiIikzDxIiIiIjIJEy8iIiIikzDxIiIiIjIJEy8iIiIikzDxIiIiIjIJEy8iIiIikzDxIiIiIjIJEy8iIiIikzDxIiIiIjIJEy8iIiIikzDxIiIiIjLJjwbcPPii8Z6IiIiILiNe8SIiIiIyCRMvIiIiIpMw8SIiIiIyCRMvIiIiIpMw8SIiIiIyCRMvIiIiIpMw8SIiIiIyCRMvIiIiIpMw8SIiIiIyCRMvIiIiIpMw8SIiIiIyCRMvIiIiIpMw8SIiIiIyCRMvIiIiIpMw8SIiIiIyCRMvIiIiIpMw8SIiIiIyif/E688ufH36KLbPM4a9pGH78QZ8vT/PGPYvakIipj4wBnZjOFjp24/K+l1YYwyTp0DtH/y+6azDvJ36QCRiH5D9OSHKGPbvSth/nfpewD7dXXnYf7oBn21PM4aJFL1ffO3rdfxNpBtT9Uhv9d9ePQ4ut8Axh+eJdpfSFt7zdoxtwcf9q6tv/XB6eMWrGntLSrBt10Fj2L/UZflYn7cQk4xhupJ1tV8nISNP9uey2cawf9VOWU7xLnTdQy4f9j0yXwZGDwzHzer1Ro0MN8H1tDF826+Rr09EQQs+5lDPBY7X3dgHf98lyynB3k+NYfKph4nXPuQ/kY65Kzcbw3Rt6L396no5C3Mfy0WRMUxERFemXovXb+TKcrKQ/64xTD71MPHqcEtqQh72f95+Sf2zvaswTkary5cpDnljHYMVbZcfI5G+9VDbtF9/Xokt8yNVgQ8OpNQb09UfRfmqeGN8JFJfceGztrJafLA1E7FSol0y/XwnntQnBMYW4gOZZv+f9XWMW7YTR75on+/IzmVaXb3FY817te11PLoXqycYRUNmY9N+dVnWKDvuwqbZsuwh+uXZDwrHGBMCT74ty3DfXvA3n6Jdnq3FSXe9PszH5ADbGJTIqTjpntejjTtdjva6NBz4NuWa/csQa5U3jmTvZfjg89L10fY2Pfnh60gfohV60fff0fbtlrbfsr3SY1tcWP9bY2LZTyt2Hmov++IQ3l6m9xHffU+xInaZMb1q06K09luRQ9Kw5UOP/e7VN6XfFnnWY6r37XM/xwCRpzX7pX943HL0dZycPO4n9nTiv/976dCvTz7g7tOGgP0+cMy0z38TR9zr73g8uakYI/H7M/fx0Y3jLriY4+88Ie3jGTukbP+fk7USPc74O08E2a4d45raru2vo/yoMZ+8jmx3x+xA8VyPuyePq75glLft9zFYXynDlfntsT9zJ06ePoQtbXHQUySm+WrneW/iMxm3/8/aRMKou3E70bsfeutO3Pd1PvG9Xde3Xnm4fkVmMoae3Yclo8Jx19yNONRihV1OqvkPDUORdrV9H5YOHIaH1sn7pFWYP3YQjm0cj5sHjsez754CBqgzpG+1e9Jx18CHse2fVkTNysQKbawV1hua8P6rqmwU5u75Cvaxs5EhOzu/+CBO3RCF2ExtQsTOiIL9+2q4/lQnQ8vw1LyRsH5SgLiB4Yh7oRohMb/DU8v0ads8k4mUXzbB9cQo3DwqHYVHWnDTT/RAMPWZ/43JjibsnKuXbWt0YPLCZZh6Yg1cH0sgip5tHCByUP0yBKcOlmi3F/zOp02rhADVa3DXqF9j+h9ysTPANgalz1fY+Zisa3wu3v8+EuNmdiNp82Ph6OVwNcmbms2y72KxUB8dNGvIMeSPlz6yfB/O3xqP+c8kGiUd3GDFNyUPS9034tiPozBujBWVK2VbUkpQG+LA1DQjMZT9lB5jxbF1Rl/6KAR3/7veR3z2PUPLx2r/j8LSA+dhn5CG1Un6+IyXMjHO9hW2uffRKWm3x/ORoQrHZiJ1QiTOf5CrzTt311dqj7XxdwwQdVcIqvGsOk7mSn+X/p/yez9HWoD+7yk2czbG3Xoe7+fKdNKvd57y7Lld9PuAMTMRq9PGYFDNRqOsDKf6DpI0yIe+VvSr6f5xF2zM8XmeGGKVtjyFnU/r7ZP/cT8M/W0a1qhzU6DzRJDt6mbt8z6WjhqFJfuaYB8Tj6imEkxX2ynDg8ZIzJ6jTdVlPA+xGucHFedkv6dmqkbeh2cPSCAbMhIpY/Xpnvy3KIScqsbON/RhbyFo2KXWIfX+QLXzbDxpzNdTlxr3fW/X9a1XEi9NSD8MjohEbUkWHposycoJY7wfIdYoREmAyZs1GdOXO42xHdXh4HLZWXBirup8fSMRpXVUY76nVVkdth2oQ5N07MG3S9Ebu3BIAssd/6aOqDFIjZaE6dODyFf1mReFyL5NqHxruSxBlvKiTNsUgsg7fT0gHYJ+gyNhP1GCJQ9NxtyNKnGTA/Rng4ATB7GsRIalTKvXT4ZKUlOH/AOy1FulY6mOnjkGd9xwCofe0m/b+Z/PTeq1Kxe1J/ahbJ9aV4BtDIYsZ65a10drsKNajpohUR5JXm8xrpC5P8108VBlU1UJln4kQfJlp7Q7MOhn7VcHvcl+f0H6xEdZqFT7rakae1+WbZHg6lLDkgSrKwbpv5J92/Q+ti7X9ibydlajKcTdR/xx73/ZX3tkegxCpFYNSZgdckJyt5t7H93gQKwKnA9IYJapD/3XGm3ebY/twzE1m6duHgNEvjRV70KeOk5K9P4e4pA4ZpR5Crb/T/2lmq4aO16U6dz9uk0X/T6YmNnPin+5U5Wl4v7py1FmjPbWw+MuKH7OE7IsLXa/qrfP0k9k+bJeu7riEuA80d240lTtlPnqUOg8Jtsl++39XGkD93ZKzL5DTRVEPHefH9xxTs4lKs7V/mkfquXDc+wc9UHV+EAvfcT3bcEauB5T6zDqDan3A0ZRL9Ku3LbFfc8raT742a7rWa8kXktzC1B2yoHHtlRqO+GzD9/0n2UXZ+HF4mr0j1+F/1KXXb9ov/zbWQvO+Tp5aZemj2qXUk9+Lq/sMdKF3TZja9UphPxyjNRhNqJulS5/oEA6optVPuUY832eiVF9W/DN2fNGmeHpXOQ7T2HovNe1y89fH6/Edkmk2tw6Cfu1+eX1QCRaZP4WGV2bpR8gUTNk3b4+lfiZr833xl8l4DZeKQrw0G3Gg8Pay/vKUs/52e++WMfgKXebZt6Nfmeb0OLZjr74LO8H9DHedtTXeCl+lt2tY4CoO6Rfel+j8hBM/3f3XZ+66PcafzFTEpsXSlAdEo/VOyVOSqz67L08pOgzddaT4y4ofuLFhFUoV7cB3TE00fNaXBfniZ7EFUPLBZXgdRBMPP/+vMd5ysOJLOz9qAWDoqcipcMH+qAE3Y7BWzjaM+6HY/QfjAJf/G3Xdax3rnjtWY7po4ch4hbZCeM34ivbGKRo2bkv8sngsfG4/TY7ImyjsOTvLRg6bbbfy7g+/S4R425twc5Zsoyfyitnn/ZJw23bf1Zrl5HHLzMuH2d5HghNcOUa8xmvu1I2GmVuTiydHoufS5m61Fz4pXzamJHWfsXon7sw2mP+iJ+OxxKtYDlcn6rbjcswXn0qqdrm/anE73w+dLGNvcXex29Ivzo07cNKrzYdhemvGmXdIieSC8bbjlTA7SrodusYIApGJPqrk6b0S68PaJ6C6f8B+24X/V7jP2bWbkxH3L/o/f6uJ99Hyy+TkfqMVhSkYNbfM1NnTEKUerxhtFHvEs8rfV2cJ3otrhguMZ4/W1aNlkFRSH9A/0C/1edtRj98teOQfv6TebrseiHxikLqK29i0yL9Nz7sP1P31dt9qyJGXyvCjedd7InLsGXLKkzVhq2w9u/B7r9BPiVpfyO1P/bBVvW5qV1xASr/GYKoX0Wi5SNJoozRWFeNuu+tGJWcr6//zoXYtD0fqXfqxW5Rc/KxfdNC2TIxxIGbPBbu+scpGRePNdr2RmLqc69jyzOJbQ+KLt1zEC23RiHqhjpUvlpijO16vk4CbuNXaFHteoPV/wPcQ8ZgfaLMK9s4JUo+W52qg0tG53+sgosDsa/EyzSJWP6v+vJ9alKfavvhpsHuaYJYr4m0bbHejZRX9HaMWlSI7a/Ip1e9uFPfC2wjXDUyg7vdpG3W3yOfkM/WwKUC7oE6nJL+esdk1S9k/70yBkP1GUXgY4DITYsDVjnZq4fH71yGadGdr2NboyYhQ2KSPTETI2+VEV9Wo1AVdDgeu+r/bq46fZ1TVP909+s2XfT7QDFTpl2x5XWsVvOJH4f15GTexfovIebcFGLUxmjicT/u0NZ+zhPBtmu3dHXO6sqLu1DZNAhDHfoH+m3G6M5UbFf1jkLG5CjZ9FOoOyCjtf0IDL0nX9pR4teykf7PPZISqqt7/UIHGdNcWXH/WtBF4mVF7DPt93G1V6dvvDUhxBqJ2Mf3auUfrE9EeL0TLz+tJx2F2/bhVF/J1PcfwpY58gnpbD8Mjk7Wv6lxei+evAuo3pTbnhwF46XNKPunFZPX67d1PpgnnwKMIt0+FL6vEowWHPrvXH2UZjlWrtuHhp/Iwa3WvzcTsXY5SXb46PFtPysix2SiXG1vpQScQXUoK8jSOvu2p/+EbZ+oB1bV9lZiffJIDO7b1H4pNbcMh87K339KsPT4Sm2X83UUcBtL8KqzBk2DJmFLvd6unVwYjKlqXtnGu/u211/dRi38qAn2pNe1bZt8gxxk2gw+/KUEri8l8MyvxMm9q2SE53r3YrU+1Q9H3RLe95WcoPK1W8Llj49BpLUfvjWKO/a9ruT9Phdl9Ua7uff7C+nQenxxFl7eU4d+d6l+Ifsv0aoHI03gY4DIbdvTBXJc90PsMnVspmFoi4/rHv2i8ORevR/Zv5U4krtcH9/xeOyi/7u513m3ij2qX4e1eB3zAft9oJh5Qvr9gJGSoOgxqjxzJPDRRqx8WpsxaIHX3/OYUygffKu/l+Nf2lLVb8uEQUaJm5/zRJDt2i1dnrO6UoC96lldSaQO/WeAuPJ9C8K1eqtzaz/U7inAkmJVIPtxUzWabk3EFhW/JljRpM5TPm3E1n2SrP8qDR98odr8Cov714AfDbh58EXjPRER/WDUV/yTMXjfcvz8oQJjHJGiflbiTUztuwsPjUjV7l7Q1av3vtVIREREvevOeKSuWoZxQ9Q3Jjcy6boGMPEiIroitKDlrI9vWdP1LTkTT07ohzpnAZbM3WeMpKsZbzUSERERmYRXvIiIiIhMwsSLiIiIyCRMvIiIiIhMwsSLiIiIyCRMvIiIiIhMwsSLiIiIyCRMvIiIiIhMwsSLiIiIyCRMvIiIrlR3xmNq0iTEDjGGkYbtxxvw9X79n5C+VOnbj+Lr0y6sMYaJ6PJj4kVEdKX63R+x/pU8ZEwwhonoqsfEi4iIiMgkTLyIiHrTn134uv4oPvu8AV+fltfnldi+ZS8+qzeG6w9he+YYY2LAPrsQ+9XtQ1Umr8/2FyJV3Vqc9yY++61D3lgR+4yM356mTa8Zktw2/ddH92J12xWxeKzeq24fGmVSj/JV8UaZmLAK5UeNMnk9dbfVKFDisea92vZ5vZZLRL2FiRcRUW/rKwlN1XLcNSoLrrORiI2PwjclD+PmUctleBBiZy9EqjZhIlY/PglDv92FuaPCcdfcEnwzZBIWLUsE1v0aP3+jRqZpguvpcPz8oQJtDk3fOuycOwo3p5Sg9sdRSM1cpo2OXb8KqXcC7+eOx80Dx+PZD4CoOauwfqxWjIzfJyPqx3XYpuYdn4tD5/XxmmcykfJLWdcTUjYqHYVHWnDTTyKNQiLqLUy8iIh6XRMOOQtQe2Ij9h5rkuE6HHzBCZwowN5qGQ4bjChtujGIHATU/n05tp2QvyXpcMnfQUPbr4j5dOIglpXUAXv06XFrFNLlz9RfSqLUVI0dL1bLUDXydlZLTSIR9YCaaTZiHSHAPw/iWTXvR2uwQ9XFSwj6DY6E/UQJljw0GXM3ynRE1KuYeBERXQ7fG381LTinEiQ/7A+6cPLzWu017SctaDnbYpT48f151BpvvfQ1/nakje8H9JE//uZ9Ohf5zlMYOu91fKBuNR6v9LolSkS9g4kXEdEPrPatWET81N7+Gp9llHSTV7LnQRt/HrigDfnhxNLpsfi5rF/dpiz8MhKxM9Iw1Sglot7BxIuI6AezD3WnAPu4PGTcKYNDErF6y+tYkWg8W9WkHsLqh5sGB/es1bZP6gBrFKYsUjcyo5AxOQpW1KH6P1XpRlR/KX+GjMF6tfw7F2JKVPvD9VFz8rF900L9FugQB27qp43W/TYT619ZhXTjWTEi6jkmXkREP5gSLHmhBMcwBk/ubcDXlflIiR6EkLPGs1V/KYFLkqWo+ZU4UjRbHxeAa24WCj8C7s7ci69P78WTdwHVr2Zh7rt6+dJcSb6+jcTU9ZX4em8m7kD7Lc1v+1kROSYT5eo2o9Rj6qA6lBVkYZsq/NdJmJqUiPG/0CYlokvwowE3D75ovCciIiKiy4hXvIiIiIhMwsSLiIiIyCRMvIiIiIhMwsSLiIiIyCRMvIiIiIhMwsSLiIiIyCRMvIiIiIhMwsSLiIiIyCRMvIiIiIhMwsSLiIiIyCRMvIiIiIhMwsSLiIiIyCRMvIiIiIhMwsSLiIiIyCRMvIiIiIhMwsSLiIiIyCQ/Gjt27EXjPRERERFdJtUff8IrXkRERERmYeJFREREZBImXkREREQmYeJFREREZBImXkREREQmYeJFREREZBImXkREREQmYeJFREREZBImXkREREQmYeJFREREZBImXkREREQmYeJFREREZBImXkREREQmYeJFREREZBImXkREREQmYeJFREREZBLfide0POwoL0e5r9dfF8sEScjb4X5POhuix8YjfrTDGO6mJzZJ++5A3jRjOBg9mecalJS3Q9phE9gbr0SLsUnixo68JGO4Q+zoaR++kvu+ET83PWEMd4NjtMSQsdESTXpDb8XpDvtwWAzi74tFdIQ+6K3j/g7C5d6XAZbf8/bubrzvQbt0F88HVw3fidfWDEyJi0OcvAqqmmVELXYbw3GPPK9PQx3EYsaibGTPTTCGiaizGhxwOuF0HTaGyVPCXIkhi2ZINLmSHIbrHSfKKmv0wQfTkJ31BGaM1ge9dZj2Ctfz9ma8p57jrUYiMlEVitfkIOfV3cYwXfl2o3BVDtZuqTKGA+nOtETXpx+NHTv2ovHeJ3UbJy36DHbHzUL7tS51CTsN0f3lbR99DJpqUPrco1i7Xx+MmfsynkgcjjCLDFxoReORUjz3hwJU6MUGdfl1IgZUFWBKRrEMG8tt3K1fWVOXTu8bgObWUISqdcly6isKseipYtTLoO3BFVg1Jxb2ULUsoLnOhcInl6L0ZAxWvJGLWEsFnp+aid3352LbEzFoeTcTycvv1dZpa26FJVRVTnjVPQZpf34CCbeHwaK2rbURh0uew/z1es1jfr8B2Q86EKrKLjSj1lWIrOWlSPlrOSZGapMIdYVQ2isiASueTUVspLuCtXC9moWlb0ntI5KQ+0IqYsL1OrSek/r0b0VV/hRkbNVGtbFNz8WLM2NgM9qgrS1V+9xvl3EyXqtPx/bJxqrZ8bBbZUC0NshJ78UMFB6UgS7a1ns7W9F8wYLQBmO/qPIA+9c2PQ8vz4lGmI86tRmdhrzfJyDa2H40SZutlzZ7W953UTeMXoANTyTA4d6uVsBiMdpcH9XGfz31vja8j2p3VdiKw69PwPww1aY2WaZFlimjG5xY+tsctHq2h2g+WoqceWu17dWOkeEWtPaReaS89UgRJjz2MRb/ZQUmDnFvn/fxobMhIWsVUuPtbe1cX1WM5xcXSnrif7mB+mebjm14rh5Vh5rhGOnep42oej0HGRv1E6RXHxOtDRUofDwTxSdlQOtnPtqkt47x+wcY/d4m27xBtlnizXLZl7UBjh/P+U5kY/Pz8YAzA8k5+vakvrIHKeFV+vGvjTGRutWYHo0zb8dh1nMy3FV/Nuix1thWNOvbhg7L6tCe7j7SLH2krQ+1LbtDWwv/MVMf9s1jnX+/R6tPWy3b9qubd/2CigXavuxZHPN5jDz7XVCx1Wd7b43BgnXZSBhmjJcYX/NWDh59qUOv9hXv1bkjbwES7rDpx6Y6P7xTIPtN9cDO7bJh7nDZr0ulvKJb50u/5y6vY0mGA8VY4e9cVh/ovEWXrPrjTy7xileferhykhH3lBP1oQ4kzE4zCtKQOm04Qk8U49G4ODz6Wg0sUQlInWsUd0efUFjq1HKSUXCoFbbRv8GC+1RBPBbMlADS7EJOSpwEXCe+i4jFjLkSgKW7Li2pQnNYDFKWJSD74RiENVagaHl7N7agBoXz9PlU3SdOT9EL0lORFBWK2q2PIi7uURQetWB4YqpskYhYjLREByzH9e3KfKtGgim0IPT8IwXQ7srWSZAzEoD49BnSeb/T2yglB84mO2IfTpOaA9GzEyQwyMl+o6xHylyNxsHRSRIWS/1tTcZ2vlqB+v8n6/R4vqJVq0/H9pFprBKQPy022seFM+HRSEj2eMbAb9vK/pssB6ScYNW8av9Jg3kItH9lv0yTQFtXapRVoLHPALTFKINNJTunXVgr+yBuXjFqLHbZB4vbn7XwWzcgZfpEOELr4VTtOq8QNbIPfOu6H1r6n4HrKSl7ainWvmqMVBt7vAjJKRnIfK4QrpHZWCD7HUcK9eVsPAwMS8CC7GhjeiEZyRlXptQnE0v/XKj1o4lDJJiv0fd96T9acePAjk+SqBNxsyROOUiW7czZfwa2kQmY4fmMho/l+u2fHUkb4tMC2Y61qDpnQ3SMA985ZVkp0lfPhSH6wRnQb5Sk4CmVdDXq+1sdE2cGxiB1iXFMaDq0SRBt210xT0gSKk1atTELz8uJJNDx4+WgJKp10qd+MQn6HklFtCS8jTXvmZ90+ROgP7sVZ0zBbtkOyWZQEOedJAQkfeQ7p+pD0h+OqGXLfhhplHkJFDODpB5DebtW3qhEJa5D0tVRcLHArcdxrMMxEmxs9dXe0dmSOA2DPq/WnoAjcQGyO7Snr3iPCNnHaIQrX5+3+LgF9vslfnd8Fm70YkkkVUeXREeSru6eL/2euzoIGGMDnMuCPu6oxy4t8Tp5BAVOyYL356BKfWIKd0iaIKY5YOsjJ5R3C6SLADWvvYeaZgtsw3ryYKF7OfUo/rt0DoQh/E41fgTCw4D6QwVwyrrrJfCoOoTZR2hzYevzKFVBKHYB4iMkSGzx/uTbLEG56Gj7fJbIEdpJKOk26ZbNh1G2Xqs5ilyyTosNDnUylE8H9rb6SHr3UgbmryrV3vsy4hapoLuNTspJ7ZAErIGRUnNg3M/Uemrwnkpq3GW+3DdC+3Tatp1blmJ+pv5e5699VLu3T1vv/BgNEihCB8gnyzZ+5pUD0ibHbO0hOehkXn3/6XNogtm/lhvhkADmroP3JzdVn7XI+IMkJLIPcFSWc1r+htk8nrXwt10JGBEplWs4gkLVrkeL8J5X5TwEU0+1f+QkX7O/QptGJ/PIp7/6k1WoqJJ1/NttEqzkk6+ryGM5Eth+Nk6fXFOPI5IU42gFKtQ2aeRTeFg4bLJ/12bMR06nT4zSv5bOR2a+BFD5z1ndIGsJRdgQo1jjvdyA/bMTqXNlsWxHKQ7UqjaSZcnJDyeLcUBtgDUM2qPBidLH+rfv747HhK5Dm/TqMS7CVmDB/XaceTcHGVv0dgp0/HirR9FBqUVENH6jTtZyUnP0b0TNf19JtzP99efeUIuqVaoPGf1Beutt/2YUeekiZl4uXcQCnf/26TqOeR8jQcdWH7zm7bI9O3Af5yX6vAX/UP14gCSRWqlhAFb8fiLsjZL8StKq9fRuHkv+zl0dBYyxAc5lwR931FOXlnhdaNE7jk+h8sljD/bsVq9U7ZbOd+f8XpoITF2C9sM2dpOxjj0YN7BVu6ysq0dhifqEJW/r3kNBV58eZbq2z0Wh0Ug1lrln9nBYzn2HVlUH9+XdAPXpJDwWm9zLGmvT6qfVUNUrGPJpT6219YL/lvZdHxuSVm7GjrJyo31S0XZV3ZOveYOqm7/9K8HnNad8uorBgj+Xo7xsD3b8ZTEm6jO1UZe5d+yR8j36Msb5+oaUz+2S1tAujQfqe5666If+luO5bn/t4TW+FS0SBNvkF6K44gzs03KxuVy2c8dm5KlPuZ7U7eY3dmhtpNVvTvstnHYdlqv465++eI33sSwlwPa1HRNKp3X01jEeiuGJsfon8Y78HT8d1L9UgcPnJJH8XxOROlI+yTfKydO4pXLF8LePLgd/+1T4j5m9LbhY0MZn+wQTxzr06wDb3qUAx0KX1CMQpXvaj+d4z+RQFzo8AbHhxoCXSziWOh6nhoAxtqtzWZDHHfXMZXy4vhlVGydgwsT2V/JTpUZZ76l/d5bXOibMW2uUxCB7dizCVMeKvBdpfr9ia0OIOqhkuraO1VyFQs9lTkxGZokab0zRnQO7wYVZXst6FFoNgw3CTXqHt/TxeVoKIAHjYuSA2Z9prLdQvzQejKDq5n//1qtnIpKmYMKEOCS/dBitQyYiIV0rMsTjobFycjxRjOQJ+rxlvhICn6Q1gm07TS/0Q3/rC1iPChRkzsIUWZ+67VB62oboyb/xvlz/4DjtlohrqVG3V6uktkHw1z97KsD2BQ62vXeMW85VwSkdVF2hzva8QuDv+OmkEAeOtyLMkYRYdZvx071Xzm3G3hQR4vMk28YdmwL0Tf8xs/d1HQu60oM4FvC47EKAY6Er8ZPuhcNSi+JHjHZ1+rjSZmlF1TtynEtisyArxhip9ORY8nHuatNFjO3qXBb0cUc9cXkSr601qL8gn2Lvz0a8yrKHpWBFnnpgUS9u9yEaGiX5dtyDJJnOMXcchvu6KuOTPq8tZjFS1HIj4rEgNxdp8XqCEr0oDbHqFuP651HRKJ8mpud6fdIKddyrzWeLT8Xt6hPI6Rqobl58vF59LMHErHjtE7hj5grkZSXot2Qq61CvPp2PTdOGvcpwRnvIG/1vlJRP9+EXUsGIGCyeqaawIX5hLnLT9eV+WK9tOO5VZVL37Ds6fzrSvPMx6s/J3HekaW1pi1+A3Fz9fWCh+gOe8ldrkYgBbQ+Gd6lE7T/Afoe+/xwzJaB47pdA+1e2JU32wwJjP6jnMzqfKG406qZqp8TgRuOh7q6V6pfMI6KRrdYh677Xq3Iegu6HXfjv49p+d8SmGPtdb4/6f5Tp5T44ErORt0KfHhGRuNHX2VJ7qF/91dvKFqaeEQksYP/sqZIPUSt9zL2/bfHZ2m80tdZ9qB0TPgXdts3a1TjL/zdA74c+taLm7eeR8+LftGfRYucs1p7VCnT86CcOC0LD2pda5DqM5jA77NptRqcx9uqibVafUAxQbapo7azvmxjVBnNv99GOdkRr/cGBlNEO6amNaKhW4zvGpMAxE/enIjtrMVK7epjHR9v7FFQs6Er341jQsVV0bO8ydXvQPa9qz1jVnvU4/t96ebvO8f5G7ZsnwghHMaE36m88tB7djedXPY+/qQ8Zch5ZrJ4d62ac8nfu8t4vXcTYAOeygMed1kcWIMnnM4QUrMt0xasAhVurcGagdPqicpSvS0W0TQ6gTp9UnFi7tQL1faKRJtNtmGZHa7BXZYzL2LUSolPXyTqKsjHxF2HyyVkOnIhU7ZtiOFKK57fuRuYW40F7z08YFoc23+Zs6VDN0nE3Fujj1S2iqjPayUfdItowMxrhoRb9SsTBHKyVpKT1tiRs0Mpi2sukPtsramU9scgt24AFakz+3+A8oR6k34Dy8s3Ivn84wvo0a7e2nPn/gYoGC4arMql7vNXfpdwirHxN2sgaq7Xl5uwEDL9J1tnlFaIi7N4vh1asvh3lRUnyacwo6pLsP/WwZbi+/zbMHO6OJYYA+/dkMyw3qcRgs2yzzDt7OHC0FIX5+py6UvyHs70dy8tzERtmFAWhYKMkX80SELJlHbJuh9/rMsH2wy4Y+x23p+r73dimtcY36HxptoQiPFqfXtu/YfWo2LpWeomHLbulD4QiVm2HTLd5mnxCNYr8CtQ/e8zoY2F6O6ljYsDpChSuLjLKfQm2bUtRViWBXPb15j36cdFZK5ob5ag4WYznSw4DQ8ZhwaLogMcP3ipDlSTgjumbsWedsdStB7Rn79BYg73v6KOuNqXOKjT2cSDpr9uQm6jGtB+LuaoNRt+IZkmSvbViwFjVHzYg9XYL6vf/B9Zq2+8Zk9TyAsRMET0qHvH3RcPepA3659H221YG+B2roGJBV7ofx4KPrZ3buypnrfZMlDav1p5ATcla5KhvgnvpHO9Lt5eh5oIsS7Wt1DV3dOeg1vr/zkj/rUfxi6U4fMGOcenqQ0Y345S/c5fXMWEPHGMDnMsCHndRsdJHxuEer+dQqbu6/DmJa4/313opGMbX0huKEffvxkFOdKUZKSdn9bMS72Ygefn18TtS+k8idPy5n57RfoIj4jDWJmT4v9JJPyCeu64Fl/5zEnSNUr8v9TLyFk2EQ7vUrN8Crq05YJQTXVkcoxOwYI66GVePI7uuj6Srd0XDrn5Eyn3biogum+sw8dK/xdPjb1heF+qhHpOw37cYG9Sl5sk2nKkqRsFzPKHRlWnizFTEWOpRscXXbaFrV6v6RmuvfOMsDN+drkVFBdOuKxfPXdeK6/BWIxEREZH5eKuRiIiIyERMvIiIiIhMwsSLiIiIyCRMvIiIiIhMwsSLiIiIyCRMvIiIiIhMwsSLiIiIyCRMvIiIiIhMwsSLiIiIyCT+E69hMYi/LxbREcYwEREREV0S/4nXg2nIznoCM0Ybw0RERER0SXirkYiIiMgkvv+R7Gl52JEejVBjsLmqAFMyimGbnosXZ8bA1l8f39pQgcLHM1F8Uh9uE5GE3BdSERNu0YfP1aPitUXI3FKvDcb8fgOyH3QgtI8MXGhGrasQWctLUd9hvtbTh1G6Zj4K9i/GpvKJGGDUA0hC3o40RDfuRtwjzwNPbEL5/Ta0tlpgUbM2OLH0tzlwaUshIiIi+uH5/0eyt2Zgytu18qYZVflxRrKTgqdU0tXoRE5KHJJznDgzMAapS1K0WTylLJHkaeAZOHOSEZeSA2ejDTEzn5IliIjFSEt0wHK8GI/GxSHzrRo0t0JL8pIWzZCk6wxc2nwFqGhoBvrb1FxBkIzreBGSUzKQ+Vwhky4iIiK64gR/qzFxBOz9gdpDkkidBOqdOaiSv5bIEUgwJtElYESkJEEnq5DjrJe/kqgdkiSuvx0jEqX4QQfsktAdfrcANTJY8VIG5q8qlffxGGGX9OvkERRo8xVj6R8y9fdBkWW6ClEv662oCnYeIiIiIvMEn3ip24K+yHjjhqJBhgJMi1Bj6gv6n3YD9NuEF1rQ47Sp0zKJiIiIrhzBJ17+khoZ32q81clQgGm1+4pKp+TsDFpVUZ8QBHtzkYiIiOhq4j/x0hIkC0LDjDSo5EPUngPsd2QjPgKwxWdrv/HVWvchSvUpDKX4sE7mjYhGdrzMGxGP7DvswLlafFgixZV1qEcoho9Ng0MGHTNXIC8rQd478fFJNd/tSDPmW5Cbq7/Hh2hoBEId9yBJ1umYOw7D3U/+ExEREV0l/Cdeb5Wh6rQkOdM3Y9tK9RRXEVa+VoH6MEmkisqxOTseA05XoHB1kT69h6LVhag4PQDx2ZtRXiSJWpj6VuNKWYI4mIO1JTVovS0JG8rLsWFmDMJDLWh2z9cwALHGfAm/CIPlnLrx6MTarbLuPtFIk3VvmGZHq5qBiIiI6Cri++ckiIiIiKhX+f85CSIiIiLqdUy8iIiIiEzCxIuIiIjIJEy8iIiIiEzCxIuIiIjIJEy8iIiIiEzCxIuIiIjIJEy8iIiIiEzCxIuIiIjIJEy8iIiIiEzCxIuIiIjIJEy8iIiIiEzCxIuIiIjIJEy8iIiIiEzCxIuIiIjIJEy8iIiIiEzyowE3D75ovCciIiKiy4hXvIiIiIhMwsSLiIiIyCRMvIiIiIhMAfz/AaExUlgTJk0GAAAAAElFTkSuQmCC)"
      ],
      "metadata": {
        "id": "eLsPuo7RawLE"
      }
    }
  ]
}