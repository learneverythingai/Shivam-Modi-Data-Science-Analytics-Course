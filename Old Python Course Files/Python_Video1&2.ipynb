{
  "nbformat": 4,
  "nbformat_minor": 0,
  "metadata": {
    "colab": {
      "provenance": [],
      "include_colab_link": true
    },
    "kernelspec": {
      "name": "python3",
      "display_name": "Python 3"
    },
    "language_info": {
      "name": "python"
    }
  },
  "cells": [
    {
      "cell_type": "markdown",
      "metadata": {
        "id": "view-in-github",
        "colab_type": "text"
      },
      "source": [
        "<a href=\"https://colab.research.google.com/github/learneverythingai/Shivam-Modi-Data-Science-Analytics-Course/blob/main/Python%20Course/Python_Video1%262.ipynb\" target=\"_parent\"><img src=\"https://colab.research.google.com/assets/colab-badge.svg\" alt=\"Open In Colab\"/></a>"
      ]
    },
    {
      "cell_type": "markdown",
      "source": [
        "Python Data Types\n",
        "\n",
        "Text Type:\tstr\n",
        "\n",
        "Numeric Types:\tint, float, complex\n",
        "\n",
        "Sequence Types:\tlist, tuple\n",
        "\n",
        "Mapping Type:\tdict\n",
        "\n",
        "Set Types:\tset\n",
        "\n",
        "Boolean Type:\tbool"
      ],
      "metadata": {
        "id": "J1hdnvYLeH4Q"
      }
    },
    {
      "cell_type": "markdown",
      "source": [
        "Getting the Data Type\n"
      ],
      "metadata": {
        "id": "kUrCOvxieWpv"
      }
    },
    {
      "cell_type": "code",
      "source": [
        "nos=10\n",
        "print(\"the number is:\",nos)\n",
        "print(type(nos))"
      ],
      "metadata": {
        "colab": {
          "base_uri": "https://localhost:8080/"
        },
        "id": "GTQY2cbJPisp",
        "outputId": "3ae15822-117e-4709-8b61-ec53411489d7"
      },
      "execution_count": null,
      "outputs": [
        {
          "output_type": "stream",
          "name": "stdout",
          "text": [
            "the number is: 10\n",
            "<class 'int'>\n"
          ]
        }
      ]
    },
    {
      "cell_type": "code",
      "execution_count": null,
      "metadata": {
        "colab": {
          "base_uri": "https://localhost:8080/"
        },
        "id": "gOFcURzZeCR5",
        "outputId": "ffdef244-3c21-44ed-ba97-127cf879b0cc"
      },
      "outputs": [
        {
          "output_type": "stream",
          "name": "stdout",
          "text": [
            "<class 'int'>\n"
          ]
        }
      ],
      "source": [
        "x = 5\n",
        "print(type(x))"
      ]
    },
    {
      "cell_type": "code",
      "source": [
        "l=[1,2,3,4]\n",
        "print(type(l))"
      ],
      "metadata": {
        "colab": {
          "base_uri": "https://localhost:8080/"
        },
        "id": "sSscmE0QeYQr",
        "outputId": "9f4f1bde-8c94-4376-ee11-61c095c39190"
      },
      "execution_count": null,
      "outputs": [
        {
          "output_type": "stream",
          "name": "stdout",
          "text": [
            "<class 'list'>\n"
          ]
        }
      ]
    },
    {
      "cell_type": "code",
      "source": [
        "t=(1,2,3,4)\n",
        "print(type(t))"
      ],
      "metadata": {
        "colab": {
          "base_uri": "https://localhost:8080/"
        },
        "id": "dbTnlffAfxjA",
        "outputId": "0739c2b1-bfc5-45ed-972c-3b91c2bb1bf4"
      },
      "execution_count": null,
      "outputs": [
        {
          "output_type": "stream",
          "name": "stdout",
          "text": [
            "<class 'tuple'>\n"
          ]
        }
      ]
    },
    {
      "cell_type": "code",
      "source": [
        "s={1,2,3,4}\n",
        "print(type(s))"
      ],
      "metadata": {
        "colab": {
          "base_uri": "https://localhost:8080/"
        },
        "id": "FaVmIUJFf6SB",
        "outputId": "0e97b8e7-34f2-4875-e923-2eaa732f848a"
      },
      "execution_count": null,
      "outputs": [
        {
          "output_type": "stream",
          "name": "stdout",
          "text": [
            "<class 'set'>\n"
          ]
        }
      ]
    },
    {
      "cell_type": "code",
      "source": [
        "d = {\n",
        "  \"a\": 1,\n",
        "  \"b\": 2,\n",
        "  \"c\": 3\n",
        "}\n",
        "print(type(d))"
      ],
      "metadata": {
        "colab": {
          "base_uri": "https://localhost:8080/"
        },
        "id": "wjaadnTZf-VL",
        "outputId": "dc798e15-3120-4910-f9d8-12160f78b081"
      },
      "execution_count": null,
      "outputs": [
        {
          "output_type": "stream",
          "name": "stdout",
          "text": [
            "<class 'dict'>\n"
          ]
        }
      ]
    },
    {
      "cell_type": "markdown",
      "source": [
        "INT"
      ],
      "metadata": {
        "id": "HFva8M5whBaA"
      }
    },
    {
      "cell_type": "code",
      "source": [
        "x = 1\n",
        "y = 356562\n",
        "z = -3255522\n",
        "\n",
        "print(type(x))\n",
        "print(type(y))\n",
        "print(type(z))"
      ],
      "metadata": {
        "colab": {
          "base_uri": "https://localhost:8080/"
        },
        "id": "-WMij-e3gDef",
        "outputId": "b08d9d92-b1fb-4520-ff2f-2f5f27c35d4b"
      },
      "execution_count": null,
      "outputs": [
        {
          "output_type": "stream",
          "name": "stdout",
          "text": [
            "<class 'int'>\n",
            "<class 'int'>\n",
            "<class 'int'>\n"
          ]
        }
      ]
    },
    {
      "cell_type": "markdown",
      "source": [
        "Float<br>\n",
        "\n",
        "Float, or \"floating point number\" is a number, positive or negative, containing one or more decimals.\n",
        "\n",
        "\n",
        "\n"
      ],
      "metadata": {
        "id": "_5Tk2vq7hLza"
      }
    },
    {
      "cell_type": "code",
      "source": [
        "x = 2.10\n",
        "y = 10.0\n",
        "z = -35.5\n",
        "\n",
        "print(type(x))\n",
        "print(type(y))\n",
        "print(type(z))"
      ],
      "metadata": {
        "colab": {
          "base_uri": "https://localhost:8080/"
        },
        "id": "Ig2bO80ehGEQ",
        "outputId": "93f38df9-bf42-4856-b2b3-20e16485622c"
      },
      "execution_count": null,
      "outputs": [
        {
          "output_type": "stream",
          "name": "stdout",
          "text": [
            "<class 'float'>\n",
            "<class 'float'>\n",
            "<class 'float'>\n"
          ]
        }
      ]
    },
    {
      "cell_type": "markdown",
      "source": [
        "Complex\n"
      ],
      "metadata": {
        "id": "7BL0wZWijH-v"
      }
    },
    {
      "cell_type": "code",
      "source": [
        "x = 3+5j\n",
        "y = 5j\n",
        "z = -5j\n",
        "\n",
        "print(type(x))\n",
        "print(type(y))\n",
        "print(type(z))"
      ],
      "metadata": {
        "colab": {
          "base_uri": "https://localhost:8080/"
        },
        "id": "xWJGTTndhSlm",
        "outputId": "0d7feee7-a807-4363-a2ca-58861ec5a56c"
      },
      "execution_count": null,
      "outputs": [
        {
          "output_type": "stream",
          "name": "stdout",
          "text": [
            "<class 'complex'>\n",
            "<class 'complex'>\n",
            "<class 'complex'>\n"
          ]
        }
      ]
    },
    {
      "cell_type": "markdown",
      "source": [
        "Type Conversion<br>\n",
        "You can convert from one type to another with the int(), float(), and complex() methods"
      ],
      "metadata": {
        "id": "QZyvg_mqjNcw"
      }
    },
    {
      "cell_type": "code",
      "source": [
        "x = 1    # int\n",
        "y = 2.8  # float\n",
        "z = 1j   # complex\n"
      ],
      "metadata": {
        "id": "PhrcPOHCQ15C"
      },
      "execution_count": null,
      "outputs": []
    },
    {
      "cell_type": "code",
      "source": [
        "#convert from int to float:\n",
        "\n",
        "a=float(x)\n",
        "print(type(a))"
      ],
      "metadata": {
        "colab": {
          "base_uri": "https://localhost:8080/"
        },
        "id": "511ARv_KQ17y",
        "outputId": "cd45df95-a224-4fe6-ed0e-1f4f41778a6c"
      },
      "execution_count": null,
      "outputs": [
        {
          "output_type": "stream",
          "name": "stdout",
          "text": [
            "<class 'float'>\n"
          ]
        }
      ]
    },
    {
      "cell_type": "code",
      "source": [
        "#convert from float to int:\n",
        "b=int(y)\n",
        "print(b)"
      ],
      "metadata": {
        "colab": {
          "base_uri": "https://localhost:8080/"
        },
        "id": "B-D0bkkcQ1-E",
        "outputId": "4e3d18f5-e30a-4315-e2d3-e559641c8bfa"
      },
      "execution_count": null,
      "outputs": [
        {
          "output_type": "stream",
          "name": "stdout",
          "text": [
            "2\n"
          ]
        }
      ]
    },
    {
      "cell_type": "code",
      "source": [
        "\n",
        "#convert from int to complex:"
      ],
      "metadata": {
        "id": "7AkyLjR2Q2CA"
      },
      "execution_count": null,
      "outputs": []
    },
    {
      "cell_type": "code",
      "source": [
        "\n",
        "\n",
        "\n",
        "a = float(x)\n",
        "\n",
        "\n",
        "b = int(y)\n",
        "\n",
        "c = complex(x)\n",
        "\n",
        "print(a)\n",
        "print(b)\n",
        "print(c)\n",
        "\n",
        "print(type(a))\n",
        "print(type(b))\n",
        "print(type(c))"
      ],
      "metadata": {
        "colab": {
          "base_uri": "https://localhost:8080/"
        },
        "id": "XtmuoL9sjJQh",
        "outputId": "4b0b104a-cc94-4889-b01a-fab0279ad3f2"
      },
      "execution_count": null,
      "outputs": [
        {
          "output_type": "stream",
          "name": "stdout",
          "text": [
            "1.0\n",
            "2\n",
            "(1+0j)\n",
            "<class 'float'>\n",
            "<class 'int'>\n",
            "<class 'complex'>\n"
          ]
        }
      ]
    },
    {
      "cell_type": "markdown",
      "source": [
        "Python Casting\n",
        "\n",
        "Specify a Variable Type\n",
        "There may be times when you want to specify a type on to a variable. This can be done with casting. Python is an object-orientated language, and as such it uses classes to define data types, including its primitive types.\n",
        "\n",
        "Casting in python is therefore done using constructor functions:\n",
        "\n",
        "int() - constructs an integer number from an integer literal, a float literal (by removing all decimals), or a string literal \n",
        "\n",
        "float() - constructs a float number from an integer literal, a float literal or a string literal \n",
        "\n",
        "str() - constructs a string from a wide variety of data types, including strings, integer literals and float literals"
      ],
      "metadata": {
        "id": "CKALpE3VKRJS"
      }
    },
    {
      "cell_type": "code",
      "source": [
        "a=int(\"1\")\n",
        "print(type(a))"
      ],
      "metadata": {
        "colab": {
          "base_uri": "https://localhost:8080/"
        },
        "id": "JL1wDLC-RodK",
        "outputId": "12f1bd1b-7a52-4028-8817-a6330cea27e8"
      },
      "execution_count": null,
      "outputs": [
        {
          "output_type": "stream",
          "name": "stdout",
          "text": [
            "<class 'int'>\n"
          ]
        }
      ]
    },
    {
      "cell_type": "code",
      "source": [
        "x = int(1)   # x will be 1\n",
        "y = int(2.8) # y will be 2\n",
        "z = int(\"3\") # z will be 3\n",
        "\n",
        "print(type(x))\n",
        "print(type(y))\n",
        "print(type(z))"
      ],
      "metadata": {
        "id": "QCN3XwQBjT4u",
        "colab": {
          "base_uri": "https://localhost:8080/"
        },
        "outputId": "f2af2600-2529-4ae0-fff8-6c2099b94f92"
      },
      "execution_count": null,
      "outputs": [
        {
          "output_type": "stream",
          "name": "stdout",
          "text": [
            "<class 'int'>\n",
            "<class 'int'>\n",
            "<class 'int'>\n"
          ]
        }
      ]
    },
    {
      "cell_type": "code",
      "source": [
        "x = float(1)     # x will be 1.0\n",
        "y = float(2.8)   # y will be 2.8\n",
        "z = float(\"3\")   # z will be 3.0\n",
        "w = float(\"4.2\") # w will be 4.2\n",
        "print(type(x))\n",
        "print(type(y))\n",
        "print(type(z))"
      ],
      "metadata": {
        "colab": {
          "base_uri": "https://localhost:8080/"
        },
        "id": "PzPjyFUIKbCh",
        "outputId": "c27ae6fe-2d02-49a8-dfeb-ef3ad62dba75"
      },
      "execution_count": null,
      "outputs": [
        {
          "output_type": "stream",
          "name": "stdout",
          "text": [
            "<class 'float'>\n",
            "<class 'float'>\n",
            "<class 'float'>\n"
          ]
        }
      ]
    },
    {
      "cell_type": "code",
      "source": [
        "x = str(\"s1\") # x will be 's1'\n",
        "y = str(2)    # y will be '2'\n",
        "z = str(3.0)  # z will be '3.0'\n",
        "\n",
        "print(type(x))\n",
        "print(type(y))\n",
        "print(type(z))"
      ],
      "metadata": {
        "colab": {
          "base_uri": "https://localhost:8080/"
        },
        "id": "QT0rJfTfKsCb",
        "outputId": "4bd3641e-0908-462d-9703-f5d0aad66ea4"
      },
      "execution_count": null,
      "outputs": [
        {
          "output_type": "stream",
          "name": "stdout",
          "text": [
            "<class 'str'>\n",
            "<class 'str'>\n",
            "<class 'str'>\n"
          ]
        }
      ]
    },
    {
      "cell_type": "code",
      "source": [
        "a=str(1)\n",
        "b=str(2)\n",
        "c=a+b\n",
        "print(c)\n",
        "#1+2=12"
      ],
      "metadata": {
        "colab": {
          "base_uri": "https://localhost:8080/"
        },
        "id": "Qwm2ko3mSHtU",
        "outputId": "16cd29ff-2e06-4d49-a9f1-b5606b250ba9"
      },
      "execution_count": null,
      "outputs": [
        {
          "output_type": "stream",
          "name": "stdout",
          "text": [
            "12\n"
          ]
        }
      ]
    },
    {
      "cell_type": "markdown",
      "source": [
        "#Strings\n",
        "\n",
        "Strings in python are surrounded by either single quotation marks, or double quotation marks.\n",
        "\n",
        "'hello' is the same as \"hello\"."
      ],
      "metadata": {
        "id": "COQfZUGVLWA8"
      }
    },
    {
      "cell_type": "code",
      "source": [
        "print(\"ABC\")\n",
        "print('ABC')"
      ],
      "metadata": {
        "colab": {
          "base_uri": "https://localhost:8080/"
        },
        "id": "HRgovia0KsFy",
        "outputId": "7b4112d1-6fb5-4bec-be0a-8b87c4661d99"
      },
      "execution_count": null,
      "outputs": [
        {
          "output_type": "stream",
          "name": "stdout",
          "text": [
            "ABC\n",
            "ABC\n"
          ]
        }
      ]
    },
    {
      "cell_type": "markdown",
      "source": [
        "Assign String to a Variable"
      ],
      "metadata": {
        "id": "UEQWiHW3LghG"
      }
    },
    {
      "cell_type": "code",
      "source": [
        "a = \"Hello\"\n",
        "print(a)"
      ],
      "metadata": {
        "colab": {
          "base_uri": "https://localhost:8080/"
        },
        "id": "N0AVjvuiKhwg",
        "outputId": "59d1c2c4-ab7f-4dc5-a6b1-1224d0a7989e"
      },
      "execution_count": null,
      "outputs": [
        {
          "output_type": "stream",
          "name": "stdout",
          "text": [
            "Hello\n"
          ]
        }
      ]
    },
    {
      "cell_type": "markdown",
      "source": [
        "Multiline Strings"
      ],
      "metadata": {
        "id": "yIfhur8jLmAM"
      }
    },
    {
      "cell_type": "code",
      "source": [
        "a = \"\"\" Hello World, Learn Everything AI is my attempt to teach Data Science and coding basics to people in a short time, which took me ages to learn. \n",
        "Artificial Intelligence, Data Analytics, Mathematics, Machine Learning, I simplify these topics to help you understand how they work. \n",
        "Using this knowledge, you can build wealth and live a happier, more meaningful life.\"\"\"\n",
        "\n",
        "print(a)"
      ],
      "metadata": {
        "colab": {
          "base_uri": "https://localhost:8080/"
        },
        "id": "-nG2yKJpLiF4",
        "outputId": "02c22ec8-eadb-454e-fc89-129d77f92418"
      },
      "execution_count": null,
      "outputs": [
        {
          "output_type": "stream",
          "name": "stdout",
          "text": [
            " Hello World, Learn Everything AI is my attempt to teach Data Science and coding basics to people in a short time, which took me ages to learn. \n",
            "Artificial Intelligence, Data Analytics, Mathematics, Machine Learning, I simplify these topics to help you understand how they work. \n",
            "Using this knowledge, you can build wealth and live a happier, more meaningful life.\n"
          ]
        }
      ]
    },
    {
      "cell_type": "code",
      "source": [
        "a = '''Hello World, Learn Everything AI is my attempt to teach Data Science and coding basics to people in a short time, which took me ages to learn. \n",
        "Artificial Intelligence, Data Analytics, Mathematics, Machine Learning, I simplify these topics to help you understand how they work. \n",
        "Using this knowledge, you can build wealth and live a happier, more meaningful life.'''\n",
        "print(a)"
      ],
      "metadata": {
        "colab": {
          "base_uri": "https://localhost:8080/"
        },
        "id": "Hg5DH-qIL4Sg",
        "outputId": "b257e155-4aac-4d0c-8691-5af31e157590"
      },
      "execution_count": null,
      "outputs": [
        {
          "output_type": "stream",
          "name": "stdout",
          "text": [
            "Hello World, Learn Everything AI is my attempt to teach Data Science and coding basics to people in a short time, which took me ages to learn. \n",
            "Artificial Intelligence, Data Analytics, Mathematics, Machine Learning, I simplify these topics to help you understand how they work. \n",
            "Using this knowledge, you can build wealth and live a happier, more meaningful life.\n"
          ]
        }
      ]
    },
    {
      "cell_type": "markdown",
      "source": [
        "#Strings are Arrays\n",
        "\n",
        "strings in Python are arrays of bytes representing unicode characters.\n",
        "\n",
        "Square brackets can be used to access elements of the string.\n",
        "\n"
      ],
      "metadata": {
        "id": "fskybI9VMCt8"
      }
    },
    {
      "cell_type": "code",
      "source": [
        "a = \"HELLLO\"\n",
        "print(a[1])\n",
        "print(a[3])"
      ],
      "metadata": {
        "colab": {
          "base_uri": "https://localhost:8080/"
        },
        "id": "n_tyQRToL9m4",
        "outputId": "1ab577b3-8c30-4852-d2ca-d10e0cd22233"
      },
      "execution_count": null,
      "outputs": [
        {
          "output_type": "stream",
          "name": "stdout",
          "text": [
            "E\n",
            "L\n"
          ]
        }
      ]
    },
    {
      "cell_type": "markdown",
      "source": [
        "String Length\n"
      ],
      "metadata": {
        "id": "43FRHVLZMVVr"
      }
    },
    {
      "cell_type": "code",
      "source": [
        "a = \"HELLLO\"\n",
        "print(len(a))"
      ],
      "metadata": {
        "colab": {
          "base_uri": "https://localhost:8080/"
        },
        "id": "qH8QFm8tMJ6v",
        "outputId": "7a318f55-5e7f-4dd7-f20e-634bd5845f3c"
      },
      "execution_count": null,
      "outputs": [
        {
          "output_type": "stream",
          "name": "stdout",
          "text": [
            "6\n"
          ]
        }
      ]
    },
    {
      "cell_type": "markdown",
      "source": [
        "Slicing Strings\n",
        "\n",
        "You can return a range of characters by using the slice syntax.\n",
        "\n",
        "Specify the start index and the end index, separated by a colon, to return a part of the string.\n",
        "\n"
      ],
      "metadata": {
        "id": "BTgrTL1jMiFI"
      }
    },
    {
      "cell_type": "code",
      "source": [
        "b = \"Hello, World!\"\n",
        "print(b[2:5])"
      ],
      "metadata": {
        "colab": {
          "base_uri": "https://localhost:8080/"
        },
        "id": "6JL_wuDnMYnc",
        "outputId": "76f1d295-5f6a-425b-d299-ca0947ba9004"
      },
      "execution_count": null,
      "outputs": [
        {
          "output_type": "stream",
          "name": "stdout",
          "text": [
            "llo\n"
          ]
        }
      ]
    },
    {
      "cell_type": "markdown",
      "source": [
        "Slice From the Start\n"
      ],
      "metadata": {
        "id": "bjNr4eYaM61D"
      }
    },
    {
      "cell_type": "code",
      "source": [
        "b = \"Hello, World!\"\n",
        "print(b[:5])"
      ],
      "metadata": {
        "colab": {
          "base_uri": "https://localhost:8080/"
        },
        "id": "t2GDvTDEMwEO",
        "outputId": "14914e08-db0a-4df0-bbfe-4f8a5054c5dd"
      },
      "execution_count": null,
      "outputs": [
        {
          "output_type": "stream",
          "name": "stdout",
          "text": [
            "Hello\n"
          ]
        }
      ]
    },
    {
      "cell_type": "markdown",
      "source": [
        "Slice To the End\n"
      ],
      "metadata": {
        "id": "3l0tWOVuM-4a"
      }
    },
    {
      "cell_type": "code",
      "source": [
        "b = \"Hello, World!\"\n",
        "print(b[2:])"
      ],
      "metadata": {
        "colab": {
          "base_uri": "https://localhost:8080/"
        },
        "id": "OivFmdzbM-Ik",
        "outputId": "1cf55793-f5c1-4043-d7c2-0ce821c341fe"
      },
      "execution_count": null,
      "outputs": [
        {
          "output_type": "stream",
          "name": "stdout",
          "text": [
            "llo, World!\n"
          ]
        }
      ]
    },
    {
      "cell_type": "markdown",
      "source": [
        "#Negative Indexing\n",
        "\n",
        "Use negative indexes to start the slice from the end of the string"
      ],
      "metadata": {
        "id": "fkOOXIWoNEnF"
      }
    },
    {
      "cell_type": "code",
      "source": [
        "b = \"Hello, World!\"\n",
        "print(b[-5:-2])"
      ],
      "metadata": {
        "colab": {
          "base_uri": "https://localhost:8080/"
        },
        "id": "xztPcilQM8Bi",
        "outputId": "0c52b0ac-5909-48b6-f475-097c363c98ac"
      },
      "execution_count": null,
      "outputs": [
        {
          "output_type": "stream",
          "name": "stdout",
          "text": [
            "orl\n"
          ]
        }
      ]
    },
    {
      "cell_type": "code",
      "source": [
        "b = \"Hello, World!\"\n",
        "print(b[-6:-3])"
      ],
      "metadata": {
        "colab": {
          "base_uri": "https://localhost:8080/"
        },
        "id": "x_yc6eDOUaMZ",
        "outputId": "9fb33d73-7c00-40a1-c3ab-e94401886b71"
      },
      "execution_count": null,
      "outputs": [
        {
          "output_type": "stream",
          "name": "stdout",
          "text": [
            "Wor\n"
          ]
        }
      ]
    },
    {
      "cell_type": "markdown",
      "source": [
        "Modify Strings\n",
        "\n",
        "1.Upper Case"
      ],
      "metadata": {
        "id": "Cezboy0PNRhJ"
      }
    },
    {
      "cell_type": "code",
      "source": [
        "a = \"Hello, World!\"\n",
        "print(a.upper())"
      ],
      "metadata": {
        "colab": {
          "base_uri": "https://localhost:8080/"
        },
        "id": "aFeL4UQJNKWg",
        "outputId": "6a592661-9326-4863-bfcd-cf01ded96e3a"
      },
      "execution_count": null,
      "outputs": [
        {
          "output_type": "stream",
          "name": "stdout",
          "text": [
            "HELLO, WORLD!\n"
          ]
        }
      ]
    },
    {
      "cell_type": "markdown",
      "source": [
        "2.Lower Case\n"
      ],
      "metadata": {
        "id": "4GplE0RHNZ7z"
      }
    },
    {
      "cell_type": "code",
      "source": [
        "a = \"Hello, World!\"\n",
        "print(a.lower())"
      ],
      "metadata": {
        "colab": {
          "base_uri": "https://localhost:8080/"
        },
        "id": "8dkvZ2hhNXJY",
        "outputId": "b0f49b3c-6220-4c84-992b-cbd78d9d1f40"
      },
      "execution_count": null,
      "outputs": [
        {
          "output_type": "stream",
          "name": "stdout",
          "text": [
            "hello, world!\n"
          ]
        }
      ]
    },
    {
      "cell_type": "markdown",
      "source": [
        "Remove Whitespace\n",
        "\n",
        "Whitespace is the space before and/or after the actual text, and very often you want to remove this space.\n",
        "\n"
      ],
      "metadata": {
        "id": "947qhGh7Nejq"
      }
    },
    {
      "cell_type": "code",
      "source": [
        "a = \" Hello, World! \"\n",
        "print(a.strip()) # returns \"Hello, World!\""
      ],
      "metadata": {
        "colab": {
          "base_uri": "https://localhost:8080/"
        },
        "id": "1MYrhsHoNbnc",
        "outputId": "36d0c73d-bd92-488e-88bb-e97295fd7c28"
      },
      "execution_count": null,
      "outputs": [
        {
          "output_type": "stream",
          "name": "stdout",
          "text": [
            "Hello, World!\n"
          ]
        }
      ]
    },
    {
      "cell_type": "markdown",
      "source": [
        "Replace String\n"
      ],
      "metadata": {
        "id": "qVHrFTiPNnf6"
      }
    },
    {
      "cell_type": "code",
      "source": [
        "a = \"Hello, World!\"\n",
        "print(a.replace(\"H\", \"J\"))"
      ],
      "metadata": {
        "colab": {
          "base_uri": "https://localhost:8080/"
        },
        "id": "cvofa3TbNjmg",
        "outputId": "84db99d5-831f-427c-94b8-6db9d6d407a9"
      },
      "execution_count": null,
      "outputs": [
        {
          "output_type": "stream",
          "name": "stdout",
          "text": [
            "Jello, World!\n"
          ]
        }
      ]
    },
    {
      "cell_type": "markdown",
      "source": [
        "Split String\n"
      ],
      "metadata": {
        "id": "dlssFM27Nr5E"
      }
    },
    {
      "cell_type": "code",
      "source": [
        "a = \"Hello, World!\"\n",
        "print(a.split(\",\")) # returns ['Hello', ' World!']"
      ],
      "metadata": {
        "colab": {
          "base_uri": "https://localhost:8080/"
        },
        "id": "URjQde68NpPd",
        "outputId": "8f9ff0a9-3c24-40d9-ecc8-5a6438aaea2a"
      },
      "execution_count": null,
      "outputs": [
        {
          "output_type": "stream",
          "name": "stdout",
          "text": [
            "['Hello', ' World!']\n"
          ]
        }
      ]
    },
    {
      "cell_type": "markdown",
      "source": [
        "The format() method takes the passed arguments, formats them, and places them in the string where the placeholders {} are"
      ],
      "metadata": {
        "id": "Fql_sj3VON1n"
      }
    },
    {
      "cell_type": "code",
      "source": [
        "age = 18\n",
        "txt = \"My name is ABC, and I am {}\"\n",
        "print(txt.format(age))"
      ],
      "metadata": {
        "colab": {
          "base_uri": "https://localhost:8080/"
        },
        "id": "FttqdfNDNwiQ",
        "outputId": "40ec42c5-8a13-4eff-d0fc-99bf5663cf8e"
      },
      "execution_count": null,
      "outputs": [
        {
          "output_type": "stream",
          "name": "stdout",
          "text": [
            "My name is ABC, and I am 18\n"
          ]
        }
      ]
    },
    {
      "cell_type": "code",
      "source": [
        "quantity = 1\n",
        "itemno = 10\n",
        "price = 50\n",
        "myorder = \"I want {} pieces of item {} for {} rupees.\"\n",
        "print(myorder.format(quantity, itemno, price))"
      ],
      "metadata": {
        "colab": {
          "base_uri": "https://localhost:8080/"
        },
        "id": "QLBETdL0PY3o",
        "outputId": "6290258f-a538-4a4b-8d51-1f8d98535cc5"
      },
      "execution_count": null,
      "outputs": [
        {
          "output_type": "stream",
          "name": "stdout",
          "text": [
            "I want 1 pieces of item 10 for 50 rupees.\n"
          ]
        }
      ]
    },
    {
      "cell_type": "code",
      "source": [
        "quantity = 1\n",
        "itemno = 10\n",
        "price = 50\n",
        "print(\"I want {} pieces of item {} for {} rupees.\".format(quantity, itemno, price))"
      ],
      "metadata": {
        "colab": {
          "base_uri": "https://localhost:8080/"
        },
        "id": "_Ytfg9CkPnBL",
        "outputId": "e4301c36-5b62-4d3c-a24c-51539c24413c"
      },
      "execution_count": null,
      "outputs": [
        {
          "output_type": "stream",
          "name": "stdout",
          "text": [
            "I want 1 pieces of item 10 for 50 rupees.\n"
          ]
        }
      ]
    },
    {
      "cell_type": "code",
      "source": [
        "quantity = 1\n",
        "itemno = 10\n",
        "price = 50\n",
        "print(\"I want {1} pieces of item {0} for {2} rupees.\".format(quantity, itemno, price))"
      ],
      "metadata": {
        "colab": {
          "base_uri": "https://localhost:8080/"
        },
        "id": "XHsTTQVRPvw1",
        "outputId": "99c11da7-b93b-4bdf-ff82-4e75d58c825b"
      },
      "execution_count": null,
      "outputs": [
        {
          "output_type": "stream",
          "name": "stdout",
          "text": [
            "I want 10 pieces of item 1 for 50 rupees.\n"
          ]
        }
      ]
    },
    {
      "cell_type": "markdown",
      "source": [
        "Boolean Values\n",
        "\n",
        "You can evaluate any expression in Python, and get one of two answers, True or False.\n",
        "\n",
        "When you compare two values, the expression is evaluated and Python returns the Boolean answer"
      ],
      "metadata": {
        "id": "mvAScY3rSJ4-"
      }
    },
    {
      "cell_type": "code",
      "source": [
        "print(10 > 9)\n",
        "print(10 == 9)\n",
        "print(10 < 9)"
      ],
      "metadata": {
        "colab": {
          "base_uri": "https://localhost:8080/"
        },
        "id": "7QDVKBZ5Rx_z",
        "outputId": "b7815a80-b7ae-4004-f30a-dc9f7328a217"
      },
      "execution_count": null,
      "outputs": [
        {
          "output_type": "stream",
          "name": "stdout",
          "text": [
            "True\n",
            "False\n",
            "False\n"
          ]
        }
      ]
    },
    {
      "cell_type": "markdown",
      "source": [
        "Python Operators\n"
      ],
      "metadata": {
        "id": "NaH_uBCqSbZx"
      }
    },
    {
      "cell_type": "code",
      "source": [
        "print(10 - 5)"
      ],
      "metadata": {
        "colab": {
          "base_uri": "https://localhost:8080/"
        },
        "id": "hTYzymznSmna",
        "outputId": "79da2cde-919f-495f-e158-05c48d55a50a"
      },
      "execution_count": null,
      "outputs": [
        {
          "output_type": "stream",
          "name": "stdout",
          "text": [
            "5\n"
          ]
        }
      ]
    },
    {
      "cell_type": "markdown",
      "source": [
        "Python divides the operators in the following groups:\n",
        "\n",
        "Arithmetic operators<br>\n",
        "Assignment operators<br>\n",
        "Comparison operators<br>\n",
        "Logical operators<br>\n",
        "Identity operators<br>\n",
        "Membership operators<br>\n",
        "Bitwise operators<br>\n",
        "\n",
        "\n",
        "\n",
        "\n",
        "\n",
        "\n",
        "\n",
        "\n",
        "![image.png](data:image/png;base64,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)"
      ],
      "metadata": {
        "id": "RDfkfrEPS4Fs"
      }
    },
    {
      "cell_type": "code",
      "source": [
        "x=5\n",
        "y=10"
      ],
      "metadata": {
        "id": "GN5V-PEKTFl2"
      },
      "execution_count": null,
      "outputs": []
    },
    {
      "cell_type": "code",
      "source": [
        "z=x+y\n",
        "print(z)"
      ],
      "metadata": {
        "colab": {
          "base_uri": "https://localhost:8080/"
        },
        "id": "3w4HJD8zS12N",
        "outputId": "674f690b-4b2e-4ea8-bae9-8baffc6b9852"
      },
      "execution_count": null,
      "outputs": [
        {
          "output_type": "stream",
          "name": "stdout",
          "text": [
            "15\n"
          ]
        }
      ]
    },
    {
      "cell_type": "code",
      "source": [
        "z=x-y\n",
        "print(z)\n"
      ],
      "metadata": {
        "colab": {
          "base_uri": "https://localhost:8080/"
        },
        "id": "qU0a16tiTEUy",
        "outputId": "90ecd218-3a39-4b79-917d-f1ad8c4b8c1a"
      },
      "execution_count": null,
      "outputs": [
        {
          "output_type": "stream",
          "name": "stdout",
          "text": [
            "-5\n"
          ]
        }
      ]
    },
    {
      "cell_type": "code",
      "source": [
        "z=x*y\n",
        "print(z)"
      ],
      "metadata": {
        "colab": {
          "base_uri": "https://localhost:8080/"
        },
        "id": "GWwoBpBNTTds",
        "outputId": "1c6e18b4-f3b5-4a0a-c82e-ce5b4c9b9016"
      },
      "execution_count": null,
      "outputs": [
        {
          "output_type": "stream",
          "name": "stdout",
          "text": [
            "50\n"
          ]
        }
      ]
    },
    {
      "cell_type": "code",
      "source": [
        "z=x/y\n",
        "print(z)"
      ],
      "metadata": {
        "colab": {
          "base_uri": "https://localhost:8080/"
        },
        "id": "YBOFNrdwTaVh",
        "outputId": "b0ec73ac-9967-40be-dacf-c2891231019c"
      },
      "execution_count": null,
      "outputs": [
        {
          "output_type": "stream",
          "name": "stdout",
          "text": [
            "0.5\n"
          ]
        }
      ]
    },
    {
      "cell_type": "code",
      "source": [
        "z=x%y\n",
        "print(z)"
      ],
      "metadata": {
        "colab": {
          "base_uri": "https://localhost:8080/"
        },
        "id": "fFgQ7YuZT8cj",
        "outputId": "b9381049-a943-4c20-e0ef-cab887ba9e38"
      },
      "execution_count": null,
      "outputs": [
        {
          "output_type": "stream",
          "name": "stdout",
          "text": [
            "5\n"
          ]
        }
      ]
    },
    {
      "cell_type": "code",
      "source": [
        "z=x//y\n",
        "print(z)"
      ],
      "metadata": {
        "colab": {
          "base_uri": "https://localhost:8080/"
        },
        "id": "bd04uJ8vUDT2",
        "outputId": "fd89239d-363b-41bc-cc4b-d89e9d4b256b"
      },
      "execution_count": null,
      "outputs": [
        {
          "output_type": "stream",
          "name": "stdout",
          "text": [
            "0\n"
          ]
        }
      ]
    },
    {
      "cell_type": "code",
      "source": [
        "z=x**2\n",
        "print(z)"
      ],
      "metadata": {
        "colab": {
          "base_uri": "https://localhost:8080/"
        },
        "id": "C0WvHYsOUHSZ",
        "outputId": "8c40a8c1-2b15-4514-b697-0b52aaef9580"
      },
      "execution_count": null,
      "outputs": [
        {
          "output_type": "stream",
          "name": "stdout",
          "text": [
            "25\n"
          ]
        }
      ]
    },
    {
      "cell_type": "code",
      "source": [
        "z=y**2\n",
        "print(z)"
      ],
      "metadata": {
        "id": "Ztxf_5VlU8f0",
        "colab": {
          "base_uri": "https://localhost:8080/"
        },
        "outputId": "09cdd5de-d151-4dbe-a89c-1252585cb53b"
      },
      "execution_count": null,
      "outputs": [
        {
          "output_type": "stream",
          "name": "stdout",
          "text": [
            "100\n"
          ]
        }
      ]
    },
    {
      "cell_type": "code",
      "source": [],
      "metadata": {
        "id": "6LqxdSclV-Cn"
      },
      "execution_count": null,
      "outputs": []
    }
  ]
}