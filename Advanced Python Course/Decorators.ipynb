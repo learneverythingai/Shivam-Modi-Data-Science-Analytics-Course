{
  "cells": [
    {
      "cell_type": "markdown",
      "metadata": {
        "id": "view-in-github",
        "colab_type": "text"
      },
      "source": [
        "<a href=\"https://colab.research.google.com/github/learneverythingai/Shivam-Modi-Data-Science-Analytics-Course/blob/main/Python%20Course/Decorators.ipynb\" target=\"_parent\"><img src=\"https://colab.research.google.com/assets/colab-badge.svg\" alt=\"Open In Colab\"/></a>"
      ]
    },
    {
      "cell_type": "markdown",
      "source": [
        "# The Author and Instructor of this Notebook is **Shivam Modi**.\n",
        "## LinkedIn: https://www.linkedin.com/in/shivam-modi-datascientist/"
      ],
      "metadata": {
        "id": "jSZSmrZJcHCl"
      }
    },
    {
      "cell_type": "markdown",
      "metadata": {
        "id": "rFcxq9Sg3Fs_"
      },
      "source": [
        "# Decorators\n",
        "\n",
        "\n",
        "\n",
        "To properly explain decorators we will slowly build up from functions. Make sure to run every cell in this Notebook for this lecture to look the same on your own computer.<br><br>So let's break down the steps:\n",
        "\n",
        "## Functions Review"
      ]
    },
    {
      "cell_type": "code",
      "execution_count": null,
      "metadata": {
        "collapsed": true,
        "id": "eyAc_DAo3FtA"
      },
      "outputs": [],
      "source": [
        "def func(a,b):\n",
        "    return a+b"
      ]
    },
    {
      "cell_type": "code",
      "execution_count": null,
      "metadata": {
        "id": "njP5P8673FtE",
        "outputId": "ba75b123-8c35-41c6-d4b9-caecd3051250",
        "colab": {
          "base_uri": "https://localhost:8080/"
        }
      },
      "outputs": [
        {
          "output_type": "execute_result",
          "data": {
            "text/plain": [
              "30"
            ]
          },
          "metadata": {},
          "execution_count": 64
        }
      ],
      "source": [
        "func(10,20)"
      ]
    },
    {
      "cell_type": "code",
      "source": [
        "func(10,10)"
      ],
      "metadata": {
        "colab": {
          "base_uri": "https://localhost:8080/"
        },
        "id": "mVI1KMf6EVaJ",
        "outputId": "95acc43a-3fec-4959-8364-7691244b90d0"
      },
      "execution_count": null,
      "outputs": [
        {
          "output_type": "execute_result",
          "data": {
            "text/plain": [
              "20"
            ]
          },
          "metadata": {},
          "execution_count": 66
        }
      ]
    },
    {
      "cell_type": "markdown",
      "metadata": {
        "id": "F72NJyc-3FtG"
      },
      "source": [
        "## Scope Review\n",
        "Remember from the nested statements lecture that Python uses Scope to know what a label is referring to. For example:"
      ]
    },
    {
      "cell_type": "code",
      "execution_count": null,
      "metadata": {
        "collapsed": true,
        "id": "bf_2y2V63FtI",
        "colab": {
          "base_uri": "https://localhost:8080/",
          "height": 200
        },
        "outputId": "bb24b56d-a315-44aa-8910-d6e90e24cc93"
      },
      "outputs": [
        {
          "output_type": "error",
          "ename": "NameError",
          "evalue": "ignored",
          "traceback": [
            "\u001b[0;31m---------------------------------------------------------------------------\u001b[0m",
            "\u001b[0;31mNameError\u001b[0m                                 Traceback (most recent call last)",
            "\u001b[0;32m<ipython-input-77-d19537d57aa0>\u001b[0m in \u001b[0;36m<module>\u001b[0;34m\u001b[0m\n\u001b[1;32m      5\u001b[0m     \u001b[0mprint\u001b[0m\u001b[0;34m(\u001b[0m\u001b[0mlocals\u001b[0m\u001b[0;34m(\u001b[0m\u001b[0;34m)\u001b[0m\u001b[0;34m)\u001b[0m\u001b[0;34m\u001b[0m\u001b[0;34m\u001b[0m\u001b[0m\n\u001b[1;32m      6\u001b[0m \u001b[0;34m\u001b[0m\u001b[0m\n\u001b[0;32m----> 7\u001b[0;31m \u001b[0mprint\u001b[0m\u001b[0;34m(\u001b[0m\u001b[0mloc\u001b[0m\u001b[0;34m)\u001b[0m\u001b[0;34m\u001b[0m\u001b[0;34m\u001b[0m\u001b[0m\n\u001b[0m",
            "\u001b[0;31mNameError\u001b[0m: name 'loc' is not defined"
          ]
        }
      ],
      "source": [
        "s = 'Global Variable'\n",
        "\n",
        "def check_for_locals():\n",
        "    loc=\"local variable\"\n",
        "    print(locals())\n",
        "\n",
        "print(loc)"
      ]
    },
    {
      "cell_type": "markdown",
      "metadata": {
        "id": "eXh6wFx_3FtK"
      },
      "source": [
        "Remember that Python functions create a new scope, meaning the function has its own namespace to find variable names when they are mentioned within the function. We can check for local variables and global variables with the <code>locals()</code> and <code>globals()</code> functions. For example:"
      ]
    },
    {
      "cell_type": "code",
      "execution_count": null,
      "metadata": {
        "id": "VTdfZm5H3FtM",
        "colab": {
          "base_uri": "https://localhost:8080/"
        },
        "outputId": "c6b589e2-8f73-46db-e4f9-3ea835ae59b3"
      },
      "outputs": [
        {
          "output_type": "stream",
          "name": "stdout",
          "text": [
            "{'__name__': '__main__', '__doc__': 'Automatically created module for IPython interactive environment', '__package__': None, '__loader__': None, '__spec__': None, '__builtin__': <module 'builtins' (built-in)>, '__builtins__': <module 'builtins' (built-in)>, '_ih': ['', 'def func():\\n    return 1', 'func()', \"s = 'Global Variable'\\n\\ndef check_for_locals():\\n    print(locals())\", 'print(globals())', 'print(globals().keys())', \"globals()['s']\", 'check_for_locals()', \"def hello(name='Jose'):\\n    return 'Hello '+name\", 'hello()', 'greet = hello', 'greet', 'greet()', 'del hello', 'hello()', 'greet()', 'def hello(name=\\'Jose\\'):\\n    print(\\'The hello() function has been executed\\')\\n    \\n    def greet():\\n        return \\'\\\\t This is inside the greet() function\\'\\n    \\n    def welcome():\\n        return \"\\\\t This is inside the welcome() function\"\\n    \\n    print(greet())\\n    print(welcome())\\n    print(\"Now we are back inside the hello() function\")', 'hello()', 'welcome()', 'x = hello()', 'x', 'print(x())', \"def hello():\\n    return 'Hi Jose!'\\n\\ndef other(func):\\n    print('Other code would go here')\\n    print(func())\", 'other(hello)', 'def new_decorator(func):\\n\\n    def wrap_func():\\n        print(\"Code would be here, before executing the func\")\\n\\n        func()\\n\\n        print(\"Code here will execute after the func()\")\\n\\n    return wrap_func\\n\\ndef func_needs_decorator():\\n    print(\"This function is in need of a Decorator\")', 'func_needs_decorator()', '# Reassign func_needs_decorator\\nfunc_needs_decorator = new_decorator(func_needs_decorator)', 'func_needs_decorator()', '@new_decorator\\ndef func_needs_decorator():\\n    print(\"This function is in need of a Decorator\")', 'func_needs_decorator()', 'welcome()', \"def hello(name='Shivam'):\\n    return 'Hello '+name\", 'hello()', 'greet = hello', 'greet', 'greet()', 'del hello', 'hello()', 'greet()', 'def hello(name=\\'Jose\\'):\\n    print(\\'The hello() function has been executed\\')\\n    \\n    def greet():\\n        return \\'\\\\t This is inside the greet() function\\'\\n    \\n    def welcome():\\n        return \"\\\\t This is inside the welcome() function\"\\n    \\n    print(greet())\\n    print(welcome())\\n    print(\"Now we are back inside the hello() function\")', 'def hello(name=\\'Shivam\\'):\\n    print(\\'The hello() function has been executed\\')\\n    \\n    def greet():\\n        return \\'\\\\t This is inside the greet() function\\'\\n    \\n    def welcome():\\n        return \"\\\\t This is inside the welcome() function\"\\n    \\n    print(greet())\\n    print(welcome())\\n    print(\"Now we are back inside the hello() function\")', 'hello()', 'welcome()', 'def hello(name=\\'Jose\\'):\\n    \\n    def greet():\\n        return \\'\\\\t This is inside the greet() function\\'\\n    \\n    def welcome():\\n        return \"\\\\t This is inside the welcome() function\"\\n    \\n    if name == \\'Jose\\':\\n        return greet\\n    else:\\n        return welcome', 'def hello(name=\\'shivam\\'):\\n    \\n    def greet():\\n        return \\'\\\\t This is inside the greet() function\\'\\n    \\n    def welcome():\\n        return \"\\\\t This is inside the welcome() function\"\\n    \\n    if name == \\'Jose\\':\\n        return greet\\n    else:\\n        return welcome', 'x = hello()', 'x', 'print(x())', \"def hello():\\n    return 'Hi Jose!'\\n\\ndef other(func):\\n    print('Other code would go here')\\n    print(func())\", \"def hello():\\n    return 'Hi Shivam!'\\n\\ndef other(func):\\n    print('Other code would go here')\\n    print(func())\", 'other(hello)', 'def new_decorator(func):\\n\\n    def wrap_func():\\n        print(\"Code would be here, before executing the func\")\\n\\n        func()\\n\\n        print(\"Code here will execute after the func()\")\\n\\n    return wrap_func\\n\\ndef func_needs_decorator():\\n    print(\"This function is in need of a Decorator\")', 'func_needs_decorator()', '# Reassign func_needs_decorator\\nfunc_needs_decorator = new_decorator(func_needs_decorator)', 'func_needs_decorator()', '@new_decorator\\ndef func_needs_decorator():\\n    print(\"This function is in need of a Decorator\")', 'func_needs_decorator()', 'def func():\\n    return 1', 'func()', 'func(\"Shivam\")', 'def func(nam1):\\n    return nam1', 'func(\"Shivam\")', 'func(\"AI\")', 'def func(a,b):\\n    return a+b', 'func(10,20)', 'func(10)', 'func(10,10)', \"s = 'Global Variable'\\n\\ndef check_for_locals():\\n    print(locals())\", 'print(globals())', 'print(globals().keys())', 's = \\'Global Variable\\'\\n\\ndef check_for_locals():\\n    s=\"local variable\"\\n    print(locals())', 'print(globals())'], '_oh': {2: 1, 6: 'Global Variable', 9: 'Hello Jose', 11: <function hello at 0x7f4f22d103a0>, 12: 'Hello Jose', 15: 'Hello Jose', 32: 'Hello Shivam', 34: <function hello at 0x7f4f20281550>, 35: 'Hello Shivam', 38: 'Hello Shivam', 46: <function hello.<locals>.welcome at 0x7f4f20281430>, 58: 1, 61: 'Shivam', 62: 'AI', 64: 30, 66: 20}, '_dh': ['/content'], 'In': ['', 'def func():\\n    return 1', 'func()', \"s = 'Global Variable'\\n\\ndef check_for_locals():\\n    print(locals())\", 'print(globals())', 'print(globals().keys())', \"globals()['s']\", 'check_for_locals()', \"def hello(name='Jose'):\\n    return 'Hello '+name\", 'hello()', 'greet = hello', 'greet', 'greet()', 'del hello', 'hello()', 'greet()', 'def hello(name=\\'Jose\\'):\\n    print(\\'The hello() function has been executed\\')\\n    \\n    def greet():\\n        return \\'\\\\t This is inside the greet() function\\'\\n    \\n    def welcome():\\n        return \"\\\\t This is inside the welcome() function\"\\n    \\n    print(greet())\\n    print(welcome())\\n    print(\"Now we are back inside the hello() function\")', 'hello()', 'welcome()', 'x = hello()', 'x', 'print(x())', \"def hello():\\n    return 'Hi Jose!'\\n\\ndef other(func):\\n    print('Other code would go here')\\n    print(func())\", 'other(hello)', 'def new_decorator(func):\\n\\n    def wrap_func():\\n        print(\"Code would be here, before executing the func\")\\n\\n        func()\\n\\n        print(\"Code here will execute after the func()\")\\n\\n    return wrap_func\\n\\ndef func_needs_decorator():\\n    print(\"This function is in need of a Decorator\")', 'func_needs_decorator()', '# Reassign func_needs_decorator\\nfunc_needs_decorator = new_decorator(func_needs_decorator)', 'func_needs_decorator()', '@new_decorator\\ndef func_needs_decorator():\\n    print(\"This function is in need of a Decorator\")', 'func_needs_decorator()', 'welcome()', \"def hello(name='Shivam'):\\n    return 'Hello '+name\", 'hello()', 'greet = hello', 'greet', 'greet()', 'del hello', 'hello()', 'greet()', 'def hello(name=\\'Jose\\'):\\n    print(\\'The hello() function has been executed\\')\\n    \\n    def greet():\\n        return \\'\\\\t This is inside the greet() function\\'\\n    \\n    def welcome():\\n        return \"\\\\t This is inside the welcome() function\"\\n    \\n    print(greet())\\n    print(welcome())\\n    print(\"Now we are back inside the hello() function\")', 'def hello(name=\\'Shivam\\'):\\n    print(\\'The hello() function has been executed\\')\\n    \\n    def greet():\\n        return \\'\\\\t This is inside the greet() function\\'\\n    \\n    def welcome():\\n        return \"\\\\t This is inside the welcome() function\"\\n    \\n    print(greet())\\n    print(welcome())\\n    print(\"Now we are back inside the hello() function\")', 'hello()', 'welcome()', 'def hello(name=\\'Jose\\'):\\n    \\n    def greet():\\n        return \\'\\\\t This is inside the greet() function\\'\\n    \\n    def welcome():\\n        return \"\\\\t This is inside the welcome() function\"\\n    \\n    if name == \\'Jose\\':\\n        return greet\\n    else:\\n        return welcome', 'def hello(name=\\'shivam\\'):\\n    \\n    def greet():\\n        return \\'\\\\t This is inside the greet() function\\'\\n    \\n    def welcome():\\n        return \"\\\\t This is inside the welcome() function\"\\n    \\n    if name == \\'Jose\\':\\n        return greet\\n    else:\\n        return welcome', 'x = hello()', 'x', 'print(x())', \"def hello():\\n    return 'Hi Jose!'\\n\\ndef other(func):\\n    print('Other code would go here')\\n    print(func())\", \"def hello():\\n    return 'Hi Shivam!'\\n\\ndef other(func):\\n    print('Other code would go here')\\n    print(func())\", 'other(hello)', 'def new_decorator(func):\\n\\n    def wrap_func():\\n        print(\"Code would be here, before executing the func\")\\n\\n        func()\\n\\n        print(\"Code here will execute after the func()\")\\n\\n    return wrap_func\\n\\ndef func_needs_decorator():\\n    print(\"This function is in need of a Decorator\")', 'func_needs_decorator()', '# Reassign func_needs_decorator\\nfunc_needs_decorator = new_decorator(func_needs_decorator)', 'func_needs_decorator()', '@new_decorator\\ndef func_needs_decorator():\\n    print(\"This function is in need of a Decorator\")', 'func_needs_decorator()', 'def func():\\n    return 1', 'func()', 'func(\"Shivam\")', 'def func(nam1):\\n    return nam1', 'func(\"Shivam\")', 'func(\"AI\")', 'def func(a,b):\\n    return a+b', 'func(10,20)', 'func(10)', 'func(10,10)', \"s = 'Global Variable'\\n\\ndef check_for_locals():\\n    print(locals())\", 'print(globals())', 'print(globals().keys())', 's = \\'Global Variable\\'\\n\\ndef check_for_locals():\\n    s=\"local variable\"\\n    print(locals())', 'print(globals())'], 'Out': {2: 1, 6: 'Global Variable', 9: 'Hello Jose', 11: <function hello at 0x7f4f22d103a0>, 12: 'Hello Jose', 15: 'Hello Jose', 32: 'Hello Shivam', 34: <function hello at 0x7f4f20281550>, 35: 'Hello Shivam', 38: 'Hello Shivam', 46: <function hello.<locals>.welcome at 0x7f4f20281430>, 58: 1, 61: 'Shivam', 62: 'AI', 64: 30, 66: 20}, 'get_ipython': <bound method InteractiveShell.get_ipython of <google.colab._shell.Shell object at 0x7f4f3e56baf0>>, 'exit': <IPython.core.autocall.ZMQExitAutocall object at 0x7f4f3c4d8af0>, 'quit': <IPython.core.autocall.ZMQExitAutocall object at 0x7f4f3c4d8af0>, '_': 20, '__': 30, '___': 'AI', '_i': 's = \\'Global Variable\\'\\n\\ndef check_for_locals():\\n    s=\"local variable\"\\n    print(locals())', '_ii': 'print(globals().keys())', '_iii': 'print(globals())', '_i1': 'def func():\\n    return 1', 'func': <function func at 0x7f4f20281d30>, '_i2': 'func()', '_2': 1, '_i3': \"s = 'Global Variable'\\n\\ndef check_for_locals():\\n    print(locals())\", 's': 'Global Variable', 'check_for_locals': <function check_for_locals at 0x7f4f02f2a280>, '_i4': 'print(globals())', '_i5': 'print(globals().keys())', '_i6': \"globals()['s']\", '_6': 'Global Variable', '_i7': 'check_for_locals()', '_i8': \"def hello(name='Jose'):\\n    return 'Hello '+name\", '_i9': 'hello()', '_9': 'Hello Jose', '_i10': 'greet = hello', 'greet': <function hello at 0x7f4f20281550>, '_i11': 'greet', '_11': <function hello at 0x7f4f22d103a0>, '_i12': 'greet()', '_12': 'Hello Jose', '_i13': 'del hello', '_i14': 'hello()', '_i15': 'greet()', '_15': 'Hello Jose', '_i16': 'def hello(name=\\'Jose\\'):\\n    print(\\'The hello() function has been executed\\')\\n    \\n    def greet():\\n        return \\'\\\\t This is inside the greet() function\\'\\n    \\n    def welcome():\\n        return \"\\\\t This is inside the welcome() function\"\\n    \\n    print(greet())\\n    print(welcome())\\n    print(\"Now we are back inside the hello() function\")', '_i17': 'hello()', '_i18': 'welcome()', '_i19': 'x = hello()', 'x': <function hello.<locals>.welcome at 0x7f4f20281430>, '_i20': 'x', '_i21': 'print(x())', '_i22': \"def hello():\\n    return 'Hi Jose!'\\n\\ndef other(func):\\n    print('Other code would go here')\\n    print(func())\", 'other': <function other at 0x7f4f202815e0>, '_i23': 'other(hello)', '_i24': 'def new_decorator(func):\\n\\n    def wrap_func():\\n        print(\"Code would be here, before executing the func\")\\n\\n        func()\\n\\n        print(\"Code here will execute after the func()\")\\n\\n    return wrap_func\\n\\ndef func_needs_decorator():\\n    print(\"This function is in need of a Decorator\")', 'new_decorator': <function new_decorator at 0x7f4f202819d0>, 'func_needs_decorator': <function new_decorator.<locals>.wrap_func at 0x7f4f202814c0>, '_i25': 'func_needs_decorator()', '_i26': '# Reassign func_needs_decorator\\nfunc_needs_decorator = new_decorator(func_needs_decorator)', '_i27': 'func_needs_decorator()', '_i28': '@new_decorator\\ndef func_needs_decorator():\\n    print(\"This function is in need of a Decorator\")', '_i29': 'func_needs_decorator()', '_i30': 'welcome()', '_i31': \"def hello(name='Shivam'):\\n    return 'Hello '+name\", '_i32': 'hello()', '_32': 'Hello Shivam', '_i33': 'greet = hello', '_i34': 'greet', '_34': <function hello at 0x7f4f20281550>, '_i35': 'greet()', '_35': 'Hello Shivam', '_i36': 'del hello', '_i37': 'hello()', '_i38': 'greet()', '_38': 'Hello Shivam', '_i39': 'def hello(name=\\'Jose\\'):\\n    print(\\'The hello() function has been executed\\')\\n    \\n    def greet():\\n        return \\'\\\\t This is inside the greet() function\\'\\n    \\n    def welcome():\\n        return \"\\\\t This is inside the welcome() function\"\\n    \\n    print(greet())\\n    print(welcome())\\n    print(\"Now we are back inside the hello() function\")', 'hello': <function hello at 0x7f4f20281940>, '_i40': 'def hello(name=\\'Shivam\\'):\\n    print(\\'The hello() function has been executed\\')\\n    \\n    def greet():\\n        return \\'\\\\t This is inside the greet() function\\'\\n    \\n    def welcome():\\n        return \"\\\\t This is inside the welcome() function\"\\n    \\n    print(greet())\\n    print(welcome())\\n    print(\"Now we are back inside the hello() function\")', '_i41': 'hello()', '_i42': 'welcome()', '_i43': 'def hello(name=\\'Jose\\'):\\n    \\n    def greet():\\n        return \\'\\\\t This is inside the greet() function\\'\\n    \\n    def welcome():\\n        return \"\\\\t This is inside the welcome() function\"\\n    \\n    if name == \\'Jose\\':\\n        return greet\\n    else:\\n        return welcome', '_i44': 'def hello(name=\\'shivam\\'):\\n    \\n    def greet():\\n        return \\'\\\\t This is inside the greet() function\\'\\n    \\n    def welcome():\\n        return \"\\\\t This is inside the welcome() function\"\\n    \\n    if name == \\'Jose\\':\\n        return greet\\n    else:\\n        return welcome', '_i45': 'x = hello()', '_i46': 'x', '_46': <function hello.<locals>.welcome at 0x7f4f20281430>, '_i47': 'print(x())', '_i48': \"def hello():\\n    return 'Hi Jose!'\\n\\ndef other(func):\\n    print('Other code would go here')\\n    print(func())\", '_i49': \"def hello():\\n    return 'Hi Shivam!'\\n\\ndef other(func):\\n    print('Other code would go here')\\n    print(func())\", '_i50': 'other(hello)', '_i51': 'def new_decorator(func):\\n\\n    def wrap_func():\\n        print(\"Code would be here, before executing the func\")\\n\\n        func()\\n\\n        print(\"Code here will execute after the func()\")\\n\\n    return wrap_func\\n\\ndef func_needs_decorator():\\n    print(\"This function is in need of a Decorator\")', '_i52': 'func_needs_decorator()', '_i53': '# Reassign func_needs_decorator\\nfunc_needs_decorator = new_decorator(func_needs_decorator)', '_i54': 'func_needs_decorator()', '_i55': '@new_decorator\\ndef func_needs_decorator():\\n    print(\"This function is in need of a Decorator\")', '_i56': 'func_needs_decorator()', '_i57': 'def func():\\n    return 1', '_i58': 'func()', '_58': 1, '_i59': 'func(\"Shivam\")', '_i60': 'def func(nam1):\\n    return nam1', '_i61': 'func(\"Shivam\")', '_61': 'Shivam', '_i62': 'func(\"AI\")', '_62': 'AI', '_i63': 'def func(a,b):\\n    return a+b', '_i64': 'func(10,20)', '_64': 30, '_i65': 'func(10)', '_i66': 'func(10,10)', '_66': 20, '_i67': \"s = 'Global Variable'\\n\\ndef check_for_locals():\\n    print(locals())\", '_i68': 'print(globals())', '_i69': 'print(globals().keys())', '_i70': 's = \\'Global Variable\\'\\n\\ndef check_for_locals():\\n    s=\"local variable\"\\n    print(locals())', '_i71': 'print(globals())'}\n"
          ]
        }
      ],
      "source": [
        "print(globals())"
      ]
    },
    {
      "cell_type": "markdown",
      "metadata": {
        "collapsed": true,
        "id": "WaVYAmZK3FtO"
      },
      "source": [
        "Here we get back a dictionary of all the global variables, many of them are predefined in Python. So let's go ahead and look at the keys:"
      ]
    },
    {
      "cell_type": "code",
      "execution_count": null,
      "metadata": {
        "collapsed": true,
        "id": "G6OFAm_L3FtP",
        "colab": {
          "base_uri": "https://localhost:8080/"
        },
        "outputId": "6351fc4c-34c0-487e-a8e5-cdee495f754e"
      },
      "outputs": [
        {
          "output_type": "stream",
          "name": "stdout",
          "text": [
            "dict_keys(['__name__', '__doc__', '__package__', '__loader__', '__spec__', '__builtin__', '__builtins__', '_ih', '_oh', '_dh', 'In', 'Out', 'get_ipython', 'exit', 'quit', '_', '__', '___', '_i', '_ii', '_iii', '_i1', 'func', '_i2', '_2', '_i3', 's', 'check_for_locals', '_i4', '_i5', '_i6', '_6', '_i7', '_i8', '_i9', '_9', '_i10', 'greet', '_i11', '_11', '_i12', '_12', '_i13', '_i14', '_i15', '_15', '_i16', '_i17', '_i18', '_i19', 'x', '_i20', '_i21', '_i22', 'other', '_i23', '_i24', 'new_decorator', 'func_needs_decorator', '_i25', '_i26', '_i27', '_i28', '_i29', '_i30', '_i31', '_i32', '_32', '_i33', '_i34', '_34', '_i35', '_35', '_i36', '_i37', '_i38', '_38', '_i39', 'hello', '_i40', '_i41', '_i42', '_i43', '_i44', '_i45', '_i46', '_46', '_i47', '_i48', '_i49', '_i50', '_i51', '_i52', '_i53', '_i54', '_i55', '_i56', '_i57', '_i58', '_58', '_i59', '_i60', '_i61', '_61', '_i62', '_62', '_i63', '_i64', '_64', '_i65', '_i66', '_66', '_i67', '_i68', '_i69', '_i70', '_i71', '_i72'])\n"
          ]
        }
      ],
      "source": [
        "print(globals().keys())"
      ]
    },
    {
      "cell_type": "markdown",
      "metadata": {
        "id": "vZ8tmROJ3FtQ"
      },
      "source": [
        "Note how **s** is there, the Global Variable we defined as a string:"
      ]
    },
    {
      "cell_type": "code",
      "execution_count": null,
      "metadata": {
        "id": "eXztCSek3FtR",
        "colab": {
          "base_uri": "https://localhost:8080/",
          "height": 35
        },
        "outputId": "8082a479-c867-41a7-88e5-e2dd94ba4380"
      },
      "outputs": [
        {
          "output_type": "execute_result",
          "data": {
            "text/plain": [
              "'Global Variable'"
            ],
            "application/vnd.google.colaboratory.intrinsic+json": {
              "type": "string"
            }
          },
          "metadata": {},
          "execution_count": 73
        }
      ],
      "source": [
        "globals()['s']"
      ]
    },
    {
      "cell_type": "markdown",
      "metadata": {
        "id": "45g1z4f53FtR"
      },
      "source": [
        "Now let's run our function to check for local variables that might exist inside our function (there shouldn't be any)"
      ]
    },
    {
      "cell_type": "code",
      "execution_count": null,
      "metadata": {
        "id": "r48-ioNI3FtS",
        "colab": {
          "base_uri": "https://localhost:8080/"
        },
        "outputId": "d16e4071-c660-466b-dc0c-fbd91214eb30"
      },
      "outputs": [
        {
          "output_type": "stream",
          "name": "stdout",
          "text": [
            "{'loc': 'local variable'}\n"
          ]
        }
      ],
      "source": [
        "check_for_locals()"
      ]
    },
    {
      "cell_type": "markdown",
      "metadata": {
        "id": "-zw4qPXX3FtT"
      },
      "source": [
        "Great! Now lets continue with building out the logic of what a decorator is. Remember that in Python **everything is an object**. That means functions are objects which can be assigned labels and passed into other functions. Lets start with some simple examples:"
      ]
    },
    {
      "cell_type": "code",
      "execution_count": null,
      "metadata": {
        "collapsed": true,
        "id": "iYLy4oCT3FtU"
      },
      "outputs": [],
      "source": [
        "def hello(name='Shivam'):\n",
        "    return 'Hello '+name"
      ]
    },
    {
      "cell_type": "code",
      "execution_count": null,
      "metadata": {
        "id": "jZoXgk8G3FtV",
        "outputId": "25a9ee53-cfcb-4602-e29a-b2bec4b7b9ec",
        "colab": {
          "base_uri": "https://localhost:8080/",
          "height": 35
        }
      },
      "outputs": [
        {
          "output_type": "execute_result",
          "data": {
            "text/plain": [
              "'Hello Shivam'"
            ],
            "application/vnd.google.colaboratory.intrinsic+json": {
              "type": "string"
            }
          },
          "metadata": {},
          "execution_count": 79
        }
      ],
      "source": [
        "hello()"
      ]
    },
    {
      "cell_type": "markdown",
      "metadata": {
        "id": "GcCecIPh3FtW"
      },
      "source": [
        "Assign another label to the function. Note that we are not using parentheses here because we are not calling the function **hello**, instead we are just passing a function object to the **greet** variable."
      ]
    },
    {
      "cell_type": "code",
      "execution_count": null,
      "metadata": {
        "collapsed": true,
        "id": "ByzY35XM3FtW"
      },
      "outputs": [],
      "source": [
        "greet = hello"
      ]
    },
    {
      "cell_type": "code",
      "execution_count": null,
      "metadata": {
        "id": "XvEBHV1t3FtX",
        "outputId": "eb23af2d-0ae0-420f-d70a-f24db9e236ed",
        "colab": {
          "base_uri": "https://localhost:8080/"
        }
      },
      "outputs": [
        {
          "output_type": "execute_result",
          "data": {
            "text/plain": [
              "<function __main__.hello(name='Shivam')>"
            ]
          },
          "metadata": {},
          "execution_count": 34
        }
      ],
      "source": [
        "greet"
      ]
    },
    {
      "cell_type": "code",
      "execution_count": null,
      "metadata": {
        "id": "nap1UrJI3Ftb",
        "outputId": "d359cbbf-970a-44bc-8cc3-4cd555de12b0",
        "colab": {
          "base_uri": "https://localhost:8080/",
          "height": 35
        }
      },
      "outputs": [
        {
          "output_type": "execute_result",
          "data": {
            "text/plain": [
              "'Hello Shivam'"
            ],
            "application/vnd.google.colaboratory.intrinsic+json": {
              "type": "string"
            }
          },
          "metadata": {},
          "execution_count": 35
        }
      ],
      "source": [
        "greet()"
      ]
    },
    {
      "cell_type": "markdown",
      "metadata": {
        "id": "VoIjdhOo3Fte"
      },
      "source": [
        "So what happens when we delete the name **hello**?"
      ]
    },
    {
      "cell_type": "code",
      "execution_count": null,
      "metadata": {
        "collapsed": true,
        "id": "xjDftuD73Ftf"
      },
      "outputs": [],
      "source": [
        "del hello"
      ]
    },
    {
      "cell_type": "code",
      "execution_count": null,
      "metadata": {
        "id": "YdlZYd_K3Fti",
        "outputId": "3fd54ba7-dcb4-4be1-92fc-05804d9b5afc",
        "colab": {
          "base_uri": "https://localhost:8080/",
          "height": 165
        }
      },
      "outputs": [
        {
          "output_type": "error",
          "ename": "NameError",
          "evalue": "ignored",
          "traceback": [
            "\u001b[0;31m---------------------------------------------------------------------------\u001b[0m",
            "\u001b[0;31mNameError\u001b[0m                                 Traceback (most recent call last)",
            "\u001b[0;32m<ipython-input-81-a75d7781aaeb>\u001b[0m in \u001b[0;36m<module>\u001b[0;34m\u001b[0m\n\u001b[0;32m----> 1\u001b[0;31m \u001b[0mhello\u001b[0m\u001b[0;34m(\u001b[0m\u001b[0;34m)\u001b[0m\u001b[0;34m\u001b[0m\u001b[0;34m\u001b[0m\u001b[0m\n\u001b[0m",
            "\u001b[0;31mNameError\u001b[0m: name 'hello' is not defined"
          ]
        }
      ],
      "source": [
        "hello()"
      ]
    },
    {
      "cell_type": "code",
      "execution_count": null,
      "metadata": {
        "id": "oMQolzl43Fti",
        "outputId": "784dd117-60c9-4f40-9190-42ee1ec761d8",
        "colab": {
          "base_uri": "https://localhost:8080/",
          "height": 35
        }
      },
      "outputs": [
        {
          "output_type": "execute_result",
          "data": {
            "text/plain": [
              "'Hello Shivam'"
            ],
            "application/vnd.google.colaboratory.intrinsic+json": {
              "type": "string"
            }
          },
          "metadata": {},
          "execution_count": 82
        }
      ],
      "source": [
        "greet()"
      ]
    },
    {
      "cell_type": "markdown",
      "metadata": {
        "id": "Sy4Uchep3Ftj"
      },
      "source": [
        "Even though we deleted the name **hello**, the name **greet** *still points to* our original function object. It is important to know that functions are objects that can be passed to other objects!"
      ]
    },
    {
      "cell_type": "markdown",
      "metadata": {
        "id": "Hi40PCRr3Ftk"
      },
      "source": [
        "## Functions within functions\n",
        "Great! So we've seen how we can treat functions as objects, now let's see how we can define functions inside of other functions:"
      ]
    },
    {
      "cell_type": "code",
      "execution_count": null,
      "metadata": {
        "collapsed": true,
        "id": "LAz0UJqu3Ftk"
      },
      "outputs": [],
      "source": [
        "def hello(name='Shivam'):\n",
        "    print('The hello() function has been executed')\n",
        "    \n",
        "    def greet():\n",
        "        return '\\t This is inside the greet() function'\n",
        "    \n",
        "    def welcome():\n",
        "        return \"\\t This is inside the welcome() function\"\n",
        "    \n",
        "    print(greet())\n",
        "    print(welcome())\n",
        "    print(\"Now we are back inside the hello() function\")"
      ]
    },
    {
      "cell_type": "code",
      "execution_count": null,
      "metadata": {
        "id": "t_1A1IaP3Ftl",
        "outputId": "fce81f0d-9655-444c-d0c0-dbaea6b62567",
        "colab": {
          "base_uri": "https://localhost:8080/"
        }
      },
      "outputs": [
        {
          "output_type": "stream",
          "name": "stdout",
          "text": [
            "The hello() function has been executed\n",
            "\t This is inside the greet() function\n",
            "\t This is inside the welcome() function\n",
            "Now we are back inside the hello() function\n"
          ]
        }
      ],
      "source": [
        "hello()"
      ]
    },
    {
      "cell_type": "code",
      "execution_count": null,
      "metadata": {
        "id": "lAi_e60t3Ftm",
        "outputId": "2df20981-6a05-4679-c6ce-d9b56d18e6ac",
        "colab": {
          "base_uri": "https://localhost:8080/",
          "height": 165
        }
      },
      "outputs": [
        {
          "output_type": "error",
          "ename": "NameError",
          "evalue": "ignored",
          "traceback": [
            "\u001b[0;31m---------------------------------------------------------------------------\u001b[0m",
            "\u001b[0;31mNameError\u001b[0m                                 Traceback (most recent call last)",
            "\u001b[0;32m<ipython-input-85-a401d7101853>\u001b[0m in \u001b[0;36m<module>\u001b[0;34m\u001b[0m\n\u001b[0;32m----> 1\u001b[0;31m \u001b[0mwelcome\u001b[0m\u001b[0;34m(\u001b[0m\u001b[0;34m)\u001b[0m\u001b[0;34m\u001b[0m\u001b[0;34m\u001b[0m\u001b[0m\n\u001b[0m",
            "\u001b[0;31mNameError\u001b[0m: name 'welcome' is not defined"
          ]
        }
      ],
      "source": [
        "welcome()"
      ]
    },
    {
      "cell_type": "markdown",
      "metadata": {
        "id": "zdDgN7IT3Fto"
      },
      "source": [
        "Note how due to scope, the welcome() function is not defined outside of the hello() function. Now lets learn about returning functions from within functions:\n",
        "## Returning Functions"
      ]
    },
    {
      "cell_type": "code",
      "execution_count": null,
      "metadata": {
        "collapsed": true,
        "id": "6jbv-EZm3Ftr"
      },
      "outputs": [],
      "source": [
        "def hello(name='shivam'):\n",
        "    \n",
        "    def greet():\n",
        "        return '\\t This is inside the greet() function'\n",
        "    \n",
        "    def welcome():\n",
        "        return \"\\t This is inside the welcome() function\"\n",
        "    \n",
        "    if name == 'Jose':\n",
        "        return greet\n",
        "    else:\n",
        "        return welcome"
      ]
    },
    {
      "cell_type": "markdown",
      "metadata": {
        "id": "q92VusGe3Ftt"
      },
      "source": [
        "Now let's see what function is returned if we set x = hello(), note how the empty parentheses means that name has been defined as Jose."
      ]
    },
    {
      "cell_type": "code",
      "execution_count": null,
      "metadata": {
        "collapsed": true,
        "id": "G5lZNBjX3Ftv"
      },
      "outputs": [],
      "source": [
        "x = hello()"
      ]
    },
    {
      "cell_type": "code",
      "execution_count": null,
      "metadata": {
        "id": "MTaEIqXn3Ftv",
        "outputId": "05b639c2-da4e-4a85-c504-19f002b79e90",
        "colab": {
          "base_uri": "https://localhost:8080/"
        }
      },
      "outputs": [
        {
          "output_type": "execute_result",
          "data": {
            "text/plain": [
              "<function __main__.hello.<locals>.welcome()>"
            ]
          },
          "metadata": {},
          "execution_count": 46
        }
      ],
      "source": [
        "x"
      ]
    },
    {
      "cell_type": "markdown",
      "metadata": {
        "id": "i22lcv6f3Ftw"
      },
      "source": [
        "Great! Now we can see how x is pointing to the greet function inside of the hello function."
      ]
    },
    {
      "cell_type": "code",
      "execution_count": null,
      "metadata": {
        "id": "t2zHhVhN3Fty",
        "outputId": "b6a97295-2c31-4e85-90fe-c017939d0194",
        "colab": {
          "base_uri": "https://localhost:8080/"
        }
      },
      "outputs": [
        {
          "output_type": "stream",
          "name": "stdout",
          "text": [
            "\t This is inside the welcome() function\n"
          ]
        }
      ],
      "source": [
        "print(x())"
      ]
    },
    {
      "cell_type": "markdown",
      "metadata": {
        "id": "dVewXuo93Ftz"
      },
      "source": [
        "Let's take a quick look at the code again. \n",
        "\n",
        "In the <code>if</code>/<code>else</code> clause we are returning <code>greet</code> and <code>welcome</code>, not <code>greet()</code> and <code>welcome()</code>. \n",
        "\n",
        "This is because when you put a pair of parentheses after it, the function gets executed; whereas if you don’t put parentheses after it, then it can be passed around and can be assigned to other variables without executing it.\n",
        "\n",
        "When we write <code>x = hello()</code>, hello() gets executed and because the name is Jose by default, the function <code>greet</code> is returned. If we change the statement to <code>x = hello(name = \"Sam\")</code> then the <code>welcome</code> function will be returned. We can also do <code>print(hello()())</code> which outputs *This is inside the greet() function*."
      ]
    },
    {
      "cell_type": "markdown",
      "metadata": {
        "id": "Hqa_teEE3Ft0"
      },
      "source": [
        "## Functions as Arguments\n",
        "Now let's see how we can pass functions as arguments into other functions:"
      ]
    },
    {
      "cell_type": "code",
      "execution_count": null,
      "metadata": {
        "collapsed": true,
        "id": "mM2n5VEL3Ft1"
      },
      "outputs": [],
      "source": [
        "def hello():\n",
        "    return 'Hi Shivam!'\n",
        "\n",
        "def other(func):\n",
        "    print('Other code would go here')\n",
        "    print(func())"
      ]
    },
    {
      "cell_type": "code",
      "execution_count": null,
      "metadata": {
        "id": "rQZO85qf3Ft2",
        "outputId": "d10a47eb-7cca-41a1-c6b7-03ffc026f79a",
        "colab": {
          "base_uri": "https://localhost:8080/"
        }
      },
      "outputs": [
        {
          "output_type": "stream",
          "name": "stdout",
          "text": [
            "Other code would go here\n",
            "Hi Shivam!\n"
          ]
        }
      ],
      "source": [
        "other(hello)"
      ]
    },
    {
      "cell_type": "markdown",
      "metadata": {
        "id": "GxD62Gfw3Ft3"
      },
      "source": [
        "Great! Note how we can pass the functions as objects and then use them within other functions. Now we can get started with writing our first decorator:"
      ]
    },
    {
      "cell_type": "markdown",
      "metadata": {
        "id": "Mn21YNXG3Ft4"
      },
      "source": [
        "## Creating a Decorator\n",
        "In the previous example we actually manually created a Decorator. Here we will modify it to make its use case clear:"
      ]
    },
    {
      "cell_type": "code",
      "execution_count": null,
      "metadata": {
        "collapsed": true,
        "id": "oPUHiJf03Ft5"
      },
      "outputs": [],
      "source": [
        "def new_decorator(func):\n",
        "\n",
        "    def wrap_func():\n",
        "        print(\"Code would be here, before executing the func\")\n",
        "\n",
        "        func()\n",
        "\n",
        "        print(\"Code here will execute after the func()\")\n",
        "\n",
        "    return wrap_func\n",
        "\n",
        "def func_needs_decorator():\n",
        "    print(\"This function is in need of a Decorator\")"
      ]
    },
    {
      "cell_type": "code",
      "execution_count": null,
      "metadata": {
        "id": "b08UZ7_x3Ft7",
        "outputId": "d1388c45-3a3f-4a23-b6a2-ef0ceb7521c6",
        "colab": {
          "base_uri": "https://localhost:8080/"
        }
      },
      "outputs": [
        {
          "output_type": "stream",
          "name": "stdout",
          "text": [
            "This function is in need of a Decorator\n"
          ]
        }
      ],
      "source": [
        "func_needs_decorator()"
      ]
    },
    {
      "cell_type": "code",
      "execution_count": null,
      "metadata": {
        "collapsed": true,
        "id": "9KAGTFjn3Ft8"
      },
      "outputs": [],
      "source": [
        "# Reassign func_needs_decorator\n",
        "func_needs_decorator = new_decorator(func_needs_decorator)"
      ]
    },
    {
      "cell_type": "code",
      "execution_count": null,
      "metadata": {
        "id": "C4MQI84H3FuB",
        "outputId": "cf1db00e-95aa-47d8-8068-f567a9b78b4e",
        "colab": {
          "base_uri": "https://localhost:8080/"
        }
      },
      "outputs": [
        {
          "output_type": "stream",
          "name": "stdout",
          "text": [
            "Code would be here, before executing the func\n",
            "This function is in need of a Decorator\n",
            "Code here will execute after the func()\n"
          ]
        }
      ],
      "source": [
        "func_needs_decorator()"
      ]
    },
    {
      "cell_type": "markdown",
      "metadata": {
        "id": "LommfBdC3FuC"
      },
      "source": [
        "So what just happened here? A decorator simply wrapped the function and modified its behavior. Now let's understand how we can rewrite this code using the @ symbol, which is what Python uses for Decorators:"
      ]
    },
    {
      "cell_type": "code",
      "execution_count": null,
      "metadata": {
        "collapsed": true,
        "id": "dTb8AjKN3FuC"
      },
      "outputs": [],
      "source": [
        "@new_decorator\n",
        "def func_needs_decorator():\n",
        "    print(\"This function is in need of a Decorator\")"
      ]
    },
    {
      "cell_type": "code",
      "execution_count": null,
      "metadata": {
        "id": "JZ6FQ7m_3FuD",
        "outputId": "2a331600-1a7a-44d0-9006-b93d6ce1e39f",
        "colab": {
          "base_uri": "https://localhost:8080/"
        }
      },
      "outputs": [
        {
          "output_type": "stream",
          "name": "stdout",
          "text": [
            "Code would be here, before executing the func\n",
            "This function is in need of a Decorator\n",
            "Code here will execute after the func()\n"
          ]
        }
      ],
      "source": [
        "func_needs_decorator()"
      ]
    },
    {
      "cell_type": "markdown",
      "metadata": {
        "id": "hx7wkGZ_3FuE"
      },
      "source": [
        "**Great! You've now built a Decorator manually and then saw how we can use the @ symbol in Python to automate this and clean our code. You'll run into Decorators a lot if you begin using Python for Web Development, such as Flask or Django!**"
      ]
    },
    {
      "cell_type": "code",
      "source": [],
      "metadata": {
        "id": "LBaUmrj84KJy"
      },
      "execution_count": null,
      "outputs": []
    }
  ],
  "metadata": {
    "kernelspec": {
      "display_name": "Python 3",
      "language": "python",
      "name": "python3"
    },
    "language_info": {
      "codemirror_mode": {
        "name": "ipython",
        "version": 3
      },
      "file_extension": ".py",
      "mimetype": "text/x-python",
      "name": "python",
      "nbconvert_exporter": "python",
      "pygments_lexer": "ipython3",
      "version": "3.6.6"
    },
    "colab": {
      "provenance": [],
      "include_colab_link": true
    }
  },
  "nbformat": 4,
  "nbformat_minor": 0
}