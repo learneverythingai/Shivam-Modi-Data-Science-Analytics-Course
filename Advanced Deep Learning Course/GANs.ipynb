{
  "cells": [
    {
      "cell_type": "markdown",
      "metadata": {
        "id": "view-in-github",
        "colab_type": "text"
      },
      "source": [
        "<a href=\"https://colab.research.google.com/github/learneverythingai/Shivam-Modi-Data-Science-Analytics-Course/blob/main/Advanced%20Deep%20Learning%20Course/GANs.ipynb\" target=\"_parent\"><img src=\"https://colab.research.google.com/assets/colab-badge.svg\" alt=\"Open In Colab\"/></a>"
      ]
    },
    {
      "cell_type": "markdown",
      "source": [
        "#The Author and Instructor of this Notebook is **Shivam Modi**.\n",
        "## LinkedIn: https://www.linkedin.com/in/shivam-modi-datascientist/"
      ],
      "metadata": {
        "id": "7wIRxUmVXf7i"
      }
    },
    {
      "cell_type": "markdown",
      "metadata": {
        "id": "P5TEke7_J6wb"
      },
      "source": [
        "\n",
        "\n",
        "### What is GAN?\n",
        "\n",
        "A generative adversarial network (GAN) is a class of machine learning systems invented by Ian Goodfellow and his colleagues in 2014.\n",
        "\n",
        "Two neural networks contest with each other in a game (in the sense of game theory, often but not always in the form of a **zero-sum game**). Given a training set, this technique **learns to generate new data with the same (or close enough) statistical distribution as that of the training set**. For example, a GAN trained on photographs can generate new photographs that look at least superficially authentic to human observers, having many realistic characteristics.\n",
        "\n",
        "Generative Adversarial Networks belong to the set of generative models. It means that they are able to produce / to generate (we’ll see how) new content."
      ]
    },
    {
      "cell_type": "code",
      "execution_count": null,
      "metadata": {
        "id": "QssjlDOTKOEV"
      },
      "outputs": [],
      "source": [
        "import numpy as np\n",
        "import matplotlib.pyplot as plt\n",
        "from keras.models import Sequential\n",
        "from keras.layers import Dense\n",
        "from keras.utils.vis_utils import plot_model"
      ]
    },
    {
      "cell_type": "markdown",
      "metadata": {
        "id": "Xy3_L6FNKcHp"
      },
      "source": [
        "## Simple function we want to emulate"
      ]
    },
    {
      "cell_type": "code",
      "execution_count": null,
      "metadata": {
        "id": "capvHI14KYOB"
      },
      "outputs": [],
      "source": [
        "def func(x):\n",
        "  from math import sin\n",
        "  return (x**2*np.sin(3*x)/(x**2+2))"
      ]
    },
    {
      "cell_type": "code",
      "execution_count": null,
      "metadata": {
        "id": "TdqKqCMaKqum"
      },
      "outputs": [],
      "source": [
        "x = np.linspace(-1,1,100)"
      ]
    },
    {
      "cell_type": "code",
      "execution_count": null,
      "metadata": {
        "colab": {
          "base_uri": "https://localhost:8080/",
          "height": 269
        },
        "id": "EkXybD01Kts-",
        "outputId": "803eff9e-9179-4d20-c4fc-971900501d16"
      },
      "outputs": [
        {
          "data": {
            "image/png": "[encoded data removed]",
            "text/plain": [
              "<Figure size 432x288 with 1 Axes>"
            ]
          },
          "metadata": {
            "needs_background": "light"
          },
          "output_type": "display_data"
        }
      ],
      "source": [
        "plt.plot(x,func(x),color='k',lw=3)\n",
        "plt.grid(True)\n",
        "plt.show()"
      ]
    },
    {
      "cell_type": "markdown",
      "metadata": {
        "id": "RdRCOOUnLfJu"
      },
      "source": [
        "## The Discriminator"
      ]
    },
    {
      "cell_type": "markdown",
      "metadata": {
        "id": "gjQSyOW5YtK-"
      },
      "source": [
        "### Define the discriminator model"
      ]
    },
    {
      "cell_type": "code",
      "execution_count": null,
      "metadata": {
        "id": "8nDuzUzxLBEf"
      },
      "outputs": [],
      "source": [
        "def define_discriminator(n_inputs=2):\n",
        "    model = Sequential()\n",
        "    model.add(Dense(100, activation='relu', kernel_initializer='he_uniform', input_dim=n_inputs))\n",
        "    model.add(Dense(1, activation='sigmoid'))\n",
        "    # compile model\n",
        "    model.compile(loss='binary_crossentropy', optimizer='adam', metrics=['accuracy'])\n",
        "    return model"
      ]
    },
    {
      "cell_type": "code",
      "execution_count": null,
      "metadata": {
        "colab": {
          "base_uri": "https://localhost:8080/",
          "height": 752
        },
        "id": "v42RfX90Lj4Z",
        "outputId": "90310a2a-2d4d-42f7-8153-869f131450bb"
      },
      "outputs": [
        {
          "name": "stdout",
          "output_type": "stream",
          "text": [
            "_________________________________________________________________\n",
            "Layer (type)                 Output Shape              Param #   \n",
            "=================================================================\n",
            "dense_25 (Dense)             (None, 100)               300       \n",
            "_________________________________________________________________\n",
            "dense_26 (Dense)             (None, 1)                 101       \n",
            "=================================================================\n",
            "Total params: 401\n",
            "Trainable params: 401\n",
            "Non-trainable params: 0\n",
            "_________________________________________________________________\n"
          ]
        }
      ],
      "source": [
        "# define the discriminator model\n",
        "model_discriminator = define_discriminator()\n",
        "# summarize the model\n",
        "model_discriminator.summary()\n",
        "# plot the model\n",
        "#plot_model(model_discriminator, to_file='discriminator_plot.png', show_shapes=True, show_layer_names=True)"
      ]
    },
    {
      "cell_type": "markdown",
      "metadata": {
        "id": "fBZPMOqEMCP7"
      },
      "source": [
        "### Generate real samples"
      ]
    },
    {
      "cell_type": "code",
      "execution_count": null,
      "metadata": {
        "id": "8oNeprOLLuhv"
      },
      "outputs": [],
      "source": [
        "def generate_real_samples(n,l=-1,h=1):\n",
        "  # generate inputs in [-l, h]\n",
        "  X1 = l+(h-l)*np.random.random(size=n)\n",
        "\t# generate outputs X^2\n",
        "  X2 =func(X1)\n",
        "\t# stack arrays\n",
        "  X1 = X1.reshape(n, 1)\n",
        "  X2 = X2.reshape(n, 1)\n",
        "  X = np.hstack((X1, X2))\n",
        "  # generate class labels\n",
        "  y = np.ones((n, 1))\n",
        "  return X, y"
      ]
    },
    {
      "cell_type": "code",
      "execution_count": null,
      "metadata": {
        "colab": {
          "base_uri": "https://localhost:8080/",
          "height": 168
        },
        "id": "dEqTejd6MaEH",
        "outputId": "28745a31-9581-494b-c5a3-afde9f674ff5"
      },
      "outputs": [
        {
          "data": {
            "text/plain": [
              "(array([[-0.351729  , -0.05067992],\n",
              "        [-0.53748979, -0.12610645],\n",
              "        [-0.67981112, -0.16746267],\n",
              "        [-0.28882914, -0.0305136 ],\n",
              "        [ 0.98975672,  0.05637502]]), array([[1.],\n",
              "        [1.],\n",
              "        [1.],\n",
              "        [1.],\n",
              "        [1.]]))"
            ]
          },
          "execution_count": 50,
          "metadata": {},
          "output_type": "execute_result"
        }
      ],
      "source": [
        "generate_real_samples(5)"
      ]
    },
    {
      "cell_type": "markdown",
      "metadata": {
        "id": "c9dQJsjvM6en"
      },
      "source": [
        "### Generate fake samples"
      ]
    },
    {
      "cell_type": "code",
      "execution_count": null,
      "metadata": {
        "id": "7tDgTDy8M5zO"
      },
      "outputs": [],
      "source": [
        "def generate_fake_samples(n,l=-1,h=1):\n",
        "  # generate inputs in [-l, h]\n",
        "  X1 = l+(h-l)*np.random.random(size=n)\n",
        "\t# generate outputs X^2\n",
        "  X2 = l+(h-l)*np.random.random(size=n)\n",
        "\t# stack arrays\n",
        "  X1 = X1.reshape(n, 1)\n",
        "  X2 = X2.reshape(n, 1)\n",
        "  X = np.hstack((X1, X2))\n",
        "  # generate class labels\n",
        "  y = np.zeros((n, 1))\n",
        "  return X, y"
      ]
    },
    {
      "cell_type": "code",
      "execution_count": null,
      "metadata": {
        "colab": {
          "base_uri": "https://localhost:8080/",
          "height": 168
        },
        "id": "cs50i_XxMpw1",
        "outputId": "97a582e3-410a-4063-ca3e-09d6cf4f6a2b"
      },
      "outputs": [
        {
          "data": {
            "text/plain": [
              "(array([[ 0.76073378, -0.7251373 ],\n",
              "        [ 0.8027109 , -0.02068532],\n",
              "        [-0.22343495, -0.5694514 ],\n",
              "        [-0.20253836,  0.44344168],\n",
              "        [-0.40488459,  0.90334664]]), array([[0.],\n",
              "        [0.],\n",
              "        [0.],\n",
              "        [0.],\n",
              "        [0.]]))"
            ]
          },
          "execution_count": 52,
          "metadata": {},
          "output_type": "execute_result"
        }
      ],
      "source": [
        "generate_fake_samples(5)"
      ]
    },
    {
      "cell_type": "markdown",
      "metadata": {
        "id": "XtN7wrMxOl26"
      },
      "source": [
        "### Function to train the discriminator"
      ]
    },
    {
      "cell_type": "code",
      "execution_count": null,
      "metadata": {
        "id": "u2h3T3UsNIaN"
      },
      "outputs": [],
      "source": [
        "def train_discriminator(model, n_epochs=1000, n_batch=128):\n",
        "    half_batch = int(n_batch / 2)\n",
        "    # run epochs manually\n",
        "    for i in range(n_epochs):\n",
        "        # generate real examples\n",
        "        X_real, y_real = generate_real_samples(half_batch)\n",
        "        # update model\n",
        "        model.train_on_batch(X_real, y_real)\n",
        "        # generate fake examples\n",
        "        X_fake, y_fake = generate_fake_samples(half_batch)\n",
        "        # update model\n",
        "        model.train_on_batch(X_fake, y_fake)\n",
        "        # evaluate the model\n",
        "        _, acc_real = model.evaluate(X_real, y_real, verbose=0)\n",
        "        _, acc_fake = model.evaluate(X_fake, y_fake, verbose=0)\n",
        "        print(i, acc_real, acc_fake)"
      ]
    },
    {
      "cell_type": "code",
      "execution_count": null,
      "metadata": {
        "colab": {
          "base_uri": "https://localhost:8080/",
          "height": 406
        },
        "id": "0LpEMQIhPAeF",
        "outputId": "ce52dad1-a7a6-4382-a58e-99987dfa5006"
      },
      "outputs": [
        {
          "name": "stdout",
          "output_type": "stream",
          "text": [
            "0 0.015625 1.0\n",
            "1 0.0625 1.0\n",
            "2 0.015625 1.0\n",
            "3 0.015625 0.984375\n",
            "4 0.015625 1.0\n",
            "5 0.046875 1.0\n",
            "6 0.046875 1.0\n",
            "7 0.0625 0.96875\n",
            "8 0.125 1.0\n",
            "9 0.046875 1.0\n",
            "10 0.078125 1.0\n",
            "11 0.109375 1.0\n",
            "12 0.09375 0.984375\n",
            "13 0.03125 1.0\n",
            "14 0.140625 1.0\n",
            "15 0.140625 1.0\n",
            "16 0.15625 0.984375\n",
            "17 0.109375 1.0\n",
            "18 0.109375 1.0\n",
            "19 0.140625 1.0\n"
          ]
        }
      ],
      "source": [
        "train_discriminator(model_discriminator,n_epochs=20)"
      ]
    },
    {
      "cell_type": "code",
      "execution_count": null,
      "metadata": {
        "colab": {
          "base_uri": "https://localhost:8080/",
          "height": 50
        },
        "id": "l71--AR2QFJV",
        "outputId": "11c5467f-4aad-4201-9373-f4920fb86a94"
      },
      "outputs": [
        {
          "name": "stdout",
          "output_type": "stream",
          "text": [
            "5/5 [==============================] - 0s 199us/step\n"
          ]
        },
        {
          "data": {
            "text/plain": [
              "[0.43262189626693726, 1.0]"
            ]
          },
          "execution_count": 55,
          "metadata": {},
          "output_type": "execute_result"
        }
      ],
      "source": [
        "x_t,y_t=generate_fake_samples(5)\n",
        "model_discriminator.evaluate(x_t,y_t)"
      ]
    },
    {
      "cell_type": "markdown",
      "metadata": {
        "id": "xo6yXEYqYxpR"
      },
      "source": [
        "## The Generator"
      ]
    },
    {
      "cell_type": "markdown",
      "metadata": {
        "id": "0voVik87SsTF"
      },
      "source": [
        "Training the discriminator model is straightforward. The goal is to train a generator model, not a discriminator model, and that is where the complexity of GANs truly lies."
      ]
    },
    {
      "cell_type": "markdown",
      "metadata": {
        "id": "CImRWUgJSu78"
      },
      "source": [
        "\n",
        "### Defining the Generator model\n",
        "\n",
        "The generator model **takes as input a point from the latent space and generates a new sample**, e.g. a vector with both the input and output elements of our function.\n",
        "\n",
        "A **latent variable** is a hidden or unobserved variable, and a latent space is a multi-dimensional vector space of these variables. We can **freely choose** the **size of the latent space** for our problem and the **shape or distribution of variables** in the latent space.\n",
        "\n",
        "This is because the latent space has no meaning until the generator model starts assigning meaning to points in the space as it learns. After training, points in the latent space will correspond to points in the output space, e.g. in the space of generated samples.\n",
        "\n",
        "We will define a small latent space of a few dimensions and use the standard approach in the GAN literature of using a **Gaussian distribution** for each variable in the latent space. We will generate new inputs by **drawing random numbers from a standard Gaussian distribution, i.e. mean of zero and a standard deviation of one**.\n",
        "\n",
        "The size of the latent dimension is parameterized in case we want to play with it later, and the output shape of the model is also parameterized, matching the function for defining the discriminator model\n",
        "\n",
        "The output layer of the generator model will have two nodes for the two elements in a generated vector and will use a **linear activation** function.\n",
        "\n",
        "Also, the generator model is **not fitted** directly, and therefore it **does not need to be compiled**."
      ]
    },
    {
      "cell_type": "code",
      "execution_count": null,
      "metadata": {
        "id": "ndbia4A1QQ0m"
      },
      "outputs": [],
      "source": [
        "# define the standalone generator model\n",
        "def define_generator(latent_dim, n_outputs=2):\n",
        "    model = Sequential()\n",
        "    model.add(Dense(50, activation='relu', kernel_initializer='he_uniform', input_dim=latent_dim))\n",
        "    model.add(Dense(n_outputs, activation='linear'))\n",
        "    return model"
      ]
    },
    {
      "cell_type": "code",
      "execution_count": null,
      "metadata": {
        "colab": {
          "base_uri": "https://localhost:8080/",
          "height": 514
        },
        "id": "eA3ZdRS7Vsiv",
        "outputId": "4af4da70-9e5e-46a9-9525-af03eccaeffb"
      },
      "outputs": [
        {
          "name": "stdout",
          "output_type": "stream",
          "text": [
            "_________________________________________________________________\n",
            "Layer (type)                 Output Shape              Param #   \n",
            "=================================================================\n",
            "dense_47 (Dense)             (None, 50)                300       \n",
            "_________________________________________________________________\n",
            "dense_48 (Dense)             (None, 2)                 102       \n",
            "=================================================================\n",
            "Total params: 402\n",
            "Trainable params: 402\n",
            "Non-trainable params: 0\n",
            "_________________________________________________________________\n"
          ]
        }
      ],
      "source": [
        "# define the discriminator model\n",
        "model_gen = define_generator(5)\n",
        "# summarize the model\n",
        "model_gen.summary()\n",
        "# plot the model (does not work on my windows laptop, needs proper installation of pydot and graphviz)\n",
        "# plot_model(model_gen, to_file='generator_plot.png', show_shapes=True, show_layer_names=True)"
      ]
    },
    {
      "cell_type": "markdown",
      "metadata": {
        "id": "nfQACw2TWEu-"
      },
      "source": [
        "### Testing the Generator model\n",
        "This model cannot do much at the moment. Nevertheless, we can demonstrate how to use it to generate samples.\n",
        "\n",
        "The first step is to generate new points in the latent space. We can achieve this by calling the `randn()` NumPy function for generating arrays of random numbers drawn from a standard Gaussian.\n",
        "\n",
        "The array of random numbers can then be reshaped into samples: that is `n_rows` with five elements per row. The `generate_latent_points()` function below implements this and generates the desired number of points in the latent space that can be used as input to the generator model.\n",
        "\n",
        "Next, we can use the generated points as input the generator model to generate new samples.\n",
        "\n",
        "Note we update the `generate_fake_samples()` function in this section."
      ]
    },
    {
      "cell_type": "code",
      "execution_count": null,
      "metadata": {
        "id": "WlO8lhWIWJZL"
      },
      "outputs": [],
      "source": [
        "# generate points in latent space as input for the generator\n",
        "def generate_latent_points(latent_dim, n,l=-1,h=1):\n",
        "    # generate points in the latent space\n",
        "    x_input = l+(h-l)*np.random.random(size=latent_dim*n)\n",
        "    # reshape into a batch of inputs for the network\n",
        "    x_input = x_input.reshape(n, latent_dim)\n",
        "    return x_input"
      ]
    },
    {
      "cell_type": "code",
      "execution_count": null,
      "metadata": {
        "id": "9MPNoALJWt8A"
      },
      "outputs": [],
      "source": [
        "def generate_fake_samples(generator, latent_dim, n):\n",
        "    # generate points in latent space\n",
        "    x_input = generate_latent_points(latent_dim, n)\n",
        "    # predict outputs\n",
        "    X = generator.predict(x_input)\n",
        "    # plot the results\n",
        "    plt.scatter(X[:, 0], X[:, 1],color='k',s=15)\n",
        "    plt.show()"
      ]
    },
    {
      "cell_type": "code",
      "execution_count": null,
      "metadata": {
        "colab": {
          "base_uri": "https://localhost:8080/",
          "height": 269
        },
        "id": "7hpFo1d6XKSy",
        "outputId": "10569d3b-73df-45cd-ea4a-5e6a6eaee70c"
      },
      "outputs": [
        {
          "data": {
            "image/png": "[encoded data removed]",
            "text/plain": [
              "<Figure size 432x288 with 1 Axes>"
            ]
          },
          "metadata": {
            "needs_background": "light"
          },
          "output_type": "display_data"
        }
      ],
      "source": [
        "# size of the latent space\n",
        "latent_dim = 5\n",
        "# define the discriminator model\n",
        "model_gen = define_generator(latent_dim)\n",
        "# generate and plot generated samples\n",
        "generate_fake_samples(model_gen, latent_dim, 100)"
      ]
    },
    {
      "cell_type": "markdown",
      "metadata": {
        "id": "4ANAzPUHYUOU"
      },
      "source": [
        "### Training the Generator model\n",
        "\n",
        "***The weights in the generator model are updated based on the performance of the discriminator model***.\n",
        "\n",
        "When the discriminator is good at detecting fake samples, the generator is updated more, and when the discriminator model is relatively poor or confused when detecting fake samples, the generator model is updated less.\n",
        "\n",
        "This defines the **zero-sum or adversarial relationship** between these two models.\n",
        "\n",
        "There may be many ways to implement this using the Keras API, but perhaps the simplest approach is to create a new model that subsumes or encapsulates the generator and discriminator models.\n",
        "\n",
        "Specifically, a **new GAN model can be defined that stacks the generator and discriminator** such that the generator receives as input random points in the latent space, generates samples that are fed into the discriminator model directly, classified, and the output of this larger model can be used to update the model weights of the generator.\n",
        "\n",
        "To be clear, we are not talking about a new third model, just a **logical third model that uses the already-defined layers and weights** from the standalone generator and discriminator models.\n",
        "\n",
        "Only the discriminator is concerned with distinguishing between real and fake examples; therefore, the discriminator model can be trained in a standalone manner on examples of each.\n",
        "\n",
        "The generator model is only concerned with the discriminator’s performance on fake examples. Therefore, we will mark **all of the layers in the discriminator as not trainable when it is part of the GAN model** so that they can not be updated and overtrained on fake examples.\n",
        "\n",
        "When training the generator via this subsumed GAN model, we want the discriminator to think that the samples output by the generator are real. Therefore, **when the generator is trained as part of the GAN model, we will mark the generated samples as real (class 1)**.\n",
        "\n",
        "The discriminator will then classify the generated samples as not real (class 0) or a low probability of being real. The backpropagation process used to update the model weights will see this as a large error and will update the model weights (i.e. only the weights in the generator) to correct for this error, in turn making the generator better at generating plausible fake samples.\n",
        "\n",
        "So,\n",
        "- Inputs: Point in latent space, e.g. a five-element vector of Gaussian random numbers.\n",
        "- Outputs: Binary classification, likelihood the sample is real (or fake).\n"
      ]
    },
    {
      "cell_type": "code",
      "execution_count": null,
      "metadata": {
        "id": "i9jWGhA4gPTx"
      },
      "outputs": [],
      "source": [
        "# use the generator to generate n fake examples, with class labels\n",
        "def generate_fake_samples(generator, latent_dim, n):\n",
        "    # generate points in latent space\n",
        "    x_input = generate_latent_points(latent_dim, n)\n",
        "    # predict outputs\n",
        "    X = generator.predict(x_input)\n",
        "    # create class labels\n",
        "    y = np.zeros((n, 1))\n",
        "    return X, y"
      ]
    },
    {
      "cell_type": "code",
      "execution_count": null,
      "metadata": {
        "id": "bpvGYIJvXZ-Z"
      },
      "outputs": [],
      "source": [
        "# define the combined generator and discriminator model, for updating the generator\n",
        "def full_gan(generator, discriminator):\n",
        "    # make weights in the discriminator not trainable\n",
        "    discriminator.trainable = False\n",
        "    # connect them\n",
        "    model = Sequential()\n",
        "    # add generator\n",
        "    model.add(generator)\n",
        "    # add the discriminator\n",
        "    model.add(discriminator)\n",
        "    # compile model\n",
        "    model.compile(loss='binary_crossentropy', optimizer='adam')\n",
        "    return model"
      ]
    },
    {
      "cell_type": "code",
      "execution_count": null,
      "metadata": {
        "colab": {
          "base_uri": "https://localhost:8080/",
          "height": 514
        },
        "id": "KJ7CjnRAabL5",
        "outputId": "180bb9d0-406c-4777-ae77-a9a75bb035af"
      },
      "outputs": [
        {
          "name": "stdout",
          "output_type": "stream",
          "text": [
            "_________________________________________________________________\n",
            "Layer (type)                 Output Shape              Param #   \n",
            "=================================================================\n",
            "sequential_35 (Sequential)   (None, 2)                 402       \n",
            "_________________________________________________________________\n",
            "sequential_34 (Sequential)   (None, 1)                 401       \n",
            "=================================================================\n",
            "Total params: 803\n",
            "Trainable params: 402\n",
            "Non-trainable params: 401\n",
            "_________________________________________________________________\n"
          ]
        }
      ],
      "source": [
        "# size of the latent space\n",
        "latent_dim = 5\n",
        "# create the discriminator\n",
        "discriminator = define_discriminator()\n",
        "# create the generator\n",
        "generator = define_generator(latent_dim)\n",
        "# create the gan\n",
        "model_gan = full_gan(generator, discriminator)\n",
        "# summarize gan model\n",
        "model_gan.summary()\n",
        "# plot gan model (does not work on my windows laptop, needs proper installation of pydot and graphviz)\n",
        "#plot_model(model_gan, to_file='gan_plot.png', show_shapes=True, show_layer_names=True)"
      ]
    },
    {
      "cell_type": "markdown",
      "metadata": {
        "id": "47sLjMBEdOQW"
      },
      "source": [
        "## Evaluating performance"
      ]
    },
    {
      "cell_type": "markdown",
      "metadata": {
        "id": "wNeKp7s0d9sg"
      },
      "source": [
        "### Define a function for summarizing performance by comparative plots"
      ]
    },
    {
      "cell_type": "code",
      "execution_count": null,
      "metadata": {
        "id": "7l1D_fDGcYWU"
      },
      "outputs": [],
      "source": [
        "def summarize_performance(epoch, generator, discriminator, latent_dim, n=500):\n",
        "    # prepare real samples\n",
        "    x_real, y_real = generate_real_samples(n)\n",
        "    # evaluate discriminator on real examples\n",
        "    _, acc_real = discriminator.evaluate(x_real, y_real, verbose=0)\n",
        "    # prepare fake examples\n",
        "    x_fake, y_fake = generate_fake_samples(generator, latent_dim, n)\n",
        "    # evaluate discriminator on fake examples\n",
        "    _, acc_fake = discriminator.evaluate(x_fake, y_fake, verbose=0)\n",
        "    # summarize discriminator performance\n",
        "    print (\"Data comparison after {} epochs\".format(epoch+1))\n",
        "    print()\n",
        "    print(\"Accuracy for the real data: {}, Accuracy for the fake data: {}\".format(acc_real, acc_fake))\n",
        "    print()\n",
        "    plt.scatter(x_real[:, 0], x_real[:, 1], color='red')\n",
        "    plt.scatter(x_fake[:, 0], x_fake[:, 1], color='blue')\n",
        "    plt.show()\n",
        "    print()"
      ]
    },
    {
      "cell_type": "markdown",
      "metadata": {
        "id": "Z1fcmq0214sh"
      },
      "source": [
        "### Add the `summarize_performance` function to the train function"
      ]
    },
    {
      "cell_type": "code",
      "execution_count": null,
      "metadata": {
        "id": "QKAGz1vtdgzn"
      },
      "outputs": [],
      "source": [
        "# train the generator and discriminator\n",
        "def train(g_model, d_model, gan_model, latent_dim, n_epochs=10000, n_batch=256, n_eval=1000):\n",
        "    # determine half the size of one batch, for updating the discriminator\n",
        "    half_batch = int(n_batch / 2)\n",
        "    # manually enumerate epochs\n",
        "    for i in range(n_epochs):\n",
        "        # prepare real samples\n",
        "        x_real, y_real = generate_real_samples(half_batch)\n",
        "        # prepare fake examples\n",
        "        x_fake, y_fake = generate_fake_samples(g_model, latent_dim, half_batch)\n",
        "        # update discriminator\n",
        "        d_model.train_on_batch(x_real, y_real)\n",
        "        d_model.train_on_batch(x_fake, y_fake)\n",
        "        # prepare points in latent space as input for the generator\n",
        "        x_gan = generate_latent_points(latent_dim, n_batch)\n",
        "        # create inverted labels for the fake samples\n",
        "        y_gan = np.ones((n_batch, 1))\n",
        "        # update the generator via the discriminator's error\n",
        "        gan_model.train_on_batch(x_gan, y_gan)\n",
        "        # evaluate the model every n_eval epochs\n",
        "        if (i+1) % n_eval == 0:\n",
        "            summarize_performance(i, g_model, d_model, latent_dim)"
      ]
    },
    {
      "cell_type": "markdown",
      "metadata": {
        "id": "mAPO7u8z14sj"
      },
      "source": [
        "### Define models"
      ]
    },
    {
      "cell_type": "code",
      "execution_count": null,
      "metadata": {
        "id": "N4WLBdOI14sj"
      },
      "outputs": [],
      "source": [
        "# size of the latent space\n",
        "latent_dim = 5\n",
        "# create the discriminator\n",
        "discriminator = define_discriminator()\n",
        "# create the generator\n",
        "generator = define_generator(latent_dim)\n",
        "# create the gan\n",
        "model_gan = full_gan(generator, discriminator)"
      ]
    },
    {
      "cell_type": "markdown",
      "metadata": {
        "id": "Mt4PeXQUk1RV"
      },
      "source": [
        "### Showing performance of the `generator` before full training"
      ]
    },
    {
      "cell_type": "code",
      "execution_count": null,
      "metadata": {
        "colab": {
          "base_uri": "https://localhost:8080/",
          "height": 269
        },
        "id": "vKQQm7R3k0SY",
        "outputId": "cef2af53-3e94-4a69-d130-8f5bdfb7f72f"
      },
      "outputs": [
        {
          "data": {
            "image/png": "[encoded data removed]",
            "text/plain": [
              "<Figure size 432x288 with 1 Axes>"
            ]
          },
          "metadata": {
            "needs_background": "light"
          },
          "output_type": "display_data"
        }
      ],
      "source": [
        "n=500\n",
        "x,_=generate_fake_samples(generator, latent_dim, n)\n",
        "plt.scatter(x[:,0],x[:,1],color='k',s=15)\n",
        "plt.show()"
      ]
    },
    {
      "cell_type": "markdown",
      "metadata": {
        "id": "LOVu6GY514sk"
      },
      "source": [
        "### Now actual training of the GAN model\n",
        "Function generated data in red and GAN generated data in blue.\n",
        "\n",
        "See how, at first, the randomly generated points do not look anything closer to the underlying data, and then, as the iterations go on, they 'learn' the underlying statistical distribution and starts to mimic the functional form of the original data."
      ]
    },
    {
      "cell_type": "code",
      "execution_count": null,
      "metadata": {
        "colab": {
          "base_uri": "https://localhost:8080/",
          "height": 1000
        },
        "id": "JJhGvZIPdvro",
        "outputId": "7ef80090-9a4d-4a9d-d03b-063489624173"
      },
      "outputs": [
        {
          "name": "stdout",
          "output_type": "stream",
          "text": [
            "Data comparison after 1000 epochs\n",
            "\n",
            "Accuracy for the real data: 0.48800000047683717, Accuracy for the fake data: 0.8560000004768371\n",
            "\n"
          ]
        },
        {
          "data": {
            "image/png": "[encoded data removed]",
            "text/plain": [
              "<Figure size 432x288 with 1 Axes>"
            ]
          },
          "metadata": {
            "needs_background": "light"
          },
          "output_type": "display_data"
        },
        {
          "name": "stdout",
          "output_type": "stream",
          "text": [
            "\n",
            "Data comparison after 2000 epochs\n",
            "\n",
            "Accuracy for the real data: 0.47200000047683716, Accuracy for the fake data: 0.812\n",
            "\n"
          ]
        },
        {
          "data": {
            "image/png": "[encoded data removed]",
            "text/plain": [
              "<Figure size 432x288 with 1 Axes>"
            ]
          },
          "metadata": {
            "needs_background": "light"
          },
          "output_type": "display_data"
        },
        {
          "name": "stdout",
          "output_type": "stream",
          "text": [
            "\n",
            "Data comparison after 3000 epochs\n",
            "\n",
            "Accuracy for the real data: 0.6499999990463257, Accuracy for the fake data: 0.48199999952316286\n",
            "\n"
          ]
        },
        {
          "data": {
            "image/png": "[encoded data removed]",
            "text/plain": [
              "<Figure size 432x288 with 1 Axes>"
            ]
          },
          "metadata": {
            "needs_background": "light"
          },
          "output_type": "display_data"
        },
        {
          "name": "stdout",
          "output_type": "stream",
          "text": [
            "\n",
            "Data comparison after 4000 epochs\n",
            "\n",
            "Accuracy for the real data: 0.48199999952316286, Accuracy for the fake data: 0.6240000004768371\n",
            "\n"
          ]
        },
        {
          "data": {
            "image/png": "[encoded data removed]",
            "text/plain": [
              "<Figure size 432x288 with 1 Axes>"
            ]
          },
          "metadata": {
            "needs_background": "light"
          },
          "output_type": "display_data"
        },
        {
          "name": "stdout",
          "output_type": "stream",
          "text": [
            "\n",
            "Data comparison after 5000 epochs\n",
            "\n",
            "Accuracy for the real data: 0.22600000005960463, Accuracy for the fake data: 0.8139999995231628\n",
            "\n"
          ]
        },
        {
          "data": {
            "image/png": "[encoded data removed]",
            "text/plain": [
              "<Figure size 432x288 with 1 Axes>"
            ]
          },
          "metadata": {
            "needs_background": "light"
          },
          "output_type": "display_data"
        },
        {
          "name": "stdout",
          "output_type": "stream",
          "text": [
            "\n",
            "Data comparison after 6000 epochs\n",
            "\n",
            "Accuracy for the real data: 0.0, Accuracy for the fake data: 1.0\n",
            "\n"
          ]
        },
        {
          "data": {
            "image/png": "[encoded data removed]",
            "text/plain": [
              "<Figure size 432x288 with 1 Axes>"
            ]
          },
          "metadata": {
            "needs_background": "light"
          },
          "output_type": "display_data"
        },
        {
          "name": "stdout",
          "output_type": "stream",
          "text": [
            "\n",
            "Data comparison after 7000 epochs\n",
            "\n",
            "Accuracy for the real data: 0.5280000009536743, Accuracy for the fake data: 0.6240000004768371\n",
            "\n"
          ]
        },
        {
          "data": {
            "image/png": "[encoded data removed]",
            "text/plain": [
              "<Figure size 432x288 with 1 Axes>"
            ]
          },
          "metadata": {
            "needs_background": "light"
          },
          "output_type": "display_data"
        },
        {
          "name": "stdout",
          "output_type": "stream",
          "text": [
            "\n",
            "Data comparison after 8000 epochs\n",
            "\n",
            "Accuracy for the real data: 0.7199999990463257, Accuracy for the fake data: 0.3520000002384186\n",
            "\n"
          ]
        },
        {
          "data": {
            "image/png": "[encoded data removed]",
            "text/plain": [
              "<Figure size 432x288 with 1 Axes>"
            ]
          },
          "metadata": {
            "needs_background": "light"
          },
          "output_type": "display_data"
        },
        {
          "name": "stdout",
          "output_type": "stream",
          "text": [
            "\n",
            "Data comparison after 9000 epochs\n",
            "\n",
            "Accuracy for the real data: 0.6100000009536743, Accuracy for the fake data: 0.48800000023841855\n",
            "\n"
          ]
        },
        {
          "data": {
            "image/png": "[encoded data removed]",
            "text/plain": [
              "<Figure size 432x288 with 1 Axes>"
            ]
          },
          "metadata": {
            "needs_background": "light"
          },
          "output_type": "display_data"
        },
        {
          "name": "stdout",
          "output_type": "stream",
          "text": [
            "\n",
            "Data comparison after 10000 epochs\n",
            "\n",
            "Accuracy for the real data: 0.49399999976158143, Accuracy for the fake data: 0.5439999995231628\n",
            "\n"
          ]
        },
        {
          "data": {
            "image/png": "[encoded data removed]",
            "text/plain": [
              "<Figure size 432x288 with 1 Axes>"
            ]
          },
          "metadata": {
            "needs_background": "light"
          },
          "output_type": "display_data"
        },
        {
          "name": "stdout",
          "output_type": "stream",
          "text": [
            "\n"
          ]
        }
      ],
      "source": [
        "# train model\n",
        "train(generator, discriminator, model_gan, latent_dim)"
      ]
    },
    {
      "cell_type": "markdown",
      "metadata": {
        "id": "TCfPdyIwnRxz"
      },
      "source": [
        "## Generate synthetic data now\n",
        "Now, we can use the same old `generate_fake_samples()` function to generate as many synthetic data as needed. After training, now this function does not generate random data but a dataset closely following the algebraic function :-)"
      ]
    },
    {
      "cell_type": "code",
      "execution_count": null,
      "metadata": {
        "colab": {
          "base_uri": "https://localhost:8080/",
          "height": 269
        },
        "id": "-XpTciNNiHc5",
        "outputId": "17782ab2-9cfb-4665-e2f2-ac131b9d91bc"
      },
      "outputs": [
        {
          "data": {
            "image/png": "[encoded data removed]",
            "text/plain": [
              "<Figure size 432x288 with 1 Axes>"
            ]
          },
          "metadata": {
            "needs_background": "light"
          },
          "output_type": "display_data"
        }
      ],
      "source": [
        "latent_dim=5\n",
        "n=200\n",
        "x,_=generate_fake_samples(generator, latent_dim, n)\n",
        "plt.scatter(x[:,0],x[:,1],color='k',s=15)\n",
        "plt.show()"
      ]
    }
  ],
  "metadata": {
    "accelerator": "GPU",
    "colab": {
      "provenance": [],
      "include_colab_link": true
    },
    "kernelspec": {
      "display_name": "Python 3",
      "language": "python",
      "name": "python3"
    },
    "language_info": {
      "codemirror_mode": {
        "name": "ipython",
        "version": 3
      },
      "file_extension": ".py",
      "mimetype": "text/x-python",
      "name": "python",
      "nbconvert_exporter": "python",
      "pygments_lexer": "ipython3",
      "version": "3.7.0"
    }
  },
  "nbformat": 4,
  "nbformat_minor": 0
}