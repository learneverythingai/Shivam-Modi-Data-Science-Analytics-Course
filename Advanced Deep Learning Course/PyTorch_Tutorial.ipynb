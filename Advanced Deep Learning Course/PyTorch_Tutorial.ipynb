{
  "cells": [
    {
      "cell_type": "markdown",
      "metadata": {
        "id": "view-in-github",
        "colab_type": "text"
      },
      "source": [
        "<a href=\"https://colab.research.google.com/github/learneverythingai/Shivam-Modi-Data-Science-Analytics-Course/blob/main/Advanced%20Deep%20Learning%20Course/PyTorch_Tutorial.ipynb\" target=\"_parent\"><img src=\"https://colab.research.google.com/assets/colab-badge.svg\" alt=\"Open In Colab\"/></a>"
      ]
    },
    {
      "cell_type": "markdown",
      "source": [
        "# The Author and Instructor of this Notebook is **Shivam Modi**.\n",
        "## LinkedIn: https://www.linkedin.com/in/shivam-modi-datascientist/"
      ],
      "metadata": {
        "id": "MyDtBZ_m99uK"
      }
    },
    {
      "cell_type": "code",
      "execution_count": null,
      "metadata": {
        "id": "WmOxdeZ17_fi"
      },
      "outputs": [],
      "source": [
        "import torch\n",
        "import numpy as np"
      ]
    },
    {
      "cell_type": "code",
      "execution_count": null,
      "metadata": {
        "id": "ULF3L_XX7_fn",
        "outputId": "99363f45-dd4b-4697-e548-ad50e4b7281c"
      },
      "outputs": [
        {
          "data": {
            "text/plain": [
              "tensor([[2.5223e-44, 0.0000e+00, 0.0000e+00, 0.0000e+00, 0.0000e+00],\n",
              "        [0.0000e+00, 0.0000e+00, 0.0000e+00, 0.0000e+00, 0.0000e+00],\n",
              "        [0.0000e+00, 0.0000e+00, 0.0000e+00, 0.0000e+00, 0.0000e+00]])"
            ]
          },
          "execution_count": 5,
          "metadata": {},
          "output_type": "execute_result"
        }
      ],
      "source": [
        "empty=torch.empty(3,5) #empty tensor\n",
        "empty"
      ]
    },
    {
      "cell_type": "code",
      "execution_count": null,
      "metadata": {
        "id": "RGQmh53D7_fo",
        "outputId": "ab2280cc-c4ff-447b-dccd-18b77b2884ff"
      },
      "outputs": [
        {
          "data": {
            "text/plain": [
              "tensor([[[0.7653, 0.1305],\n",
              "         [0.4057, 0.4857]],\n",
              "\n",
              "        [[0.4947, 0.2280],\n",
              "         [0.8335, 0.8411]]])"
            ]
          },
          "execution_count": 12,
          "metadata": {},
          "output_type": "execute_result"
        }
      ],
      "source": [
        "random=torch.rand(2,2,2) # tensor with values \n",
        "random"
      ]
    },
    {
      "cell_type": "code",
      "execution_count": null,
      "metadata": {
        "id": "JrgxVwOf7_fq",
        "outputId": "2446beb3-53b7-462d-8345-c989fae024cf"
      },
      "outputs": [
        {
          "data": {
            "text/plain": [
              "tensor([[0., 0., 0.],\n",
              "        [0., 0., 0.]])"
            ]
          },
          "execution_count": 13,
          "metadata": {},
          "output_type": "execute_result"
        }
      ],
      "source": [
        "zeros=torch.zeros(2,3) #tensor of zeros\n",
        "zeros"
      ]
    },
    {
      "cell_type": "code",
      "execution_count": null,
      "metadata": {
        "id": "4VeqkQ0c7_fr",
        "outputId": "0e8f342a-f6a4-4c3f-f17e-dd465f28fa59"
      },
      "outputs": [
        {
          "data": {
            "text/plain": [
              "tensor([[[1., 1., 1., 1.],\n",
              "         [1., 1., 1., 1.],\n",
              "         [1., 1., 1., 1.]],\n",
              "\n",
              "        [[1., 1., 1., 1.],\n",
              "         [1., 1., 1., 1.],\n",
              "         [1., 1., 1., 1.]]])"
            ]
          },
          "execution_count": 14,
          "metadata": {},
          "output_type": "execute_result"
        }
      ],
      "source": [
        "ones = torch.ones(2, 3, 4)  # tensor ofones\n",
        "ones"
      ]
    },
    {
      "cell_type": "code",
      "execution_count": null,
      "metadata": {
        "id": "IF1YUJAn7_fr",
        "outputId": "0eedd44e-ac41-4187-c596-b5243c7fc18b"
      },
      "outputs": [
        {
          "data": {
            "text/plain": [
              "torch.Size([2, 3, 4])"
            ]
          },
          "execution_count": 19,
          "metadata": {},
          "output_type": "execute_result"
        }
      ],
      "source": [
        "ones.dtype #returns the data type\n",
        "ones.shape #returns the shape of the tensor"
      ]
    },
    {
      "cell_type": "code",
      "execution_count": null,
      "metadata": {
        "id": "oQ11WQIJ7_fs",
        "outputId": "e715332b-923b-4225-c20c-356d59a0dbc4"
      },
      "outputs": [
        {
          "data": {
            "text/plain": [
              "torch.int32"
            ]
          },
          "execution_count": 22,
          "metadata": {},
          "output_type": "execute_result"
        }
      ],
      "source": [
        "array=[1,2,4,3,5]\n",
        "t_tensor=torch.tensor(array,dtype=torch.int32) #tensor from python list\n",
        "t_tensor.dtype"
      ]
    },
    {
      "cell_type": "code",
      "execution_count": null,
      "metadata": {
        "id": "kwl_SH6k7_ft",
        "outputId": "de2deda1-53b3-4acd-fe1d-0ddf29a2403d"
      },
      "outputs": [
        {
          "name": "stdout",
          "output_type": "stream",
          "text": [
            "tensor([[0.8771, 1.3077],\n",
            "        [0.6088, 1.1772]])\n"
          ]
        },
        {
          "data": {
            "text/plain": [
              "tensor([[0.8771, 1.3077],\n",
              "        [0.6088, 1.1772]])"
            ]
          },
          "execution_count": 27,
          "metadata": {},
          "output_type": "execute_result"
        }
      ],
      "source": [
        "x= torch.rand(2,2)\n",
        "y= torch.rand(2,2)\n",
        "\n",
        "# addition -element wise\n",
        "z=x+y\n",
        "print(z)\n",
        "torch.add(x,y)"
      ]
    },
    {
      "cell_type": "code",
      "execution_count": null,
      "metadata": {
        "id": "xn0k6y6q7_fu",
        "outputId": "1cf00af5-5c3d-4ee5-b51f-e0f10ae2af75"
      },
      "outputs": [
        {
          "name": "stdout",
          "output_type": "stream",
          "text": [
            "tensor([[0.7521, 0.6085],\n",
            "        [0.2430, 0.5790]])\n"
          ]
        },
        {
          "data": {
            "text/plain": [
              "tensor([[0.7521, 0.6085],\n",
              "        [0.2430, 0.5790]])"
            ]
          },
          "execution_count": 29,
          "metadata": {},
          "output_type": "execute_result"
        }
      ],
      "source": [
        "# substaction\n",
        "\n",
        "z=x-y\n",
        "print(z)\n",
        "torch.sub(x,y)"
      ]
    },
    {
      "cell_type": "code",
      "execution_count": null,
      "metadata": {
        "id": "dppup6Lk7_fu",
        "outputId": "0947ce26-d8ed-483a-cda5-dc63eecc4768"
      },
      "outputs": [
        {
          "name": "stdout",
          "output_type": "stream",
          "text": [
            "tensor([[0.0509, 0.3349],\n",
            "        [0.0779, 0.2627]])\n"
          ]
        },
        {
          "data": {
            "text/plain": [
              "tensor([[0.0509, 0.3349],\n",
              "        [0.0779, 0.2627]])"
            ]
          },
          "execution_count": 31,
          "metadata": {},
          "output_type": "execute_result"
        }
      ],
      "source": [
        "# mul\n",
        "print(x*y)\n",
        "torch.mul(x,y)"
      ]
    },
    {
      "cell_type": "code",
      "execution_count": null,
      "metadata": {
        "id": "PrtMDunx7_fv",
        "outputId": "f40c9b67-e986-4254-cf7e-ee2fd71b505d"
      },
      "outputs": [
        {
          "name": "stdout",
          "output_type": "stream",
          "text": [
            "tensor([[13.0399,  2.7407],\n",
            "        [ 2.3289,  2.9354]])\n"
          ]
        },
        {
          "data": {
            "text/plain": [
              "tensor([[13.0399,  2.7407],\n",
              "        [ 2.3289,  2.9354]])"
            ]
          },
          "execution_count": 33,
          "metadata": {},
          "output_type": "execute_result"
        }
      ],
      "source": [
        "# div\n",
        "print(x/y)\n",
        "torch.div(x,y)"
      ]
    },
    {
      "cell_type": "code",
      "execution_count": null,
      "metadata": {
        "id": "_lLzliR47_fw",
        "outputId": "3cc0469e-a36f-45b0-a807-eb68826a9bbf"
      },
      "outputs": [
        {
          "name": "stdout",
          "output_type": "stream",
          "text": [
            "tensor([[0.2682, 0.1161, 0.3177, 0.0985],\n",
            "        [0.6787, 0.9804, 0.1231, 0.0892],\n",
            "        [0.5965, 0.9153, 0.1377, 0.9007]])\n"
          ]
        },
        {
          "data": {
            "text/plain": [
              "0.8659446239471436"
            ]
          },
          "execution_count": 41,
          "metadata": {},
          "output_type": "execute_result"
        }
      ],
      "source": [
        "# slicing\n",
        "tensor=torch.rand(3,5,4)\n",
        "print(tensor[:,4,:])\n",
        "\n",
        "element=tensor[1,2,3]\n",
        "element.item()"
      ]
    },
    {
      "cell_type": "code",
      "execution_count": null,
      "metadata": {
        "id": "VpB3hYbk7_fw",
        "outputId": "252890e3-7dcf-47cc-898f-7f59af8c4b82"
      },
      "outputs": [
        {
          "data": {
            "text/plain": [
              "tensor([[[0.3037, 0.5589, 0.2555, 0.1433],\n",
              "         [0.4878, 0.4412, 0.8057, 0.5773],\n",
              "         [0.8398, 0.9128, 0.7940, 0.1228]],\n",
              "\n",
              "        [[0.2837, 0.3292, 0.2130, 0.5809],\n",
              "         [0.2682, 0.1161, 0.3177, 0.0985],\n",
              "         [0.8333, 0.7391, 0.5300, 0.8072]],\n",
              "\n",
              "        [[0.7496, 0.6627, 0.2572, 0.8755],\n",
              "         [0.1714, 0.0340, 0.3006, 0.8659],\n",
              "         [0.1447, 0.5138, 0.7010, 0.8082]],\n",
              "\n",
              "        [[0.6787, 0.9804, 0.1231, 0.0892],\n",
              "         [0.1534, 0.5025, 0.5299, 0.1883],\n",
              "         [0.0425, 0.3837, 0.0097, 0.3896]],\n",
              "\n",
              "        [[0.6749, 0.3242, 0.6580, 0.6785],\n",
              "         [0.1563, 0.9209, 0.3689, 0.9923],\n",
              "         [0.5965, 0.9153, 0.1377, 0.9007]]])"
            ]
          },
          "execution_count": 45,
          "metadata": {},
          "output_type": "execute_result"
        }
      ],
      "source": [
        "tensor.shape\n",
        "tensor.view(-1,5)  #reshaping\n",
        "tensor.view(5,3,4)"
      ]
    },
    {
      "cell_type": "code",
      "execution_count": null,
      "metadata": {
        "id": "JLXPjseM7_fw",
        "outputId": "9a6734ef-cca3-4235-fc58-d12384ef6e01"
      },
      "outputs": [
        {
          "data": {
            "text/plain": [
              "tensor([[[0.3037, 0.5589, 0.2555, 0.1433],\n",
              "         [0.4878, 0.4412, 0.8057, 0.5773],\n",
              "         [0.8398, 0.9128, 0.7940, 0.1228],\n",
              "         [0.2837, 0.3292, 0.2130, 0.5809],\n",
              "         [0.2682, 0.1161, 0.3177, 0.0985]],\n",
              "\n",
              "        [[0.8333, 0.7391, 0.5300, 0.8072],\n",
              "         [0.7496, 0.6627, 0.2572, 0.8755],\n",
              "         [0.1714, 0.0340, 0.3006, 0.8659],\n",
              "         [0.1447, 0.5138, 0.7010, 0.8082],\n",
              "         [0.6787, 0.9804, 0.1231, 0.0892]],\n",
              "\n",
              "        [[0.1534, 0.5025, 0.5299, 0.1883],\n",
              "         [0.0425, 0.3837, 0.0097, 0.3896],\n",
              "         [0.6749, 0.3242, 0.6580, 0.6785],\n",
              "         [0.1563, 0.9209, 0.3689, 0.9923],\n",
              "         [0.5965, 0.9153, 0.1377, 0.9007]]])"
            ]
          },
          "execution_count": 48,
          "metadata": {},
          "output_type": "execute_result"
        }
      ],
      "source": [
        "np_array=tensor.numpy()\n",
        "np_array  #numpy array\n",
        "\n",
        "tensor_2=torch.from_numpy(np_array)\n",
        "tensor_2 #torch tensor"
      ]
    },
    {
      "cell_type": "code",
      "execution_count": null,
      "metadata": {
        "id": "Wbkg0mhl7_fx",
        "outputId": "30ea172f-3485-4b28-fe6d-c4ef7f603ecb"
      },
      "outputs": [
        {
          "data": {
            "text/plain": [
              "False"
            ]
          },
          "execution_count": 50,
          "metadata": {},
          "output_type": "execute_result"
        }
      ],
      "source": [
        "if torch.cuda.is_available():\n",
        "    device=torch.device('cuda')\n",
        "    tensor=torch.tensor([1,2,3,4],dtype=torch.float32,device=device)\n",
        "    tensor_2=([2,3,5])\n",
        "    tensor_2=tensor_2.to(device)"
      ]
    },
    {
      "cell_type": "code",
      "execution_count": null,
      "metadata": {
        "id": "fNvQLWD67_fx"
      },
      "outputs": [],
      "source": [
        "torch.randn(3,3,requires_grad=True)"
      ]
    },
    {
      "cell_type": "code",
      "execution_count": null,
      "metadata": {
        "id": "STgK5NHv7_fx",
        "outputId": "47ae8426-a72c-425a-9262-cfe4009c8f3c"
      },
      "outputs": [
        {
          "data": {
            "text/plain": [
              "<module 'torch.optim.lr_scheduler' from '/Users/home2/.conda/envs/py38/lib/python3.8/site-packages/torch/optim/lr_scheduler.py'>"
            ]
          },
          "execution_count": 51,
          "metadata": {},
          "output_type": "execute_result"
        }
      ],
      "source": [
        "# important submodules in pytorch\n",
        "\n",
        "torch\n",
        "torch.nn\n",
        "torch.optim\n",
        "torch.optim.lr_scheduler\n"
      ]
    },
    {
      "cell_type": "code",
      "execution_count": null,
      "metadata": {
        "id": "InB-OeOR7_fy"
      },
      "outputs": [],
      "source": []
    }
  ],
  "metadata": {
    "kernelspec": {
      "display_name": "py38",
      "language": "python",
      "name": "python3"
    },
    "language_info": {
      "codemirror_mode": {
        "name": "ipython",
        "version": 3
      },
      "file_extension": ".py",
      "mimetype": "text/x-python",
      "name": "python",
      "nbconvert_exporter": "python",
      "pygments_lexer": "ipython3",
      "version": "3.8.13"
    },
    "orig_nbformat": 4,
    "colab": {
      "provenance": [],
      "include_colab_link": true
    }
  },
  "nbformat": 4,
  "nbformat_minor": 0
}