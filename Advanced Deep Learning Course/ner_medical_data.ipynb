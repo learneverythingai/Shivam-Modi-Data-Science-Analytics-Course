{
  "metadata": {
    "kernelspec": {
      "language": "python",
      "display_name": "Python 3",
      "name": "python3"
    },
    "language_info": {
      "name": "python",
      "version": "3.7.12",
      "mimetype": "text/x-python",
      "codemirror_mode": {
        "name": "ipython",
        "version": 3
      },
      "pygments_lexer": "ipython3",
      "nbconvert_exporter": "python",
      "file_extension": ".py"
    },
    "colab": {
      "provenance": [],
      "include_colab_link": true
    }
  },
  "nbformat_minor": 0,
  "nbformat": 4,
  "cells": [
    {
      "cell_type": "markdown",
      "metadata": {
        "id": "view-in-github",
        "colab_type": "text"
      },
      "source": [
        "<a href=\"https://colab.research.google.com/github/learneverythingai/Shivam-Modi-Data-Science-Analytics-Course/blob/main/Advanced%20Deep%20Learning%20Course/ner_medical_data.ipynb\" target=\"_parent\"><img src=\"https://colab.research.google.com/assets/colab-badge.svg\" alt=\"Open In Colab\"/></a>"
      ]
    },
    {
      "cell_type": "markdown",
      "source": [
        "# The Author and Instructor of this Notebook is **Shivam Modi**.\n",
        "## LinkedIn: https://www.linkedin.com/in/shivam-modi-datascientist/"
      ],
      "metadata": {
        "id": "MyDtBZ_m99uK"
      }
    },
    {
      "cell_type": "code",
      "source": [
        "!python -m spacy download en_core_web_sm"
      ],
      "metadata": {
        "trusted": true,
        "id": "XrSsAx4pY9uy"
      },
      "execution_count": null,
      "outputs": []
    },
    {
      "cell_type": "code",
      "source": [
        "import spacy\n",
        "import pandas \n",
        "from tqdm.autonotebook import trange"
      ],
      "metadata": {
        "trusted": true,
        "id": "dPal0NbsY9u9"
      },
      "execution_count": null,
      "outputs": []
    },
    {
      "cell_type": "code",
      "source": [
        "data=pd.read_json(\"/kaggle/input/medical-patients-tweets-data/tweets.json\").transpose()\n",
        "data.reset_index(drop=True,inplace=True)"
      ],
      "metadata": {
        "execution": {
          "iopub.status.busy": "2023-03-13T08:38:13.070646Z",
          "iopub.execute_input": "2023-03-13T08:38:13.070976Z",
          "iopub.status.idle": "2023-03-13T08:38:25.325460Z",
          "shell.execute_reply.started": "2023-03-13T08:38:13.070951Z",
          "shell.execute_reply": "2023-03-13T08:38:25.323983Z"
        },
        "trusted": true,
        "id": "SD2U-Na2Y9vB"
      },
      "execution_count": null,
      "outputs": []
    },
    {
      "cell_type": "code",
      "source": [
        "nlp = spacy.load('en_core_web_sm')\n",
        "labels=[]\n",
        "for index in trange(len(data)):\n",
        "    txt=data['tweet_text'][index]\n",
        "    doc = nlp(txt)\n",
        "    for ent in doc.ents:\n",
        "        if ent.label_ not in labels:\n",
        "            data[ent.label_]=pd.Series([[] for i in range(len(data))])\n",
        "            data[ent.label_][index].append(str(ent.text))\n",
        "            labels.append(ent.label_)\n",
        "        else:\n",
        "            if ent.text not in data[ent.label_][index]:\n",
        "                data[ent.label_][index].append(ent.text)"
      ],
      "metadata": {
        "execution": {
          "iopub.status.busy": "2023-03-13T08:38:26.690495Z",
          "iopub.execute_input": "2023-03-13T08:38:26.690920Z",
          "iopub.status.idle": "2023-03-13T08:44:59.177314Z",
          "shell.execute_reply.started": "2023-03-13T08:38:26.690890Z",
          "shell.execute_reply": "2023-03-13T08:44:59.175485Z"
        },
        "trusted": true,
        "id": "mOLgjPn6Y9vD",
        "outputId": "b2a026ce-6478-4d71-b957-600fcd6bd3c5",
        "colab": {
          "referenced_widgets": [
            "3313d79324a54c689f3f0b3668b676f5"
          ]
        }
      },
      "execution_count": null,
      "outputs": [
        {
          "output_type": "display_data",
          "data": {
            "text/plain": "  0%|          | 0/43347 [00:00<?, ?it/s]",
            "application/vnd.jupyter.widget-view+json": {
              "version_major": 2,
              "version_minor": 0,
              "model_id": "3313d79324a54c689f3f0b3668b676f5"
            }
          },
          "metadata": {}
        }
      ]
    },
    {
      "cell_type": "code",
      "source": [
        "data"
      ],
      "metadata": {
        "execution": {
          "iopub.status.busy": "2023-03-13T08:45:31.646472Z",
          "iopub.execute_input": "2023-03-13T08:45:31.646879Z",
          "iopub.status.idle": "2023-03-13T08:45:31.724858Z",
          "shell.execute_reply.started": "2023-03-13T08:45:31.646841Z",
          "shell.execute_reply": "2023-03-13T08:45:31.723455Z"
        },
        "trusted": true,
        "id": "pteFtp4iY9vI",
        "outputId": "bcca19d0-d6c6-424c-cc27-c4cac821e781"
      },
      "execution_count": null,
      "outputs": [
        {
          "execution_count": 60,
          "output_type": "execute_result",
          "data": {
            "text/plain": "             tweet_author                                         tweet_text  \\\n0      Hematopoiesis News  ⚕️ Scientists conducted a Phase II study of ac...   \n1        Michael Wang, MD  This phase 2 Acalabrutinib-Venetoclax (AV) tri...   \n2             1stOncology  #NICE backs #AstraZenecas #Calquence for #CLL ...   \n3               Toby Eyre  #acalabrutinib is a valuable option in pts int...   \n4            Lymphoma Hub  NICE has recommended the use of acalabrutinib ...   \n...                   ...                                                ...   \n43342  Joy is a Lifestyle  Hanging out with Friends! :) #FF #CLL #Happine...   \n43343       𝓒𝓻𝓲𝔃𝔃𝔂 𝓟𝓮𝓻𝓻𝔂🌹  Hanging out with Friends! :) #FF #CLL #Happine...   \n43344               IQWiG  Zusatznutzen von #Idelalisib ist weder für #CL...   \n43345           Medibooks  #Hematología PTK2 EXPRESSION AND IMMUNOCHEMOTH...   \n43346           Medibooks  #Hematología MUTATIONS IN TLR/MYD88 PATHWAY ID...   \n\n               NORP                                      ORG PERCENT CARDINAL  \\\n0      [Scientists]                                    [CLL]   [73%]       []   \n1                []      [Acalabrutinib-Venetoclax, AV, MCL]      []      [2]   \n2                []                                       []      []       []   \n3                []                                       []      []      [#]   \n4                []                                       []      []       []   \n...             ...                                      ...     ...      ...   \n43342            []                                [Friends]      []       []   \n43343            []                                [Friends]      []       []   \n43344  [Idelalisib]  [CLL, Lymphom, https://t.co/WRtTkZ0PiY]      []      [#]   \n43345            []        [Hematología, IMMUNOCHEMOTHERAPY]      []       []   \n43346            []                                    [TLR]      []       []   \n\n                         MONEY              LOC                     PERSON  \\\n0                           []               []                         []   \n1                           []               []                         []   \n2      [#AstraZenecas #, #CLL]               []                         []   \n3                       [#CLL]  [Haematologica]                         []   \n4                   [lymphoma]               []  [https://t.co/6OuJptLCIN]   \n...                        ...              ...                        ...   \n43342            [#FF, #CLL #]               []                         []   \n43343            [#FF, #CLL #]               []   [http://t.co/gynChDNUL2]   \n43344                       []               []       [Zusatznutzen von #]   \n43345                       []               []                         []   \n43346                       []               []    [Hematología MUTATIONS]   \n\n      GPE    DATE PRODUCT TIME WORK_OF_ART ORDINAL QUANTITY FAC EVENT LAW  \\\n0      []      []      []   []          []      []       []  []    []  []   \n1      []      []      []   []          []      []       []  []    []  []   \n2      []      []      []   []          []      []       []  []    []  []   \n3      []      []      []   []          []      []       []  []    []  []   \n4      []      []      []   []          []      []       []  []    []  []   \n...    ..     ...     ...  ...         ...     ...      ...  ..   ...  ..   \n43342  []      []      []   []          []      []       []  []    []  []   \n43343  []      []      []   []          []      []       []  []    []  []   \n43344  []      []      []   []          []      []       []  []    []  []   \n43345  []  [2014]      []   []          []      []       []  []    []  []   \n43346  []      []      []   []          []      []       []  []    []  []   \n\n      LANGUAGE  \n0           []  \n1           []  \n2           []  \n3           []  \n4           []  \n...        ...  \n43342       []  \n43343       []  \n43344       []  \n43345       []  \n43346       []  \n\n[43347 rows x 20 columns]",
            "text/html": "<div>\n<style scoped>\n    .dataframe tbody tr th:only-of-type {\n        vertical-align: middle;\n    }\n\n    .dataframe tbody tr th {\n        vertical-align: top;\n    }\n\n    .dataframe thead th {\n        text-align: right;\n    }\n</style>\n<table border=\"1\" class=\"dataframe\">\n  <thead>\n    <tr style=\"text-align: right;\">\n      <th></th>\n      <th>tweet_author</th>\n      <th>tweet_text</th>\n      <th>NORP</th>\n      <th>ORG</th>\n      <th>PERCENT</th>\n      <th>CARDINAL</th>\n      <th>MONEY</th>\n      <th>LOC</th>\n      <th>PERSON</th>\n      <th>GPE</th>\n      <th>DATE</th>\n      <th>PRODUCT</th>\n      <th>TIME</th>\n      <th>WORK_OF_ART</th>\n      <th>ORDINAL</th>\n      <th>QUANTITY</th>\n      <th>FAC</th>\n      <th>EVENT</th>\n      <th>LAW</th>\n      <th>LANGUAGE</th>\n    </tr>\n  </thead>\n  <tbody>\n    <tr>\n      <th>0</th>\n      <td>Hematopoiesis News</td>\n      <td>⚕️ Scientists conducted a Phase II study of ac...</td>\n      <td>[Scientists]</td>\n      <td>[CLL]</td>\n      <td>[73%]</td>\n      <td>[]</td>\n      <td>[]</td>\n      <td>[]</td>\n      <td>[]</td>\n      <td>[]</td>\n      <td>[]</td>\n      <td>[]</td>\n      <td>[]</td>\n      <td>[]</td>\n      <td>[]</td>\n      <td>[]</td>\n      <td>[]</td>\n      <td>[]</td>\n      <td>[]</td>\n      <td>[]</td>\n    </tr>\n    <tr>\n      <th>1</th>\n      <td>Michael Wang, MD</td>\n      <td>This phase 2 Acalabrutinib-Venetoclax (AV) tri...</td>\n      <td>[]</td>\n      <td>[Acalabrutinib-Venetoclax, AV, MCL]</td>\n      <td>[]</td>\n      <td>[2]</td>\n      <td>[]</td>\n      <td>[]</td>\n      <td>[]</td>\n      <td>[]</td>\n      <td>[]</td>\n      <td>[]</td>\n      <td>[]</td>\n      <td>[]</td>\n      <td>[]</td>\n      <td>[]</td>\n      <td>[]</td>\n      <td>[]</td>\n      <td>[]</td>\n      <td>[]</td>\n    </tr>\n    <tr>\n      <th>2</th>\n      <td>1stOncology</td>\n      <td>#NICE backs #AstraZenecas #Calquence for #CLL ...</td>\n      <td>[]</td>\n      <td>[]</td>\n      <td>[]</td>\n      <td>[]</td>\n      <td>[#AstraZenecas #, #CLL]</td>\n      <td>[]</td>\n      <td>[]</td>\n      <td>[]</td>\n      <td>[]</td>\n      <td>[]</td>\n      <td>[]</td>\n      <td>[]</td>\n      <td>[]</td>\n      <td>[]</td>\n      <td>[]</td>\n      <td>[]</td>\n      <td>[]</td>\n      <td>[]</td>\n    </tr>\n    <tr>\n      <th>3</th>\n      <td>Toby Eyre</td>\n      <td>#acalabrutinib is a valuable option in pts int...</td>\n      <td>[]</td>\n      <td>[]</td>\n      <td>[]</td>\n      <td>[#]</td>\n      <td>[#CLL]</td>\n      <td>[Haematologica]</td>\n      <td>[]</td>\n      <td>[]</td>\n      <td>[]</td>\n      <td>[]</td>\n      <td>[]</td>\n      <td>[]</td>\n      <td>[]</td>\n      <td>[]</td>\n      <td>[]</td>\n      <td>[]</td>\n      <td>[]</td>\n      <td>[]</td>\n    </tr>\n    <tr>\n      <th>4</th>\n      <td>Lymphoma Hub</td>\n      <td>NICE has recommended the use of acalabrutinib ...</td>\n      <td>[]</td>\n      <td>[]</td>\n      <td>[]</td>\n      <td>[]</td>\n      <td>[lymphoma]</td>\n      <td>[]</td>\n      <td>[https://t.co/6OuJptLCIN]</td>\n      <td>[]</td>\n      <td>[]</td>\n      <td>[]</td>\n      <td>[]</td>\n      <td>[]</td>\n      <td>[]</td>\n      <td>[]</td>\n      <td>[]</td>\n      <td>[]</td>\n      <td>[]</td>\n      <td>[]</td>\n    </tr>\n    <tr>\n      <th>...</th>\n      <td>...</td>\n      <td>...</td>\n      <td>...</td>\n      <td>...</td>\n      <td>...</td>\n      <td>...</td>\n      <td>...</td>\n      <td>...</td>\n      <td>...</td>\n      <td>...</td>\n      <td>...</td>\n      <td>...</td>\n      <td>...</td>\n      <td>...</td>\n      <td>...</td>\n      <td>...</td>\n      <td>...</td>\n      <td>...</td>\n      <td>...</td>\n      <td>...</td>\n    </tr>\n    <tr>\n      <th>43342</th>\n      <td>Joy is a Lifestyle</td>\n      <td>Hanging out with Friends! :) #FF #CLL #Happine...</td>\n      <td>[]</td>\n      <td>[Friends]</td>\n      <td>[]</td>\n      <td>[]</td>\n      <td>[#FF, #CLL #]</td>\n      <td>[]</td>\n      <td>[]</td>\n      <td>[]</td>\n      <td>[]</td>\n      <td>[]</td>\n      <td>[]</td>\n      <td>[]</td>\n      <td>[]</td>\n      <td>[]</td>\n      <td>[]</td>\n      <td>[]</td>\n      <td>[]</td>\n      <td>[]</td>\n    </tr>\n    <tr>\n      <th>43343</th>\n      <td>𝓒𝓻𝓲𝔃𝔃𝔂 𝓟𝓮𝓻𝓻𝔂🌹</td>\n      <td>Hanging out with Friends! :) #FF #CLL #Happine...</td>\n      <td>[]</td>\n      <td>[Friends]</td>\n      <td>[]</td>\n      <td>[]</td>\n      <td>[#FF, #CLL #]</td>\n      <td>[]</td>\n      <td>[http://t.co/gynChDNUL2]</td>\n      <td>[]</td>\n      <td>[]</td>\n      <td>[]</td>\n      <td>[]</td>\n      <td>[]</td>\n      <td>[]</td>\n      <td>[]</td>\n      <td>[]</td>\n      <td>[]</td>\n      <td>[]</td>\n      <td>[]</td>\n    </tr>\n    <tr>\n      <th>43344</th>\n      <td>IQWiG</td>\n      <td>Zusatznutzen von #Idelalisib ist weder für #CL...</td>\n      <td>[Idelalisib]</td>\n      <td>[CLL, Lymphom, https://t.co/WRtTkZ0PiY]</td>\n      <td>[]</td>\n      <td>[#]</td>\n      <td>[]</td>\n      <td>[]</td>\n      <td>[Zusatznutzen von #]</td>\n      <td>[]</td>\n      <td>[]</td>\n      <td>[]</td>\n      <td>[]</td>\n      <td>[]</td>\n      <td>[]</td>\n      <td>[]</td>\n      <td>[]</td>\n      <td>[]</td>\n      <td>[]</td>\n      <td>[]</td>\n    </tr>\n    <tr>\n      <th>43345</th>\n      <td>Medibooks</td>\n      <td>#Hematología PTK2 EXPRESSION AND IMMUNOCHEMOTH...</td>\n      <td>[]</td>\n      <td>[Hematología, IMMUNOCHEMOTHERAPY]</td>\n      <td>[]</td>\n      <td>[]</td>\n      <td>[]</td>\n      <td>[]</td>\n      <td>[]</td>\n      <td>[]</td>\n      <td>[2014]</td>\n      <td>[]</td>\n      <td>[]</td>\n      <td>[]</td>\n      <td>[]</td>\n      <td>[]</td>\n      <td>[]</td>\n      <td>[]</td>\n      <td>[]</td>\n      <td>[]</td>\n    </tr>\n    <tr>\n      <th>43346</th>\n      <td>Medibooks</td>\n      <td>#Hematología MUTATIONS IN TLR/MYD88 PATHWAY ID...</td>\n      <td>[]</td>\n      <td>[TLR]</td>\n      <td>[]</td>\n      <td>[]</td>\n      <td>[]</td>\n      <td>[]</td>\n      <td>[Hematología MUTATIONS]</td>\n      <td>[]</td>\n      <td>[]</td>\n      <td>[]</td>\n      <td>[]</td>\n      <td>[]</td>\n      <td>[]</td>\n      <td>[]</td>\n      <td>[]</td>\n      <td>[]</td>\n      <td>[]</td>\n      <td>[]</td>\n    </tr>\n  </tbody>\n</table>\n<p>43347 rows × 20 columns</p>\n</div>"
          },
          "metadata": {}
        }
      ]
    },
    {
      "cell_type": "code",
      "source": [],
      "metadata": {
        "trusted": true,
        "id": "JECmmiEAY9vK"
      },
      "execution_count": null,
      "outputs": []
    },
    {
      "cell_type": "code",
      "source": [],
      "metadata": {
        "id": "5gXZhMW8Y9vM"
      },
      "execution_count": null,
      "outputs": []
    }
  ]
}