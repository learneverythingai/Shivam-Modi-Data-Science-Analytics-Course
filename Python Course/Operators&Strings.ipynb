{
  "cells": [
    {
      "cell_type": "markdown",
      "metadata": {
        "id": "view-in-github",
        "colab_type": "text"
      },
      "source": [
        "<a href=\"https://colab.research.google.com/github/learneverythingai/Shivam-Modi-Data-Science-Analytics-Course/blob/main/Python%20Course/Operators%26Strings.ipynb\" target=\"_parent\"><img src=\"https://colab.research.google.com/assets/colab-badge.svg\" alt=\"Open In Colab\"/></a>"
      ]
    },
    {
      "cell_type": "markdown",
      "source": [
        "# The Author and Instructor of this Notebook is Shivam Modi.\n",
        "## LinkedIn: https://www.linkedin.com/in/shivam-modi-datascientist/"
      ],
      "metadata": {
        "id": "l5eb6KGZoBzg"
      },
      "id": "l5eb6KGZoBzg"
    },
    {
      "cell_type": "markdown",
      "id": "e3f98e51",
      "metadata": {
        "id": "e3f98e51"
      },
      "source": [
        "## Operators\n",
        "\n",
        "1) Entities using which we can perform mathematical operations are operators.<br>\n",
        "2) The entities on which operators are applied are referred to as operands.\n",
        "\n",
        "##### There are several types of operators:"
      ]
    },
    {
      "cell_type": "markdown",
      "id": "760c36f4",
      "metadata": {
        "id": "760c36f4"
      },
      "source": [
        "#### 1) Arithmetic Operators"
      ]
    },
    {
      "cell_type": "code",
      "execution_count": null,
      "id": "fc6e0813",
      "metadata": {
        "id": "fc6e0813",
        "outputId": "80bd1fc9-f898-4870-8e89-7d259e56e9bc"
      },
      "outputs": [
        {
          "name": "stdout",
          "output_type": "stream",
          "text": [
            "7\n",
            "3\n",
            "10\n",
            "2.5\n",
            "2\n",
            "25\n",
            "32\n",
            "1\n",
            "25\n"
          ]
        }
      ],
      "source": [
        "a,b = 5,2\n",
        "print(a+b)\n",
        "print(a-b)\n",
        "print(a*b)\n",
        "print(a/b)   # always return float\n",
        "print(a//b)  # int division\n",
        "print(a**b)  # power => a raised to power of b\n",
        "print(b**a)  # b raised to power of a\n",
        "print(a%b)   # modulo or mod operator => return remainder\n",
        "print(pow(a,b))  # a raised to power b"
      ]
    },
    {
      "cell_type": "markdown",
      "id": "40a9ba34",
      "metadata": {
        "id": "40a9ba34"
      },
      "source": [
        "#### Assignment Operators\n",
        "used to assign value to a variable"
      ]
    },
    {
      "cell_type": "code",
      "execution_count": null,
      "id": "25508768",
      "metadata": {
        "id": "25508768",
        "outputId": "8e6a3c8e-60d0-48e9-f50c-b7922fca2529"
      },
      "outputs": [
        {
          "name": "stdout",
          "output_type": "stream",
          "text": [
            "5 2\n",
            "7 2\n",
            "5 2\n",
            "5 10\n",
            "0.5 10\n"
          ]
        }
      ],
      "source": [
        "a,b =  5,2\n",
        "print(a,b)\n",
        "a += b     # a = a+b # this one of the compact syntax in which we can use assignment operators\n",
        "print(a,b) # a is reinitialised as a+b\n",
        "a -= b     # a = a-b\n",
        "print(a,b)\n",
        "b *= a     # b = b*a\n",
        "print(a,b)\n",
        "a /= b     # a = a/b\n",
        "print(a,b)"
      ]
    },
    {
      "cell_type": "markdown",
      "id": "570333d9",
      "metadata": {
        "id": "570333d9"
      },
      "source": [
        "#### 3) Relational/Comparison Operator\n",
        "They return True or False as output"
      ]
    },
    {
      "cell_type": "code",
      "execution_count": null,
      "id": "84a28e4c",
      "metadata": {
        "id": "84a28e4c",
        "outputId": "152dbd2c-7e18-45e8-f6d1-f3829038574e"
      },
      "outputs": [
        {
          "name": "stdout",
          "output_type": "stream",
          "text": [
            "True\n",
            "True\n",
            "False\n",
            "False\n",
            "False\n",
            "True\n"
          ]
        }
      ],
      "source": [
        "a,b = 5,2\n",
        "print(a>b)\n",
        "print(a>=b)\n",
        "print(a<b)\n",
        "print(a<=b)\n",
        "print(a==b)  # comparison operator => Is a equal to b\n",
        "print(a!=b)  # not equal to operator => Is a not equal to b"
      ]
    },
    {
      "cell_type": "markdown",
      "id": "61ac7331",
      "metadata": {
        "id": "61ac7331"
      },
      "source": [
        "#### 4) Membership Operators (in, not in)\n",
        "1) It can be applied on Str,list,tuple etc but not on int,float,bool<br>\n",
        "2) It returns True of False as its output"
      ]
    },
    {
      "cell_type": "code",
      "execution_count": null,
      "id": "bb5fe037",
      "metadata": {
        "id": "bb5fe037",
        "outputId": "593b6bfa-4d9d-45c9-a004-2a41ec790f96",
        "colab": {
          "base_uri": "https://localhost:8080/"
        }
      },
      "outputs": [
        {
          "output_type": "stream",
          "name": "stdout",
          "text": [
            "True\n",
            "False\n",
            "True\n",
            "False\n",
            "True\n"
          ]
        }
      ],
      "source": [
        "s = \"Welcome to Python functions and libraries.\"\n",
        "print(\"Python\" in s)\n",
        "print(\"python\" in s)\n",
        "print(\"ons a\" in s)\n",
        "print('where' in s)\n",
        "print('where' not in s)"
      ]
    },
    {
      "cell_type": "markdown",
      "id": "ded98274",
      "metadata": {
        "id": "ded98274"
      },
      "source": [
        "\n",
        "\n",
        "### <b>Typecasting</b><br>\n",
        "Changing  from one data type to another is called Typecasting"
      ]
    },
    {
      "cell_type": "code",
      "execution_count": null,
      "id": "81566dfe",
      "metadata": {
        "id": "81566dfe",
        "outputId": "7969384e-f896-48fb-dd36-5ff62ecdbf8e",
        "colab": {
          "base_uri": "https://localhost:8080/"
        }
      },
      "outputs": [
        {
          "output_type": "stream",
          "name": "stdout",
          "text": [
            "<class 'float'>\n",
            "2\n",
            "<class 'float'>\n",
            "<class 'int'>\n"
          ]
        }
      ],
      "source": [
        "## You can convert from one type to another with the int(), float() methods\n",
        "x = 1    # int\n",
        "y = 2.8  # float\n",
        "\n",
        "#convert from int to float:\n",
        "\n",
        "a=float(x)\n",
        "print(type(a))\n",
        "\n",
        "#convert from float to int:\n",
        "b=int(y)\n",
        "print(b)\n",
        "\n",
        "print(type(a))\n",
        "print(type(b))"
      ]
    },
    {
      "cell_type": "markdown",
      "id": "db8573e9",
      "metadata": {
        "id": "db8573e9"
      },
      "source": [
        "- Casting in python is therefore done using constructor functions:\n",
        "\n",
        "int() - constructs an integer number from an integer literal, a float literal (by removing all decimals), or a string literal\n",
        "\n",
        "float() - constructs a float number from an integer literal, a float literal or a string literal\n",
        "\n",
        "str() - constructs a string from a wide variety of data types, including strings, integer literals and float literals"
      ]
    },
    {
      "cell_type": "code",
      "execution_count": null,
      "id": "33392bbd",
      "metadata": {
        "id": "33392bbd",
        "outputId": "05396d02-a7e7-4576-ca10-bd7564847769"
      },
      "outputs": [
        {
          "name": "stdout",
          "output_type": "stream",
          "text": [
            "<class 'int'>\n"
          ]
        }
      ],
      "source": [
        "a=int(\"1\")\n",
        "print(type(a))"
      ]
    },
    {
      "cell_type": "code",
      "execution_count": null,
      "id": "1005d33e",
      "metadata": {
        "id": "1005d33e",
        "outputId": "f9a8e5c6-f827-4721-91e9-b34fafb27fc2"
      },
      "outputs": [
        {
          "name": "stdout",
          "output_type": "stream",
          "text": [
            "<class 'int'>\n",
            "<class 'int'>\n",
            "<class 'int'>\n"
          ]
        }
      ],
      "source": [
        "x = int(1)   # x will be 1\n",
        "y = int(2.8) # y will be 2\n",
        "z = int(\"3\") # z will be 3\n",
        "\n",
        "print(type(x))\n",
        "print(type(y))\n",
        "print(type(z))"
      ]
    },
    {
      "cell_type": "code",
      "execution_count": null,
      "id": "d8808215",
      "metadata": {
        "id": "d8808215",
        "outputId": "60e3c154-7f4e-4d38-c874-793c03bfcfcd"
      },
      "outputs": [
        {
          "name": "stdout",
          "output_type": "stream",
          "text": [
            "<class 'float'>\n",
            "<class 'float'>\n",
            "<class 'float'>\n"
          ]
        }
      ],
      "source": [
        "x = float(1)     # x will be 1.0\n",
        "y = float(2.8)   # y will be 2.8\n",
        "z = float(\"3\")   # z will be 3.0\n",
        "\n",
        "print(type(x))\n",
        "print(type(y))\n",
        "print(type(z))"
      ]
    },
    {
      "cell_type": "code",
      "execution_count": null,
      "id": "decfd841",
      "metadata": {
        "id": "decfd841",
        "outputId": "e8321f6e-a601-4cb7-ce8a-80f9ac9050f9"
      },
      "outputs": [
        {
          "name": "stdout",
          "output_type": "stream",
          "text": [
            "<class 'str'>\n",
            "<class 'str'>\n",
            "<class 'str'>\n"
          ]
        }
      ],
      "source": [
        "x = str(\"s1\") # x will be 's1'\n",
        "y = str(2)    # y will be '2'\n",
        "z = str(3.0)  # z will be '3.0'\n",
        "\n",
        "print(type(x))\n",
        "print(type(y))\n",
        "print(type(z))"
      ]
    },
    {
      "cell_type": "code",
      "execution_count": null,
      "id": "2bfde4d1",
      "metadata": {
        "id": "2bfde4d1",
        "outputId": "e2f82749-555e-4dda-ec30-0b75868c59d0"
      },
      "outputs": [
        {
          "name": "stdout",
          "output_type": "stream",
          "text": [
            "12\n"
          ]
        }
      ],
      "source": [
        "a=str(1)\n",
        "b=str(2)\n",
        "c=a+b\n",
        "print(c)\n",
        "#1+2=12"
      ]
    },
    {
      "cell_type": "markdown",
      "id": "bb8b4b0c",
      "metadata": {
        "id": "bb8b4b0c"
      },
      "source": [
        "#### Input function\n",
        "\n",
        "1) Used to accept input from User.<br>\n",
        "2) Return type of input() is str.<br>"
      ]
    },
    {
      "cell_type": "code",
      "execution_count": null,
      "id": "e13749c9",
      "metadata": {
        "id": "e13749c9",
        "outputId": "284b8f18-0c56-4e6e-8bca-5a6ca0db93d1"
      },
      "outputs": [
        {
          "name": "stdout",
          "output_type": "stream",
          "text": [
            "Enter your Name: Shubham\n",
            "Shubham\n"
          ]
        }
      ],
      "source": [
        "z = input('Enter your Name: ')\n",
        "print(z)"
      ]
    },
    {
      "cell_type": "code",
      "execution_count": null,
      "id": "50801e61",
      "metadata": {
        "id": "50801e61",
        "outputId": "295afb47-5f54-4e42-ee34-df7a16bfce33"
      },
      "outputs": [
        {
          "name": "stdout",
          "output_type": "stream",
          "text": [
            "Enter a num: 4.3\n",
            "4.3\n",
            "<class 'str'>\n"
          ]
        }
      ],
      "source": [
        "s = input('Enter a num: ')\n",
        "print(s)\n",
        "print(type(s))"
      ]
    },
    {
      "cell_type": "code",
      "execution_count": null,
      "id": "9a012e6d",
      "metadata": {
        "id": "9a012e6d",
        "outputId": "e3c378bb-847f-40e6-b542-dbb6c79baa20"
      },
      "outputs": [
        {
          "name": "stdout",
          "output_type": "stream",
          "text": [
            "Enter a num: 22\n",
            "22\n",
            "<class 'int'>\n"
          ]
        }
      ],
      "source": [
        "# User input to be int\n",
        "w1 = int(input('Enter a num: '))\n",
        "print(w1)\n",
        "print(type(w1))"
      ]
    },
    {
      "cell_type": "code",
      "execution_count": null,
      "id": "1d16868b",
      "metadata": {
        "id": "1d16868b",
        "outputId": "cfdad8e3-125d-4160-db77-f66707803439"
      },
      "outputs": [
        {
          "name": "stdout",
          "output_type": "stream",
          "text": [
            "Enter a num: Google\n"
          ]
        },
        {
          "ename": "ValueError",
          "evalue": "invalid literal for int() with base 10: 'Google'",
          "output_type": "error",
          "traceback": [
            "\u001b[1;31m---------------------------------------------------------------------------\u001b[0m",
            "\u001b[1;31mValueError\u001b[0m                                Traceback (most recent call last)",
            "\u001b[1;32m~\\AppData\\Local\\Temp\\ipykernel_19040\\2852404039.py\u001b[0m in \u001b[0;36m<module>\u001b[1;34m\u001b[0m\n\u001b[1;32m----> 1\u001b[1;33m \u001b[0mw1\u001b[0m \u001b[1;33m=\u001b[0m \u001b[0mint\u001b[0m\u001b[1;33m(\u001b[0m\u001b[0minput\u001b[0m\u001b[1;33m(\u001b[0m\u001b[1;34m'Enter a num: '\u001b[0m\u001b[1;33m)\u001b[0m\u001b[1;33m)\u001b[0m\u001b[1;33m\u001b[0m\u001b[1;33m\u001b[0m\u001b[0m\n\u001b[0m\u001b[0;32m      2\u001b[0m \u001b[0mprint\u001b[0m\u001b[1;33m(\u001b[0m\u001b[0mw1\u001b[0m\u001b[1;33m)\u001b[0m\u001b[1;33m\u001b[0m\u001b[1;33m\u001b[0m\u001b[0m\n\u001b[0;32m      3\u001b[0m \u001b[0mprint\u001b[0m\u001b[1;33m(\u001b[0m\u001b[0mtype\u001b[0m\u001b[1;33m(\u001b[0m\u001b[0mw1\u001b[0m\u001b[1;33m)\u001b[0m\u001b[1;33m)\u001b[0m\u001b[1;33m\u001b[0m\u001b[1;33m\u001b[0m\u001b[0m\n",
            "\u001b[1;31mValueError\u001b[0m: invalid literal for int() with base 10: 'Google'"
          ]
        }
      ],
      "source": [
        "w1 = int(input('Enter a num: '))\n",
        "print(w1)\n",
        "print(type(w1))"
      ]
    },
    {
      "cell_type": "code",
      "execution_count": null,
      "id": "2517f72c",
      "metadata": {
        "id": "2517f72c",
        "outputId": "791e513e-8f68-41ba-d057-9cc3a7a14f4c"
      },
      "outputs": [
        {
          "name": "stdout",
          "output_type": "stream",
          "text": [
            "Enter a num: 4.5\n",
            "4.5\n",
            "<class 'float'>\n"
          ]
        }
      ],
      "source": [
        "# User input to be float\n",
        "\n",
        "w2 = float(input('Enter a num: '))\n",
        "print(w2)\n",
        "print(type(w2))"
      ]
    },
    {
      "cell_type": "markdown",
      "id": "3530b1b2",
      "metadata": {
        "id": "3530b1b2"
      },
      "source": [
        "#### Print Formatting"
      ]
    },
    {
      "cell_type": "code",
      "execution_count": null,
      "id": "72a489bc",
      "metadata": {
        "id": "72a489bc",
        "outputId": "82a5272e-a669-4d4d-b56a-a05c90a841d8"
      },
      "outputs": [
        {
          "name": "stdout",
          "output_type": "stream",
          "text": [
            "Enter FName: Ankit\n",
            "Enter LName: Sharma\n",
            "Enter Age: 22\n",
            "Ankit Sharma was 17 yrs old in 2018\n",
            "Ankit Sharma was 17 yrs old in 2018\n",
            "Ankit Sharma was 17 yrs old in 2018\n"
          ]
        }
      ],
      "source": [
        "fname = input('Enter FName: ')\n",
        "lname = input('Enter LName: ')\n",
        "age = int(input('Enter Current Age: '))\n",
        "print(fname,lname,'was',age-5,'yrs old in 2018')\n",
        "print(f'{fname} {lname} was {age-5} yrs old in 2018')\n",
        "print('{} {} was {} yrs old in 2018'.format(fname,lname,age-5))"
      ]
    },
    {
      "cell_type": "markdown",
      "id": "167f2945",
      "metadata": {
        "id": "167f2945"
      },
      "source": [
        "### Strings"
      ]
    },
    {
      "cell_type": "code",
      "execution_count": null,
      "id": "f24f28cb",
      "metadata": {
        "id": "f24f28cb"
      },
      "outputs": [],
      "source": [
        "s = \"Hello World \"\n",
        "print(s)\n",
        "print(len(s))\n",
        "print(type(s))"
      ]
    },
    {
      "cell_type": "markdown",
      "id": "8de62935",
      "metadata": {
        "id": "8de62935"
      },
      "source": [
        "### Indexing\n",
        "1) Every string, list, tuple elements are indexed by default.<br>\n",
        "<b>\n",
        "2) Indexes start from left to right from 0 towards positive<br>\n",
        "3) Indexes start from right to left from -1 towards negative<br></b>\n",
        "4) To fetch an element at a particular index, we mention the\n",
        "variable name followed by the corresponding index in the []\n",
        "\n",
        "Examples:<pre>\n",
        "    a = \"Python\"\n",
        "    a[2]\n",
        "    </pre>"
      ]
    },
    {
      "cell_type": "markdown",
      "id": "45464668",
      "metadata": {
        "id": "45464668"
      },
      "source": [
        "#### Note\n",
        "<pre>\n",
        "1) Positive index range from 0 to len(str)-1.\n",
        "2) Negative indexes range from -1 to -len(str).\n",
        "</pre>"
      ]
    },
    {
      "cell_type": "code",
      "execution_count": null,
      "id": "f1679611",
      "metadata": {
        "id": "f1679611",
        "outputId": "7e3787b1-88b8-4e27-9fc6-cfc71fa2994c"
      },
      "outputs": [
        {
          "name": "stdout",
          "output_type": "stream",
          "text": [
            "Python String Slicing\n",
            "21\n"
          ]
        }
      ],
      "source": [
        "s = \"Python String Slicing\"\n",
        "print(s)\n",
        "print(len(s))"
      ]
    },
    {
      "cell_type": "markdown",
      "id": "d54fd108",
      "metadata": {
        "id": "d54fd108"
      },
      "source": [
        "<img src=\"str_idx_slicing.png\">"
      ]
    },
    {
      "cell_type": "code",
      "execution_count": null,
      "id": "ecf64cb4",
      "metadata": {
        "id": "ecf64cb4",
        "outputId": "7d7d9a05-6a70-4043-b18b-b3d63de12489"
      },
      "outputs": [
        {
          "name": "stdout",
          "output_type": "stream",
          "text": [
            "S g r   n\n",
            "i h i\n",
            "g P\n"
          ]
        }
      ],
      "source": [
        "print(s[7],s[12],s[9],s[13],s[19])\n",
        "print(s[-5],s[-18],s[-11])\n",
        "print(s[len(s)-1],s[-len(s)])"
      ]
    },
    {
      "cell_type": "markdown",
      "id": "067fb470",
      "metadata": {
        "id": "067fb470"
      },
      "source": [
        "### Slicing\n",
        "\n",
        "1) Slicing is extracting a part of a string,list or tuple <br>\n",
        "2) Slicing can be performed from left to right or right to left<br>\n",
        "\n",
        "Slicing syntax<br>\n",
        "a = \"Learning Python\"<br>\n",
        "a[start:end:step]\n",
        "\n",
        "<b>start :</b> specifies the index where slicing begins<br>\n",
        "<b>end :</b> specifies the index upto which the slicing is performed.<br>\n",
        "<b>step :</b> specifies the number of elements to skip/jump while slicing.\n",
        "    Its default value is +1<br>\n",
        "    "
      ]
    },
    {
      "cell_type": "markdown",
      "id": "da523cdb",
      "metadata": {
        "id": "da523cdb"
      },
      "source": [
        "### Left to Right Slicing - a[start:end:step]\n",
        "\n",
        "1) If end is mentioned, slicing is perfomed till <b>end-1</b>, otherwise till len(s)-1 where s is the string to be sliced(extreme right end)<br>\n",
        "2) Default step value is +1(if not mentioned)<br>\n",
        "3) If start is not mentioned, its default value is 0<br>\n",
        "4) Step size will be positive for left or right slicing<br>"
      ]
    },
    {
      "cell_type": "markdown",
      "id": "abae152e",
      "metadata": {
        "id": "abae152e"
      },
      "source": [
        "<img src=\"str_idx_slicing.png\">"
      ]
    },
    {
      "cell_type": "code",
      "execution_count": null,
      "id": "79731c42",
      "metadata": {
        "id": "79731c42",
        "outputId": "f9871233-dbcd-4228-f50b-fd32db72c96b"
      },
      "outputs": [
        {
          "name": "stdout",
          "output_type": "stream",
          "text": [
            "Pyth\n",
            "hon S\n",
            "n Strin\n",
            "licing\n",
            " String Slicing\n",
            "ring \n"
          ]
        }
      ],
      "source": [
        "print(s[:4])   # start=0, end=4,step=+1\n",
        "print(s[5:12]) # start=5,end=12,step=+1\n",
        "print(s[15:])  # start=15,step=+1\n",
        "print(s[-15:]) # start=-15,step+=1"
      ]
    },
    {
      "cell_type": "markdown",
      "id": "c2a82050",
      "metadata": {
        "id": "c2a82050"
      },
      "source": [
        "### Right to Left Slicing - a[start:end:step]\n",
        "\n",
        "1) If end is mentioned, slicing is perfomed till <b>end+1</b>, otherwise till -len(s) where s is the string to be sliced(extreme left end)<br>\n",
        "2) Step size has to be explicitly mentioned in negative<br>\n",
        "3) Step size will be negative for right to left slicing<br>"
      ]
    },
    {
      "cell_type": "code",
      "execution_count": null,
      "id": "71bc6ba5",
      "metadata": {
        "id": "71bc6ba5",
        "outputId": "2f2ffaac-0eb1-4fd1-97cb-3949715a0861"
      },
      "outputs": [
        {
          "name": "stdout",
          "output_type": "stream",
          "text": [
            "\n",
            "irtS n\n",
            "nrSnh\n",
            "Sgit \n",
            "lgr h\n",
            "nt\n"
          ]
        }
      ],
      "source": [
        "print(s[10:4])      # start=10,end=4,step=+1   # no output\n",
        "print(s[10:4:-1])   # start=10,end=4,step=-1\n",
        "print(s[-10:1:-2])  # start=-10,end=1,step=-2\n",
        "print(s[-6:-19:-3]) # start=-6,end=-19,step=-3"
      ]
    },
    {
      "cell_type": "markdown",
      "id": "2005a03b",
      "metadata": {
        "id": "2005a03b"
      },
      "source": [
        "<img src=\"str_idx_slicing.png\">"
      ]
    },
    {
      "cell_type": "markdown",
      "id": "af20e9dd",
      "metadata": {
        "id": "af20e9dd"
      },
      "source": [
        "#### Note\n",
        "1) If start:end and step are in opposite direction, there will be no output"
      ]
    },
    {
      "cell_type": "markdown",
      "id": "14cbdea4",
      "metadata": {
        "id": "14cbdea4"
      },
      "source": [
        "#### Special case\n",
        "<pre>\n",
        "1) If start and/or end is absent,slicing direction is goverend by step size\n",
        "2) Note\n",
        "    a) if step size = positive => left to right Slicing\n",
        "    b) if step size = negative => right to left Slicing\n",
        "</pre>"
      ]
    },
    {
      "cell_type": "markdown",
      "id": "cd4ac3c2",
      "metadata": {
        "id": "cd4ac3c2"
      },
      "source": [
        "#### 2) When end is absent, start and step are present"
      ]
    },
    {
      "cell_type": "code",
      "execution_count": null,
      "id": "1c65e52c",
      "metadata": {
        "id": "1c65e52c",
        "outputId": "82feb0a6-1b73-4d16-aa36-d42f25f1f6fb"
      },
      "outputs": [
        {
          "name": "stdout",
          "output_type": "stream",
          "text": [
            "oSi in\n",
            "gr hP\n",
            "nrSnhy\n",
            "igSiig\n"
          ]
        }
      ],
      "source": [
        "print(s[4::3])    # start=4,step=+3\n",
        "print(s[-10::-2]) # start=-10,step=-2"
      ]
    },
    {
      "cell_type": "markdown",
      "id": "c177da0a",
      "metadata": {
        "id": "c177da0a"
      },
      "source": [
        "#### 3) When start and end both are absent,step is present"
      ]
    },
    {
      "cell_type": "code",
      "execution_count": null,
      "id": "bf2d4602",
      "metadata": {
        "id": "bf2d4602",
        "outputId": "dc04184f-cb69-4a1f-f700-e0da38447e7c"
      },
      "outputs": [
        {
          "name": "stdout",
          "output_type": "stream",
          "text": [
            "Pto tigSiig\n",
            "gnicilS gnirtS nohtyP\n"
          ]
        }
      ],
      "source": [
        "print(s[::2])  # step=+2\n",
        "print(s[::-1]) # step=-1   => reverse the string"
      ]
    },
    {
      "cell_type": "markdown",
      "id": "14e83afa",
      "metadata": {
        "id": "14e83afa"
      },
      "source": [
        "#### Accept a name as user input as fname and lname. Print initials of the name\n",
        "Sample: <br>\n",
        "virat<br>\n",
        "kohli<br>\n",
        "Output : V_K"
      ]
    },
    {
      "cell_type": "code",
      "execution_count": null,
      "id": "a05fc81f",
      "metadata": {
        "id": "a05fc81f"
      },
      "outputs": [],
      "source": [
        "# try yourself"
      ]
    },
    {
      "cell_type": "markdown",
      "id": "36f18644",
      "metadata": {
        "id": "36f18644"
      },
      "source": [
        "### String Methods/Functions"
      ]
    },
    {
      "cell_type": "markdown",
      "id": "fce83e4a",
      "metadata": {
        "id": "fce83e4a"
      },
      "source": [
        "#### upper(), lower(), title(), captalize(), swapcase()\n",
        "upper() - Converts etire string to uppercase.<br>\n",
        "lower() - Converts etire string to lowercase.<br>\n",
        "title() - First alphabet of each word in the string will be capitalized(upper case)<br>\n",
        "capitalize() - First alphabet of the first word will be capitalized(upper case)<br>\n",
        "swapcase() - Converts upper case into lower case and vice-versa"
      ]
    },
    {
      "cell_type": "code",
      "execution_count": null,
      "id": "7ec630ba",
      "metadata": {
        "id": "7ec630ba",
        "outputId": "9f722b4d-009c-4e15-cd40-458d91a68e6b"
      },
      "outputs": [
        {
          "name": "stdout",
          "output_type": "stream",
          "text": [
            "HELLO\n",
            "welcome\n",
            "Learning Strings In Python\n",
            "Learning strings in python\n",
            "pYtHoN\n"
          ]
        }
      ],
      "source": [
        "s1,s2,s3 = \"hello\",\"WELCOME\", \"PyThOn\"\n",
        "s4 = \"learning strings in python\"\n",
        "print(s1.upper())\n",
        "print(s2.lower())\n",
        "print(s4.title())\n",
        "print(s4.capitalize())\n",
        "print(s3.swapcase())"
      ]
    },
    {
      "cell_type": "markdown",
      "id": "768bd1b8",
      "metadata": {
        "id": "768bd1b8"
      },
      "source": [
        "#### isupper( ) and islower()\n",
        "<pre>\n",
        "isupper() - Returns T if str contains atleast 1 uppercase charcater and no lowercase\n",
        "islower() - Returns T if str contains atleast 1 lowercase charcater and no uppercase\n",
        "</pre>"
      ]
    },
    {
      "cell_type": "code",
      "execution_count": null,
      "id": "e54a1486",
      "metadata": {
        "colab": {
          "base_uri": "https://localhost:8080/"
        },
        "id": "e54a1486",
        "outputId": "e210e1f9-6bb2-42b5-97b9-e5b9a227052d"
      },
      "outputs": [
        {
          "output_type": "stream",
          "name": "stdout",
          "text": [
            "False\n",
            "True\n",
            "True\n"
          ]
        }
      ],
      "source": [
        "w1,w2,w3 = \"india\",'GOOGLE INDIA','AMAZON 1$&^23'\n",
        "print(w1.isupper())\n",
        "print(w2.isupper())\n",
        "print(w3.isupper())"
      ]
    },
    {
      "cell_type": "code",
      "execution_count": null,
      "id": "d47aef13",
      "metadata": {
        "colab": {
          "base_uri": "https://localhost:8080/"
        },
        "id": "d47aef13",
        "outputId": "98a7611c-1670-4ae8-d327-001ade37e240"
      },
      "outputs": [
        {
          "output_type": "stream",
          "name": "stdout",
          "text": [
            "True\n",
            "False\n",
            "False\n"
          ]
        }
      ],
      "source": [
        "w1,w2,w3 = \"india\",'GOOGLE INDIA','Amazon 1$&^23'\n",
        "print(w1.islower())\n",
        "print(w2.islower())\n",
        "print(w3.islower())"
      ]
    },
    {
      "cell_type": "markdown",
      "id": "7b4deedb",
      "metadata": {
        "id": "7b4deedb"
      },
      "source": [
        "#### split()\n",
        "1) It splits the string based on the argument passed. Default splitting criteria is ' '<br>\n",
        "2) It returns a list<br>"
      ]
    },
    {
      "cell_type": "code",
      "execution_count": null,
      "id": "baa5adc5",
      "metadata": {
        "id": "baa5adc5",
        "outputId": "796d805d-44df-4213-ab0a-f8563ac09ad5"
      },
      "outputs": [
        {
          "name": "stdout",
          "output_type": "stream",
          "text": [
            "['Ronaldo', 'is', 'light', 'years', 'ahead', 'of', 'Messi.']\n",
            "['Ronaldo ', 's l', 'ght years \\nahead of Mess', '.']\n",
            "['Ronaldo is ', ' years \\nahead of Messi.']\n"
          ]
        }
      ],
      "source": [
        "s = \"\"\"Ronaldo is light years\n",
        "ahead of Messi.\"\"\"\n",
        "print(s.split())        # default split is ' '\n",
        "print(s.split('i'))     # split based on 'i'\n",
        "print(s.split('light'))"
      ]
    },
    {
      "cell_type": "markdown",
      "id": "7fad3fe3",
      "metadata": {
        "id": "7fad3fe3"
      },
      "source": [
        "#### String Properties\n",
        "1) String is immutable(It cant be changed)<br>\n",
        "2) String can be concatenated(placing strings adjacent to each other)."
      ]
    },
    {
      "cell_type": "code",
      "execution_count": null,
      "id": "655d1371",
      "metadata": {
        "id": "655d1371",
        "outputId": "c6f75e1c-9f46-4fdd-e299-c76ebdd4161c"
      },
      "outputs": [
        {
          "name": "stdout",
          "output_type": "stream",
          "text": [
            "W\n"
          ]
        },
        {
          "ename": "TypeError",
          "evalue": "'str' object does not support item assignment",
          "output_type": "error",
          "traceback": [
            "\u001b[1;31m---------------------------------------------------------------------------\u001b[0m",
            "\u001b[1;31mTypeError\u001b[0m                                 Traceback (most recent call last)",
            "Cell \u001b[1;32mIn[19], line 3\u001b[0m\n\u001b[0;32m      1\u001b[0m s \u001b[38;5;241m=\u001b[39m \u001b[38;5;124m\"\u001b[39m\u001b[38;5;124mHello World\u001b[39m\u001b[38;5;124m\"\u001b[39m\n\u001b[0;32m      2\u001b[0m \u001b[38;5;28mprint\u001b[39m(s[\u001b[38;5;241m6\u001b[39m])\n\u001b[1;32m----> 3\u001b[0m s[\u001b[38;5;241m6\u001b[39m] \u001b[38;5;241m=\u001b[39m \u001b[38;5;124m'\u001b[39m\u001b[38;5;124mz\u001b[39m\u001b[38;5;124m'\u001b[39m\n\u001b[0;32m      4\u001b[0m \u001b[38;5;28mprint\u001b[39m(s)\n",
            "\u001b[1;31mTypeError\u001b[0m: 'str' object does not support item assignment"
          ]
        }
      ],
      "source": [
        "s = \"Hello World\"\n",
        "print(s[6])\n",
        "s[6] = 'z'\n",
        "print(s)\n",
        "# Hence str is immutable"
      ]
    },
    {
      "cell_type": "code",
      "execution_count": null,
      "id": "c32f1cd8",
      "metadata": {
        "id": "c32f1cd8",
        "outputId": "d3e9d5d9-4692-424b-8243-ccf9b456e642"
      },
      "outputs": [
        {
          "name": "stdout",
          "output_type": "stream",
          "text": [
            "learning python SQL\n"
          ]
        }
      ],
      "source": [
        "#STRING CONCATENATION\n",
        "w1 = \"learning\"\n",
        "w2 = \"python\"\n",
        "w3 = \"SQL\"\n",
        "print(w1+\" \"+w2+\" \"+w3)"
      ]
    }
  ],
  "metadata": {
    "colab": {
      "provenance": [],
      "include_colab_link": true
    },
    "kernelspec": {
      "display_name": "Python 3 (ipykernel)",
      "language": "python",
      "name": "python3"
    },
    "language_info": {
      "codemirror_mode": {
        "name": "ipython",
        "version": 3
      },
      "file_extension": ".py",
      "mimetype": "text/x-python",
      "name": "python",
      "nbconvert_exporter": "python",
      "pygments_lexer": "ipython3",
      "version": "3.10.9"
    }
  },
  "nbformat": 4,
  "nbformat_minor": 5
}