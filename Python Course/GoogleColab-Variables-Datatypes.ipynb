{
  "cells": [
    {
      "cell_type": "markdown",
      "metadata": {
        "id": "view-in-github",
        "colab_type": "text"
      },
      "source": [
        "<a href=\"https://colab.research.google.com/github/learneverythingai/Shivam-Modi-Data-Science-Analytics-Course/blob/main/Python%20Course/GoogleColab-Variables-Datatypes.ipynb\" target=\"_parent\"><img src=\"https://colab.research.google.com/assets/colab-badge.svg\" alt=\"Open In Colab\"/></a>"
      ]
    },
    {
      "cell_type": "markdown",
      "source": [
        "# The Author and Instructor of this Notebook is Shivam Modi.\n",
        "## LinkedIn: https://www.linkedin.com/in/shivam-modi-datascientist/"
      ],
      "metadata": {
        "id": "EUfhWAe1nDI2"
      },
      "id": "EUfhWAe1nDI2"
    },
    {
      "cell_type": "markdown",
      "id": "6b49841b",
      "metadata": {
        "id": "6b49841b"
      },
      "source": [
        "### Python- INDENTATION, NOTES, VARIABLES,DATA TYPES, OPERATORS, INPUT FUNCTION, TYPECASTING, PRINT ARGUMENTS"
      ]
    },
    {
      "cell_type": "markdown",
      "id": "81da4592",
      "metadata": {
        "id": "81da4592"
      },
      "source": [
        "### What is Google Colab?\n",
        "-  Google Colaboratory is a free online cloud-based Jupyter notebook environment that allows us to train our machine learning and   deep learning models on CPUs, GPUs, and TPUs.\n",
        "\n",
        "### Benefits of Google Colab\n",
        "Here are some of the benefits of using Google Colab:\n",
        "\n",
        "- Accessibility: Google Colab is accessible from any web browser, so you don’t need to install any software on your computer. You can access your notebooks from anywhere worldwide, as long as you have an internet connection.\n",
        "- Power: Google Colab provides access to powerful computing resources, including GPUs and TPUs. This means you can train and run complex machine-learning models quickly and efficiently.\n",
        "- Collaboration: Google Colab makes it easy to collaborate with others on projects. You can share your notebooks with others, and they can edit and run your code in real-time.\n",
        "- Education: Google Colab is an excellent tool for learning about machine learning and data science. Many tutorials and resources are available online, and you can also create and share your notebooks.\n",
        "\n",
        "### Why Choose Google Colab?\n",
        "Google Colab is a cloud-based machine learning platform that’s easy to use, affordable, and flexible.\n",
        "\n",
        "- Easy to use: No setup required. Just create an account and start coding.\n",
        "Affordable: Free for most tasks. Paid plans are available for more demanding needs.\n",
        "- Flexible: Train and run machine learning models, process data, create visualizations, and collaborate with others.\n",
        "\n",
        "Google Colab is an excellent choice for students, data scientists, researchers, and anyone who wants to start with machine learning or data science."
      ]
    },
    {
      "cell_type": "markdown",
      "id": "91082e24",
      "metadata": {
        "id": "91082e24"
      },
      "source": [
        "## Python is a popular programming language. It was created by Guido van Rossum, and released in 1991."
      ]
    },
    {
      "cell_type": "markdown",
      "id": "daea63b0",
      "metadata": {
        "id": "daea63b0"
      },
      "source": [
        "#### Features of Python\n",
        "<pre>\n",
        "1) Python is a widely used programming language.\n",
        "2) Easy syntax and easy to grasp.\n",
        "3) It is open source and has a large community.\n",
        "4) It is dynamically typed.\n",
        "5) It follows OOP(Object Orineted Programming) principles. OOP offers modular structure to the code.\n",
        "6) It is high level language.\n",
        "7) It is case sensitive.\n",
        "</pre>\n",
        "\n",
        "### What can Python do?\n",
        "\n",
        "Python can be used on a server to create web applications.\n",
        "\n",
        "Python can be used alongside software to create workflows.\n",
        "\n",
        "Python can connect to database systems. It can also read and modify files.\n",
        "\n",
        "Python can be used to handle big data and perform complex mathematics.\n",
        "\n",
        "Python can be used for rapid prototyping, or for production-ready software development.\n",
        "\n",
        "### Python Syntax compared to other programming languages\n",
        "\n",
        "Python was designed for readability, and has some similarities to the English language with influence from mathematics.\n",
        "\n",
        "Python uses new lines to complete a command, as opposed to other programming languages which often use semicolons or parentheses.\n",
        "\n",
        "Python relies on indentation, using whitespace, to define scope; such as the scope of loops, functions and classes. Other programming languages often use curly-brackets for this purpose."
      ]
    },
    {
      "cell_type": "code",
      "execution_count": null,
      "id": "6a574ebd",
      "metadata": {
        "colab": {
          "base_uri": "https://localhost:8080/"
        },
        "id": "6a574ebd",
        "outputId": "1dcf7751-e629-4f42-a1c4-0f606f2cda5c"
      },
      "outputs": [
        {
          "output_type": "stream",
          "name": "stdout",
          "text": [
            "hello world!!!!!!!!\n"
          ]
        }
      ],
      "source": [
        "print(\"hello world!!!!!!!!\")"
      ]
    },
    {
      "cell_type": "markdown",
      "id": "531b2891",
      "metadata": {
        "id": "531b2891"
      },
      "source": [
        "#### Applications\n",
        "    1) Data Science/Data Analysis\n",
        "    2) Machine Leanring/AI\n",
        "    4) DL (Deep Learning)\n",
        "    3) NLP (Natural Language Processing)\n",
        "    5) CV (Computer Vision)\n",
        "    6) Web Development\n",
        "    7) Web Scraping (Data collection)\n",
        "    8) Automation\n",
        "    9) Fetching data through API(Application Programming Interface)\n",
        "    etc\n"
      ]
    },
    {
      "cell_type": "markdown",
      "id": "6fbb16bd",
      "metadata": {
        "id": "6fbb16bd"
      },
      "source": [
        "### Python Indentation\n",
        "\n",
        "Indentation refers to the spaces at the beginning of a code line.\n",
        "\n",
        "Where in other programming languages the indentation in code is for readability only, the indentation in Python is very important.\n",
        "\n",
        "Python uses indentation to indicate a block of code."
      ]
    },
    {
      "cell_type": "code",
      "execution_count": null,
      "id": "ebdf8f4e",
      "metadata": {
        "colab": {
          "base_uri": "https://localhost:8080/"
        },
        "id": "ebdf8f4e",
        "outputId": "200f131d-7167-4dee-962c-4cee03364c0a"
      },
      "outputs": [
        {
          "output_type": "stream",
          "name": "stdout",
          "text": [
            "1 less than 5\n"
          ]
        }
      ],
      "source": [
        "if 1 < 5:\n",
        "    print(\"1 less than 5\")"
      ]
    },
    {
      "cell_type": "code",
      "execution_count": null,
      "id": "be778452",
      "metadata": {
        "colab": {
          "base_uri": "https://localhost:8080/",
          "height": 106
        },
        "id": "be778452",
        "outputId": "5db9f9b8-0b9d-4701-b741-7cfc258e61b4"
      },
      "outputs": [
        {
          "output_type": "error",
          "ename": "IndentationError",
          "evalue": "expected an indented block after 'if' statement on line 1 (<ipython-input-2-1a464ac54a5e>, line 2)",
          "traceback": [
            "\u001b[0;36m  File \u001b[0;32m\"<ipython-input-2-1a464ac54a5e>\"\u001b[0;36m, line \u001b[0;32m2\u001b[0m\n\u001b[0;31m    print(\"1 less than 5\")\u001b[0m\n\u001b[0m    ^\u001b[0m\n\u001b[0;31mIndentationError\u001b[0m\u001b[0;31m:\u001b[0m expected an indented block after 'if' statement on line 1\n"
          ]
        }
      ],
      "source": [
        "if 1 < 5:\n",
        "print(\"1 less than 5\")"
      ]
    },
    {
      "cell_type": "markdown",
      "source": [],
      "metadata": {
        "id": "WQLv_2Odu3V6"
      },
      "id": "WQLv_2Odu3V6"
    },
    {
      "cell_type": "markdown",
      "id": "23d5844a",
      "metadata": {
        "id": "23d5844a"
      },
      "source": [
        "# Notes\n",
        "1) Line1<br>\n",
        "2) Line2\n",
        "\n"
      ]
    },
    {
      "cell_type": "code",
      "execution_count": null,
      "id": "488495cd",
      "metadata": {
        "id": "488495cd"
      },
      "outputs": [],
      "source": []
    },
    {
      "cell_type": "markdown",
      "id": "eca8d22d",
      "metadata": {
        "id": "eca8d22d"
      },
      "source": [
        "# Header 1\n",
        "## Header 2\n",
        "### Header 3\n",
        "#### Header 4\n",
        "##### Header 5"
      ]
    },
    {
      "cell_type": "markdown",
      "id": "f8edd5a8",
      "metadata": {
        "id": "f8edd5a8"
      },
      "source": [
        "#### Variables\n",
        "<pre>\n",
        "1) Entity which is used to store some data. Data can be of any data type.\n",
        "2) A variable can be reassigned, reinitialized and redeclared.\n",
        "3) Multiple variables can be created in a same line separated by comma.\n",
        "</pre>"
      ]
    },
    {
      "cell_type": "markdown",
      "id": "266db0c9",
      "metadata": {
        "id": "266db0c9"
      },
      "source": [
        "#### Comments\n",
        "<pre>\n",
        "1) Meant for internal documentation.\n",
        "2) Comments in Python start with #.\n",
        "3) Comments dont get executed.\n",
        "</pre>\n",
        "\n",
        "To comment/uncomment multiple lines<br>\n",
        "Ctrl + /  "
      ]
    },
    {
      "cell_type": "code",
      "execution_count": null,
      "id": "4124194b",
      "metadata": {
        "id": "4124194b",
        "outputId": "9030357c-d068-4edb-9659-ba84effeacca"
      },
      "outputs": [
        {
          "name": "stdout",
          "output_type": "stream",
          "text": [
            "25\n"
          ]
        }
      ],
      "source": [
        "a = 25\n",
        "print(a)  # () - parenthesis\n",
        "# The varaible a stores the value of 25.\n",
        "# The variable a is intialized with the values of 25.\n",
        "# The variable a is assigned with the values of 25.\n",
        "# There is a variable declared with the name a retaining value of 25."
      ]
    },
    {
      "cell_type": "code",
      "execution_count": null,
      "id": "215506e0",
      "metadata": {
        "id": "215506e0",
        "outputId": "ff5410af-9dc6-4acf-d807-7bced63fcd4e"
      },
      "outputs": [
        {
          "name": "stdout",
          "output_type": "stream",
          "text": [
            "20\n",
            "10\n"
          ]
        }
      ],
      "source": [
        "# A variable can be reassigned, reinitialized and redeclared.\n",
        "x = 20\n",
        "print(x)\n",
        "x = 10\n",
        "print(x)"
      ]
    },
    {
      "cell_type": "code",
      "execution_count": null,
      "id": "d4078839",
      "metadata": {
        "id": "d4078839",
        "outputId": "08085e2f-9632-48cf-bd7e-37a065cc54c6"
      },
      "outputs": [
        {
          "name": "stdout",
          "output_type": "stream",
          "text": [
            "10\n"
          ]
        }
      ],
      "source": [
        "print(x)"
      ]
    },
    {
      "cell_type": "code",
      "execution_count": null,
      "id": "12c9f35a",
      "metadata": {
        "id": "12c9f35a",
        "outputId": "83ab446f-f6a4-4527-946b-1141e2515f61"
      },
      "outputs": [
        {
          "name": "stdout",
          "output_type": "stream",
          "text": [
            "10 5 7\n"
          ]
        }
      ],
      "source": [
        "# Multiple variables can be created in a same line separated by comma.\n",
        "x1,x2,x3 = 10,5,7\n",
        "print(x1,x2,x3)  # by default separator is ' '"
      ]
    },
    {
      "cell_type": "code",
      "execution_count": null,
      "id": "4ba76bf6",
      "metadata": {
        "id": "4ba76bf6",
        "outputId": "18a35b46-5213-4e94-a23d-812e1d58c189"
      },
      "outputs": [
        {
          "name": "stdout",
          "output_type": "stream",
          "text": [
            "14 13 14\n",
            "14\n"
          ]
        }
      ],
      "source": [
        "n1,n2,n1 = 12,13,14\n",
        "print(n1,n2,n1)\n",
        "print(n1)"
      ]
    },
    {
      "cell_type": "markdown",
      "id": "f266dd53",
      "metadata": {
        "id": "f266dd53"
      },
      "source": [
        "### Rules for naming a variable\n",
        "<pre>\n",
        "1) Should start with alphabetic characters or underscores( A-Z, a-z or _(underscore))\n",
        "2) Should not start with number\n",
        "3) Should not contain space in between\n",
        "4) Should not contain special characters(except underscore)\n",
        "5) Python keywords should be avoided as variable name.\n",
        "Examples of Python keywords - if,else,for,in,not,and,print,type,min,max etc\n",
        "\n",
        "</pre>"
      ]
    },
    {
      "cell_type": "code",
      "execution_count": null,
      "id": "992d2b7b",
      "metadata": {
        "id": "992d2b7b",
        "outputId": "7314d09d-98f2-475a-db7e-3d4e8a58f087"
      },
      "outputs": [
        {
          "name": "stdout",
          "output_type": "stream",
          "text": [
            "Google\n"
          ]
        }
      ],
      "source": [
        "sdvc123 = \"Google\"\n",
        "print(sdvc123)"
      ]
    },
    {
      "cell_type": "code",
      "execution_count": null,
      "id": "4ec98218",
      "metadata": {
        "id": "4ec98218",
        "outputId": "085fd429-df18-4987-de0f-8d6db02d51cf"
      },
      "outputs": [
        {
          "ename": "SyntaxError",
          "evalue": "invalid syntax (3648546956.py, line 1)",
          "output_type": "error",
          "traceback": [
            "\u001b[1;36m  File \u001b[1;32m\"C:\\Users\\Dell\\AppData\\Local\\Temp\\ipykernel_2040\\3648546956.py\"\u001b[1;36m, line \u001b[1;32m1\u001b[0m\n\u001b[1;33m    ABG23 32sdc = \"Hello\"\u001b[0m\n\u001b[1;37m          ^\u001b[0m\n\u001b[1;31mSyntaxError\u001b[0m\u001b[1;31m:\u001b[0m invalid syntax\n"
          ]
        }
      ],
      "source": [
        "ABG23 32sdc = \"Hello\"\n",
        "print(ABG2 332sdc)"
      ]
    },
    {
      "cell_type": "code",
      "execution_count": null,
      "id": "74987da4",
      "metadata": {
        "id": "74987da4",
        "outputId": "b854ee50-cba6-4303-9974-01d351d7b255"
      },
      "outputs": [
        {
          "name": "stdout",
          "output_type": "stream",
          "text": [
            "Python\n"
          ]
        }
      ],
      "source": [
        "_sc2_343_ = \"Python\"\n",
        "print(_sc2_343_)"
      ]
    },
    {
      "cell_type": "code",
      "execution_count": null,
      "id": "0e45c831",
      "metadata": {
        "id": "0e45c831",
        "outputId": "d48900f9-345f-4160-fc35-acb4cbb9ac74"
      },
      "outputs": [
        {
          "ename": "SyntaxError",
          "evalue": "invalid syntax (2808616227.py, line 1)",
          "output_type": "error",
          "traceback": [
            "\u001b[1;36m  File \u001b[1;32m\"C:\\Users\\Dell\\AppData\\Local\\Temp\\ipykernel_2040\\2808616227.py\"\u001b[1;36m, line \u001b[1;32m1\u001b[0m\n\u001b[1;33m    123dfvds = \"Hello\"\u001b[0m\n\u001b[1;37m       ^\u001b[0m\n\u001b[1;31mSyntaxError\u001b[0m\u001b[1;31m:\u001b[0m invalid syntax\n"
          ]
        }
      ],
      "source": [
        "123dfvds = \"Hello\"\n",
        "print(123dfvds)"
      ]
    },
    {
      "cell_type": "code",
      "execution_count": null,
      "id": "88b5350b",
      "metadata": {
        "id": "88b5350b",
        "outputId": "a6e988ed-7f03-4638-b520-b0e8fb6104ab"
      },
      "outputs": [
        {
          "name": "stdout",
          "output_type": "stream",
          "text": [
            "laptop\n"
          ]
        }
      ],
      "source": [
        "IF = \"laptop\"\n",
        "print(IF)"
      ]
    },
    {
      "cell_type": "code",
      "execution_count": null,
      "id": "bea6bf9a",
      "metadata": {
        "scrolled": true,
        "id": "bea6bf9a",
        "outputId": "06c54be4-5e45-4fa7-89f5-52e778c51c16"
      },
      "outputs": [
        {
          "name": "stdout",
          "output_type": "stream",
          "text": [
            "50\n"
          ]
        }
      ],
      "source": [
        "PRINT = 50\n",
        "print(PRINT)"
      ]
    },
    {
      "cell_type": "markdown",
      "id": "c0442de9",
      "metadata": {
        "id": "c0442de9"
      },
      "source": [
        "- Camel Case\n",
        "\n",
        "Each word, except the first, starts with a capital letter:\n",
        "\n",
        "myVariableName = \"John\""
      ]
    },
    {
      "cell_type": "code",
      "execution_count": null,
      "id": "69e678b2",
      "metadata": {
        "id": "69e678b2"
      },
      "outputs": [],
      "source": [
        "myVariableName = \"John\""
      ]
    },
    {
      "cell_type": "markdown",
      "id": "279bf0b6",
      "metadata": {
        "id": "279bf0b6"
      },
      "source": [
        "- Pascal Case\n",
        "\n",
        "Each word starts with a capital letter"
      ]
    },
    {
      "cell_type": "markdown",
      "id": "d888f39e",
      "metadata": {
        "id": "d888f39e"
      },
      "source": [
        "- Snake Case\n",
        "\n",
        "Each word is separated by an underscore character"
      ]
    },
    {
      "cell_type": "code",
      "execution_count": null,
      "id": "737b0f29",
      "metadata": {
        "id": "737b0f29"
      },
      "outputs": [],
      "source": [
        "my_variable_name = \"John\""
      ]
    },
    {
      "cell_type": "markdown",
      "id": "395bc754",
      "metadata": {
        "id": "395bc754"
      },
      "source": [
        "Many Values to Multiple Variables"
      ]
    },
    {
      "cell_type": "code",
      "execution_count": null,
      "id": "8ccbfa3a",
      "metadata": {
        "id": "8ccbfa3a",
        "outputId": "9cdfaa99-4966-4dac-f22d-94f101d575e7"
      },
      "outputs": [
        {
          "name": "stdout",
          "output_type": "stream",
          "text": [
            "abc\n",
            "xyz\n",
            "pqr\n"
          ]
        }
      ],
      "source": [
        "x, y, z = \"abc\", \"xyz\", \"pqr\"\n",
        "print(x)\n",
        "print(y)\n",
        "print(z)"
      ]
    },
    {
      "cell_type": "markdown",
      "id": "83f30cac",
      "metadata": {
        "id": "83f30cac"
      },
      "source": [
        "One Value to Multiple Variables"
      ]
    },
    {
      "cell_type": "code",
      "execution_count": null,
      "id": "5c4a0200",
      "metadata": {
        "id": "5c4a0200",
        "outputId": "f77aa0af-fdaa-4af3-9626-e8ebc7f378ba"
      },
      "outputs": [
        {
          "name": "stdout",
          "output_type": "stream",
          "text": [
            "Orange\n",
            "Orange\n",
            "Orange\n"
          ]
        }
      ],
      "source": [
        "x = y = z = \"Orange\"\n",
        "print(x)\n",
        "print(y)\n",
        "print(z)"
      ]
    },
    {
      "cell_type": "markdown",
      "id": "7859d061",
      "metadata": {
        "id": "7859d061"
      },
      "source": [
        "- Unpack a Collection\n",
        "\n",
        "If you have a collection of values in a list, tuple etc. Python allows you to extract the values into variables. This is called unpacking."
      ]
    },
    {
      "cell_type": "code",
      "execution_count": null,
      "id": "3182fa5d",
      "metadata": {
        "id": "3182fa5d",
        "outputId": "a62940d4-7230-4c86-e233-b1d642bc02aa"
      },
      "outputs": [
        {
          "name": "stdout",
          "output_type": "stream",
          "text": [
            "abc\n",
            "xyz\n",
            "pqr\n"
          ]
        }
      ],
      "source": [
        "fruits = [\"abc\", \"xyz\", \"pqr\"]\n",
        "x, y, z = fruits\n",
        "print(x)\n",
        "print(y)\n",
        "print(z)"
      ]
    },
    {
      "cell_type": "code",
      "execution_count": null,
      "id": "95e7b7ac",
      "metadata": {
        "id": "95e7b7ac",
        "outputId": "23bc2553-ea38-4e83-9662-fa762dea36f0"
      },
      "outputs": [
        {
          "name": "stdout",
          "output_type": "stream",
          "text": [
            "Python is awesome\n"
          ]
        }
      ],
      "source": [
        "x = \"Python \"\n",
        "y = \"is \"\n",
        "z = \"awesome\"\n",
        "print(x + y + z)\n",
        "#python is awesone"
      ]
    },
    {
      "cell_type": "code",
      "execution_count": null,
      "id": "9d36a2c1",
      "metadata": {
        "id": "9d36a2c1",
        "outputId": "27f60bfc-e7ce-412d-ac94-a8d3b9540691"
      },
      "outputs": [
        {
          "name": "stdout",
          "output_type": "stream",
          "text": [
            "Python is awesome\n"
          ]
        }
      ],
      "source": [
        "x = \"Python\"\n",
        "y = \"is\"\n",
        "z = \"awesome\"\n",
        "print(x, y, z)"
      ]
    },
    {
      "cell_type": "code",
      "execution_count": null,
      "id": "26ce755b",
      "metadata": {
        "id": "26ce755b",
        "outputId": "d66c3512-4896-42b2-ed19-7dccb467e3b6"
      },
      "outputs": [
        {
          "name": "stdout",
          "output_type": "stream",
          "text": [
            "15\n"
          ]
        }
      ],
      "source": [
        "x = 5\n",
        "y = 10\n",
        "print(x + y)"
      ]
    },
    {
      "cell_type": "code",
      "execution_count": null,
      "id": "47b6a645",
      "metadata": {
        "colab": {
          "base_uri": "https://localhost:8080/"
        },
        "id": "47b6a645",
        "outputId": "3c5fd5e3-c27b-421e-9276-21b88120c460"
      },
      "outputs": [
        {
          "output_type": "stream",
          "name": "stdout",
          "text": [
            "5 John\n"
          ]
        }
      ],
      "source": [
        "x = 5\n",
        "y = \"John\"\n",
        "print(x, y)\n",
        "# print(x+y)"
      ]
    },
    {
      "cell_type": "code",
      "execution_count": null,
      "id": "b8425031",
      "metadata": {
        "id": "b8425031",
        "outputId": "4550bf9b-ffde-4a39-a617-dec626d62f2d"
      },
      "outputs": [
        {
          "name": "stdout",
          "output_type": "stream",
          "text": [
            "India\n",
            "Israel\n",
            "Canada\n"
          ]
        }
      ],
      "source": [
        "x = ['India','Israel','Canada']\n",
        "for i in x:\n",
        "  print(i)"
      ]
    },
    {
      "cell_type": "code",
      "execution_count": null,
      "id": "518c0c73",
      "metadata": {
        "id": "518c0c73",
        "outputId": "2f2c9b9a-6106-45e7-fc31-d317083154eb"
      },
      "outputs": [
        {
          "name": "stdout",
          "output_type": "stream",
          "text": [
            "0\n",
            "1\n",
            "2\n",
            "3\n",
            "4\n",
            "5\n",
            "6\n",
            "7\n",
            "8\n",
            "9\n"
          ]
        }
      ],
      "source": [
        "for i in range(0,10):\n",
        "  print(i)"
      ]
    },
    {
      "cell_type": "markdown",
      "id": "156836a1",
      "metadata": {
        "id": "156836a1"
      },
      "source": [
        "#### Dynamic Typing\n",
        "The data type of the varaible is defined at run time."
      ]
    },
    {
      "cell_type": "markdown",
      "id": "03e1ddc9",
      "metadata": {
        "id": "03e1ddc9"
      },
      "source": [
        "#### type()\n",
        "Returns the data type of the argument passed."
      ]
    },
    {
      "cell_type": "code",
      "execution_count": null,
      "id": "83902438",
      "metadata": {
        "colab": {
          "base_uri": "https://localhost:8080/"
        },
        "id": "83902438",
        "outputId": "5e3a6599-9474-42aa-c335-e6930508bb9f"
      },
      "outputs": [
        {
          "output_type": "stream",
          "name": "stdout",
          "text": [
            "15\n",
            "<class 'int'>\n"
          ]
        },
        {
          "output_type": "execute_result",
          "data": {
            "text/plain": [
              "int"
            ]
          },
          "metadata": {},
          "execution_count": 8
        }
      ],
      "source": [
        "w = 15\n",
        "print(w)\n",
        "print(type(w))\n",
        "type(w)"
      ]
    },
    {
      "cell_type": "code",
      "execution_count": null,
      "id": "a3eb729e",
      "metadata": {
        "id": "a3eb729e",
        "outputId": "a7aec004-e695-47b7-e7d6-1b611902f4a0"
      },
      "outputs": [
        {
          "name": "stdout",
          "output_type": "stream",
          "text": [
            "<class 'int'>\n",
            "<class 'str'>\n",
            "hello\n"
          ]
        }
      ],
      "source": [
        "# Python is dynamically typed\n",
        "s = 10\n",
        "print(type(s))\n",
        "s  = \"hello\"\n",
        "print(type(s))\n",
        "print(s)"
      ]
    },
    {
      "cell_type": "code",
      "execution_count": null,
      "id": "ba2bb3b6",
      "metadata": {
        "id": "ba2bb3b6",
        "outputId": "5a902fcb-1695-41d1-bd52-1f77e27deab1"
      },
      "outputs": [
        {
          "name": "stdout",
          "output_type": "stream",
          "text": [
            "<class 'str'>\n"
          ]
        }
      ],
      "source": [
        "print(type(s))"
      ]
    },
    {
      "cell_type": "code",
      "execution_count": null,
      "id": "77c6a551",
      "metadata": {
        "id": "77c6a551",
        "outputId": "40ccec02-eae1-433c-aab7-24181ec5a933"
      },
      "outputs": [
        {
          "data": {
            "text/plain": [
              "str"
            ]
          },
          "execution_count": 40,
          "metadata": {},
          "output_type": "execute_result"
        }
      ],
      "source": [
        "type(s)"
      ]
    },
    {
      "cell_type": "code",
      "execution_count": null,
      "id": "00de33c7",
      "metadata": {
        "id": "00de33c7",
        "outputId": "f4d2bbe4-10e9-4c6b-b806-a041a8f1b479"
      },
      "outputs": [
        {
          "name": "stdout",
          "output_type": "stream",
          "text": [
            "20\n"
          ]
        }
      ],
      "source": [
        "q = 20\n",
        "print(q)"
      ]
    },
    {
      "cell_type": "code",
      "execution_count": null,
      "id": "c6c8300b",
      "metadata": {
        "id": "c6c8300b",
        "outputId": "be33cabe-6791-4004-a8bf-f3adf302b5fc"
      },
      "outputs": [
        {
          "name": "stdout",
          "output_type": "stream",
          "text": [
            "14\n"
          ]
        }
      ],
      "source": [
        "# n1,n2,n1\n",
        "print(n1)"
      ]
    },
    {
      "cell_type": "code",
      "execution_count": null,
      "id": "ecb51958",
      "metadata": {
        "id": "ecb51958"
      },
      "outputs": [],
      "source": []
    },
    {
      "cell_type": "markdown",
      "id": "3572e503",
      "metadata": {
        "id": "3572e503"
      },
      "source": [
        "#### Data Types\n",
        "Python Data Types\n",
        "\n",
        "Text Type: str\n",
        "\n",
        "Numeric Types: int, float, complex\n",
        "\n",
        "Sequence Types: list, tuple\n",
        "\n",
        "Mapping Type: dict\n",
        "\n",
        "Set Types: set\n",
        "\n",
        "Boolean Type: bool\n",
        "\n",
        "int, float, bool, str, NoneType,complex, list,tuple,set"
      ]
    },
    {
      "cell_type": "markdown",
      "id": "40775b0f",
      "metadata": {
        "id": "40775b0f"
      },
      "source": [
        "#### integer"
      ]
    },
    {
      "cell_type": "code",
      "execution_count": null,
      "id": "321939fa",
      "metadata": {
        "scrolled": true,
        "id": "321939fa",
        "outputId": "cb8acc9d-f1fe-4ea8-ca8d-913f6a819395"
      },
      "outputs": [
        {
          "name": "stdout",
          "output_type": "stream",
          "text": [
            "234\n",
            "<class 'int'>\n"
          ]
        }
      ],
      "source": [
        "#integer\n",
        "d1 = 234\n",
        "print(d1)\n",
        "print(type(d1))"
      ]
    },
    {
      "cell_type": "code",
      "execution_count": null,
      "id": "2db10718",
      "metadata": {
        "colab": {
          "base_uri": "https://localhost:8080/"
        },
        "id": "2db10718",
        "outputId": "81fa6784-96d2-495e-a4bb-61c4ed6cf2b5"
      },
      "outputs": [
        {
          "output_type": "stream",
          "name": "stdout",
          "text": [
            "<class 'int'>\n",
            "<class 'int'>\n",
            "<class 'int'>\n"
          ]
        }
      ],
      "source": [
        "x = 1\n",
        "y = 356562\n",
        "z = -3255522\n",
        "\n",
        "print(type(x))\n",
        "print(type(y))\n",
        "print(type(z))"
      ]
    },
    {
      "cell_type": "markdown",
      "id": "19bdc824",
      "metadata": {
        "id": "19bdc824"
      },
      "source": [
        "#### Float\n",
        "\n",
        "Float, or \"floating point number\" is a number, positive or negative, containing one or more decimals."
      ]
    },
    {
      "cell_type": "code",
      "execution_count": null,
      "id": "bebf67bc",
      "metadata": {
        "scrolled": true,
        "id": "bebf67bc",
        "outputId": "eae22957-fd75-4e7f-8630-486df3b4e9e7"
      },
      "outputs": [
        {
          "name": "stdout",
          "output_type": "stream",
          "text": [
            "4.5\n",
            "<class 'float'>\n"
          ]
        }
      ],
      "source": [
        "#float\n",
        "d2 = 4.5\n",
        "print(d2)\n",
        "print(type(d2))  # decimal numbers are represented in float"
      ]
    },
    {
      "cell_type": "code",
      "execution_count": null,
      "id": "b5205b91",
      "metadata": {
        "id": "b5205b91",
        "outputId": "baa85f6a-85bf-4a4b-d058-98987a33d2fe"
      },
      "outputs": [
        {
          "name": "stdout",
          "output_type": "stream",
          "text": [
            "<class 'float'>\n",
            "<class 'float'>\n",
            "<class 'float'>\n"
          ]
        }
      ],
      "source": [
        "x = 2.10\n",
        "y = 10.0\n",
        "z = -35.5\n",
        "\n",
        "print(type(x))\n",
        "print(type(y))\n",
        "print(type(z))"
      ]
    },
    {
      "cell_type": "code",
      "execution_count": null,
      "id": "0cbd7d4f",
      "metadata": {
        "id": "0cbd7d4f",
        "outputId": "716d242d-8105-4787-f578-0c23e1cc71a9"
      },
      "outputs": [
        {
          "name": "stdout",
          "output_type": "stream",
          "text": [
            "True\n",
            "<class 'bool'>\n"
          ]
        }
      ],
      "source": [
        "#bool\n",
        "d3 = True  # False\n",
        "print(d3)\n",
        "print(type(d3))  # bool"
      ]
    },
    {
      "cell_type": "markdown",
      "id": "bc4f48e4",
      "metadata": {
        "id": "bc4f48e4"
      },
      "source": [
        "#### Str\n",
        "<pre>\n",
        "1) They are enlclosed in single , double or triple quotes\n",
        "2) Multiline str are enclosed in triple quotes. Can be used for single line str as well.\n",
        "    Single Quotes - ' '\n",
        "    Double Quotes - \" \"\n",
        "    Triple Quotes - \"\"\" \"\"\" or ''' '''\n",
        "</pre>    "
      ]
    },
    {
      "cell_type": "code",
      "execution_count": null,
      "id": "e4c05c54",
      "metadata": {
        "id": "e4c05c54",
        "outputId": "dfe1e33e-8079-40c8-e085-dd622f3937e7"
      },
      "outputs": [
        {
          "name": "stdout",
          "output_type": "stream",
          "text": [
            "Hello Google\n",
            "<class 'str'> <class 'str'>\n"
          ]
        }
      ],
      "source": [
        "d4,d5 = \"Hello\",'Google'\n",
        "print(d4,d5)\n",
        "print(type(d4),type(d5))"
      ]
    },
    {
      "cell_type": "code",
      "execution_count": null,
      "id": "e1f8ba9e",
      "metadata": {
        "id": "e1f8ba9e",
        "outputId": "7232db17-62d4-4524-bc4c-e68d327a81ac"
      },
      "outputs": [
        {
          "name": "stdout",
          "output_type": "stream",
          "text": [
            "Multiline str are enclosed in \n",
            "triple quotes\n",
            "<class 'str'>\n"
          ]
        }
      ],
      "source": [
        "d6 = '''Multiline str are enclosed in\n",
        "triple quotes'''\n",
        "print(d6)\n",
        "print(type(d6))"
      ]
    },
    {
      "cell_type": "markdown",
      "id": "aaf8d9c4",
      "metadata": {
        "id": "aaf8d9c4"
      },
      "source": [
        "#### Complex"
      ]
    },
    {
      "cell_type": "code",
      "execution_count": null,
      "id": "2ede4a82",
      "metadata": {
        "id": "2ede4a82",
        "outputId": "1c1c6ead-ac1e-4201-89c9-384592d239b9"
      },
      "outputs": [
        {
          "name": "stdout",
          "output_type": "stream",
          "text": [
            "(5+7j)\n",
            "<class 'complex'>\n"
          ]
        }
      ],
      "source": [
        "#Complex\n",
        "d7 = 5 + 7j\n",
        "print(d7)\n",
        "print(type(d7))\n",
        "# p + qj where p is real part, q is the complex part, j is sqrt of -1"
      ]
    },
    {
      "cell_type": "code",
      "execution_count": null,
      "id": "309525ff",
      "metadata": {
        "id": "309525ff",
        "outputId": "7fd6b0b1-23c1-4848-f203-1f564921b918"
      },
      "outputs": [
        {
          "name": "stdout",
          "output_type": "stream",
          "text": [
            "<class 'complex'>\n",
            "<class 'complex'>\n",
            "<class 'complex'>\n"
          ]
        }
      ],
      "source": [
        "x = 3+5j\n",
        "y = 5j\n",
        "z = -5j\n",
        "\n",
        "print(type(x))\n",
        "print(type(y))\n",
        "print(type(z))"
      ]
    },
    {
      "cell_type": "code",
      "execution_count": null,
      "id": "6311f828",
      "metadata": {
        "scrolled": true,
        "id": "6311f828",
        "outputId": "5514e858-484b-44df-e05b-6dc0aa94ce40"
      },
      "outputs": [
        {
          "name": "stdout",
          "output_type": "stream",
          "text": [
            "None\n",
            "<class 'NoneType'>\n"
          ]
        }
      ],
      "source": [
        "#NoneType\n",
        "d8 = None  # not equivalent to 0 or ''\n",
        "print(d8)\n",
        "print(type(d8))"
      ]
    },
    {
      "cell_type": "code",
      "execution_count": null,
      "id": "a0592589",
      "metadata": {
        "id": "a0592589",
        "outputId": "aa34b1cc-dde0-42fc-cfb5-b530808e14fe"
      },
      "outputs": [
        {
          "name": "stdout",
          "output_type": "stream",
          "text": [
            "<class 'list'>\n"
          ]
        }
      ],
      "source": [
        "#list\n",
        "l=[1,2,3,4]\n",
        "print(type(l))"
      ]
    },
    {
      "cell_type": "code",
      "execution_count": null,
      "id": "04acfd80",
      "metadata": {
        "id": "04acfd80",
        "outputId": "f19bf994-fff6-47b9-8d50-dd711fef0b41"
      },
      "outputs": [
        {
          "name": "stdout",
          "output_type": "stream",
          "text": [
            "<class 'tuple'>\n"
          ]
        }
      ],
      "source": [
        "#tuple\n",
        "t=(1,2,3,4)\n",
        "print(type(t))"
      ]
    },
    {
      "cell_type": "code",
      "execution_count": null,
      "id": "81b783c0",
      "metadata": {
        "id": "81b783c0",
        "outputId": "30e98148-ba53-44ee-f04b-fc288bb3936a"
      },
      "outputs": [
        {
          "name": "stdout",
          "output_type": "stream",
          "text": [
            "<class 'set'>\n"
          ]
        }
      ],
      "source": [
        "#set\n",
        "s={1,2,3,4}\n",
        "print(type(s))"
      ]
    },
    {
      "cell_type": "code",
      "execution_count": null,
      "id": "b161894c",
      "metadata": {
        "id": "b161894c",
        "outputId": "2ce1474a-0f09-46e9-d5d2-43a942f67af5"
      },
      "outputs": [
        {
          "name": "stdout",
          "output_type": "stream",
          "text": [
            "<class 'dict'>\n"
          ]
        }
      ],
      "source": [
        "#dictionary\n",
        "d = {\n",
        "  \"a\": 1,\n",
        "  \"b\": 2,\n",
        "  \"c\": 3\n",
        "}\n",
        "print(type(d))"
      ]
    }
  ],
  "metadata": {
    "kernelspec": {
      "display_name": "Python 3 (ipykernel)",
      "language": "python",
      "name": "python3"
    },
    "language_info": {
      "codemirror_mode": {
        "name": "ipython",
        "version": 3
      },
      "file_extension": ".py",
      "mimetype": "text/x-python",
      "name": "python",
      "nbconvert_exporter": "python",
      "pygments_lexer": "ipython3",
      "version": "3.10.9"
    },
    "colab": {
      "provenance": [],
      "include_colab_link": true
    }
  },
  "nbformat": 4,
  "nbformat_minor": 5
}