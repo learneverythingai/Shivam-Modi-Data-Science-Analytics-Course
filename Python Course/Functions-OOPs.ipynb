{
  "nbformat": 4,
  "nbformat_minor": 0,
  "metadata": {
    "colab": {
      "provenance": [],
      "include_colab_link": true
    },
    "kernelspec": {
      "name": "python3",
      "display_name": "Python 3"
    },
    "language_info": {
      "name": "python"
    }
  },
  "cells": [
    {
      "cell_type": "markdown",
      "metadata": {
        "id": "view-in-github",
        "colab_type": "text"
      },
      "source": [
        "<a href=\"https://colab.research.google.com/github/learneverythingai/Shivam-Modi-Data-Science-Analytics-Course/blob/main/Python%20Course/Python_Video6.ipynb\" target=\"_parent\"><img src=\"https://colab.research.google.com/assets/colab-badge.svg\" alt=\"Open In Colab\"/></a>"
      ]
    },
    {
      "cell_type": "markdown",
      "source": [
        "Functions \n",
        "\n",
        "\n",
        "\n",
        "A function is a block of code which only runs when it is called.\n",
        "\n",
        "You can pass data, known as parameters, into a function.\n",
        "\n",
        "A function can return data as a result"
      ],
      "metadata": {
        "id": "SjwQir-zv-JJ"
      }
    },
    {
      "cell_type": "markdown",
      "source": [
        "Creating a Function\n",
        "\n",
        "In Python a function is defined using the def keyword"
      ],
      "metadata": {
        "id": "EurMaFfXwZFa"
      }
    },
    {
      "cell_type": "code",
      "execution_count": null,
      "metadata": {
        "id": "BYsZud3tvxZ_"
      },
      "outputs": [],
      "source": [
        "def my_function():\n",
        "  print(\"Hello,this is message from function\")"
      ]
    },
    {
      "cell_type": "code",
      "source": [
        "def ABC():\n",
        "  print(\"HELLO MESSEGE FROM FUCNTION\")"
      ],
      "metadata": {
        "id": "Th3Mzl6eemNE"
      },
      "execution_count": null,
      "outputs": []
    },
    {
      "cell_type": "code",
      "source": [
        "ABC()"
      ],
      "metadata": {
        "colab": {
          "base_uri": "https://localhost:8080/"
        },
        "id": "8Jq4CI2zewAl",
        "outputId": "6dce0ef8-854e-4a71-8783-6802ed0112f6"
      },
      "execution_count": null,
      "outputs": [
        {
          "output_type": "stream",
          "name": "stdout",
          "text": [
            "HELLO MESSEGE FROM FUCNTION\n"
          ]
        }
      ]
    },
    {
      "cell_type": "markdown",
      "source": [
        "Calling a Function<br>\n",
        "To call a function, use the function name followed by parenthesis"
      ],
      "metadata": {
        "id": "t4WBbL2KwpCH"
      }
    },
    {
      "cell_type": "code",
      "source": [
        "my_function()"
      ],
      "metadata": {
        "colab": {
          "base_uri": "https://localhost:8080/"
        },
        "id": "7Iz4aVq4wcco",
        "outputId": "855a01e8-5b37-4140-d890-9b3178b97b0c"
      },
      "execution_count": null,
      "outputs": [
        {
          "output_type": "stream",
          "name": "stdout",
          "text": [
            "Hello,this is message from function\n"
          ]
        }
      ]
    },
    {
      "cell_type": "markdown",
      "source": [
        "Arguments\n"
      ],
      "metadata": {
        "id": "9G5tpIOHw3i7"
      }
    },
    {
      "cell_type": "markdown",
      "source": [
        "Information can be passed into functions as arguments.\n",
        "\n",
        "Arguments are specified after the function name, inside the parentheses. You can add as many arguments as you want, just separate them with a comma."
      ],
      "metadata": {
        "id": "ZcLqPiyZw59i"
      }
    },
    {
      "cell_type": "code",
      "source": [
        "def my_function(fname):\n",
        "  print(fname + \" LastNAME\")"
      ],
      "metadata": {
        "id": "hsV_KmaswtZ7"
      },
      "execution_count": null,
      "outputs": []
    },
    {
      "cell_type": "code",
      "source": [
        "my_function(\"THOMAS\")\n",
        "my_function(\"CURY\")\n",
        "my_function(\"HARRY\")"
      ],
      "metadata": {
        "colab": {
          "base_uri": "https://localhost:8080/"
        },
        "id": "R1JYjZZ7fD2D",
        "outputId": "66f204fa-6bb8-479d-c125-765c8426641c"
      },
      "execution_count": null,
      "outputs": [
        {
          "output_type": "stream",
          "name": "stdout",
          "text": [
            "THOMAS LastNAME\n",
            "CURY LastNAME\n",
            "HARRY LastNAME\n"
          ]
        }
      ]
    },
    {
      "cell_type": "code",
      "source": [
        "def my_function(fname,lname):\n",
        "  print(fname,lname)\n",
        "\n",
        "my_function(\"THOMAS\",\"Son\")\n",
        "my_function(\"CURY\",\"Tales\")\n",
        "my_function(\"HARRY\",\"Lan\")"
      ],
      "metadata": {
        "colab": {
          "base_uri": "https://localhost:8080/"
        },
        "id": "Rb3rCPxzxN0l",
        "outputId": "2ef5ef9d-8f6d-42d5-fc5e-cfa3a46e7d1a"
      },
      "execution_count": null,
      "outputs": [
        {
          "output_type": "stream",
          "name": "stdout",
          "text": [
            "THOMAS Son\n",
            "CURY Tales\n",
            "HARRY Lan\n"
          ]
        }
      ]
    },
    {
      "cell_type": "code",
      "source": [
        "def my_func(age,name):\n",
        "  print(\"my name is \",name,\"and my age is:\",age)"
      ],
      "metadata": {
        "id": "nJzjplRXfO7M"
      },
      "execution_count": null,
      "outputs": []
    },
    {
      "cell_type": "code",
      "source": [
        "my_func(18,\"Harry\")\n",
        "my_func(22,\"THOMAS\")"
      ],
      "metadata": {
        "colab": {
          "base_uri": "https://localhost:8080/"
        },
        "id": "SggY1CzVfPEL",
        "outputId": "d32d6382-1ce4-4fd4-a243-d6d743844853"
      },
      "execution_count": null,
      "outputs": [
        {
          "output_type": "stream",
          "name": "stdout",
          "text": [
            "my name is  Harry and my age is: 18\n",
            "my name is  THOMAS and my age is: 22\n"
          ]
        }
      ]
    },
    {
      "cell_type": "markdown",
      "source": [
        "Parameters or Arguments?<br>\n",
        "The terms parameter and argument can be used for the same thing: information that are passed into a function.\n"
      ],
      "metadata": {
        "id": "TnLP6U8RzD0C"
      }
    },
    {
      "cell_type": "markdown",
      "source": [
        "A parameter is the variable listed inside the parentheses in the function definition.\n",
        "\n",
        "An argument is the value that is sent to the function when it is called."
      ],
      "metadata": {
        "id": "c12goh0r0BFZ"
      }
    },
    {
      "cell_type": "markdown",
      "source": [
        "Arbitrary Arguments, *args\n",
        "\n",
        "If you do not know how many arguments that will be passed into your function, add a * before the parameter name in the function definition"
      ],
      "metadata": {
        "id": "u_7OcitXGnLj"
      }
    },
    {
      "cell_type": "code",
      "source": [
        "def my_function(*kids):\n",
        "  for i in kids:\n",
        "    print(\"The youngest child is \" + i)\n",
        "\n",
        "my_function(\"Harry\", \"thomas\", \"thom\")"
      ],
      "metadata": {
        "colab": {
          "base_uri": "https://localhost:8080/"
        },
        "id": "WzW6n7Y962yM",
        "outputId": "93ffbc48-2ebc-4085-ea97-5ba15964002e"
      },
      "execution_count": null,
      "outputs": [
        {
          "output_type": "stream",
          "name": "stdout",
          "text": [
            "The youngest child is Harry\n",
            "The youngest child is thomas\n",
            "The youngest child is thom\n"
          ]
        }
      ]
    },
    {
      "cell_type": "markdown",
      "source": [
        "Keyword Arguments\n",
        "\n",
        "You can also send arguments with the key = value syntax.\n",
        "\n",
        "This way the order of the arguments does not matter."
      ],
      "metadata": {
        "id": "FIT-5SMzHLGa"
      }
    },
    {
      "cell_type": "code",
      "source": [
        "def my_function(child3, child2, child1):\n",
        "  print(\"The childrens are \" +child1+\" \" + child3 +\" \" +child2)\n",
        "\n",
        "my_function(child1 = \"Harry\", child2 = \"thomas\", child3 = \"thom\")"
      ],
      "metadata": {
        "colab": {
          "base_uri": "https://localhost:8080/"
        },
        "id": "7Fz28eCTG3Iq",
        "outputId": "925278f3-ef8a-462d-f529-3120afe41389"
      },
      "execution_count": null,
      "outputs": [
        {
          "output_type": "stream",
          "name": "stdout",
          "text": [
            "The childrens are Harry thom thomas\n"
          ]
        }
      ]
    },
    {
      "cell_type": "markdown",
      "source": [
        "Arbitrary Keyword Arguments, **kwargs\n",
        "\n",
        "If you do not know how many keyword arguments that will be passed into your function, add two asterisk: ** before the parameter name in the function definition\n"
      ],
      "metadata": {
        "id": "ikrvpmpuHrrV"
      }
    },
    {
      "cell_type": "code",
      "source": [
        "def my_function(**kid):\n",
        "  print(\"His first name is \" + kid[\"fname\"])\n",
        "\n",
        "my_function(fname = \"Harry\", lname = \"son\")"
      ],
      "metadata": {
        "colab": {
          "base_uri": "https://localhost:8080/"
        },
        "id": "d8lA-r_eHVv-",
        "outputId": "f90a843d-e95d-419f-d031-139e6e5cbfb4"
      },
      "execution_count": null,
      "outputs": [
        {
          "output_type": "stream",
          "name": "stdout",
          "text": [
            "His first name is Harry\n"
          ]
        }
      ]
    },
    {
      "cell_type": "code",
      "source": [
        "def my_function(**kid):\n",
        "  print(\"His last name is \" + kid[\"lname\"])\n",
        "\n",
        "my_function(fname = \"Harry\", lname = \"son\")"
      ],
      "metadata": {
        "colab": {
          "base_uri": "https://localhost:8080/"
        },
        "id": "bY53l1sdH25o",
        "outputId": "0e1bb396-4426-4ec2-fee0-54cb5ef12864"
      },
      "execution_count": null,
      "outputs": [
        {
          "output_type": "stream",
          "name": "stdout",
          "text": [
            "His last name is son\n"
          ]
        }
      ]
    },
    {
      "cell_type": "markdown",
      "source": [
        "Default Parameter Value\n",
        "\n",
        "If we call the function without argument, it uses the default value"
      ],
      "metadata": {
        "id": "LWe0PZh2IF3s"
      }
    },
    {
      "cell_type": "code",
      "source": [
        "def my_function(country = \"Norway\"):\n",
        "  print(\"I am from \" + country)\n",
        "\n",
        "my_function(\"Sweden\")\n",
        "my_function(\"India\")\n",
        "my_function()\n",
        "my_function(\"Brazil\")\n",
        "my_function()"
      ],
      "metadata": {
        "colab": {
          "base_uri": "https://localhost:8080/"
        },
        "id": "U_V7RefhH6v7",
        "outputId": "ecdac457-f1ac-4091-d792-bf212e420409"
      },
      "execution_count": null,
      "outputs": [
        {
          "output_type": "stream",
          "name": "stdout",
          "text": [
            "I am from Sweden\n",
            "I am from India\n",
            "I am from Norway\n",
            "I am from Brazil\n",
            "I am from Norway\n"
          ]
        }
      ]
    },
    {
      "cell_type": "markdown",
      "source": [
        "Passing a List as an Argument\n",
        "\n",
        "\n",
        "You can send any data types of argument to a function (string, number, list, dictionary etc.), and it will be treated as the same data type inside the function."
      ],
      "metadata": {
        "id": "nAx80XADIMq7"
      }
    },
    {
      "cell_type": "code",
      "source": [
        "def my_function(food):\n",
        "  for x in food:\n",
        "    print(x)\n",
        "\n",
        "fruits = [\"apple\", \"mango\", \"cherry\",\"grapes\"]\n",
        "\n",
        "my_function(fruits)"
      ],
      "metadata": {
        "colab": {
          "base_uri": "https://localhost:8080/"
        },
        "id": "i7gN6ZlqIKaY",
        "outputId": "8d8a24d5-da3a-47b7-8dc2-31641e820b8f"
      },
      "execution_count": null,
      "outputs": [
        {
          "output_type": "stream",
          "name": "stdout",
          "text": [
            "apple\n",
            "mango\n",
            "cherry\n",
            "grapes\n"
          ]
        }
      ]
    },
    {
      "cell_type": "markdown",
      "source": [
        "Return Values\n",
        "\n",
        "To let a function return a value, use the return statement"
      ],
      "metadata": {
        "id": "zFYmuVQ7IX4g"
      }
    },
    {
      "cell_type": "code",
      "source": [
        "def my_function(x):\n",
        "  return x * x\n",
        "\n",
        "print(my_function(3))\n",
        "print(my_function(5))\n",
        "print(my_function(9))\n",
        "print(my_function(100))\n",
        "print(my_function(21))"
      ],
      "metadata": {
        "colab": {
          "base_uri": "https://localhost:8080/"
        },
        "id": "404OVJ3pITVs",
        "outputId": "359c2b1f-91b9-49b6-d62b-28105a7d4716"
      },
      "execution_count": null,
      "outputs": [
        {
          "output_type": "stream",
          "name": "stdout",
          "text": [
            "9\n",
            "25\n",
            "81\n",
            "10000\n",
            "441\n"
          ]
        }
      ]
    },
    {
      "cell_type": "code",
      "source": [
        "def function_that_prints():\n",
        "    print(\"I printed\")\n",
        "\n",
        "def function_that_returns():\n",
        "    return \"I returned\"\n",
        "\n",
        "f1 = function_that_prints()\n",
        "f2 = function_that_returns()"
      ],
      "metadata": {
        "colab": {
          "base_uri": "https://localhost:8080/"
        },
        "id": "FrPAIx-uIiqk",
        "outputId": "7138c9e7-add1-4129-96d6-bfa1fe4d727c"
      },
      "execution_count": null,
      "outputs": [
        {
          "output_type": "stream",
          "name": "stdout",
          "text": [
            "I printed\n"
          ]
        }
      ]
    },
    {
      "cell_type": "code",
      "source": [
        "print(\"Now let us see what the values of f1 and f2 are\")\n",
        "print(f1)"
      ],
      "metadata": {
        "colab": {
          "base_uri": "https://localhost:8080/"
        },
        "id": "e0cHxn7wI-Tl",
        "outputId": "369ddbc4-1f75-443e-e62a-059c373a26dd"
      },
      "execution_count": null,
      "outputs": [
        {
          "output_type": "stream",
          "name": "stdout",
          "text": [
            "Now let us see what the values of f1 and f2 are\n",
            "None\n"
          ]
        }
      ]
    },
    {
      "cell_type": "code",
      "source": [
        "print(f2)"
      ],
      "metadata": {
        "colab": {
          "base_uri": "https://localhost:8080/"
        },
        "id": "sguFCUUmJEjK",
        "outputId": "734e49cd-dbef-4bdb-f571-7d26f2429d31"
      },
      "execution_count": null,
      "outputs": [
        {
          "output_type": "stream",
          "name": "stdout",
          "text": [
            "I returned\n"
          ]
        }
      ]
    },
    {
      "cell_type": "markdown",
      "source": [
        "The print() function writes, i.e., \"prints\", a string or a number on the console. The return statement does not print out the value it returns when the function is called.\n",
        "\n",
        "Because the example function doesn't return anything, it ends up implicitly returning None, so None gets printed"
      ],
      "metadata": {
        "id": "bwANVzOyJa0D"
      }
    },
    {
      "cell_type": "markdown",
      "source": [
        "Python Classes and Objects\n",
        "\n",
        "Python is an object oriented programming language.\n",
        "\n",
        "Almost everything in Python is an object, with its properties and methods.\n",
        "\n",
        "A Class is like an object constructor, or a \"blueprint\" for creating objects"
      ],
      "metadata": {
        "id": "eM2H3T8bKCMu"
      }
    },
    {
      "cell_type": "code",
      "source": [
        "class My_Class:\n",
        "  x = 9\n",
        "  y=100"
      ],
      "metadata": {
        "id": "XtNWwI7sJGRF"
      },
      "execution_count": null,
      "outputs": []
    },
    {
      "cell_type": "markdown",
      "source": [
        "Create Object\n",
        "\n",
        "Now we can use the class named MyClass to create objects:\n",
        "\n"
      ],
      "metadata": {
        "id": "mR7-oFeFNsYi"
      }
    },
    {
      "cell_type": "code",
      "source": [
        "p1 = My_Class()\n",
        "print(p1.x)"
      ],
      "metadata": {
        "colab": {
          "base_uri": "https://localhost:8080/"
        },
        "id": "wMcn1tdRNmYP",
        "outputId": "2c470fbc-1c73-487d-e08a-e6ae6148d25d"
      },
      "execution_count": null,
      "outputs": [
        {
          "output_type": "stream",
          "name": "stdout",
          "text": [
            "9\n"
          ]
        }
      ]
    },
    {
      "cell_type": "code",
      "source": [
        "print(p1.y)"
      ],
      "metadata": {
        "colab": {
          "base_uri": "https://localhost:8080/"
        },
        "id": "5SoAv5GUNvnB",
        "outputId": "e4636198-d66d-4ba9-e4c3-b7e4188ec19e"
      },
      "execution_count": null,
      "outputs": [
        {
          "output_type": "stream",
          "name": "stdout",
          "text": [
            "100\n"
          ]
        }
      ]
    },
    {
      "cell_type": "markdown",
      "source": [
        "The __init__() Function\n",
        "\n",
        "To understand the meaning of classes we have to understand the built-in __init__() function.\n",
        "\n",
        "All classes have a function called __init__(), which is always executed when the class is being initiated.\n",
        "\n",
        "Use the __init__() function to assign values to object properties, or other operations that are necessary to do when the object is being created\n",
        "\n",
        "\n",
        "The __init__() function is called automatically every time the class is being used to create a new object."
      ],
      "metadata": {
        "id": "1JlJkDdCN9p3"
      }
    },
    {
      "cell_type": "code",
      "source": [
        "class Person:\n",
        "  def __init__(self, name, age,place):\n",
        "    self.name = name\n",
        "    self.age = age\n",
        "    self.place=place\n",
        "\n",
        "p1 = Person(\"Harry\", 17,'Mumbai')\n",
        "\n",
        "print(p1.name)\n",
        "print(p1.age)\n",
        "print(p1.place)"
      ],
      "metadata": {
        "colab": {
          "base_uri": "https://localhost:8080/"
        },
        "id": "irMXryFwN3ba",
        "outputId": "65694cda-7f9b-486f-ae8f-4ce2951f38a2"
      },
      "execution_count": null,
      "outputs": [
        {
          "output_type": "stream",
          "name": "stdout",
          "text": [
            "Harry\n",
            "17\n",
            "Mumbai\n"
          ]
        }
      ]
    },
    {
      "cell_type": "markdown",
      "source": [
        "Object Methods\n",
        "\n",
        "Objects can also contain methods. Methods in objects are functions that belong to the object.\n",
        "\n",
        "Let us create a method in the Person class"
      ],
      "metadata": {
        "id": "zQPfHFXkOjp-"
      }
    },
    {
      "cell_type": "code",
      "source": [
        "class Person:\n",
        "  def __init__(self, name, age,place):\n",
        "    self.name = name\n",
        "    self.age = age\n",
        "    self.place=place\n",
        "\n",
        "  def myfunc(self):\n",
        "    print(\"Hello my name is \" + self.name)\n",
        "    print(\"place:\"+ self.place)\n",
        "\n",
        "p1 = Person(\"THOMAS\", 22,\"Mumbai\")\n",
        "p1.myfunc()"
      ],
      "metadata": {
        "colab": {
          "base_uri": "https://localhost:8080/"
        },
        "id": "Zgu7Obs4OLfP",
        "outputId": "81ee8a41-47bd-4661-cd01-5ac48caef651"
      },
      "execution_count": null,
      "outputs": [
        {
          "output_type": "stream",
          "name": "stdout",
          "text": [
            "Hello my name is THOMAS\n",
            "place:Mumbai\n"
          ]
        }
      ]
    },
    {
      "cell_type": "markdown",
      "source": [
        "The self parameter is a reference to the current instance of the class, and is used to access variables that belong to the class."
      ],
      "metadata": {
        "id": "bo2oITqRQIxU"
      }
    },
    {
      "cell_type": "markdown",
      "source": [
        "The self parameter is a reference to the current instance of the class, and is used to access variables that belongs to the class.\n",
        "\n",
        "It does not have to be named self , you can call it whatever you like, but it has to be the first parameter of any function in the class"
      ],
      "metadata": {
        "id": "ZxuSsyNbQNui"
      }
    },
    {
      "cell_type": "code",
      "source": [
        "class Person:\n",
        "  def __init__(mysillyobject, name, age):\n",
        "    mysillyobject.name = name\n",
        "    mysillyobject.age = age\n",
        "\n",
        "  def myfunc(xyz):\n",
        "    print(\"Hello my name is \" + xyz.name)\n",
        "\n",
        "p1 = Person(\"John\", 36)\n",
        "p1.myfunc()"
      ],
      "metadata": {
        "colab": {
          "base_uri": "https://localhost:8080/"
        },
        "id": "ZyIWkQJRPuKs",
        "outputId": "f0a9ad1f-d35e-45e8-8ef4-3ea1b5dab705"
      },
      "execution_count": null,
      "outputs": [
        {
          "output_type": "stream",
          "name": "stdout",
          "text": [
            "Hello my name is John\n"
          ]
        }
      ]
    },
    {
      "cell_type": "markdown",
      "source": [
        "Python Inheritance\n",
        "\n",
        "Inheritance allows us to define a class that inherits all the methods and properties from another class.\n",
        "\n",
        "Parent class is the class being inherited from, also called base class.\n",
        "\n",
        "Child class is the class that inherits from another class, also called derived class"
      ],
      "metadata": {
        "id": "fvm8CBckRfyM"
      }
    },
    {
      "cell_type": "markdown",
      "source": [
        "Create a Parent Class\n",
        "Any class can be a parent class, so the syntax is the same as creating any other class"
      ],
      "metadata": {
        "id": "9S7Ss-N9Rlgf"
      }
    },
    {
      "cell_type": "code",
      "source": [
        "class Person:\n",
        "  def __init__(self, fname, lname):\n",
        "    self.firstname = fname\n",
        "    self.lastname = lname\n",
        "\n",
        "  def printname(self):\n",
        "    print(self.firstname, self.lastname)\n",
        "\n",
        "#Use the Person class to create an object, and then execute the printname method:\n",
        "\n",
        "x = Person(\"Harry\", \"son\")\n",
        "x.printname()"
      ],
      "metadata": {
        "colab": {
          "base_uri": "https://localhost:8080/"
        },
        "id": "c31hrhnjQUAD",
        "outputId": "656fc0ea-e870-408c-c239-f57b6ab15de8"
      },
      "execution_count": null,
      "outputs": [
        {
          "output_type": "stream",
          "name": "stdout",
          "text": [
            "Harry son\n"
          ]
        }
      ]
    },
    {
      "cell_type": "markdown",
      "source": [
        "Create a Child Class\n",
        "\n",
        "\n",
        "To create a class that inherits the functionality from another class, send the parent class as a parameter when creating the child class\n"
      ],
      "metadata": {
        "id": "0Oa5Ec9rRxnL"
      }
    },
    {
      "cell_type": "code",
      "source": [
        "class Student(Person):\n",
        "  pass"
      ],
      "metadata": {
        "id": "KJaEUxeFRo6D"
      },
      "execution_count": null,
      "outputs": []
    },
    {
      "cell_type": "code",
      "source": [
        "x = Student(\"Mike\", \"Olsen\")\n",
        "x.printname()"
      ],
      "metadata": {
        "colab": {
          "base_uri": "https://localhost:8080/"
        },
        "id": "Ksnub0YfR6ob",
        "outputId": "5516d6a1-b6b8-4e85-f6d3-d47a2187e38c"
      },
      "execution_count": null,
      "outputs": [
        {
          "output_type": "stream",
          "name": "stdout",
          "text": [
            "Mike Olsen\n"
          ]
        }
      ]
    },
    {
      "cell_type": "code",
      "source": [],
      "metadata": {
        "id": "3We-drN7R8wi"
      },
      "execution_count": null,
      "outputs": []
    }
  ]
}