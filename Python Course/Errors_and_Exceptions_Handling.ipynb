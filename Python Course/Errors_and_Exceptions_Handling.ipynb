{
  "cells": [
    {
      "cell_type": "markdown",
      "metadata": {
        "id": "view-in-github",
        "colab_type": "text"
      },
      "source": [
        "<a href=\"https://colab.research.google.com/github/learneverythingai/Shivam-Modi-Data-Science-Analytics-Course/blob/main/Python%20Course/Errors_and_Exceptions_Handling.ipynb\" target=\"_parent\"><img src=\"https://colab.research.google.com/assets/colab-badge.svg\" alt=\"Open In Colab\"/></a>"
      ]
    },
    {
      "cell_type": "markdown",
      "source": [
        "# The Author and Instructor of this Notebook is **Shivam Modi**.\n",
        "## LinkedIn: https://www.linkedin.com/in/shivam-modi-datascientist/"
      ],
      "metadata": {
        "id": "jSZSmrZJcHCl"
      }
    },
    {
      "cell_type": "markdown",
      "metadata": {
        "id": "dGAMqxH36VWs"
      },
      "source": [
        "#Errors and Exception Handling\n",
        "\n"
      ]
    },
    {
      "cell_type": "markdown",
      "source": [
        "# Exception Handling \n",
        "\n",
        "This notebook is intended to demonstrate the basics of exception handling and the use of context management in order to handle standard cases. I'm hoping that notes can be live and editable to create a set of documentation for you to use as you're learning Python. \n",
        "\n",
        "## Exceptions \n",
        "\n",
        "**Exceptions** are a tool that programmers use to describe errors or faults that are _fatal_ to the program; e.g. the program cannot or should not continue when an exception occurs. Exceptions can occur due to programming errors, user errors, or simply unexpected conditions like no internet access. Exceptions themselves are simply objects that contain information about what went wrong. Exceptions are usually defined by their `type` - which describes broadly the class of exception that occurred, and by a `message` that says specifically what happened. Here are a few common exception types:\n",
        "\n",
        "- `SyntaxError`: raised when the programmer has made a mistake typing Python code correctly. \n",
        "- `AttributeError`: attempting to access an attribute on an object that does not exist \n",
        "- `KeyError`: attempting to access a key in a dictionary that does not exist \n",
        "- `TypeError`: raised when an argument to a function is not the right type (e.g. a `str` instead of `int`) \n",
        "- `ValueError`: when an argument to a function is the right type but not in the right domain (e.g. an empty string)\n",
        "- `ImportError`: raised when an import fails \n",
        "- `IOError`: raised when Python cannot access a file correctly on disk \n",
        "\n",
        "Exceptions are defined in a class hierarchy - e.g. every exception is an object whose class defines it's type. The base class is the `Exception` object. All `Exception` objects are initialized with a message - a string that describes exactly what went wrong. Constructed objects can then be \"raised\" or \"thrown\" with the `raise` keyword:\n",
        "\n",
        "```python\n",
        "raise Exception(\"Something bad happened!\") \n",
        "```\n",
        "\n",
        "The reason the keyword is `raise` is because Python program execution creates what's called a \"stack\" as functions call other functions, which call other functions, etc. When a function (at the bottom of the stack) raises an Exception, it is propagated up through the call stack so that every function gets a chance to \"handle\" the exception (more on that later). If the exception reaches the top of the stack, then the program terminates and a _traceback_ is printed to the console. The traceback is meant to help developers identify what went wrong in their code. \n",
        "\n",
        "Let's take a look at a simple example:"
      ],
      "metadata": {
        "id": "EVGBSGyZ6iiG"
      }
    },
    {
      "cell_type": "code",
      "source": [
        "for i in range(1,10):\n",
        "  print(i)"
      ],
      "metadata": {
        "colab": {
          "base_uri": "https://localhost:8080/"
        },
        "id": "mI3n_vFwKRYK",
        "outputId": "456a3a15-c286-4ef5-dfa4-cc7392cdaf85"
      },
      "execution_count": null,
      "outputs": [
        {
          "output_type": "stream",
          "name": "stdout",
          "text": [
            "1\n",
            "2\n",
            "3\n",
            "4\n",
            "5\n",
            "6\n",
            "7\n",
            "8\n",
            "9\n"
          ]
        }
      ]
    },
    {
      "cell_type": "markdown",
      "source": [
        "The way to read the traceback is to start at the very bottom. As you can see it indicates the type of the exception, followed by a colon, and then the message that was passed to the exception constructor. Often, this information is enough to figure out what is going wrong. However, if we're unsure where the problem occurred, we can step back through the traceback in a bottom to top fashion. \n",
        "\n",
        "The first part of the traceback indicates the exact line of code and file where the exception was raised, as well as the name of the function it was raised in. If you called `main(3)` than this indicates that `first_task_one_subtask_one` is the function where the problem occurred. If you wrote this function, then perhaps that is the place to change your code to handle the exception. \n",
        "\n",
        "However, many times you're using third party libraries or Python standard library modules, meaning the location of the exception raised is not helpful, since you can't change that code. Therefore, you will continue up the call stack until you discover a file/function in the code you wrote. This will provide the surrounding context for why the error was raised, and you can use `pdb` or even just `print` statements to debug the variables around that line of code. Alternatively you can simply handle the exception, which we'll discuss shortly. In the example above, we can see that `first_task_one_subtask_one` was called by `first_task_one` at line 46, which was called by `first` at line 30, which was called by `main` at line 14. \n",
        "\n",
        "## Catching Exceptions \n",
        "\n",
        "If the exception was caused by a programming error, the developer can simply change the code to make it correct. However, if the exception was created by bad user input or by a bad environmental condition (e.g. the wireless is down), then you don't want to crash the program. Instead you want to provide feedback and allow the user to fix the problem or try again. Therefore in your code, you can catch exceptions at the place they occur using the following syntax:\n",
        "\n",
        "```python\n",
        "try:\n",
        "    # Code that may raise an exception \n",
        "except AttributeError as e:\n",
        "    # Code to handle the exception case\n",
        "finally:\n",
        "    # Code that must run even if there was an exception \n",
        "```\n",
        "\n",
        "What we're basically saying is `try` to do the code in the first block - hopefully it works. If it raises an `AttributeError` save that exception in a variable called `e` (the `as e` syntax) then we will deal with that exception in the `except` block. Then `finally` run the code in the `finally` block even if an exception occurs. By specifying exactly the type of exception we want to catch (`AttributeError` in this case), we will not catch all exceptions, only those that are of the type specified, including subclasses. If we want to catch _all_ exceptions, you can use one of the following syntaxes:\n",
        "\n",
        "```python\n",
        "try:\n",
        "    # Code that may raise an exception \n",
        "except:\n",
        "    # Except all exceptions \n",
        "```\n",
        "\n",
        "or \n",
        "\n",
        "```python\n",
        "try:\n",
        "    # Code that may raise an exception \n",
        "except Exception as e:\n",
        "    # Except all exceptions and capture in variable e \n",
        "```\n",
        "\n",
        "However, it is best practice to capture _only_ the type of exception you expect to happen, because you could accidentaly create the situation where you're capturing fatal errors but not handling them appropriately. Here is an example:"
      ],
      "metadata": {
        "id": "9h2EFz2f6sUy"
      }
    },
    {
      "cell_type": "code",
      "execution_count": null,
      "metadata": {
        "id": "dzhooIBk6VW9",
        "outputId": "553679d3-8495-4454-f162-f32bfe07c455",
        "colab": {
          "base_uri": "https://localhost:8080/"
        }
      },
      "outputs": [
        {
          "output_type": "stream",
          "name": "stdout",
          "text": [
            "Hello\n"
          ]
        }
      ],
      "source": [
        "print('Hello')"
      ]
    },
    {
      "cell_type": "markdown",
      "metadata": {
        "id": "fsoOgGie6VXH"
      },
      "source": [
        "Note how we get a SyntaxError, with the further description that it was an EOL (End of Line Error) while scanning the string literal. This is specific enough for us to see that we forgot a single quote at the end of the line. Understanding these various error types will help you debug your code much faster. \n",
        "\n",
        "This type of error and description is known as an Exception. Even if a statement or expression is syntactically correct, it may cause an error when an attempt is made to execute it. Errors detected during execution are called exceptions and are not unconditionally fatal.\n",
        "\n",
        "You can check out the full list of built-in exceptions [here](https://docs.python.org/2/library/exceptions.html). now lets learn how to handle errors and exceptions in our own code."
      ]
    },
    {
      "cell_type": "markdown",
      "metadata": {
        "id": "Fyz41ifa6VXL"
      },
      "source": [
        "##try and except\n",
        "\n",
        "The basic terminology and syntax used to handle errors in Python is the **try** and **except** statements. The code which can cause an exception to occue is put in the *try* block and the handling of the exception is the implemented in the *except* block of code. The syntax form is:\n",
        "\n",
        "    try:\n",
        "       You do your operations here...\n",
        "       ...\n",
        "    except ExceptionI:\n",
        "       If there is ExceptionI, then execute this block.\n",
        "    except ExceptionII:\n",
        "       If there is ExceptionII, then execute this block.\n",
        "       ...\n",
        "    else:\n",
        "       If there is no exception then execute this block. \n",
        "\n",
        "We can also just check for any exception with just using except: To get a better understanding of all this lets check out an example: We will look at some code that opens and writes a file:"
      ]
    },
    {
      "cell_type": "code",
      "source": [
        "try:\n",
        "    a=10\n",
        "    b=20\n",
        "    c=a/b\n",
        "    print(c)\n",
        "except Exception as e:\n",
        "    print(e)"
      ],
      "metadata": {
        "colab": {
          "base_uri": "https://localhost:8080/"
        },
        "id": "ZAlnG3T7L2lR",
        "outputId": "6be7d405-2a56-4a25-bf26-a5f614badee5"
      },
      "execution_count": null,
      "outputs": [
        {
          "output_type": "stream",
          "name": "stdout",
          "text": [
            "0.5\n"
          ]
        }
      ]
    },
    {
      "cell_type": "code",
      "source": [],
      "metadata": {
        "id": "cBYd3XpzL2rQ"
      },
      "execution_count": null,
      "outputs": []
    },
    {
      "cell_type": "code",
      "source": [],
      "metadata": {
        "id": "6brqzPxBL3ID"
      },
      "execution_count": null,
      "outputs": []
    },
    {
      "cell_type": "code",
      "source": [],
      "metadata": {
        "id": "IuZfm-mTL3LD"
      },
      "execution_count": null,
      "outputs": []
    },
    {
      "cell_type": "code",
      "source": [],
      "metadata": {
        "id": "VYWttrwLL3Md"
      },
      "execution_count": null,
      "outputs": []
    },
    {
      "cell_type": "code",
      "source": [],
      "metadata": {
        "id": "O1jh4CqRL3Pc"
      },
      "execution_count": null,
      "outputs": []
    },
    {
      "cell_type": "code",
      "execution_count": null,
      "metadata": {
        "id": "kjZL8D316VXU",
        "outputId": "6f6173c1-be6d-4d71-cc3a-d90a1cc580ea"
      },
      "outputs": [
        {
          "name": "stdout",
          "output_type": "stream",
          "text": [
            "Content written successfully\n"
          ]
        }
      ],
      "source": [
        "try:\n",
        "    f = open('testfile','w')\n",
        "    f.write('Test write this')\n",
        "except IOError:\n",
        "    # This will only check for an IOError exception and then execute this print statement\n",
        "   print \"Error: Could not find file or read data\"\n",
        "else:\n",
        "   print \"Content written successfully\"\n",
        "   f.close()"
      ]
    },
    {
      "cell_type": "markdown",
      "metadata": {
        "id": "xuBl1yd76VXW"
      },
      "source": [
        "Now lets see what would happen if we did not have write permission (opening only with 'r'):"
      ]
    },
    {
      "cell_type": "code",
      "execution_count": null,
      "metadata": {
        "id": "G5lfGODb6VXY",
        "outputId": "0021be27-51a1-43dd-dc82-6aa6da4f6f91"
      },
      "outputs": [
        {
          "name": "stdout",
          "output_type": "stream",
          "text": [
            "Error: Could not find file or read data\n"
          ]
        }
      ],
      "source": [
        "try:\n",
        "    f = open('testfile','r')\n",
        "    f.write('Test write this')\n",
        "except IOError:\n",
        "    # This will only check for an IOError exception and then execute this print statement\n",
        "   print \"Error: Could not find file or read data\"\n",
        "else:\n",
        "   print \"Content written successfully\"\n",
        "   f.close()"
      ]
    },
    {
      "cell_type": "markdown",
      "metadata": {
        "id": "Vw41LLMp6VXc"
      },
      "source": [
        "Great! Notice how we only printed a statement! The code still ran and we were able to continue doing actions and running code blocks. This is extremely useful when you have to account for possible input errors in your code. You can be prepared for the error and keep running code, instead of your code just breaking as we saw above.\n",
        "\n",
        "We could have also just said except: if we weren't sure what exception would occur. For example:"
      ]
    },
    {
      "cell_type": "code",
      "execution_count": null,
      "metadata": {
        "id": "2GuLnvE86VXe",
        "outputId": "721ccd25-a913-474f-be67-8f36bf1ec8d7"
      },
      "outputs": [
        {
          "name": "stdout",
          "output_type": "stream",
          "text": [
            "Error: Could not find file or read data\n"
          ]
        }
      ],
      "source": [
        "try:\n",
        "    f = open('testfile','r')\n",
        "    f.write('Test write this')\n",
        "except:\n",
        "    # This will check for any exception and then execute this print statement\n",
        "   print \"Error: Could not find file or read data\"\n",
        "else:\n",
        "   print \"Content written successfully\"\n",
        "   f.close()"
      ]
    },
    {
      "cell_type": "markdown",
      "metadata": {
        "id": "mxBZqlCI6VXj"
      },
      "source": [
        "Great! Now we don't actually need to memorize that list of exception types! Now what if we kept wanting to run code after the exception occurred? This is where **finally** comes in.\n",
        "##finally\n",
        "The finally: block of code will always be run regardless if there was an exception in the try code block. The syntax is:\n",
        "\n",
        "    try:\n",
        "       Code block here\n",
        "       ...\n",
        "       Due to any exception, this code may be skipped!\n",
        "    finally:\n",
        "       This code block would always be executed.\n",
        "\n",
        "For example:"
      ]
    },
    {
      "cell_type": "code",
      "execution_count": null,
      "metadata": {
        "id": "QnmwAtmG6VXl",
        "outputId": "ebc5731f-a09e-41cf-d40b-67c532df6bb2"
      },
      "outputs": [
        {
          "name": "stdout",
          "output_type": "stream",
          "text": [
            "Always execute finally code blocks\n"
          ]
        }
      ],
      "source": [
        "try:\n",
        "   f = open(\"testfile\", \"w\")\n",
        "   f.write(\"Test write statement\")\n",
        "finally:\n",
        "   print \"Always execute finally code blocks\""
      ]
    },
    {
      "cell_type": "markdown",
      "metadata": {
        "id": "UmvHwH4_6VXm"
      },
      "source": [
        "We can use this in conjunction with except. Lets see a new example that will take into account a user putting in the wrong input:"
      ]
    },
    {
      "cell_type": "code",
      "execution_count": null,
      "metadata": {
        "id": "Ab2-xwOL6VXn"
      },
      "outputs": [],
      "source": [
        "def askint():\n",
        "        try:\n",
        "            val = int(raw_input(\"Please enter an integer: \"))\n",
        "        except:\n",
        "            print \"Looks like you did not enter an integer!\"\n",
        "            \n",
        "        finally:\n",
        "            print \"Finally, I executed!\"\n",
        "        print val       "
      ]
    },
    {
      "cell_type": "code",
      "execution_count": null,
      "metadata": {
        "id": "5A5HytbE6VXo",
        "outputId": "67a10f57-ab5c-466f-8efd-fb952f5a97ec"
      },
      "outputs": [
        {
          "name": "stdout",
          "output_type": "stream",
          "text": [
            "Please enter an integer: 5\n",
            "Finally, I executed!\n",
            "5\n"
          ]
        }
      ],
      "source": [
        "askint()"
      ]
    },
    {
      "cell_type": "code",
      "execution_count": null,
      "metadata": {
        "id": "UtPgmn5G6VXq",
        "outputId": "41bbcea8-e890-4880-add9-a0ea0c684f6b"
      },
      "outputs": [
        {
          "name": "stdout",
          "output_type": "stream",
          "text": [
            "Please enter an integer: five\n",
            "Looks like you did not enter an integer!\n",
            "Finally, I executed!\n"
          ]
        },
        {
          "ename": "UnboundLocalError",
          "evalue": "local variable 'val' referenced before assignment",
          "output_type": "error",
          "traceback": [
            "\u001b[0;31m---------------------------------------------------------------------------\u001b[0m",
            "\u001b[0;31mUnboundLocalError\u001b[0m                         Traceback (most recent call last)",
            "\u001b[0;32m<ipython-input-36-6ee53d339e7e>\u001b[0m in \u001b[0;36m<module>\u001b[0;34m()\u001b[0m\n\u001b[0;32m----> 1\u001b[0;31m \u001b[0maskint\u001b[0m\u001b[0;34m(\u001b[0m\u001b[0;34m)\u001b[0m\u001b[0;34m\u001b[0m\u001b[0m\n\u001b[0m",
            "\u001b[0;32m<ipython-input-33-728ec4c542c2>\u001b[0m in \u001b[0;36maskint\u001b[0;34m()\u001b[0m\n\u001b[1;32m      7\u001b[0m         \u001b[0;32mfinally\u001b[0m\u001b[0;34m:\u001b[0m\u001b[0;34m\u001b[0m\u001b[0m\n\u001b[1;32m      8\u001b[0m             \u001b[0;32mprint\u001b[0m \u001b[0;34m\"Finally, I executed!\"\u001b[0m\u001b[0;34m\u001b[0m\u001b[0m\n\u001b[0;32m----> 9\u001b[0;31m         \u001b[0;32mprint\u001b[0m \u001b[0mval\u001b[0m\u001b[0;34m\u001b[0m\u001b[0m\n\u001b[0m",
            "\u001b[0;31mUnboundLocalError\u001b[0m: local variable 'val' referenced before assignment"
          ]
        }
      ],
      "source": [
        "askint()"
      ]
    },
    {
      "cell_type": "markdown",
      "metadata": {
        "id": "75tX8aru6VXr"
      },
      "source": [
        "Notice how we got an error when trying to print val (because it was never properly assigned) Lets remedy this by asking the user and checking to make sure the input type is an integer:"
      ]
    },
    {
      "cell_type": "code",
      "execution_count": null,
      "metadata": {
        "id": "mMx5ifd96VXs"
      },
      "outputs": [],
      "source": [
        "def askint():\n",
        "        try:\n",
        "            val = int(raw_input(\"Please enter an integer: \"))\n",
        "        except:\n",
        "            print \"Looks like you did not enter an integer!\"\n",
        "            val = int(raw_input(\"Try again-Please enter an integer: \"))\n",
        "        finally:\n",
        "            print \"Finally, I executed!\"\n",
        "        print val "
      ]
    },
    {
      "cell_type": "code",
      "execution_count": null,
      "metadata": {
        "id": "ubuW5GRM6VXu",
        "outputId": "d577b540-f5c3-4f2c-8d1c-cddec925298b"
      },
      "outputs": [
        {
          "name": "stdout",
          "output_type": "stream",
          "text": [
            "Please enter an integer: f\n",
            "Looks like you did not enter an integer!\n",
            "Try again-Please enter an integer: f\n",
            "Finally, I executed!\n"
          ]
        },
        {
          "ename": "ValueError",
          "evalue": "invalid literal for int() with base 10: 'f'",
          "output_type": "error",
          "traceback": [
            "\u001b[0;31m---------------------------------------------------------------------------\u001b[0m",
            "\u001b[0;31mValueError\u001b[0m                                Traceback (most recent call last)",
            "\u001b[0;32m<ipython-input-40-6ee53d339e7e>\u001b[0m in \u001b[0;36m<module>\u001b[0;34m()\u001b[0m\n\u001b[0;32m----> 1\u001b[0;31m \u001b[0maskint\u001b[0m\u001b[0;34m(\u001b[0m\u001b[0;34m)\u001b[0m\u001b[0;34m\u001b[0m\u001b[0m\n\u001b[0m",
            "\u001b[0;32m<ipython-input-39-e540976abf48>\u001b[0m in \u001b[0;36maskint\u001b[0;34m()\u001b[0m\n\u001b[1;32m      4\u001b[0m         \u001b[0;32mexcept\u001b[0m\u001b[0;34m:\u001b[0m\u001b[0;34m\u001b[0m\u001b[0m\n\u001b[1;32m      5\u001b[0m             \u001b[0;32mprint\u001b[0m \u001b[0;34m\"Looks like you did not enter an integer!\"\u001b[0m\u001b[0;34m\u001b[0m\u001b[0m\n\u001b[0;32m----> 6\u001b[0;31m             \u001b[0mval\u001b[0m \u001b[0;34m=\u001b[0m \u001b[0mint\u001b[0m\u001b[0;34m(\u001b[0m\u001b[0mraw_input\u001b[0m\u001b[0;34m(\u001b[0m\u001b[0;34m\"Try again-Please enter an integer: \"\u001b[0m\u001b[0;34m)\u001b[0m\u001b[0;34m)\u001b[0m\u001b[0;34m\u001b[0m\u001b[0m\n\u001b[0m\u001b[1;32m      7\u001b[0m         \u001b[0;32mfinally\u001b[0m\u001b[0;34m:\u001b[0m\u001b[0;34m\u001b[0m\u001b[0m\n\u001b[1;32m      8\u001b[0m             \u001b[0;32mprint\u001b[0m \u001b[0;34m\"Finally, I executed!\"\u001b[0m\u001b[0;34m\u001b[0m\u001b[0m\n",
            "\u001b[0;31mValueError\u001b[0m: invalid literal for int() with base 10: 'f'"
          ]
        }
      ],
      "source": [
        "askint()"
      ]
    },
    {
      "cell_type": "markdown",
      "metadata": {
        "id": "012nrfuc6VXv"
      },
      "source": [
        "Hmmm...that only did one check. How can we continually keep checking? We can use a while loop!"
      ]
    },
    {
      "cell_type": "code",
      "execution_count": null,
      "metadata": {
        "collapsed": true,
        "id": "ZUN5_3K06VXv"
      },
      "outputs": [],
      "source": [
        "def askint():\n",
        "    while True:\n",
        "        try:\n",
        "            val = int(raw_input(\"Please enter an integer: \"))\n",
        "        except:\n",
        "            print \"Looks like you did not enter an integer!\"\n",
        "            continue\n",
        "        else:\n",
        "            print 'Yep thats an integer!'\n",
        "            break\n",
        "        finally:\n",
        "            print \"Finally, I executed!\"\n",
        "        print val "
      ]
    },
    {
      "cell_type": "code",
      "execution_count": null,
      "metadata": {
        "id": "rFYsWuZn6VXx",
        "outputId": "f789eea8-8a2b-49a2-91d1-154c18f2602a"
      },
      "outputs": [
        {
          "name": "stdout",
          "output_type": "stream",
          "text": [
            "Please enter an integer: five\n",
            "Looks like you did not enter an integer!\n",
            "Finally, I executed!\n",
            "Please enter an integer: five\n",
            "Looks like you did not enter an integer!\n",
            "Finally, I executed!\n",
            "Please enter an integer: four\n",
            "Looks like you did not enter an integer!\n",
            "Finally, I executed!\n",
            "Please enter an integer: 4\n",
            "Yep thats an integer!\n",
            "Finally, I executed!\n"
          ]
        }
      ],
      "source": [
        "askint()"
      ]
    },
    {
      "cell_type": "markdown",
      "metadata": {
        "id": "aDiatd0N6VXy"
      },
      "source": [
        "**Great! Now you know how to handle errors and exceptions in Python with the try, except, else, and finally notation!**"
      ]
    }
  ],
  "metadata": {
    "kernelspec": {
      "display_name": "Python 2",
      "language": "python",
      "name": "python2"
    },
    "language_info": {
      "codemirror_mode": {
        "name": "ipython",
        "version": 2
      },
      "file_extension": ".py",
      "mimetype": "text/x-python",
      "name": "python",
      "nbconvert_exporter": "python",
      "pygments_lexer": "ipython2",
      "version": "2.7.10"
    },
    "colab": {
      "provenance": [],
      "include_colab_link": true
    }
  },
  "nbformat": 4,
  "nbformat_minor": 0
}