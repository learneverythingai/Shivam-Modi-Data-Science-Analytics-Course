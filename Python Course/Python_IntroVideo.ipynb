{
  "nbformat": 4,
  "nbformat_minor": 0,
  "metadata": {
    "colab": {
      "provenance": [],
      "include_colab_link": true
    },
    "kernelspec": {
      "name": "python3",
      "display_name": "Python 3"
    },
    "language_info": {
      "name": "python"
    }
  },
  "cells": [
    {
      "cell_type": "markdown",
      "metadata": {
        "id": "view-in-github",
        "colab_type": "text"
      },
      "source": [
        "<a href=\"https://colab.research.google.com/github/learneverythingai/Shivam-Modi-Data-Science-Analytics-Course/blob/main/Python%20Course/Python_IntroVideo.ipynb\" target=\"_parent\"><img src=\"https://colab.research.google.com/assets/colab-badge.svg\" alt=\"Open In Colab\"/></a>"
      ]
    },
    {
      "cell_type": "markdown",
      "source": [
        "Python is a popular programming language. It was created by Guido van Rossum, and released in 1991.\n",
        "\n",
        "What can Python do?\n",
        "\n",
        "Python can be used on a server to create web applications.\n",
        "\n",
        "Python can be used alongside software to create workflows.\n",
        "\n",
        "Python can connect to database systems. It can also read and modify files.\n",
        "\n",
        "Python can be used to handle big data and perform complex mathematics.\n",
        "\n",
        "Python can be used for rapid prototyping, or for production-ready software development."
      ],
      "metadata": {
        "id": "y3ePMhWD_4TX"
      }
    },
    {
      "cell_type": "markdown",
      "source": [
        "Python Syntax compared to other programming languages\n",
        "\n",
        "Python was designed for readability, and has some similarities to the English language with influence from mathematics.\n",
        "\n",
        "Python uses new lines to complete a command, as opposed to other programming languages which often use semicolons or parentheses.\n",
        "\n",
        "Python relies on indentation, using whitespace, to define scope; such as the scope of loops, functions and classes. Other programming languages often use curly-brackets for this purpose."
      ],
      "metadata": {
        "id": "pkVHrYYfAA7U"
      }
    },
    {
      "cell_type": "code",
      "execution_count": null,
      "metadata": {
        "colab": {
          "base_uri": "https://localhost:8080/"
        },
        "id": "spZjQLQ6_q2v",
        "outputId": "7bfadd36-9859-40b3-f337-ab250f297831"
      },
      "outputs": [
        {
          "output_type": "stream",
          "name": "stdout",
          "text": [
            "hello world!!!!!!!!\n"
          ]
        }
      ],
      "source": [
        "print(\"hello world!!!!!!!!\")"
      ]
    },
    {
      "cell_type": "markdown",
      "source": [
        "Python Indentation\n",
        "\n",
        "Indentation refers to the spaces at the beginning of a code line.\n",
        "\n",
        "Where in other programming languages the indentation in code is for readability only, the indentation in Python is very important.\n",
        "\n",
        "Python uses indentation to indicate a block of code."
      ],
      "metadata": {
        "id": "-PwTnAPvAQFM"
      }
    },
    {
      "cell_type": "code",
      "source": [
        "if 1 < 5:\n",
        "    print(\"1 less than 5\")"
      ],
      "metadata": {
        "colab": {
          "base_uri": "https://localhost:8080/"
        },
        "id": "9gmLXHhhAE6K",
        "outputId": "a40a531e-491e-4111-ac16-596a52a2efad"
      },
      "execution_count": null,
      "outputs": [
        {
          "output_type": "stream",
          "name": "stdout",
          "text": [
            "1 less than 5\n"
          ]
        }
      ]
    },
    {
      "cell_type": "code",
      "source": [
        "if 1 < 5:\n",
        "print(\"1 less than 5\")"
      ],
      "metadata": {
        "colab": {
          "base_uri": "https://localhost:8080/",
          "height": 130
        },
        "id": "pltPUkzZATAN",
        "outputId": "6b0d5116-a741-486b-d308-4529a0170a59"
      },
      "execution_count": null,
      "outputs": [
        {
          "output_type": "error",
          "ename": "IndentationError",
          "evalue": "ignored",
          "traceback": [
            "\u001b[0;36m  File \u001b[0;32m\"<ipython-input-6-1a464ac54a5e>\"\u001b[0;36m, line \u001b[0;32m2\u001b[0m\n\u001b[0;31m    print(\"1 less than 5\")\u001b[0m\n\u001b[0m        ^\u001b[0m\n\u001b[0;31mIndentationError\u001b[0m\u001b[0;31m:\u001b[0m expected an indented block\n"
          ]
        }
      ]
    },
    {
      "cell_type": "markdown",
      "source": [
        "Comments can be used to make the code more readable."
      ],
      "metadata": {
        "id": "VtTjjLv8AqF2"
      }
    },
    {
      "cell_type": "code",
      "source": [
        "#This is a comment\n",
        "#thiS IS USED FOR COMMENTS\n",
        "print(\"Hello, World!\")"
      ],
      "metadata": {
        "colab": {
          "base_uri": "https://localhost:8080/"
        },
        "id": "_-ximN5CAbw4",
        "outputId": "715d1941-a2f8-4a32-9481-bec5b79bb9ee"
      },
      "execution_count": null,
      "outputs": [
        {
          "output_type": "stream",
          "name": "stdout",
          "text": [
            "Hello, World!\n"
          ]
        }
      ]
    },
    {
      "cell_type": "code",
      "source": [
        "\"\"\"\n",
        " COMMENTS \n",
        "Multiple line comments\n",
        "\"\"\"\n",
        "print(\"hello\")"
      ],
      "metadata": {
        "colab": {
          "base_uri": "https://localhost:8080/"
        },
        "id": "baFWbV-TKxXq",
        "outputId": "478f95fa-68ad-4df5-a8ae-50bb8ad5e91b"
      },
      "execution_count": null,
      "outputs": [
        {
          "output_type": "stream",
          "name": "stdout",
          "text": [
            "hello\n"
          ]
        }
      ]
    },
    {
      "cell_type": "markdown",
      "source": [
        "#Creating Variables\n",
        "\n",
        "Python has no command for declaring a variable.\n",
        "\n",
        "A variable is created the moment you first assign a value to it."
      ],
      "metadata": {
        "id": "lKsmFIYvDhaG"
      }
    },
    {
      "cell_type": "code",
      "source": [
        "a=5\n",
        "b=\"XYZ\"\n",
        "print(a)\n",
        "print(b)"
      ],
      "metadata": {
        "colab": {
          "base_uri": "https://localhost:8080/"
        },
        "id": "8dxo1__6LFHE",
        "outputId": "d9a79a49-96d9-47d0-875f-6a7ce76edf71"
      },
      "execution_count": null,
      "outputs": [
        {
          "output_type": "stream",
          "name": "stdout",
          "text": [
            "5\n",
            "XYZ\n"
          ]
        }
      ]
    },
    {
      "cell_type": "code",
      "source": [
        "x = 10\n",
        "y = \"ABC\"\n",
        "print(x)\n",
        "print(y)"
      ],
      "metadata": {
        "colab": {
          "base_uri": "https://localhost:8080/"
        },
        "id": "v72xsb7GBOmD",
        "outputId": "f36921ca-7a8b-455b-b3df-60e35aefb0b6"
      },
      "execution_count": null,
      "outputs": [
        {
          "output_type": "stream",
          "name": "stdout",
          "text": [
            "10\n",
            "ABC\n"
          ]
        }
      ]
    },
    {
      "cell_type": "markdown",
      "source": [
        "Variables do not need to be declared with any particular type, and can even change type after they have been set."
      ],
      "metadata": {
        "id": "3_oNzbPMDx_D"
      }
    },
    {
      "cell_type": "code",
      "source": [
        "x = 4       # x is of type int\n",
        "print(x)\n",
        "x = \"ABC\" # x is now of type str\n",
        "print(x)"
      ],
      "metadata": {
        "colab": {
          "base_uri": "https://localhost:8080/"
        },
        "id": "9WMpBhJlDoyz",
        "outputId": "e9d30cfa-5791-45f3-91f7-3f8ee6346b7e"
      },
      "execution_count": null,
      "outputs": [
        {
          "output_type": "stream",
          "name": "stdout",
          "text": [
            "4\n",
            "ABC\n"
          ]
        }
      ]
    },
    {
      "cell_type": "code",
      "source": [
        "x = 5\n",
        "y = \"ABC\"\n",
        "z= 10.0\n",
        "print(type(x))\n",
        "print(type(y))\n",
        "print(type(z))"
      ],
      "metadata": {
        "colab": {
          "base_uri": "https://localhost:8080/"
        },
        "id": "QdWEq_TjD0vP",
        "outputId": "33795c54-5922-4d9b-c3f9-57d1ff7967fa"
      },
      "execution_count": null,
      "outputs": [
        {
          "output_type": "stream",
          "name": "stdout",
          "text": [
            "<class 'int'>\n",
            "<class 'str'>\n",
            "<class 'float'>\n"
          ]
        }
      ]
    },
    {
      "cell_type": "markdown",
      "source": [
        "Single or Double Quotes?\n",
        "String variables can be declared either by using single or double quotes"
      ],
      "metadata": {
        "id": "7V1muN7kEbBa"
      }
    },
    {
      "cell_type": "code",
      "source": [
        "x = \"ABC\"\n",
        "# is the same as\n",
        "x = 'John'\n",
        "print(x)"
      ],
      "metadata": {
        "id": "cfsWYddPERxS",
        "colab": {
          "base_uri": "https://localhost:8080/"
        },
        "outputId": "71e9330a-b8b6-4d1c-e73f-b8424bae7bb2"
      },
      "execution_count": null,
      "outputs": [
        {
          "output_type": "stream",
          "name": "stdout",
          "text": [
            "John\n"
          ]
        }
      ]
    },
    {
      "cell_type": "code",
      "source": [
        "a=\"ABC\""
      ],
      "metadata": {
        "id": "loErfjJBMDzq"
      },
      "execution_count": null,
      "outputs": []
    },
    {
      "cell_type": "code",
      "source": [
        "a = 4\n",
        "A = \"Sally\"\n",
        "print(a)\n",
        "print(A)\n",
        "#A will not overwrite a"
      ],
      "metadata": {
        "id": "ppCMP4XgEWlz",
        "colab": {
          "base_uri": "https://localhost:8080/"
        },
        "outputId": "a64547f4-ba62-4024-be1e-090c12fa32a6"
      },
      "execution_count": null,
      "outputs": [
        {
          "output_type": "stream",
          "name": "stdout",
          "text": [
            "4\n",
            "Sally\n"
          ]
        }
      ]
    },
    {
      "cell_type": "markdown",
      "source": [
        "#Python - Variable Names\n",
        "\n",
        "\n",
        "Variable Names<br>\n",
        "A variable can have a short name (like x and y) or a more descriptive name (age, carname, total_volume). <br>\n",
        "Rules for Python variables:<br>\n",
        "A variable name must start with a letter or the underscore character<br>\n",
        "A variable name cannot start with a number<br>\n",
        "A variable name can only contain alpha-numeric characters and underscores (A-z, 0-9, and _ )<br>\n",
        "Variable names are case-sensitive (age, Age and AGE are three different variables)<br>\n"
      ],
      "metadata": {
        "id": "Tjuc0P29Fku9"
      }
    },
    {
      "cell_type": "code",
      "source": [
        "myvar = \"ABCD\"\n",
        "my_var = \"ABCD\"\n",
        "_my_var = \"ABCD\"\n",
        "myVar = \"ABCD\"\n",
        "MYVAR = \"ABCD\"\n",
        "myvar2 = \"ABCD\""
      ],
      "metadata": {
        "id": "lrG8anlqEkXv"
      },
      "execution_count": null,
      "outputs": []
    },
    {
      "cell_type": "code",
      "source": [
        "2myvar = \"John\"\n",
        "my-var = \"John\"\n",
        "my var = \"John\""
      ],
      "metadata": {
        "colab": {
          "base_uri": "https://localhost:8080/",
          "height": 130
        },
        "id": "AxjV2_wYGJcQ",
        "outputId": "5b869405-02d1-4679-aa88-242798971661"
      },
      "execution_count": null,
      "outputs": [
        {
          "output_type": "error",
          "ename": "SyntaxError",
          "evalue": "ignored",
          "traceback": [
            "\u001b[0;36m  File \u001b[0;32m\"<ipython-input-12-0e82719f22b4>\"\u001b[0;36m, line \u001b[0;32m1\u001b[0m\n\u001b[0;31m    2myvar = \"John\"\u001b[0m\n\u001b[0m         ^\u001b[0m\n\u001b[0;31mSyntaxError\u001b[0m\u001b[0;31m:\u001b[0m invalid syntax\n"
          ]
        }
      ]
    },
    {
      "cell_type": "markdown",
      "source": [
        "Camel Case\n",
        "\n",
        "Each word, except the first, starts with a capital letter:\n",
        "\n",
        "myVariableName = \"John\""
      ],
      "metadata": {
        "id": "ZT9ET4VrGXMP"
      }
    },
    {
      "cell_type": "code",
      "source": [
        "myVariableName = \"John\""
      ],
      "metadata": {
        "id": "N8oCihRHGS3c"
      },
      "execution_count": null,
      "outputs": []
    },
    {
      "cell_type": "markdown",
      "source": [
        "Pascal Case\n",
        "Each word starts with a capital letter\n"
      ],
      "metadata": {
        "id": "qxIy2UieGd37"
      }
    },
    {
      "cell_type": "code",
      "source": [
        "MyVariableName = \"John\""
      ],
      "metadata": {
        "id": "ZZpBnu5DGgt9"
      },
      "execution_count": null,
      "outputs": []
    },
    {
      "cell_type": "markdown",
      "source": [
        "\n",
        "Snake Case\n",
        "Each word is separated by an underscore character"
      ],
      "metadata": {
        "id": "Gp-mQxglGmHg"
      }
    },
    {
      "cell_type": "code",
      "source": [
        "my_variable_name = \"John\""
      ],
      "metadata": {
        "id": "NEQc7mSWG1n9"
      },
      "execution_count": null,
      "outputs": []
    },
    {
      "cell_type": "markdown",
      "source": [
        "Many Values to Multiple Variables\n"
      ],
      "metadata": {
        "id": "Z-VJIujeby8V"
      }
    },
    {
      "cell_type": "code",
      "source": [
        "x, y, z = \"abc\", \"xyz\", \"pqr\"\n",
        "print(x)\n",
        "print(y)\n",
        "print(z)"
      ],
      "metadata": {
        "colab": {
          "base_uri": "https://localhost:8080/"
        },
        "id": "PTBOpor7b2a0",
        "outputId": "bc3522ab-1524-4765-994d-2d9ea1cba604"
      },
      "execution_count": null,
      "outputs": [
        {
          "output_type": "stream",
          "name": "stdout",
          "text": [
            "abc\n",
            "xyz\n",
            "pqr\n"
          ]
        }
      ]
    },
    {
      "cell_type": "markdown",
      "source": [
        "One Value to Multiple Variables\n"
      ],
      "metadata": {
        "id": "AiJ4XiNtc22a"
      }
    },
    {
      "cell_type": "code",
      "source": [
        "x = y = z = \"Orange\"\n",
        "print(x)\n",
        "print(y)\n",
        "print(z)"
      ],
      "metadata": {
        "colab": {
          "base_uri": "https://localhost:8080/"
        },
        "id": "DjCVGiXbb6Ko",
        "outputId": "2cd8e262-6919-4906-b3fc-3c2df0bbefb4"
      },
      "execution_count": null,
      "outputs": [
        {
          "output_type": "stream",
          "name": "stdout",
          "text": [
            "Orange\n",
            "Orange\n",
            "Orange\n"
          ]
        }
      ]
    },
    {
      "cell_type": "markdown",
      "source": [
        "Unpack a Collection<br>\n",
        "If you have a collection of values in a list, tuple etc. Python allows you to extract the values into variables. This is called unpacking."
      ],
      "metadata": {
        "id": "BkUh2Fd8c69P"
      }
    },
    {
      "cell_type": "code",
      "source": [
        "fruits = [\"abc\", \"xyz\", \"pqr\"]\n",
        "x, y, z = fruits\n",
        "print(x)\n",
        "print(y)\n",
        "print(z)"
      ],
      "metadata": {
        "colab": {
          "base_uri": "https://localhost:8080/"
        },
        "id": "df7my7YQc4SE",
        "outputId": "8cb1222b-6ac0-41e0-8adf-6b552d4d11e1"
      },
      "execution_count": null,
      "outputs": [
        {
          "output_type": "stream",
          "name": "stdout",
          "text": [
            "abc\n",
            "xyz\n",
            "pqr\n"
          ]
        }
      ]
    },
    {
      "cell_type": "code",
      "source": [
        "x = \"Python \"\n",
        "y = \"is \"\n",
        "z = \"awesome\"\n",
        "print(x + y + z)\n",
        "#python is awesone "
      ],
      "metadata": {
        "colab": {
          "base_uri": "https://localhost:8080/"
        },
        "id": "UGrfDhIzc9tX",
        "outputId": "6af621ef-3fec-45c1-dc30-5d6b86738c2f"
      },
      "execution_count": null,
      "outputs": [
        {
          "output_type": "stream",
          "name": "stdout",
          "text": [
            "Python is awesome\n"
          ]
        }
      ]
    },
    {
      "cell_type": "code",
      "source": [
        "x = \"Python\"\n",
        "y = \"is\"\n",
        "z = \"awesome\"\n",
        "print(x, y, z)"
      ],
      "metadata": {
        "colab": {
          "base_uri": "https://localhost:8080/"
        },
        "id": "tiOiJm25dIDB",
        "outputId": "19d88be6-2286-429b-c096-f87f52387e98"
      },
      "execution_count": null,
      "outputs": [
        {
          "output_type": "stream",
          "name": "stdout",
          "text": [
            "Python is awesome\n"
          ]
        }
      ]
    },
    {
      "cell_type": "code",
      "source": [
        "x = \"Python is awesome\"\n",
        "print(x)"
      ],
      "metadata": {
        "colab": {
          "base_uri": "https://localhost:8080/"
        },
        "id": "Mpd39BAldKHQ",
        "outputId": "5a18138d-3479-468e-c1b7-de995d145b4f"
      },
      "execution_count": null,
      "outputs": [
        {
          "output_type": "stream",
          "name": "stdout",
          "text": [
            "Python is awesome\n"
          ]
        }
      ]
    },
    {
      "cell_type": "code",
      "source": [
        "x = 5\n",
        "y = 10\n",
        "print(x + y)"
      ],
      "metadata": {
        "colab": {
          "base_uri": "https://localhost:8080/"
        },
        "id": "s3bFRljIdMSs",
        "outputId": "cec4591d-bce8-459a-ea65-68bb49d465a5"
      },
      "execution_count": null,
      "outputs": [
        {
          "output_type": "stream",
          "name": "stdout",
          "text": [
            "15\n"
          ]
        }
      ]
    },
    {
      "cell_type": "code",
      "source": [
        "x = 5\n",
        "y = \"John\"\n",
        "print(x, y)"
      ],
      "metadata": {
        "colab": {
          "base_uri": "https://localhost:8080/"
        },
        "id": "hMKfjy25dPMi",
        "outputId": "d2249a74-a36e-4fa1-c25a-86745abea90e"
      },
      "execution_count": null,
      "outputs": [
        {
          "output_type": "stream",
          "name": "stdout",
          "text": [
            "5 John\n"
          ]
        }
      ]
    },
    {
      "cell_type": "code",
      "source": [
        "x = ['India','Israel','Canada']\n",
        "for i in x:\n",
        "  print(i)"
      ],
      "metadata": {
        "colab": {
          "base_uri": "https://localhost:8080/"
        },
        "id": "g202YFa6qaPI",
        "outputId": "1807f54a-eb6e-4212-8588-a314d2dd385b"
      },
      "execution_count": null,
      "outputs": [
        {
          "output_type": "stream",
          "name": "stdout",
          "text": [
            "India\n",
            "Israel\n",
            "Canada\n"
          ]
        }
      ]
    },
    {
      "cell_type": "code",
      "source": [
        "for i in range(0,10):\n",
        "  print(i)"
      ],
      "metadata": {
        "colab": {
          "base_uri": "https://localhost:8080/"
        },
        "id": "AxyXNhcwqcGa",
        "outputId": "4a62b46c-58f1-4fb7-e225-5a06c1855e40"
      },
      "execution_count": null,
      "outputs": [
        {
          "output_type": "stream",
          "name": "stdout",
          "text": [
            "0\n",
            "1\n",
            "2\n",
            "3\n",
            "4\n",
            "5\n",
            "6\n",
            "7\n",
            "8\n",
            "9\n"
          ]
        }
      ]
    },
    {
      "cell_type": "code",
      "source": [],
      "metadata": {
        "id": "oZFJm0fcqwYB"
      },
      "execution_count": null,
      "outputs": []
    }
  ]
}