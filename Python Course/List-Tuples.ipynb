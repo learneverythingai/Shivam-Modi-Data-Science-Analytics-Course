{
  "cells": [
    {
      "cell_type": "markdown",
      "metadata": {
        "id": "view-in-github",
        "colab_type": "text"
      },
      "source": [
        "<a href=\"https://colab.research.google.com/github/learneverythingai/Shivam-Modi-Data-Science-Analytics-Course/blob/main/Python%20Course/List-Tuples.ipynb\" target=\"_parent\"><img src=\"https://colab.research.google.com/assets/colab-badge.svg\" alt=\"Open In Colab\"/></a>"
      ]
    },
    {
      "cell_type": "markdown",
      "source": [
        "#The Author and Instructor of this Notebook is Shivam Modi.\n",
        "##LinkedIn: https://www.linkedin.com/in/shivam-modi-datascientist/"
      ],
      "metadata": {
        "id": "EYDoaheswP7i"
      },
      "id": "EYDoaheswP7i"
    },
    {
      "cell_type": "markdown",
      "id": "9ae563da",
      "metadata": {
        "id": "9ae563da"
      },
      "source": [
        "### List\n",
        "1) List is ordered collection of elements of same or different data types<br>\n",
        "2) List elements are enclosed in square brackets [] and are separated by comma<br>\n",
        "3) List is mutable (can be changed)<br>\n",
        "4) Indexing and slicing is allowed in list<br>\n",
        "5) List can store duplicate elements"
      ]
    },
    {
      "cell_type": "markdown",
      "id": "b82abad8",
      "metadata": {
        "id": "b82abad8"
      },
      "source": [
        "### Tuple\n",
        "\n",
        "1) Tuple is also an ordered collection of elements of same or different data types<br>\n",
        "2) Tuple elements are represented in () and the elements are separated by comma.<br>\n",
        "3) Tuple is Immutable(cant be changed)<br>\n",
        "4) Indexing and slicing is allowed<br>\n",
        "5) Duplicate elements are allowed<br>"
      ]
    },
    {
      "cell_type": "markdown",
      "id": "80b1fcea",
      "metadata": {
        "id": "80b1fcea"
      },
      "source": [
        "#### Empty list or tuple Creation"
      ]
    },
    {
      "cell_type": "code",
      "execution_count": null,
      "id": "c370becf",
      "metadata": {
        "scrolled": true,
        "id": "c370becf",
        "outputId": "2efd8930-2d6f-4a38-c2e6-d6ed6520b8ed"
      },
      "outputs": [
        {
          "name": "stdout",
          "output_type": "stream",
          "text": [
            "[] <class 'list'>\n",
            "[] <class 'list'>\n",
            "() <class 'tuple'>\n",
            "() <class 'tuple'>\n"
          ]
        }
      ],
      "source": [
        "a1,a2 = [], list()\n",
        "a3,a4 = (), tuple()\n",
        "print(a1,type(a1))\n",
        "print(a2,type(a2))\n",
        "print(a3,type(a3))\n",
        "print(a4,type(a4))"
      ]
    },
    {
      "cell_type": "markdown",
      "id": "9f58c527",
      "metadata": {
        "id": "9f58c527"
      },
      "source": [
        "#### Examples of list/tuple"
      ]
    },
    {
      "cell_type": "code",
      "execution_count": null,
      "id": "b1d13999",
      "metadata": {
        "id": "b1d13999",
        "outputId": "7571b7ca-2757-4fc0-acd4-bfc407278441"
      },
      "outputs": [
        {
          "name": "stdout",
          "output_type": "stream",
          "text": [
            "[10, None, 25, 45, 5.7, 'Google'] 6 <class 'list'>\n",
            "(30, 45, 'Hello', None, False) 5 <class 'tuple'>\n"
          ]
        }
      ],
      "source": [
        "w1 = [10,None,25,45,5.7,\"Google\"]\n",
        "w2 = (30,45,'Hello',None,False)\n",
        "print(w1,len(w1),type(w1))\n",
        "print(w2,len(w2),type(w2))"
      ]
    },
    {
      "cell_type": "markdown",
      "id": "c3ff9471",
      "metadata": {
        "id": "c3ff9471"
      },
      "source": [
        "#### Indexing and Slicing in List/Tuple"
      ]
    },
    {
      "cell_type": "code",
      "execution_count": null,
      "id": "dad375fa",
      "metadata": {
        "scrolled": false,
        "id": "dad375fa",
        "outputId": "d1fa2f00-8f49-4d47-d18b-fd63fce60aa7"
      },
      "outputs": [
        {
          "name": "stdout",
          "output_type": "stream",
          "text": [
            "80 30\n",
            "[30, 50, 70]\n",
            "[100, 70, 40]\n"
          ]
        }
      ],
      "source": [
        "q = [10,20,30,40,50,60,70,80,90,100]\n",
        "print(q[7],q[-8])\n",
        "print(q[2:8:2])  # start=2,end=8,step=+2\n",
        "print(q[-1:2:-3])  # start=-1,end=2,step=-3"
      ]
    },
    {
      "cell_type": "markdown",
      "id": "6de2755e",
      "metadata": {
        "id": "6de2755e"
      },
      "source": [
        "#### Iteration in List/tuple"
      ]
    },
    {
      "cell_type": "code",
      "execution_count": null,
      "id": "2a48d0a0",
      "metadata": {
        "id": "2a48d0a0",
        "outputId": "80210598-4602-417f-d9f1-67d034e44640"
      },
      "outputs": [
        {
          "name": "stdout",
          "output_type": "stream",
          "text": [
            "10 20 Hello 18 14 21 "
          ]
        }
      ],
      "source": [
        "a1 = [10,20,'Hello',18,14,21]\n",
        "# Method-1, element wise iteration\n",
        "for i in a1:   # i copprresponds to each and every element of list a1\n",
        "    print(i,end=' ') #end=/n"
      ]
    },
    {
      "cell_type": "code",
      "execution_count": null,
      "id": "df5126f6",
      "metadata": {
        "id": "df5126f6",
        "outputId": "8b1c52a9-44bc-4dbd-984b-210245c6af57"
      },
      "outputs": [
        {
          "name": "stdout",
          "output_type": "stream",
          "text": [
            "0 10\n",
            "1 20\n",
            "2 Hello\n",
            "3 18\n",
            "4 14\n",
            "5 21\n"
          ]
        }
      ],
      "source": [
        "a1 = [10,20,'Hello',18,14,21]\n",
        "# Method-2, Index wise iteration\n",
        "for i in range(len(a1)): # start=0,end=len(a1)=6,step=+1, i=0,1,2,3,4,5 # syntax of range = range(start,end,step)\n",
        "    # i is the index of the elements of list a1\n",
        "    print(i,a1[i])"
      ]
    },
    {
      "cell_type": "code",
      "execution_count": null,
      "id": "24428aab",
      "metadata": {
        "scrolled": false,
        "id": "24428aab",
        "outputId": "f109b1a8-15df-4938-ba0b-428671b0f6f0"
      },
      "outputs": [
        {
          "name": "stdout",
          "output_type": "stream",
          "text": [
            "0 5\n",
            "1 6\n",
            "2 IPL\n",
            "3 8\n",
            "4 9\n"
          ]
        }
      ],
      "source": [
        "a1 = [5,6,'IPL',8,9]\n",
        "i =0\n",
        "while i<len(a1):\n",
        "    print(i,a1[i])\n",
        "    i += 1"
      ]
    },
    {
      "cell_type": "markdown",
      "id": "bf022fe9",
      "metadata": {
        "id": "bf022fe9"
      },
      "source": [
        "### Tuple Methods/Functions\n",
        "\n",
        "\n",
        "1) count() - returns the count of the element.<br>\n",
        "2) index() - returns the index of 1st occurence of the element from the left<br>"
      ]
    },
    {
      "cell_type": "code",
      "execution_count": null,
      "id": "4e501455",
      "metadata": {
        "scrolled": false,
        "id": "4e501455",
        "outputId": "dddef415-8c98-41fd-84f9-54ea657d9cb2"
      },
      "outputs": [
        {
          "name": "stdout",
          "output_type": "stream",
          "text": [
            "Count function\n",
            "3\n",
            "1\n",
            "0\n",
            "\n",
            "Index function\n",
            "2\n",
            "3\n"
          ]
        }
      ],
      "source": [
        "w = (10,15,20,25,30,20,25,20,25)\n",
        "print('Count function')\n",
        "print(w.count(20))\n",
        "print(w.count(30))\n",
        "print(w.count('Hi'))\n",
        "print()\n",
        "print('Index function')\n",
        "print(w.index(20))\n",
        "print(w.index(25))\n",
        "# print(w.index('Hi'))   # Error"
      ]
    },
    {
      "cell_type": "markdown",
      "id": "97356d4b",
      "metadata": {
        "id": "97356d4b"
      },
      "source": [
        "### List Functions"
      ]
    },
    {
      "cell_type": "markdown",
      "id": "56693bdd",
      "metadata": {
        "id": "56693bdd"
      },
      "source": [
        "#### 1) count() and index()"
      ]
    },
    {
      "cell_type": "code",
      "execution_count": null,
      "id": "fd83d781",
      "metadata": {
        "scrolled": false,
        "id": "fd83d781",
        "outputId": "c854b128-cc57-4c99-822a-930f4c71786a"
      },
      "outputs": [
        {
          "name": "stdout",
          "output_type": "stream",
          "text": [
            "Count function\n",
            "3\n",
            "1\n",
            "\n",
            "Index function\n",
            "2\n",
            "3\n"
          ]
        },
        {
          "ename": "ValueError",
          "evalue": "'hello' is not in list",
          "output_type": "error",
          "traceback": [
            "\u001b[1;31m---------------------------------------------------------------------------\u001b[0m",
            "\u001b[1;31mValueError\u001b[0m                                Traceback (most recent call last)",
            "\u001b[1;32m~\\AppData\\Local\\Temp\\ipykernel_9376\\153631339.py\u001b[0m in \u001b[0;36m<module>\u001b[1;34m\u001b[0m\n\u001b[0;32m      7\u001b[0m \u001b[0mprint\u001b[0m\u001b[1;33m(\u001b[0m\u001b[0mw\u001b[0m\u001b[1;33m.\u001b[0m\u001b[0mindex\u001b[0m\u001b[1;33m(\u001b[0m\u001b[1;36m20\u001b[0m\u001b[1;33m)\u001b[0m\u001b[1;33m)\u001b[0m\u001b[1;33m\u001b[0m\u001b[1;33m\u001b[0m\u001b[0m\n\u001b[0;32m      8\u001b[0m \u001b[0mprint\u001b[0m\u001b[1;33m(\u001b[0m\u001b[0mw\u001b[0m\u001b[1;33m.\u001b[0m\u001b[0mindex\u001b[0m\u001b[1;33m(\u001b[0m\u001b[1;36m25\u001b[0m\u001b[1;33m)\u001b[0m\u001b[1;33m)\u001b[0m\u001b[1;33m\u001b[0m\u001b[1;33m\u001b[0m\u001b[0m\n\u001b[1;32m----> 9\u001b[1;33m \u001b[0mprint\u001b[0m\u001b[1;33m(\u001b[0m\u001b[0mw\u001b[0m\u001b[1;33m.\u001b[0m\u001b[0mindex\u001b[0m\u001b[1;33m(\u001b[0m\u001b[1;34m'hello'\u001b[0m\u001b[1;33m)\u001b[0m\u001b[1;33m)\u001b[0m   \u001b[1;31m# Error\u001b[0m\u001b[1;33m\u001b[0m\u001b[1;33m\u001b[0m\u001b[0m\n\u001b[0m",
            "\u001b[1;31mValueError\u001b[0m: 'hello' is not in list"
          ]
        }
      ],
      "source": [
        "w = [10,15,20,25,30,20,25,20,25]\n",
        "print('Count function')\n",
        "print(w.count(20))\n",
        "print(w.count(30))\n",
        "print()\n",
        "print('Index function')\n",
        "print(w.index(20))\n",
        "print(w.index(25))\n",
        "print(w.index('hello'))   # Error"
      ]
    },
    {
      "cell_type": "markdown",
      "id": "c1102023",
      "metadata": {
        "id": "c1102023"
      },
      "source": [
        "#### 3) clear()\n",
        "Empties the list"
      ]
    },
    {
      "cell_type": "code",
      "execution_count": null,
      "id": "128cac9f",
      "metadata": {
        "id": "128cac9f",
        "outputId": "9feeef41-25c3-4268-eded-6cbf9d210701"
      },
      "outputs": [
        {
          "name": "stdout",
          "output_type": "stream",
          "text": [
            "[10, 20, 30]\n",
            "[]\n"
          ]
        }
      ],
      "source": [
        "s = [10,20,30]\n",
        "print(s)\n",
        "s.clear()\n",
        "print(s)"
      ]
    },
    {
      "cell_type": "markdown",
      "id": "bb30eeb1",
      "metadata": {
        "id": "bb30eeb1"
      },
      "source": [
        "#### 4) pop(index)\n",
        "Removes the list element based on index. If no index is passed last element(from right) is removed. Returns error if index is out of range"
      ]
    },
    {
      "cell_type": "code",
      "execution_count": null,
      "id": "4325d556",
      "metadata": {
        "id": "4325d556",
        "outputId": "bfff2e64-650c-415b-f7db-3990f0ce37d1"
      },
      "outputs": [
        {
          "name": "stdout",
          "output_type": "stream",
          "text": [
            "[5, 7, 11, 13, 17, 10, 17, 20]\n",
            "[5, 7, 11, 17, 10, 17, 20]\n",
            "17\n",
            "[5, 7, 11, 17, 10, 20]\n",
            "20\n",
            "[5, 7, 11, 17, 10]\n"
          ]
        }
      ],
      "source": [
        "w = [5,7,11,13,17,10,17,20]\n",
        "print(w)\n",
        "w.pop(3)         # removes element at index 3 from list w\n",
        "print(w)\n",
        "print(w.pop(5))  # removes element at index 5 from list w\n",
        "print(w)\n",
        "print(w.pop())   # removes last element(from right) from list\n",
        "print(w)\n"
      ]
    },
    {
      "cell_type": "markdown",
      "id": "f12db210",
      "metadata": {
        "id": "f12db210"
      },
      "source": [
        "#### 6) remove(element)\n",
        "It removes element from the list(first occurence from the left) based on the element passed as an argument. It removes one element at a time.<br>\n",
        "2) It returns error if no element is passed or the element passed in not in the list.<br>\n",
        "3) Using remove inside print() will not return the element being removed.<br>\n",
        "4) pop() removes elememt based on index and remove() removes element based on the value(first occurence from left)"
      ]
    },
    {
      "cell_type": "code",
      "execution_count": null,
      "id": "10ad3558",
      "metadata": {
        "scrolled": true,
        "id": "10ad3558",
        "outputId": "e92b6654-129d-4e23-f54c-a347450507fc"
      },
      "outputs": [
        {
          "name": "stdout",
          "output_type": "stream",
          "text": [
            "[5, 7, 11, 13, 17, 10, 17, 20]\n",
            "[5, 7, 13, 17, 10, 17, 20]\n"
          ]
        },
        {
          "ename": "TypeError",
          "evalue": "list.remove() takes exactly one argument (0 given)",
          "output_type": "error",
          "traceback": [
            "\u001b[1;31m---------------------------------------------------------------------------\u001b[0m",
            "\u001b[1;31mTypeError\u001b[0m                                 Traceback (most recent call last)",
            "Cell \u001b[1;32mIn[7], line 5\u001b[0m\n\u001b[0;32m      3\u001b[0m w\u001b[38;5;241m.\u001b[39mremove(\u001b[38;5;241m11\u001b[39m)  \u001b[38;5;66;03m# removes the element 11 from the list w\u001b[39;00m\n\u001b[0;32m      4\u001b[0m \u001b[38;5;28mprint\u001b[39m(w)\n\u001b[1;32m----> 5\u001b[0m \u001b[43mw\u001b[49m\u001b[38;5;241;43m.\u001b[39;49m\u001b[43mremove\u001b[49m\u001b[43m(\u001b[49m\u001b[43m)\u001b[49m    \u001b[38;5;66;03m# Error\u001b[39;00m\n\u001b[0;32m      6\u001b[0m \u001b[38;5;28mprint\u001b[39m(w)\n",
            "\u001b[1;31mTypeError\u001b[0m: list.remove() takes exactly one argument (0 given)"
          ]
        }
      ],
      "source": [
        "w = [5,7,11,13,17,10,17,20]\n",
        "print(w)\n",
        "w.remove(11)  # removes the element 11 from the list w\n",
        "print(w)\n",
        "# w.remove()    # Error\n",
        "print(w)"
      ]
    },
    {
      "cell_type": "code",
      "execution_count": null,
      "id": "afb0b703",
      "metadata": {
        "id": "afb0b703",
        "outputId": "04ef7286-8be2-4116-d53a-acd532c7fcf7"
      },
      "outputs": [
        {
          "name": "stdout",
          "output_type": "stream",
          "text": [
            "5\n",
            "7\n",
            "11\n",
            "13\n",
            "17\n",
            "10\n",
            "17\n",
            "20\n"
          ]
        }
      ],
      "source": [
        "w = [5,7,11,13,17,10,17,20]\n",
        "#Practice- remove all duplictaes of 17 using for loop\n",
        "# for i in w:\n",
        "#     if i!=17:\n",
        "#         print(i)\n",
        "\n",
        "i=0\n",
        "while i<len(w):\n",
        "    if i!=17:\n",
        "        print(w[i])\n",
        "    i+=1"
      ]
    },
    {
      "cell_type": "markdown",
      "id": "91f0cae9",
      "metadata": {
        "id": "91f0cae9"
      },
      "source": [
        "#### 7) insert(index,element)\n",
        "Inserts the element at the specified index"
      ]
    },
    {
      "cell_type": "code",
      "execution_count": null,
      "id": "9bbd461d",
      "metadata": {
        "id": "9bbd461d",
        "outputId": "4d85b143-2d61-4b20-d0bd-68294e8b73e8"
      },
      "outputs": [
        {
          "name": "stdout",
          "output_type": "stream",
          "text": [
            "[5, 7, 8, 11, 21, 34, 45, 56]\n",
            "[5, 7, 8, 'Python', 11, 21, 34, 45, 56]\n",
            "[5, 7, 8, 'Python', 11, 21, 34, 45, 'Hello', 56]\n",
            "[5, 7, 8, 'Python', 11, 21, 70, 34, 45, 'Hello', 56]\n",
            "[5, 7, 8, 'Python', 11, 21, 70, 34, 45, 'Hello', 56, 'IPL']\n"
          ]
        }
      ],
      "source": [
        "w = [5,7,8,11,21,34,45,56]\n",
        "print(w)\n",
        "w.insert(3,'Python') # 'Python' is inserted at index 3\n",
        "print(w)\n",
        "w.insert(8,'Hello')  # 'Hello' is inserted at index 8\n",
        "print(w)\n",
        "w.insert(-4,70)      # 70  is inserted at index -5\n",
        "print(w)\n",
        "w.insert(len(w)+1,'IPL')  # 'IPL' is inserted at index 11\n",
        "print(w)"
      ]
    },
    {
      "cell_type": "markdown",
      "id": "4e2a78db",
      "metadata": {
        "id": "4e2a78db"
      },
      "source": [
        "\n",
        "#### 8) sort()"
      ]
    },
    {
      "cell_type": "code",
      "execution_count": null,
      "id": "83d93663",
      "metadata": {
        "id": "83d93663",
        "outputId": "e2697df6-6a2a-4b2c-84d3-98f0048323d9"
      },
      "outputs": [
        {
          "name": "stdout",
          "output_type": "stream",
          "text": [
            "[10, 2.2, 18, 1.5, 8, 25, 14]\n",
            "[1.5, 2.2, 8, 10, 14, 18, 25]\n",
            "[25, 18, 14, 10, 8, 2.2, 1.5]\n"
          ]
        }
      ],
      "source": [
        "w = [10,2.2,18,1.5,8,25,14]\n",
        "print(w)\n",
        "w.sort()  # asc order\n",
        "print(w)\n",
        "w.sort(reverse=True)  # desc order\n",
        "print(w)"
      ]
    },
    {
      "cell_type": "code",
      "execution_count": null,
      "id": "e34bea83",
      "metadata": {
        "id": "e34bea83"
      },
      "outputs": [],
      "source": [
        "# A-Z = 65-90\n",
        "# a-z = 97-122\n",
        "# In strings, sorting works based on ASCII code"
      ]
    },
    {
      "cell_type": "code",
      "execution_count": null,
      "id": "3b863cf2",
      "metadata": {
        "id": "3b863cf2",
        "outputId": "b6a104ec-d2b9-4877-dba6-4c5b23b3a61c"
      },
      "outputs": [
        {
          "name": "stdout",
          "output_type": "stream",
          "text": [
            "['World', 'Python', 'Number', 'Laptop', 'LaDder', 'numbers']\n",
            "['LaDder', 'Laptop', 'Number', 'Python', 'World', 'numbers']\n",
            "['numbers', 'World', 'Python', 'Number', 'Laptop', 'LaDder']\n"
          ]
        }
      ],
      "source": [
        "w1 = ['World','Python','Number','Laptop','LaDder','numbers']\n",
        "print(w1)\n",
        "w1.sort()\n",
        "print(w1)\n",
        "w1.sort(reverse=True)\n",
        "print(w1)"
      ]
    },
    {
      "cell_type": "markdown",
      "id": "17a2ec75",
      "metadata": {
        "id": "17a2ec75"
      },
      "source": [
        "#### 9) append(element)\n",
        "It adds an element to the end of the list(right end)"
      ]
    },
    {
      "cell_type": "code",
      "execution_count": null,
      "id": "061da2c3",
      "metadata": {
        "id": "061da2c3",
        "outputId": "af059a11-f1fc-4c62-f1d7-ea7a0514b9f2"
      },
      "outputs": [
        {
          "name": "stdout",
          "output_type": "stream",
          "text": [
            "[5, 7]\n",
            "[5, 7, 10]\n",
            "[5, 7, 10, 'List']\n",
            "[5, 7, 10, 'List', [15, 16]]\n",
            "[5, 7, 10, 'List', [15, 16], (20, 22)]\n",
            "[5, 7, 10, 'List', [15, 16], (20, 22), {'Name': 'Snehil', 'Age': 20}]\n"
          ]
        }
      ],
      "source": [
        "g = [5,7]\n",
        "print(g)\n",
        "g.append(10)      # append an int\n",
        "print(g)\n",
        "g.append('List')  # append a str\n",
        "print(g)\n",
        "g.append([15,16])  # append a list\n",
        "print(g)\n",
        "g.append((20,22))  # append a tuple\n",
        "print(g)\n",
        "g.append({'Name':'Snehil','Age':20})  # append a dict\n",
        "print(g)"
      ]
    },
    {
      "cell_type": "code",
      "execution_count": null,
      "id": "7b636a00",
      "metadata": {
        "id": "7b636a00",
        "outputId": "aaccc588-7638-478d-a31a-f8ebaf78c9b2"
      },
      "outputs": [
        {
          "name": "stdout",
          "output_type": "stream",
          "text": [
            "[30, 32, 34, 36, 38, 40, 42, 44, 46, 48, 50]\n",
            "[31, 33, 35, 37, 39, 41, 43, 45, 47, 49]\n"
          ]
        }
      ],
      "source": [
        "# Populate an empty list\n",
        "# Create a list containing even numbers between 30 and 50 (both inclusive)\n",
        "\n",
        "r = []\n",
        "for i in range(30,51):\n",
        "    if i%2==0:\n",
        "        r.append(i)\n",
        "print(r)\n",
        "\n",
        "q=[]\n",
        "for i in range(30,51):\n",
        "    if i%2!=0:\n",
        "        q.append(i)\n",
        "print(q)"
      ]
    },
    {
      "cell_type": "markdown",
      "id": "f947cea1",
      "metadata": {
        "id": "f947cea1"
      },
      "source": [
        "#### Iterators or iterables\n",
        "1) Examples - str,list(),tuple(),set(),dict(),range() etc<br>\n",
        "2) Int,float,bool,None,complex are not iterables<br>"
      ]
    },
    {
      "cell_type": "markdown",
      "id": "2feb15bb",
      "metadata": {
        "id": "2feb15bb"
      },
      "source": [
        "#### 10) extend()\n",
        "It adds an element to the end of the list(right end) from an iterator(adds element of the iterator)"
      ]
    },
    {
      "cell_type": "code",
      "execution_count": null,
      "id": "ce62f3b0",
      "metadata": {
        "id": "ce62f3b0",
        "outputId": "6313fa18-7cc8-490b-ec62-97b00e598ff8"
      },
      "outputs": [
        {
          "name": "stdout",
          "output_type": "stream",
          "text": [
            "[4, 8]\n"
          ]
        },
        {
          "ename": "TypeError",
          "evalue": "'int' object is not iterable",
          "output_type": "error",
          "traceback": [
            "\u001b[1;31m---------------------------------------------------------------------------\u001b[0m",
            "\u001b[1;31mTypeError\u001b[0m                                 Traceback (most recent call last)",
            "\u001b[1;32m~\\AppData\\Local\\Temp\\ipykernel_10900\\811090607.py\u001b[0m in \u001b[0;36m<module>\u001b[1;34m\u001b[0m\n\u001b[0;32m      1\u001b[0m \u001b[0ms\u001b[0m \u001b[1;33m=\u001b[0m \u001b[1;33m[\u001b[0m\u001b[1;36m4\u001b[0m\u001b[1;33m,\u001b[0m\u001b[1;36m8\u001b[0m\u001b[1;33m]\u001b[0m\u001b[1;33m\u001b[0m\u001b[1;33m\u001b[0m\u001b[0m\n\u001b[0;32m      2\u001b[0m \u001b[0mprint\u001b[0m\u001b[1;33m(\u001b[0m\u001b[0ms\u001b[0m\u001b[1;33m)\u001b[0m\u001b[1;33m\u001b[0m\u001b[1;33m\u001b[0m\u001b[0m\n\u001b[1;32m----> 3\u001b[1;33m \u001b[0ms\u001b[0m\u001b[1;33m.\u001b[0m\u001b[0mextend\u001b[0m\u001b[1;33m(\u001b[0m\u001b[1;36m10\u001b[0m\u001b[1;33m)\u001b[0m    \u001b[1;31m# Error\u001b[0m\u001b[1;33m\u001b[0m\u001b[1;33m\u001b[0m\u001b[0m\n\u001b[0m\u001b[0;32m      4\u001b[0m \u001b[0mprint\u001b[0m\u001b[1;33m(\u001b[0m\u001b[0ms\u001b[0m\u001b[1;33m)\u001b[0m\u001b[1;33m\u001b[0m\u001b[1;33m\u001b[0m\u001b[0m\n",
            "\u001b[1;31mTypeError\u001b[0m: 'int' object is not iterable"
          ]
        }
      ],
      "source": [
        "s = [4,8]\n",
        "print(s)\n",
        "s.extend(10)    # Error -> 10 is not an iterable\n",
        "print(s)"
      ]
    },
    {
      "cell_type": "code",
      "execution_count": null,
      "id": "d89d0e28",
      "metadata": {
        "scrolled": true,
        "id": "d89d0e28",
        "outputId": "5dda4d1c-27e3-421c-d373-1fa6debc41fa"
      },
      "outputs": [
        {
          "name": "stdout",
          "output_type": "stream",
          "text": [
            "[4, 8]\n",
            "[4, 8, 10, 12]\n",
            "[4, 8, 10, 12, 18, 20]\n",
            "[4, 8, 10, 12, 18, 20, 'B', 'y', 'e']\n",
            "[4, 8, 10, 12, 18, 20, 'B', 'y', 'e', 'a1', 'a2']\n"
          ]
        }
      ],
      "source": [
        "s = [4,8]\n",
        "print(s)\n",
        "s.extend([10,12])   # extend a list\n",
        "print(s)\n",
        "s.extend((18,20))   # extend a tuple\n",
        "print(s)\n",
        "s.extend('Bye')    # extend a str\n",
        "print(s)\n",
        "s.extend({'a1':44,'a2':55})    # extend a dict\n",
        "# by dafault dict allows iteration on its keys\n",
        "print(s)"
      ]
    },
    {
      "cell_type": "markdown",
      "id": "b91a74de",
      "metadata": {
        "id": "b91a74de"
      },
      "source": [
        "#### List is Mutable and Tuple is Immutable"
      ]
    },
    {
      "cell_type": "code",
      "execution_count": null,
      "id": "0eedf041",
      "metadata": {
        "id": "0eedf041",
        "outputId": "db950b2e-c058-4c73-a4bb-5d0af36ac312"
      },
      "outputs": [
        {
          "name": "stdout",
          "output_type": "stream",
          "text": [
            "30\n",
            "[10, 20, 'Python', 40, 50]\n"
          ]
        }
      ],
      "source": [
        "d  = [10,20,30,40,50]\n",
        "print(d[2])\n",
        "d[2] = 'Python'\n",
        "print(d)  # List is mutable"
      ]
    },
    {
      "cell_type": "code",
      "execution_count": null,
      "id": "0da57722",
      "metadata": {
        "id": "0da57722",
        "outputId": "ed15c8fe-5d2f-4cee-ad9a-a33591727b08"
      },
      "outputs": [
        {
          "name": "stdout",
          "output_type": "stream",
          "text": [
            "30\n"
          ]
        },
        {
          "ename": "TypeError",
          "evalue": "'tuple' object does not support item assignment",
          "output_type": "error",
          "traceback": [
            "\u001b[1;31m---------------------------------------------------------------------------\u001b[0m",
            "\u001b[1;31mTypeError\u001b[0m                                 Traceback (most recent call last)",
            "\u001b[1;32m~\\AppData\\Local\\Temp\\ipykernel_10900\\2331900730.py\u001b[0m in \u001b[0;36m<module>\u001b[1;34m\u001b[0m\n\u001b[0;32m      1\u001b[0m \u001b[0md1\u001b[0m  \u001b[1;33m=\u001b[0m \u001b[1;33m(\u001b[0m\u001b[1;36m10\u001b[0m\u001b[1;33m,\u001b[0m\u001b[1;36m20\u001b[0m\u001b[1;33m,\u001b[0m\u001b[1;36m30\u001b[0m\u001b[1;33m,\u001b[0m\u001b[1;36m40\u001b[0m\u001b[1;33m,\u001b[0m\u001b[1;36m50\u001b[0m\u001b[1;33m)\u001b[0m\u001b[1;33m\u001b[0m\u001b[1;33m\u001b[0m\u001b[0m\n\u001b[0;32m      2\u001b[0m \u001b[0mprint\u001b[0m\u001b[1;33m(\u001b[0m\u001b[0md1\u001b[0m\u001b[1;33m[\u001b[0m\u001b[1;36m2\u001b[0m\u001b[1;33m]\u001b[0m\u001b[1;33m)\u001b[0m\u001b[1;33m\u001b[0m\u001b[1;33m\u001b[0m\u001b[0m\n\u001b[1;32m----> 3\u001b[1;33m \u001b[0md1\u001b[0m\u001b[1;33m[\u001b[0m\u001b[1;36m2\u001b[0m\u001b[1;33m]\u001b[0m \u001b[1;33m=\u001b[0m \u001b[1;34m'Python'\u001b[0m\u001b[1;33m\u001b[0m\u001b[1;33m\u001b[0m\u001b[0m\n\u001b[0m\u001b[0;32m      4\u001b[0m \u001b[0mprint\u001b[0m\u001b[1;33m(\u001b[0m\u001b[0md1\u001b[0m\u001b[1;33m)\u001b[0m  \u001b[1;31m# tuple is immutable\u001b[0m\u001b[1;33m\u001b[0m\u001b[1;33m\u001b[0m\u001b[0m\n",
            "\u001b[1;31mTypeError\u001b[0m: 'tuple' object does not support item assignment"
          ]
        }
      ],
      "source": [
        "d1  = (10,20,30,40,50)\n",
        "print(d1[2])\n",
        "d1[2] = 'Python'\n",
        "print(d1)  # tuple is immutable"
      ]
    },
    {
      "cell_type": "markdown",
      "id": "2b1d78f8",
      "metadata": {
        "id": "2b1d78f8"
      },
      "source": [
        "#### Using min,max and sum of List/tuple"
      ]
    },
    {
      "cell_type": "code",
      "execution_count": null,
      "id": "a257796a",
      "metadata": {
        "id": "a257796a",
        "outputId": "0f25dc85-ffaa-460d-e91e-095600c49e46"
      },
      "outputs": [
        {
          "name": "stdout",
          "output_type": "stream",
          "text": [
            "10\n",
            "45\n",
            "105\n"
          ]
        }
      ],
      "source": [
        "# w = [10,20,30,45]\n",
        "w = (10,20,30,45)\n",
        "print(min(w))\n",
        "print(max(w))\n",
        "print(sum(w))"
      ]
    },
    {
      "cell_type": "markdown",
      "id": "dc7ace0b",
      "metadata": {
        "id": "dc7ace0b"
      },
      "source": [
        "#### List properties\n",
        "1) List/tuple can be concatenated with another list/tuple respectively.<br>\n",
        "2) in, not in, * operators can be used with list and tuple<br>"
      ]
    },
    {
      "cell_type": "code",
      "execution_count": null,
      "id": "a7301ae1",
      "metadata": {
        "id": "a7301ae1",
        "outputId": "dd38e93d-05c4-48ca-9f6e-77244cf6e28e"
      },
      "outputs": [
        {
          "name": "stdout",
          "output_type": "stream",
          "text": [
            "[3, 4, 5, 10, 20, 30, 40]\n"
          ]
        }
      ],
      "source": [
        "r1 = [3,4,5]\n",
        "r2 = [10,20,30,40]\n",
        "r3 = r1+r2\n",
        "print(r3)"
      ]
    },
    {
      "cell_type": "code",
      "execution_count": null,
      "id": "188e529b",
      "metadata": {
        "id": "188e529b",
        "outputId": "4a2f3203-5d44-453f-a7df-de5fef049077"
      },
      "outputs": [
        {
          "name": "stdout",
          "output_type": "stream",
          "text": [
            "(3, 4, 5, 10, 20, 30, 40)\n"
          ]
        }
      ],
      "source": [
        "r1 = (3,4,5)\n",
        "r2 = (10,20,30,40)\n",
        "r3 = r1+r2\n",
        "print(r3)"
      ]
    },
    {
      "cell_type": "code",
      "execution_count": null,
      "id": "565be648",
      "metadata": {
        "id": "565be648",
        "outputId": "467db63f-18c0-44a4-b35b-de29a6b84770"
      },
      "outputs": [
        {
          "name": "stdout",
          "output_type": "stream",
          "text": [
            "Enter a laptop brand: samsung\n",
            "No match\n"
          ]
        }
      ],
      "source": [
        "s = input('Enter a laptop brand: ')\n",
        "w = ['HP','Lenovo','Dell','Asus','Apple']\n",
        "if s in w:\n",
        "    print('Match')\n",
        "else:\n",
        "    print('No match')"
      ]
    },
    {
      "cell_type": "code",
      "execution_count": null,
      "id": "19f55acd",
      "metadata": {
        "id": "19f55acd",
        "outputId": "4e543e17-6380-46e9-c0e7-c234480538b5"
      },
      "outputs": [
        {
          "name": "stdout",
          "output_type": "stream",
          "text": [
            "[10, 20, 30, 10, 20, 30]\n"
          ]
        }
      ],
      "source": [
        "a = [10,20,30]*2   # list is replicated 2 times\n",
        "print(a)"
      ]
    }
  ],
  "metadata": {
    "kernelspec": {
      "display_name": "Python 3 (ipykernel)",
      "language": "python",
      "name": "python3"
    },
    "language_info": {
      "codemirror_mode": {
        "name": "ipython",
        "version": 3
      },
      "file_extension": ".py",
      "mimetype": "text/x-python",
      "name": "python",
      "nbconvert_exporter": "python",
      "pygments_lexer": "ipython3",
      "version": "3.10.9"
    },
    "colab": {
      "provenance": [],
      "include_colab_link": true
    }
  },
  "nbformat": 4,
  "nbformat_minor": 5
}