{
  "cells": [
    {
      "cell_type": "markdown",
      "metadata": {
        "id": "view-in-github",
        "colab_type": "text"
      },
      "source": [
        "<a href=\"https://colab.research.google.com/github/learneverythingai/Shivam-Modi-Data-Science-Analytics-Course/blob/main/Python%20Course/Assignment%2BExpense_Tracker_Project.ipynb\" target=\"_parent\"><img src=\"https://colab.research.google.com/assets/colab-badge.svg\" alt=\"Open In Colab\"/></a>"
      ]
    },
    {
      "cell_type": "markdown",
      "id": "50a2b81f",
      "metadata": {
        "id": "50a2b81f"
      },
      "source": [
        "# PROGRAMS AND MINOR PROJECT"
      ]
    },
    {
      "cell_type": "code",
      "execution_count": null,
      "id": "32af8e33",
      "metadata": {
        "id": "32af8e33"
      },
      "outputs": [],
      "source": [
        "#1)que1: Calculate area of circle with radius as input\n",
        "def area_of_circle(radius):\n",
        "    #area= pi*r2\n",
        "    area= 22/7*((radius)**2)\n",
        "    return area\n",
        "\n",
        "radius=int(input())\n",
        "area_of_circle(radius)"
      ]
    },
    {
      "cell_type": "code",
      "execution_count": null,
      "id": "d0c6b5ba",
      "metadata": {
        "scrolled": false,
        "id": "d0c6b5ba"
      },
      "outputs": [],
      "source": [
        "#2) write a program to get a fibonacci sequence between 0 to 50.\n",
        "#0,1,1,2,3,5,8,13,21,....\n",
        "print(\"The fibonacci series\")\n",
        "num=int(input(\"Enter the number of digitts that you want in the series: \"))\n",
        "first=0\n",
        "second=1\n",
        "nextnum=0\n",
        "print(first,second,end=' ')\n",
        "for num in range(2,num):\n",
        "    nextnum=first+second\n",
        "    print(nextnum,end=' ')\n",
        "    first=second\n",
        "    second=nextnum\n",
        "\n"
      ]
    },
    {
      "cell_type": "code",
      "execution_count": null,
      "id": "a56b1d26",
      "metadata": {
        "id": "a56b1d26"
      },
      "outputs": [],
      "source": [
        "def fibonacci(n):\n",
        "    if n==0:\n",
        "        return('incorrect input')\n",
        "    elif n==1:\n",
        "        return 0\n",
        "    elif n==2:\n",
        "        return 1\n",
        "    else:\n",
        "        return fibonacci(n-1)+fibonacci(n-2)\n",
        "\n",
        "fibonacci(50)"
      ]
    },
    {
      "cell_type": "code",
      "execution_count": null,
      "id": "2fb71e0e",
      "metadata": {
        "id": "2fb71e0e",
        "outputId": "beb270bf-6bc1-44d1-8305-4b2a6e99d917"
      },
      "outputs": [
        {
          "name": "stdout",
          "output_type": "stream",
          "text": [
            "check palindrome\n",
            "provide input: maam\n",
            "yes it is a palindrome\n"
          ]
        }
      ],
      "source": [
        "#3): check whether given input is palindrome or not\n",
        "#sol:\n",
        "print('check palindrome')\n",
        "string=input('provide input: ')\n",
        "string1=string[::-1]\n",
        "if string==string1:\n",
        "    print(\"yes it is a palindrome\")\n",
        "else:\n",
        "    print(\"not palindrome\")"
      ]
    },
    {
      "cell_type": "code",
      "execution_count": null,
      "id": "c2c33d72",
      "metadata": {
        "id": "c2c33d72",
        "outputId": "e698a5ef-8d83-4ba0-88d8-0220b2a4629a"
      },
      "outputs": [
        {
          "name": "stdout",
          "output_type": "stream",
          "text": [
            "number is not prime\n"
          ]
        }
      ],
      "source": [
        "# Q4) Check is num is prime\n",
        "# Prime num has exacylt 2 factors - 1 and itself\n",
        "def prime_chk(n):\n",
        "    c=0  #count of factors\n",
        "    for i in range(1,n+1):\n",
        "        if n%i==0:\n",
        "            c+=1\n",
        "\n",
        "    if c==2:\n",
        "        print(n,\" number is a prime\")\n",
        "    else:\n",
        "        print(\"number is not prime\")\n",
        "\n",
        "prime_chk(9)\n",
        "\n"
      ]
    },
    {
      "cell_type": "code",
      "execution_count": null,
      "id": "840890bc",
      "metadata": {
        "id": "840890bc",
        "outputId": "f9a18df2-a9df-4080-9bcc-72a82fdc0a55"
      },
      "outputs": [
        {
          "name": "stdout",
          "output_type": "stream",
          "text": [
            "count of vowels 8\n"
          ]
        }
      ],
      "source": [
        "# Q5) Write a function to count the number of vowels in a given string. String is passed as an argument.\n",
        "# 'i am given a string' #a,e,i,o,u\n",
        "def vowel_count(s):\n",
        "    v='aeiouAEIOU'\n",
        "    c=0\n",
        "    for i in s:\n",
        "        if i in v:\n",
        "            c+=1\n",
        "    print('count of vowels',c)\n",
        "\n",
        "vowel_count('welcome to python programming')"
      ]
    },
    {
      "cell_type": "code",
      "execution_count": null,
      "id": "443dfae0",
      "metadata": {
        "id": "443dfae0"
      },
      "outputs": [],
      "source": []
    },
    {
      "cell_type": "markdown",
      "id": "30750885",
      "metadata": {
        "id": "30750885"
      },
      "source": [
        "## MINI PROJECT- EXPENSE TRACKER"
      ]
    },
    {
      "cell_type": "code",
      "execution_count": null,
      "id": "45c8d84e",
      "metadata": {
        "id": "45c8d84e",
        "outputId": "50764924-579b-42ef-e19c-ee9904a23dbb"
      },
      "outputs": [
        {
          "name": "stdout",
          "output_type": "stream",
          "text": [
            "\n",
            " Epense Tracker Menu: \n",
            "1.Add Expenses\n",
            "2 Add Category\n",
            "3.View Expenses\n",
            "4.View Categories\n",
            "5.Exit\n",
            "Enter your choice: 1\n",
            "enter date (YYYY-MM-DD): 2012-09-08\n",
            "Enter amount: $90\n",
            "Enter category: gas\n",
            "\n",
            " Epense Tracker Menu: \n",
            "1.Add Expenses\n",
            "2 Add Category\n",
            "3.View Expenses\n",
            "4.View Categories\n",
            "5.Exit\n"
          ]
        }
      ],
      "source": [
        "class ExpenseTracker:\n",
        "    def __init__(self):\n",
        "        self.expenses={}\n",
        "        self.categories={}\n",
        "\n",
        "\n",
        "    def add_expenses(self,date,ampunt,category):\n",
        "        if category not in self.expenses:\n",
        "            self.expenses[category]=[]\n",
        "        self.expenses[category].append((date,amount))\n",
        "\n",
        "    def add_category(self,category):\n",
        "        if category not in self.categories:\n",
        "            self.categories[category]=0\n",
        "\n",
        "    def view_expenses(self):\n",
        "        for category,items in self.expenses.items():\n",
        "            total_amount=sum(amount for _,amount in items)\n",
        "            print(f\"{category}: ${total_amount}\")\n",
        "\n",
        "    def view_categories(self):\n",
        "        print(\"Categories\")\n",
        "        for category in self.expenses.keys():\n",
        "            print(category)\n",
        "\n",
        "tracker=ExpenseTracker()\n",
        "\n",
        "while True:\n",
        "    print(\"\\n Epense Tracker Menu: \")\n",
        "    print (\"1.Add Expenses\")\n",
        "    print (\"2 Add Category\")\n",
        "    print (\"3.View Expenses\")\n",
        "    print (\"4.View Categories\")\n",
        "    print(\"5.Exit\")\n",
        "\n",
        "    choice= input(\"Enter your choice: \")\n",
        "\n",
        "    if choice ==\"1\":\n",
        "        date= input(\"enter date (YYYY-MM-DD): \")\n",
        "        amount= float(input(\"Enter amount: $\"))\n",
        "        category=input(\"Enter category: \")\n",
        "        tracker.add_expenses(date,amount,category)\n",
        "    elif choice==\"2\":\n",
        "        category= input(\"Enter category: \")\n",
        "        tracker.add_category(category)\n",
        "    elif choice==\"3\":\n",
        "        tracker.view_expenses()\n",
        "    elif choice==\"4\":\n",
        "        tracker.view_categories()\n",
        "    elif choice==\"5\":\n",
        "        print(\" bye bye\")\n",
        "        break\n",
        "    else:\n",
        "        print(\"Invalid choice. Please try again\")\n",
        "\n"
      ]
    }
  ],
  "metadata": {
    "kernelspec": {
      "display_name": "Python 3 (ipykernel)",
      "language": "python",
      "name": "python3"
    },
    "language_info": {
      "codemirror_mode": {
        "name": "ipython",
        "version": 3
      },
      "file_extension": ".py",
      "mimetype": "text/x-python",
      "name": "python",
      "nbconvert_exporter": "python",
      "pygments_lexer": "ipython3",
      "version": "3.10.9"
    },
    "colab": {
      "provenance": [],
      "include_colab_link": true
    }
  },
  "nbformat": 4,
  "nbformat_minor": 5
}