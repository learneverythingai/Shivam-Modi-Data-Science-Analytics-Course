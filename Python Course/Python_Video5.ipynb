{
  "nbformat": 4,
  "nbformat_minor": 0,
  "metadata": {
    "colab": {
      "provenance": [],
      "include_colab_link": true
    },
    "kernelspec": {
      "name": "python3",
      "display_name": "Python 3"
    },
    "language_info": {
      "name": "python"
    }
  },
  "cells": [
    {
      "cell_type": "markdown",
      "metadata": {
        "id": "view-in-github",
        "colab_type": "text"
      },
      "source": [
        "<a href=\"https://colab.research.google.com/github/learneverythingai/Shivam-Modi-Data-Science-Analytics-Course/blob/main/Python%20Course/Python_Video5.ipynb\" target=\"_parent\"><img src=\"https://colab.research.google.com/assets/colab-badge.svg\" alt=\"Open In Colab\"/></a>"
      ]
    },
    {
      "cell_type": "markdown",
      "source": [
        "Sets\n"
      ],
      "metadata": {
        "id": "kBLs2hm6byFU"
      }
    },
    {
      "cell_type": "code",
      "execution_count": null,
      "metadata": {
        "colab": {
          "base_uri": "https://localhost:8080/"
        },
        "id": "Q7kbgeDLa9dm",
        "outputId": "0a9fcd3c-87ce-48f7-ee26-b3e245b95c02"
      },
      "outputs": [
        {
          "output_type": "stream",
          "name": "stdout",
          "text": [
            "{'banana', 'cherry', 'apple'}\n"
          ]
        }
      ],
      "source": [
        "myset = {\"apple\", \"banana\", \"cherry\"}\n",
        "print(myset)"
      ]
    },
    {
      "cell_type": "markdown",
      "source": [
        "Sets are used to store multiple items in a single variable."
      ],
      "metadata": {
        "id": "NkC2zGASeuj-"
      }
    },
    {
      "cell_type": "markdown",
      "source": [
        "A set is a collection which is unordered, unchangeable*, and unindexed.\n",
        "\n"
      ],
      "metadata": {
        "id": "llBzvwYreusI"
      }
    },
    {
      "cell_type": "markdown",
      "source": [
        "Set Items<br>\n",
        "Set items are unordered, unchangeable, and do not allow duplicate values.\n",
        "\n",
        "Unordered<br>\n",
        "Unordered means that the items in a set do not have a defined order.\n",
        "Set items can appear in a different order every time you use them, and cannot be referred to by index or key.\n",
        "\n",
        "Unchangeable<br>\n",
        "Set items are unchangeable, meaning that we cannot change the items after the set has been created.\n",
        "Once a set is created, you cannot change its items, but you can remove items and add new items."
      ],
      "metadata": {
        "id": "BB1bkkcNfGn4"
      }
    },
    {
      "cell_type": "markdown",
      "source": [
        "Duplicates Not Allowed<br>\n",
        "Sets cannot have two items with the same value."
      ],
      "metadata": {
        "id": "NyLvYaB0fO2q"
      }
    },
    {
      "cell_type": "code",
      "source": [
        "thisset = {\"apple\", \"banana\", \"cherry\", \"apple\"}\n",
        "\n",
        "print(thisset)"
      ],
      "metadata": {
        "colab": {
          "base_uri": "https://localhost:8080/"
        },
        "id": "N9rChtHie7Mv",
        "outputId": "42aaeee8-2f1c-4175-acc4-2373da2637bd"
      },
      "execution_count": null,
      "outputs": [
        {
          "output_type": "stream",
          "name": "stdout",
          "text": [
            "{'banana', 'cherry', 'apple'}\n"
          ]
        }
      ]
    },
    {
      "cell_type": "code",
      "source": [
        "thisset = {\"apple\", \"banana\", \"cherry\"}\n",
        "\n",
        "print(len(thisset))"
      ],
      "metadata": {
        "colab": {
          "base_uri": "https://localhost:8080/"
        },
        "id": "2ZNQZKxWfTJT",
        "outputId": "5c030e8a-47a1-441f-bb9c-1b176785b220"
      },
      "execution_count": null,
      "outputs": [
        {
          "output_type": "stream",
          "name": "stdout",
          "text": [
            "3\n"
          ]
        }
      ]
    },
    {
      "cell_type": "code",
      "source": [
        "set1 = {\"apple\", \"banana\", \"cherry\"}\n",
        "set2 = {1, 5, 7, 9, 3}\n",
        "set3 = {True, False, False}\n",
        "set4 = {\"abc\", 34, True, 40, \"male\"}"
      ],
      "metadata": {
        "id": "9VwQDggpfWcQ"
      },
      "execution_count": null,
      "outputs": []
    },
    {
      "cell_type": "code",
      "source": [
        "myset = {\"apple\", \"banana\", \"cherry\"}\n",
        "print(type(myset))"
      ],
      "metadata": {
        "colab": {
          "base_uri": "https://localhost:8080/"
        },
        "id": "_FGDpBlnfbf_",
        "outputId": "f1b6be39-1148-418f-88f2-6177871c1d7c"
      },
      "execution_count": null,
      "outputs": [
        {
          "output_type": "stream",
          "name": "stdout",
          "text": [
            "<class 'set'>\n"
          ]
        }
      ]
    },
    {
      "cell_type": "code",
      "source": [
        "thisset = set((\"apple\", \"banana\", \"cherry\")) # note the double round-brackets\n",
        "print(thisset)\n",
        "print(type(thisset))"
      ],
      "metadata": {
        "colab": {
          "base_uri": "https://localhost:8080/"
        },
        "id": "weo_jN6FfsuY",
        "outputId": "7a245d48-c038-4ad7-ad71-27a42c86330f"
      },
      "execution_count": null,
      "outputs": [
        {
          "output_type": "stream",
          "name": "stdout",
          "text": [
            "{'cherry', 'banana', 'apple'}\n",
            "<class 'set'>\n"
          ]
        }
      ]
    },
    {
      "cell_type": "markdown",
      "source": [
        "Access Items\n",
        "You cannot access items in a set by referring to an index or a key.\n",
        "\n",
        "But you can loop through the set items using a for loop, or ask if a specified value is present in a set, by using the in keyword."
      ],
      "metadata": {
        "id": "dlM4do9ogVHn"
      }
    },
    {
      "cell_type": "code",
      "source": [
        "thisset = {\"apple\", \"banana\", \"cherry\",\"Mango\",\"grapes\"}\n",
        "\n",
        "for x in thisset:\n",
        "  print(x)"
      ],
      "metadata": {
        "colab": {
          "base_uri": "https://localhost:8080/"
        },
        "id": "pVtDMKs5fvxK",
        "outputId": "f3be427e-c779-4972-ea94-1df3b5a06966"
      },
      "execution_count": null,
      "outputs": [
        {
          "output_type": "stream",
          "name": "stdout",
          "text": [
            "banana\n",
            "cherry\n",
            "Mango\n",
            "apple\n",
            "grapes\n"
          ]
        }
      ]
    },
    {
      "cell_type": "code",
      "source": [
        "thisset = {\"apple\", \"banana\", \"cherry\"}\n",
        "\n",
        "print(\"cherry\" in thisset)"
      ],
      "metadata": {
        "colab": {
          "base_uri": "https://localhost:8080/"
        },
        "id": "zggqezh1gYJA",
        "outputId": "f684b4a7-53b7-43f2-8d04-fb08b8349070"
      },
      "execution_count": null,
      "outputs": [
        {
          "output_type": "stream",
          "name": "stdout",
          "text": [
            "True\n"
          ]
        }
      ]
    },
    {
      "cell_type": "markdown",
      "source": [
        "Add Items\n",
        "\n",
        "Once a set is created, you cannot change its items, but you can add new items.\n",
        "\n"
      ],
      "metadata": {
        "id": "lenERiWTggwV"
      }
    },
    {
      "cell_type": "code",
      "source": [
        "thisset = {\"apple\", \"banana\", \"cherry\"}\n",
        "thisset.add(\"Grapes\")\n",
        "print(thisset)"
      ],
      "metadata": {
        "colab": {
          "base_uri": "https://localhost:8080/"
        },
        "id": "7m8o4IH5gbXA",
        "outputId": "1b31ba52-4412-4807-b11e-55f6ff0a75fb"
      },
      "execution_count": null,
      "outputs": [
        {
          "output_type": "stream",
          "name": "stdout",
          "text": [
            "{'cherry', 'banana', 'Grapes', 'apple'}\n"
          ]
        }
      ]
    },
    {
      "cell_type": "markdown",
      "source": [
        "Add Sets<br>\n",
        "To add items from another set into the current set, use the update() method"
      ],
      "metadata": {
        "id": "w73RQTj3g2sH"
      }
    },
    {
      "cell_type": "code",
      "source": [
        "thisset = {\"apple\", \"banana\", \"cherry\"}\n",
        "tropical = {\"pineapple\", \"mango\", \"papaya\"}\n",
        "\n",
        "thisset.update(tropical)\n",
        "\n",
        "print(thisset)"
      ],
      "metadata": {
        "colab": {
          "base_uri": "https://localhost:8080/"
        },
        "id": "90mUpwDSgoGq",
        "outputId": "047a82c7-aee6-44ac-f13c-05545c1b9872"
      },
      "execution_count": null,
      "outputs": [
        {
          "output_type": "stream",
          "name": "stdout",
          "text": [
            "{'cherry', 'apple', 'papaya', 'banana', 'pineapple', 'mango'}\n"
          ]
        }
      ]
    },
    {
      "cell_type": "markdown",
      "source": [
        "Add Any Iterable<br>\n",
        "The object in the update() method does not have to be a set, it can be any iterable object (tuples, lists, dictionaries etc.)"
      ],
      "metadata": {
        "id": "hcP-l27Gg-Xr"
      }
    },
    {
      "cell_type": "code",
      "source": [
        "thisset = {\"apple\", \"banana\", \"cherry\"}\n",
        "mylist = [\"kiwi\", \"orange\"]\n",
        "\n",
        "thisset.update(mylist)\n",
        "\n",
        "print(thisset)"
      ],
      "metadata": {
        "colab": {
          "base_uri": "https://localhost:8080/"
        },
        "id": "_IAgeOCUg65a",
        "outputId": "e3c382ce-26d6-45aa-f035-993070a5e854"
      },
      "execution_count": null,
      "outputs": [
        {
          "output_type": "stream",
          "name": "stdout",
          "text": [
            "{'banana', 'cherry', 'orange', 'apple', 'kiwi'}\n"
          ]
        }
      ]
    },
    {
      "cell_type": "markdown",
      "source": [
        "Remove Item\n",
        "\n",
        "To remove an item in a set, use the remove(), or the discard() method.\n",
        "\n"
      ],
      "metadata": {
        "id": "f-CkkAKDhcyb"
      }
    },
    {
      "cell_type": "code",
      "source": [
        "thisset = {\"apple\", \"banana\", \"cherry\"}\n",
        "\n",
        "thisset.remove(\"apple\")\n",
        "\n",
        "print(thisset)"
      ],
      "metadata": {
        "colab": {
          "base_uri": "https://localhost:8080/"
        },
        "id": "spoVFY8bhXL9",
        "outputId": "14627fc6-0b4e-4ed6-f92e-33b3dd4550c3"
      },
      "execution_count": null,
      "outputs": [
        {
          "output_type": "stream",
          "name": "stdout",
          "text": [
            "{'cherry', 'banana'}\n"
          ]
        }
      ]
    },
    {
      "cell_type": "code",
      "source": [
        "thisset = {\"apple\", \"banana\", \"cherry\"}\n",
        "\n",
        "thisset.discard(\"Mango\")\n",
        "\n",
        "print(thisset)"
      ],
      "metadata": {
        "colab": {
          "base_uri": "https://localhost:8080/"
        },
        "id": "Ar8oewtvhhtQ",
        "outputId": "a8a864d6-6ddb-42ef-e5f3-82439cd404d3"
      },
      "execution_count": null,
      "outputs": [
        {
          "output_type": "stream",
          "name": "stdout",
          "text": [
            "{'cherry', 'banana', 'apple'}\n"
          ]
        }
      ]
    },
    {
      "cell_type": "markdown",
      "source": [
        "If the item to remove does not exist, discard() will NOT raise an error."
      ],
      "metadata": {
        "id": "N1dCldpyiROm"
      }
    },
    {
      "cell_type": "code",
      "source": [
        "thisset = {\"apple\", \"banana\", \"cherry\"}\n",
        "\n",
        "thisset.clear()\n",
        "\n",
        "print(thisset)"
      ],
      "metadata": {
        "colab": {
          "base_uri": "https://localhost:8080/"
        },
        "id": "vP4cywbnhv41",
        "outputId": "3302bfe5-540d-4378-e398-daa6aee584b6"
      },
      "execution_count": null,
      "outputs": [
        {
          "output_type": "stream",
          "name": "stdout",
          "text": [
            "set()\n"
          ]
        }
      ]
    },
    {
      "cell_type": "markdown",
      "source": [
        "Join Two Sets\n",
        "\n",
        "You can use the union() method that returns a new set containing all items from both sets, or the update() method that inserts all the items from one set into another\n",
        "\n"
      ],
      "metadata": {
        "id": "ExUFvwuSlHQy"
      }
    },
    {
      "cell_type": "code",
      "source": [
        "set1 = {\"a\", \"b\" , \"c\"}\n",
        "set2 = {1, 2, 3}\n",
        "\n",
        "set3 = set1.union(set2)\n",
        "\n",
        "print(set3)"
      ],
      "metadata": {
        "colab": {
          "base_uri": "https://localhost:8080/"
        },
        "id": "01K76yKWinKN",
        "outputId": "ec0dc108-1781-44f6-ad9c-b585eb507398"
      },
      "execution_count": null,
      "outputs": [
        {
          "output_type": "stream",
          "name": "stdout",
          "text": [
            "{1, 2, 3, 'a', 'c', 'b'}\n"
          ]
        }
      ]
    },
    {
      "cell_type": "markdown",
      "source": [
        "Keep ONLY the Duplicates\n",
        "\n",
        "The intersection_update() method will keep only the items that are present in both sets."
      ],
      "metadata": {
        "id": "92D8dFkWlR2R"
      }
    },
    {
      "cell_type": "code",
      "source": [
        "x = {\"apple\", \"banana\", \"cherry\"}\n",
        "y = {\"google\", \"microsoft\", \"apple\"}\n",
        "\n",
        "x.intersection_update(y)\n",
        "\n",
        "print(x)"
      ],
      "metadata": {
        "colab": {
          "base_uri": "https://localhost:8080/"
        },
        "id": "yktWQiSQlMSy",
        "outputId": "254a6bcb-fcfe-4e04-c0a6-9b1ad0353aa4"
      },
      "execution_count": null,
      "outputs": [
        {
          "output_type": "stream",
          "name": "stdout",
          "text": [
            "{'apple'}\n"
          ]
        }
      ]
    },
    {
      "cell_type": "markdown",
      "source": [
        "![image.png](data:image/png;base64,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)"
      ],
      "metadata": {
        "id": "JEvH-nEIlv9S"
      }
    },
    {
      "cell_type": "markdown",
      "source": [
        "Dictionary<br>\n",
        "Dictionaries are used to store data values in key:value pairs.\n",
        "\n",
        "A dictionary is a collection which is ordered*, changeable and do not allow duplicates.\n",
        "\n"
      ],
      "metadata": {
        "id": "ONgpRIMOmE0V"
      }
    },
    {
      "cell_type": "code",
      "source": [
        "thisdict = {\n",
        "  \"brand\": \"Ford\",\n",
        "  \"model\": \"Mustang\",\n",
        "  \"year\": 1964\n",
        "}"
      ],
      "metadata": {
        "id": "Qh8GiEk2lgDo"
      },
      "execution_count": null,
      "outputs": []
    },
    {
      "cell_type": "markdown",
      "source": [
        "As of Python version 3.7, dictionaries are ordered. In Python 3.6 and earlier, dictionaries are unordered.\n",
        "\n"
      ],
      "metadata": {
        "id": "DXyI7B3gmZbt"
      }
    },
    {
      "cell_type": "code",
      "source": [
        "thisdict = {\n",
        "  \"brand\": \"Ford\",\n",
        "  \"model\": \"Mustang\",\n",
        "  \"year\": 1964\n",
        "}\n",
        "print(thisdict)"
      ],
      "metadata": {
        "colab": {
          "base_uri": "https://localhost:8080/"
        },
        "id": "8DMvsdMDmP3Y",
        "outputId": "1a2752c9-9a2f-4f5f-d9bd-4204efc11a5d"
      },
      "execution_count": null,
      "outputs": [
        {
          "output_type": "stream",
          "name": "stdout",
          "text": [
            "{'brand': 'Ford', 'model': 'Mustang', 'year': 1964}\n"
          ]
        }
      ]
    },
    {
      "cell_type": "markdown",
      "source": [
        "Dictionary Items<br>\n",
        "Dictionary items are ordered, changeable, and does not allow duplicates.\n",
        "\n",
        "Dictionary items are presented in key:value pairs, and can be referred to by using the key name."
      ],
      "metadata": {
        "id": "V8GrXeiJmo1W"
      }
    },
    {
      "cell_type": "code",
      "source": [
        "thisdict = {\n",
        "  \"brand\": \"Ford\",\n",
        "  \"model\": \"Mustang\",\n",
        "  \"year\": 1964,\n",
        "  \"Place\":\"Mumbai\"\n",
        "}\n",
        "print(thisdict[\"Place\"])"
      ],
      "metadata": {
        "colab": {
          "base_uri": "https://localhost:8080/"
        },
        "id": "FwcHIup7mg7M",
        "outputId": "e1153aed-e9be-421a-b563-d4678cb1373e"
      },
      "execution_count": null,
      "outputs": [
        {
          "output_type": "stream",
          "name": "stdout",
          "text": [
            "Mumbai\n"
          ]
        }
      ]
    },
    {
      "cell_type": "markdown",
      "source": [
        "Ordered or Unordered?<br>\n",
        "As of Python version 3.7, dictionaries are ordered. In Python 3.6 and earlier, dictionaries are unordered.\n",
        "\n",
        "When we say that dictionaries are ordered, it means that the items have a defined order, and that order will not change.\n",
        "\n",
        "Unordered means that the items does not have a defined order, you cannot refer to an item by using an index.\n",
        "\n",
        "Changeable<br>\n",
        "Dictionaries are changeable, meaning that we can change, add or remove items after the dictionary has been created.\n",
        "\n",
        "Duplicates Not Allowed<br>\n",
        "Dictionaries cannot have two items with the same key"
      ],
      "metadata": {
        "id": "Rd3EjTH3m3P4"
      }
    },
    {
      "cell_type": "code",
      "source": [
        "thisdict = {\n",
        "  \"brand\": \"Ford\",\n",
        "  \"model\": \"Mustang\",\n",
        "  \"year\": 1964,\n",
        "  \"year\": 2020,\n",
        "  \"year\": 1964\n",
        "}\n",
        "print(thisdict)"
      ],
      "metadata": {
        "colab": {
          "base_uri": "https://localhost:8080/"
        },
        "id": "66JafJsAmsDQ",
        "outputId": "6aec9676-5e94-4fb4-8366-123eb91db417"
      },
      "execution_count": null,
      "outputs": [
        {
          "output_type": "stream",
          "name": "stdout",
          "text": [
            "{'brand': 'Ford', 'model': 'Mustang', 'year': 1964}\n"
          ]
        }
      ]
    },
    {
      "cell_type": "code",
      "source": [
        "thisdict = {\n",
        "  \"brand\": \"Ford\",\n",
        "  \"electric\": False,\n",
        "  \"year\": 1964,\n",
        "  \"colors\": [\"red\", \"white\", \"blue\"]\n",
        "}\n",
        "\n",
        "thisdict"
      ],
      "metadata": {
        "colab": {
          "base_uri": "https://localhost:8080/"
        },
        "id": "mx_k1QRsnCHY",
        "outputId": "a1c25b16-7184-44eb-82c6-327d86573736"
      },
      "execution_count": null,
      "outputs": [
        {
          "output_type": "execute_result",
          "data": {
            "text/plain": [
              "{'brand': 'Ford',\n",
              " 'electric': False,\n",
              " 'year': 1964,\n",
              " 'colors': ['red', 'white', 'blue']}"
            ]
          },
          "metadata": {},
          "execution_count": 25
        }
      ]
    },
    {
      "cell_type": "code",
      "source": [
        "print(type(thisdict))"
      ],
      "metadata": {
        "colab": {
          "base_uri": "https://localhost:8080/"
        },
        "id": "EFB7pu_InFqp",
        "outputId": "2d832708-095b-469c-b4df-6f6eaa49d772"
      },
      "execution_count": null,
      "outputs": [
        {
          "output_type": "stream",
          "name": "stdout",
          "text": [
            "<class 'dict'>\n"
          ]
        }
      ]
    },
    {
      "cell_type": "code",
      "source": [
        "thisdict = {\n",
        "  \"brand\": \"Ford\",\n",
        "  \"model\": \"Mustang\",\n",
        "  \"year\": 1964\n",
        "}\n",
        "x = thisdict[\"model\"]\n",
        "x"
      ],
      "metadata": {
        "colab": {
          "base_uri": "https://localhost:8080/",
          "height": 35
        },
        "id": "y0WeZfBOoLzI",
        "outputId": "da9b2c86-a169-4a97-a846-9bbdf11b0510"
      },
      "execution_count": null,
      "outputs": [
        {
          "output_type": "execute_result",
          "data": {
            "text/plain": [
              "'Mustang'"
            ],
            "application/vnd.google.colaboratory.intrinsic+json": {
              "type": "string"
            }
          },
          "metadata": {},
          "execution_count": 26
        }
      ]
    },
    {
      "cell_type": "code",
      "source": [
        "x = thisdict.get(\"model\")"
      ],
      "metadata": {
        "id": "k1ceCDlBoagq"
      },
      "execution_count": null,
      "outputs": []
    },
    {
      "cell_type": "code",
      "source": [
        "x = thisdict.keys()\n",
        "print(x)"
      ],
      "metadata": {
        "colab": {
          "base_uri": "https://localhost:8080/"
        },
        "id": "FfPpDbo7ocBF",
        "outputId": "252e205d-9038-47cb-9274-59464feb944d"
      },
      "execution_count": null,
      "outputs": [
        {
          "output_type": "stream",
          "name": "stdout",
          "text": [
            "dict_keys(['brand', 'model', 'year'])\n"
          ]
        }
      ]
    },
    {
      "cell_type": "markdown",
      "source": [
        "Add a new item to the original dictionary, and see that the keys list gets updated as well"
      ],
      "metadata": {
        "id": "DHehEbzYoynZ"
      }
    },
    {
      "cell_type": "code",
      "source": [
        "car = {\n",
        "\"brand\": \"Ford\",\n",
        "\"model\": \"Mustang\",\n",
        "\"year\": 1964,\n",
        "}\n",
        "\n",
        "x = car.keys()\n",
        "\n",
        "print(x) #before the change\n",
        "\n",
        "car[\"color\"] = \"white\"\n",
        "\n",
        "print(x) #after the change"
      ],
      "metadata": {
        "colab": {
          "base_uri": "https://localhost:8080/"
        },
        "id": "z2GOqGLkoh8Q",
        "outputId": "76f71c04-d90b-4263-ce21-574c5ad7b2fd"
      },
      "execution_count": null,
      "outputs": [
        {
          "output_type": "stream",
          "name": "stdout",
          "text": [
            "dict_keys(['brand', 'model', 'year'])\n",
            "dict_keys(['brand', 'model', 'year', 'color'])\n"
          ]
        }
      ]
    },
    {
      "cell_type": "markdown",
      "source": [
        "Get Values\n",
        "\n",
        "The values() method will return a list of all the values in the dictionary."
      ],
      "metadata": {
        "id": "4eukUNe8pBii"
      }
    },
    {
      "cell_type": "code",
      "source": [
        "x = thisdict.values()\n",
        "print(x)"
      ],
      "metadata": {
        "colab": {
          "base_uri": "https://localhost:8080/"
        },
        "id": "0UB-HdYyo97y",
        "outputId": "4aba95fc-9eac-4d4e-8494-486c66d67667"
      },
      "execution_count": null,
      "outputs": [
        {
          "output_type": "stream",
          "name": "stdout",
          "text": [
            "dict_values(['Ford', 'Mustang', 1964])\n"
          ]
        }
      ]
    },
    {
      "cell_type": "markdown",
      "source": [
        "Get Items\n",
        "\n",
        "The items() method will return each item in a dictionary, as tuples in a list.\n",
        "\n"
      ],
      "metadata": {
        "id": "Jmc-4WO1pdwQ"
      }
    },
    {
      "cell_type": "code",
      "source": [
        "x = thisdict.items()\n",
        "print(x)"
      ],
      "metadata": {
        "colab": {
          "base_uri": "https://localhost:8080/"
        },
        "id": "WZ7bL4aPpGC9",
        "outputId": "bb4cee4d-f12b-4ded-f140-2c508fa978bc"
      },
      "execution_count": null,
      "outputs": [
        {
          "output_type": "stream",
          "name": "stdout",
          "text": [
            "dict_items([('brand', 'Ford'), ('model', 'Mustang'), ('year', 1964)])\n"
          ]
        }
      ]
    },
    {
      "cell_type": "code",
      "source": [
        "car = {\n",
        "\"brand\": \"Ford\",\n",
        "\"model\": \"Mustang\",\n",
        "\"year\": 1964\n",
        "}\n",
        "\n",
        "x = car.items()\n",
        "\n",
        "print(x) #before the change\n",
        "\n",
        "car[\"year\"] = 2020\n",
        "\n",
        "print(x) #after the change"
      ],
      "metadata": {
        "colab": {
          "base_uri": "https://localhost:8080/"
        },
        "id": "Xi3GLNOgpgbv",
        "outputId": "76d18277-1f8f-490a-dde9-2364a6f41e5c"
      },
      "execution_count": null,
      "outputs": [
        {
          "output_type": "stream",
          "name": "stdout",
          "text": [
            "dict_items([('brand', 'Ford'), ('model', 'Mustang'), ('year', 1964)])\n",
            "dict_items([('brand', 'Ford'), ('model', 'Mustang'), ('year', 2020)])\n"
          ]
        }
      ]
    },
    {
      "cell_type": "markdown",
      "source": [
        "add items "
      ],
      "metadata": {
        "id": "4ir6osqGp_yU"
      }
    },
    {
      "cell_type": "code",
      "source": [
        "thisdict = {\n",
        "  \"brand\": \"Ford\",\n",
        "  \"model\": \"Mustang\",\n",
        "  \"year\": 1964\n",
        "}\n",
        "thisdict.update({\"color\": \"red\"})"
      ],
      "metadata": {
        "id": "0ZKTuc2gpiN2"
      },
      "execution_count": null,
      "outputs": []
    },
    {
      "cell_type": "markdown",
      "source": [
        "Remove Dictionary Items"
      ],
      "metadata": {
        "id": "CEzlrUhVqO6m"
      }
    },
    {
      "cell_type": "code",
      "source": [
        "thisdict = {\n",
        "  \"brand\": \"Ford\",\n",
        "  \"model\": \"Mustang\",\n",
        "  \"year\": 1964\n",
        "}\n",
        "thisdict.pop(\"model\")\n",
        "print(thisdict)  "
      ],
      "metadata": {
        "colab": {
          "base_uri": "https://localhost:8080/"
        },
        "id": "0LtcKjA5qA4J",
        "outputId": "b23dad65-2cca-4582-b474-7e73652fb9b2"
      },
      "execution_count": null,
      "outputs": [
        {
          "output_type": "stream",
          "name": "stdout",
          "text": [
            "{'brand': 'Ford', 'year': 1964}\n"
          ]
        }
      ]
    },
    {
      "cell_type": "code",
      "source": [
        "thisdict = {\n",
        "  \"brand\": \"Ford\",\n",
        "  \"model\": \"Mustang\",\n",
        "  \"year\": 1964\n",
        "}\n",
        "thisdict.popitem()\n",
        "print(thisdict)"
      ],
      "metadata": {
        "colab": {
          "base_uri": "https://localhost:8080/"
        },
        "id": "4_AHTcfIqTZK",
        "outputId": "32b7e463-666b-46b3-ba28-e78a56c68a56"
      },
      "execution_count": null,
      "outputs": [
        {
          "output_type": "stream",
          "name": "stdout",
          "text": [
            "{'brand': 'Ford', 'model': 'Mustang'}\n"
          ]
        }
      ]
    },
    {
      "cell_type": "code",
      "source": [
        "thisdict = {\n",
        "  \"brand\": \"Ford\",\n",
        "  \"model\": \"Mustang\",\n",
        "  \"year\": 1964\n",
        "}\n",
        "del thisdict[\"model\"]\n",
        "print(thisdict)"
      ],
      "metadata": {
        "colab": {
          "base_uri": "https://localhost:8080/"
        },
        "id": "neGGd__DqWcV",
        "outputId": "327d5454-9dac-4e3b-8e7e-4f60b8afdfc6"
      },
      "execution_count": null,
      "outputs": [
        {
          "output_type": "stream",
          "name": "stdout",
          "text": [
            "{'brand': 'Ford', 'year': 1964}\n"
          ]
        }
      ]
    },
    {
      "cell_type": "markdown",
      "source": [
        "Loop Dictionaries\n",
        "\n",
        "Loop Through a Dictionary<br>\n",
        "You can loop through a dictionary by using a for loop.\n",
        "\n",
        "When looping through a dictionary, the return value are the keys of the dictionary, but there are methods to return the values as well."
      ],
      "metadata": {
        "id": "d79801-OqlAE"
      }
    },
    {
      "cell_type": "code",
      "source": [
        "thisdict = {\n",
        "  \"brand\": \"Ford\",\n",
        "  \"model\": \"Mustang\",\n",
        "  \"year\": 1964\n",
        "}"
      ],
      "metadata": {
        "id": "vWGpvpSiq6ih"
      },
      "execution_count": null,
      "outputs": []
    },
    {
      "cell_type": "code",
      "source": [
        "for x in thisdict:\n",
        "  print(x,thisdict[x])"
      ],
      "metadata": {
        "colab": {
          "base_uri": "https://localhost:8080/"
        },
        "id": "dOe98925qeHS",
        "outputId": "32303b76-397b-4c83-c8f9-dff56a8138be"
      },
      "execution_count": null,
      "outputs": [
        {
          "output_type": "stream",
          "name": "stdout",
          "text": [
            "brand Ford\n",
            "model Mustang\n",
            "year 1964\n"
          ]
        }
      ]
    },
    {
      "cell_type": "code",
      "source": [
        "for x in thisdict:\n",
        "  print(thisdict[x])"
      ],
      "metadata": {
        "colab": {
          "base_uri": "https://localhost:8080/"
        },
        "id": "lS6VTyWjq4G2",
        "outputId": "95595a0d-edf4-4dd5-d233-75766e6c3953"
      },
      "execution_count": null,
      "outputs": [
        {
          "output_type": "stream",
          "name": "stdout",
          "text": [
            "Ford\n",
            "Mustang\n",
            "1964\n"
          ]
        }
      ]
    },
    {
      "cell_type": "code",
      "source": [
        "for x in thisdict.values():\n",
        "  print(x)"
      ],
      "metadata": {
        "colab": {
          "base_uri": "https://localhost:8080/"
        },
        "id": "4MO6gtEkrAmy",
        "outputId": "40376fe9-85d5-46b7-82e5-c650cbdb8f8e"
      },
      "execution_count": null,
      "outputs": [
        {
          "output_type": "stream",
          "name": "stdout",
          "text": [
            "Ford\n",
            "Mustang\n",
            "1964\n"
          ]
        }
      ]
    },
    {
      "cell_type": "code",
      "source": [
        "for x in thisdict.keys():\n",
        "  print(x)"
      ],
      "metadata": {
        "colab": {
          "base_uri": "https://localhost:8080/"
        },
        "id": "qBXOdy7TrEjY",
        "outputId": "5e4197d8-de82-4311-8430-54828b31ac60"
      },
      "execution_count": null,
      "outputs": [
        {
          "output_type": "stream",
          "name": "stdout",
          "text": [
            "brand\n",
            "model\n",
            "year\n"
          ]
        }
      ]
    },
    {
      "cell_type": "code",
      "source": [
        "for x, y in thisdict.items():\n",
        "  print(x, y)"
      ],
      "metadata": {
        "colab": {
          "base_uri": "https://localhost:8080/"
        },
        "id": "PeYD8qoZrI8O",
        "outputId": "d15aa053-6002-48a7-d83b-4a626b5dc256"
      },
      "execution_count": null,
      "outputs": [
        {
          "output_type": "stream",
          "name": "stdout",
          "text": [
            "brand Ford\n",
            "model Mustang\n",
            "year 1964\n"
          ]
        }
      ]
    },
    {
      "cell_type": "code",
      "source": [
        "thisdict = {\n",
        "  \"brand\": \"Ford\",\n",
        "  \"model\": \"Mustang\",\n",
        "  \"year\": 1964\n",
        "}\n",
        "mydict = dict(thisdict)\n",
        "print(mydict)\n"
      ],
      "metadata": {
        "colab": {
          "base_uri": "https://localhost:8080/"
        },
        "id": "munGvuaZs_rT",
        "outputId": "6efb07a8-6b1d-4590-e24e-4c937f9626b3"
      },
      "execution_count": null,
      "outputs": [
        {
          "output_type": "stream",
          "name": "stdout",
          "text": [
            "{'brand': 'Ford', 'model': 'Mustang', 'year': 1964}\n"
          ]
        }
      ]
    },
    {
      "cell_type": "markdown",
      "source": [
        "Nested Dictionaries\n"
      ],
      "metadata": {
        "id": "fR4KvWPmt3IT"
      }
    },
    {
      "cell_type": "code",
      "source": [
        "child1 = {\n",
        "  \"name\" : \"Emil\",\n",
        "  \"year\" : 2004\n",
        "}\n",
        "child2 = {\n",
        "  \"name\" : \"Tobias\",\n",
        "  \"year\" : 2007\n",
        "}\n",
        "child3 = {\n",
        "  \"name\" : \"Linus\",\n",
        "  \"year\" : 2011\n",
        "}\n",
        "\n",
        "myfamily = {\n",
        "  \"child1\" : child1,\n",
        "  \"child2\" : child2,\n",
        "  \"child3\" : child3\n",
        "\n",
        "}\n",
        "myfamily"
      ],
      "metadata": {
        "colab": {
          "base_uri": "https://localhost:8080/"
        },
        "id": "Xw2qgOr0tsk8",
        "outputId": "887ccd94-ec9c-47fd-e565-416b9694c93f"
      },
      "execution_count": null,
      "outputs": [
        {
          "output_type": "execute_result",
          "data": {
            "text/plain": [
              "{'child1': {'name': 'Emil', 'year': 2004},\n",
              " 'child2': {'name': 'Tobias', 'year': 2007},\n",
              " 'child3': {'name': 'Linus', 'year': 2011}}"
            ]
          },
          "metadata": {},
          "execution_count": 34
        }
      ]
    },
    {
      "cell_type": "markdown",
      "source": [
        "![image.png](data:image/png;base64,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)"
      ],
      "metadata": {
        "id": "k5eV9PiSt8RN"
      }
    },
    {
      "cell_type": "markdown",
      "source": [
        "![image.png](data:image/png;base64,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)"
      ],
      "metadata": {
        "id": "2yAGjIIYvsB9"
      }
    }
  ]
}