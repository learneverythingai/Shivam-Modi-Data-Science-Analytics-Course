{
  "cells": [
    {
      "cell_type": "markdown",
      "metadata": {
        "id": "view-in-github",
        "colab_type": "text"
      },
      "source": [
        "<a href=\"https://colab.research.google.com/github/learneverythingai/Shivam-Modi-Data-Science-Analytics-Course/blob/main/Python%20Course/Sets-Dictionaries.ipynb\" target=\"_parent\"><img src=\"https://colab.research.google.com/assets/colab-badge.svg\" alt=\"Open In Colab\"/></a>"
      ]
    },
    {
      "cell_type": "markdown",
      "source": [
        "#The Author and Instructor of this Notebook is Shivam Modi.\n",
        "##LinkedIn: https://www.linkedin.com/in/shivam-modi-datascientist/"
      ],
      "metadata": {
        "id": "hQ6au3b7whO7"
      },
      "id": "hQ6au3b7whO7"
    },
    {
      "cell_type": "markdown",
      "id": "f5edba22",
      "metadata": {
        "id": "f5edba22"
      },
      "source": [
        "### Dictionary\n",
        "\n",
        "1) Dictionary elements are stored in key:value pair format.<br>\n",
        "2) Dictionary elements are enclosed in {} and are separated by comma<br>\n",
        "3) Dictionary is ordered.<br>\n",
        "4) All the keys in the dictionary must be unique. Values may be duplicate<br>\n",
        "5) Dictionary is mutable (It can be changed)<br>\n",
        "6) The key,value pair is called item in dictionary and each item is stored in form of tuple<br>"
      ]
    },
    {
      "cell_type": "markdown",
      "id": "ccbabe93",
      "metadata": {
        "id": "ccbabe93"
      },
      "source": [
        "#### Empty Dictionary"
      ]
    },
    {
      "cell_type": "code",
      "execution_count": null,
      "id": "6e402493",
      "metadata": {
        "id": "6e402493",
        "outputId": "a761fdb2-0e87-44c9-e247-651f7cd88ddb"
      },
      "outputs": [
        {
          "name": "stdout",
          "output_type": "stream",
          "text": [
            "{} <class 'dict'>\n",
            "{} <class 'dict'>\n"
          ]
        }
      ],
      "source": [
        "d1,d2 = {}, dict()\n",
        "print(d1,type(d1))\n",
        "print(d2,type(d2))"
      ]
    },
    {
      "cell_type": "markdown",
      "id": "3dced1fa",
      "metadata": {
        "id": "3dced1fa"
      },
      "source": [
        "#### Examples of Dictionary"
      ]
    },
    {
      "cell_type": "code",
      "execution_count": null,
      "id": "1128c8f3",
      "metadata": {
        "id": "1128c8f3",
        "outputId": "4a533b90-8d3b-4c61-9bcb-5d715d8afa9e"
      },
      "outputs": [
        {
          "name": "stdout",
          "output_type": "stream",
          "text": [
            "{'Name': 'Ankit', 'Age': 20, 'City': 'Mumbai'}\n",
            "3\n",
            "<class 'dict'>\n"
          ]
        }
      ],
      "source": [
        "# key : Name, Age, City\n",
        "# values : Ankit, 20, Mumbai\n",
        "w1 = {'Name': 'Ankit','Age':20,'City':'Mumbai'}\n",
        "print(w1)\n",
        "print(len(w1))  # each key:value pair is contributing +1 to the length\n",
        "print(type(w1))"
      ]
    },
    {
      "cell_type": "markdown",
      "id": "ea92b519",
      "metadata": {
        "id": "ea92b519"
      },
      "source": [
        "#### Indexing and slicing is not allowed on dict"
      ]
    },
    {
      "cell_type": "code",
      "execution_count": null,
      "id": "e8bb9193",
      "metadata": {
        "id": "e8bb9193",
        "outputId": "4070910b-5ec8-43d4-825d-5ea43c7f730a"
      },
      "outputs": [
        {
          "ename": "TypeError",
          "evalue": "unhashable type: 'slice'",
          "output_type": "error",
          "traceback": [
            "\u001b[1;31m---------------------------------------------------------------------------\u001b[0m",
            "\u001b[1;31mTypeError\u001b[0m                                 Traceback (most recent call last)",
            "Cell \u001b[1;32mIn[2], line 3\u001b[0m\n\u001b[0;32m      1\u001b[0m d1 \u001b[38;5;241m=\u001b[39m  {\u001b[38;5;124m'\u001b[39m\u001b[38;5;124mk1\u001b[39m\u001b[38;5;124m'\u001b[39m:\u001b[38;5;241m10\u001b[39m,\u001b[38;5;124m'\u001b[39m\u001b[38;5;124mk2\u001b[39m\u001b[38;5;124m'\u001b[39m:\u001b[38;5;241m15\u001b[39m,\u001b[38;5;124m'\u001b[39m\u001b[38;5;124mk3\u001b[39m\u001b[38;5;124m'\u001b[39m:\u001b[38;5;241m12\u001b[39m,\u001b[38;5;124m'\u001b[39m\u001b[38;5;124mk4\u001b[39m\u001b[38;5;124m'\u001b[39m:\u001b[38;5;241m25\u001b[39m}\n\u001b[0;32m      2\u001b[0m \u001b[38;5;66;03m#print(d1[1])   # 0 index based indexing is not applicable here\u001b[39;00m\n\u001b[1;32m----> 3\u001b[0m \u001b[38;5;28mprint\u001b[39m(\u001b[43md1\u001b[49m\u001b[43m[\u001b[49m\u001b[38;5;241;43m1\u001b[39;49m\u001b[43m:\u001b[49m\u001b[38;5;241;43m3\u001b[39;49m\u001b[43m]\u001b[49m)\n",
            "\u001b[1;31mTypeError\u001b[0m: unhashable type: 'slice'"
          ]
        }
      ],
      "source": [
        "d1 =  {'k1':10,'k2':15,'k3':12,'k4':25}\n",
        "#print(d1[1])   # 0 index based indexing is not applicable here\n",
        "#print(d1[1:3]) # slicing does not work"
      ]
    },
    {
      "cell_type": "markdown",
      "id": "48886737",
      "metadata": {
        "id": "48886737"
      },
      "source": [
        "#### Fetch values for a given key(Dictionary can be indexed based on its keys)"
      ]
    },
    {
      "cell_type": "code",
      "execution_count": null,
      "id": "582d10c1",
      "metadata": {
        "scrolled": true,
        "id": "582d10c1",
        "outputId": "83428279-e6aa-4795-d5dc-4941fff76990"
      },
      "outputs": [
        {
          "name": "stdout",
          "output_type": "stream",
          "text": [
            "{'k1': 10, 'k2': 15, 'k3': 12, 'k4': 25, 108: 'Python'}\n",
            "15\n",
            "10\n",
            "12\n",
            "25\n",
            "Python\n"
          ]
        },
        {
          "ename": "KeyError",
          "evalue": "'k8'",
          "output_type": "error",
          "traceback": [
            "\u001b[1;31m---------------------------------------------------------------------------\u001b[0m",
            "\u001b[1;31mKeyError\u001b[0m                                  Traceback (most recent call last)",
            "\u001b[1;32m~\\AppData\\Local\\Temp\\ipykernel_7528\\4000650311.py\u001b[0m in \u001b[0;36m<module>\u001b[1;34m\u001b[0m\n\u001b[0;32m      6\u001b[0m \u001b[0mprint\u001b[0m\u001b[1;33m(\u001b[0m\u001b[0md1\u001b[0m\u001b[1;33m[\u001b[0m\u001b[1;34m'k4'\u001b[0m\u001b[1;33m]\u001b[0m\u001b[1;33m)\u001b[0m\u001b[1;33m\u001b[0m\u001b[1;33m\u001b[0m\u001b[0m\n\u001b[0;32m      7\u001b[0m \u001b[0mprint\u001b[0m\u001b[1;33m(\u001b[0m\u001b[0md1\u001b[0m\u001b[1;33m[\u001b[0m\u001b[1;36m108\u001b[0m\u001b[1;33m]\u001b[0m\u001b[1;33m)\u001b[0m\u001b[1;33m\u001b[0m\u001b[1;33m\u001b[0m\u001b[0m\n\u001b[1;32m----> 8\u001b[1;33m \u001b[0mprint\u001b[0m\u001b[1;33m(\u001b[0m\u001b[0md1\u001b[0m\u001b[1;33m[\u001b[0m\u001b[1;34m'k8'\u001b[0m\u001b[1;33m]\u001b[0m\u001b[1;33m)\u001b[0m  \u001b[1;31m# Error\u001b[0m\u001b[1;33m\u001b[0m\u001b[1;33m\u001b[0m\u001b[0m\n\u001b[0m",
            "\u001b[1;31mKeyError\u001b[0m: 'k8'"
          ]
        }
      ],
      "source": [
        "d1 =  {'k1':10,'k2':15,'k3':12,'k4':25,108:'Python'}\n",
        "print(d1)\n",
        "print(d1['k2'])\n",
        "print(d1['k1'])\n",
        "print(d1['k3'])\n",
        "print(d1['k4'])\n",
        "print(d1[108])\n",
        "print(d1['k8'])  # Error"
      ]
    },
    {
      "cell_type": "markdown",
      "id": "0fce49bf",
      "metadata": {
        "id": "0fce49bf"
      },
      "source": [
        "#### Note\n",
        "1) How to add a new key:value pair to an existing dict<br>\n",
        "2) Change value for a given key"
      ]
    },
    {
      "cell_type": "code",
      "execution_count": null,
      "id": "3ce92fe2",
      "metadata": {
        "id": "3ce92fe2",
        "outputId": "6fd46c18-e59e-412e-df0f-ad1ec245f552"
      },
      "outputs": [
        {
          "name": "stdout",
          "output_type": "stream",
          "text": [
            "{'Name': 'Ujjwal', 'Age': 24, 'City': 'Pune'}\n",
            "{'Name': 'Ujjwal', 'Age': 27, 'City': 'Delhi'}\n",
            "{'Name': 'Ujjwal', 'Age': 27, 'City': 'Delhi', 'Sub': 'Python'}\n"
          ]
        }
      ],
      "source": [
        "z = {'Name' :'Ujjwal','Age':24,'City':'Pune'}\n",
        "print(z)\n",
        "\n",
        "# How to Change value for a given key\n",
        "z['City'] = 'Delhi'\n",
        "z['Age'] = 27\n",
        "print(z)\n",
        "\n",
        "# How to add a new key:value pair\n",
        "z['Sub'] = 'Python'\n",
        "print(z)\n"
      ]
    },
    {
      "cell_type": "markdown",
      "id": "0e8a0800",
      "metadata": {
        "id": "0e8a0800"
      },
      "source": [
        "#### All the keys in the dictionary must be unique. Values may be duplicated"
      ]
    },
    {
      "cell_type": "code",
      "execution_count": null,
      "id": "184296e9",
      "metadata": {
        "id": "184296e9",
        "outputId": "c5946a41-5475-46a4-ec09-8c96ebf4b84f"
      },
      "outputs": [
        {
          "name": "stdout",
          "output_type": "stream",
          "text": [
            "{'k1': 8, 'k2': 50, 'k3': 14, 'k4': 25, 'k5': 8}\n"
          ]
        }
      ],
      "source": [
        "n = {'k1':8,'k2':14,'k3':14,'k2':22,'k4':25,'k5':8,'k2':50}\n",
        "print(n)"
      ]
    },
    {
      "cell_type": "markdown",
      "id": "94d67111",
      "metadata": {
        "id": "94d67111"
      },
      "source": [
        "#### Note\n",
        "1) Value of a dict can belong to any data type.<br>\n",
        "2) However, keys has to immutable data type.\n",
        "(i.e.- List, Dict and Set can't be dict keys)"
      ]
    },
    {
      "cell_type": "code",
      "execution_count": null,
      "id": "826f2ac0",
      "metadata": {
        "id": "826f2ac0",
        "outputId": "697ce696-60b0-42f8-c4bc-ab2dd8704a38"
      },
      "outputs": [
        {
          "name": "stdout",
          "output_type": "stream",
          "text": [
            "{'a1': 22, 'a2': 4.5, 'a3': 'Str', 'a4': True, 'a5': None, 'a6': [1, 2, 3, 4, 5], 'a7': (11, 12, 14, 15), 'a8': {10, 20}, 'a9': {'Name': 'Ankit', 'Age': 22}, 'a10': (5+8j)}\n",
            "<class 'dict'>\n"
          ]
        }
      ],
      "source": [
        "# Value of a dict can belong to any data type.\n",
        "w1 = {'a1':22,'a2':4.5,'a3':'Str','a4':True,'a5':None,\n",
        "     'a6':[1,2,3,4,5],'a7':(11,12,14,15),'a8':{10,20},\n",
        "      'a9':{'Name':'Ankit','Age':22},'a10':5+8j}\n",
        "print(w1)\n",
        "print(type(w1))"
      ]
    },
    {
      "cell_type": "markdown",
      "id": "f26f6883",
      "metadata": {
        "id": "f26f6883"
      },
      "source": [
        "### Dictionary Methods/Functions"
      ]
    },
    {
      "cell_type": "markdown",
      "id": "6d5d8a5e",
      "metadata": {
        "id": "6d5d8a5e"
      },
      "source": [
        "#### 1) get()\n",
        "Used to fetch value for a given key"
      ]
    },
    {
      "cell_type": "code",
      "execution_count": null,
      "id": "fb80829f",
      "metadata": {
        "id": "fb80829f",
        "outputId": "ec9fa2c2-0fff-4b80-9c2e-ee7da72f14c3"
      },
      "outputs": [
        {
          "name": "stdout",
          "output_type": "stream",
          "text": [
            "10\n",
            "10\n",
            "15\n",
            "15\n",
            "None\n"
          ]
        }
      ],
      "source": [
        "d1 =  {'k1':10,'k2':15,1024:12,'k4':25}\n",
        "print(d1['k1'])\n",
        "print(d1.get('k1'))\n",
        "print(d1['k2'])\n",
        "print(d1.get('k2'))\n",
        "print(d1.get('k7'))  # get() returns None if the key is not found in dict"
      ]
    },
    {
      "cell_type": "markdown",
      "id": "7e45be4f",
      "metadata": {
        "id": "7e45be4f"
      },
      "source": [
        "#### 2) pop(key)\n",
        "Used to remove a key:value pair from the dict where key is passed as an argument"
      ]
    },
    {
      "cell_type": "code",
      "execution_count": null,
      "id": "7ff1ec5a",
      "metadata": {
        "id": "7ff1ec5a",
        "outputId": "ab8b6ed8-fb2e-458b-d3e3-2b96527cdb40"
      },
      "outputs": [
        {
          "name": "stdout",
          "output_type": "stream",
          "text": [
            "{'k1': 10, 'k2': 15, 'k3': 12, 'k4': 25}\n",
            "{'k1': 10, 'k3': 12, 'k4': 25}\n",
            "{'k1': 10, 'k3': 12}\n"
          ]
        }
      ],
      "source": [
        "d1 =  {'k1':10,'k2':15,'k3':12,'k4':25}\n",
        "print(d1)\n",
        "d1.pop('k2') # removes the key:value for the key k2\n",
        "print(d1)\n",
        "d1.pop('k4') # removes the key:value for the key k4\n",
        "print(d1)"
      ]
    },
    {
      "cell_type": "markdown",
      "id": "3ec06a7d",
      "metadata": {
        "id": "3ec06a7d"
      },
      "source": [
        "#### Note\n",
        "If key is not found, default is returned if given, otherwise KeyError is raised"
      ]
    },
    {
      "cell_type": "markdown",
      "id": "2bd423d8",
      "metadata": {
        "id": "2bd423d8"
      },
      "source": [
        "#### 3) popitem()\n",
        "It is used to remove a key-value pair from the dict in LIFO(Last In First Out) order(right to left order)"
      ]
    },
    {
      "cell_type": "code",
      "execution_count": null,
      "id": "9e95d6fb",
      "metadata": {
        "scrolled": true,
        "id": "9e95d6fb",
        "outputId": "815e10a0-b6d8-475b-8df0-d423d5f3f54c"
      },
      "outputs": [
        {
          "name": "stdout",
          "output_type": "stream",
          "text": [
            "{'k1': 10, 'k2': 15, 'k3': 12, 'k4': 25}\n",
            "{'k1': 10, 'k2': 15, 'k3': 12}\n",
            "{'k1': 10, 'k2': 15}\n",
            "('k2', 15)\n",
            "{'k1': 10}\n"
          ]
        }
      ],
      "source": [
        "d1 =  {'k1':10,'k2':15,'k3':12,'k4':25}\n",
        "print(d1)\n",
        "d1.popitem()  # last key:value pair(from right end) is being removed\n",
        "print(d1)\n",
        "d1.popitem()\n",
        "print(d1)\n",
        "print(d1.popitem())  # returns the (key,value) pair being removed\n",
        "print(d1)"
      ]
    },
    {
      "cell_type": "markdown",
      "id": "8248d75b",
      "metadata": {
        "id": "8248d75b"
      },
      "source": [
        "#### 4) clear()\n",
        "Empties the dict"
      ]
    },
    {
      "cell_type": "code",
      "execution_count": null,
      "id": "bba60e9b",
      "metadata": {
        "id": "bba60e9b",
        "outputId": "87a797db-a0c7-4b50-f1ec-7281ffa25220"
      },
      "outputs": [
        {
          "name": "stdout",
          "output_type": "stream",
          "text": [
            "{'a1': 20, 'a2': 30}\n",
            "{}\n"
          ]
        }
      ],
      "source": [
        "d1 = {'a1':20,'a2':30}\n",
        "print(d1)\n",
        "d1.clear()\n",
        "print(d1)"
      ]
    },
    {
      "cell_type": "markdown",
      "id": "39cda479",
      "metadata": {
        "id": "39cda479"
      },
      "source": [
        "#### 5) update\n",
        "Updates(performs union operation) a dictionary with other dictionary. Only one dict can be passed as an argument."
      ]
    },
    {
      "cell_type": "code",
      "execution_count": null,
      "id": "db7e2ea5",
      "metadata": {
        "id": "db7e2ea5",
        "outputId": "4d91be34-f8b2-41f3-a90c-305e4ba093c8"
      },
      "outputs": [
        {
          "name": "stdout",
          "output_type": "stream",
          "text": [
            "{'g1': 10, 'g2': 30, 'g3': 15}\n",
            "{'g4': 25, 'g5': 40, 'g2': 30, 'g1': 80}\n",
            "{'g4': 25, 'g5': 40, 'g2': 30, 'g1': 10, 'g3': 15}\n"
          ]
        }
      ],
      "source": [
        "w1 = {'g1':10,'g2':30,'g3':15}\n",
        "w2 = {'g4':25,'g5':40,'g2':30,'g1':80}\n",
        "print(w1)\n",
        "print(w2)\n",
        "# w1.update(w2)  # w1 will be updated with union of w1 and w2\n",
        "# print(w1)\n",
        "w2.update(w1)\n",
        "print(w2)"
      ]
    },
    {
      "cell_type": "markdown",
      "id": "a2388e09",
      "metadata": {
        "id": "a2388e09"
      },
      "source": [
        "#### 6) setdefault()\n",
        "Used to add a new key-value pair to the dictionary, with the default value of None"
      ]
    },
    {
      "cell_type": "code",
      "execution_count": null,
      "id": "af7c35fe",
      "metadata": {
        "id": "af7c35fe",
        "outputId": "4a8ac390-8c50-431f-8a22-08e844541bb5"
      },
      "outputs": [
        {
          "name": "stdout",
          "output_type": "stream",
          "text": [
            "{'h1': 10, 'h2': 20, 'h3': 30}\n",
            "{'h1': 10, 'h2': 20, 'h3': 30, 'h4': 45}\n",
            "{'h1': 10, 'h2': 20, 'h3': 30, 'h4': 45, 'h5': None}\n",
            "{'h1': 10, 'h2': 20, 'h3': 30, 'h4': 45, 'h5': None, 'h6': 28}\n"
          ]
        }
      ],
      "source": [
        "d = {'h1':10,'h2':20,'h3':30}\n",
        "print(d)\n",
        "# Add a new key:value pair\n",
        "d['h4'] = 45\n",
        "print(d)\n",
        "d.setdefault('h5') # h5 is new key added with the value of None\n",
        "print(d)\n",
        "d.setdefault('h6',28)  # key:value pair (h6,28) is addded\n",
        "print(d)"
      ]
    },
    {
      "cell_type": "markdown",
      "id": "69fb9d86",
      "metadata": {
        "id": "69fb9d86"
      },
      "source": [
        "#### 7,8,9) keys(),values(),items()\n",
        "\n",
        "keys() - Returns keys of the dict<br>\n",
        "values() - Returns values of the dict<br>\n",
        "items() - Returns items(key:value) of the dict"
      ]
    },
    {
      "cell_type": "code",
      "execution_count": null,
      "id": "23beb1e1",
      "metadata": {
        "id": "23beb1e1",
        "outputId": "ce1e4392-68f9-4c78-dd0e-287ff03b6606"
      },
      "outputs": [
        {
          "name": "stdout",
          "output_type": "stream",
          "text": [
            "dict_keys(['a1', 'a2', 'a3'])\n",
            "dict_values([5, 10, 7])\n",
            "dict_items([('a1', 5), ('a2', 10), ('a3', 7)])\n"
          ]
        }
      ],
      "source": [
        "d1 = {'a1':5,'a2':10,'a3':7}\n",
        "print(d1.keys())\n",
        "print(d1.values())\n",
        "print(d1.items())"
      ]
    },
    {
      "cell_type": "code",
      "execution_count": null,
      "id": "695a024b",
      "metadata": {
        "id": "695a024b",
        "outputId": "1e6595ae-b33d-4866-fe12-ff7dc146b9c4"
      },
      "outputs": [
        {
          "name": "stdout",
          "output_type": "stream",
          "text": [
            "['a1', 'a2', 'a3']\n",
            "[5, 10, 7]\n",
            "[('a1', 5), ('a2', 10), ('a3', 7)]\n"
          ]
        }
      ],
      "source": [
        "d1 = {'a1':5,'a2':10,'a3':7}\n",
        "print(list(d1.keys()))\n",
        "print(list(d1.values()))\n",
        "print(list(d1.items()))"
      ]
    },
    {
      "cell_type": "code",
      "execution_count": null,
      "id": "d2c7a776",
      "metadata": {
        "id": "d2c7a776",
        "outputId": "36afc0a4-6d5b-4ff5-81fd-382721faf5d0"
      },
      "outputs": [
        {
          "name": "stdout",
          "output_type": "stream",
          "text": [
            "['a1', 'a2', 'a3']\n",
            "[5, 10, 7]\n",
            "{'a1': 5, 'a2': 10, 'a3': 7}\n"
          ]
        }
      ],
      "source": [
        "d1 = {'a1':5,'a2':10,'a3':7}\n",
        "k = list(d1.keys())\n",
        "v = list(d1.values())\n",
        "print(k)\n",
        "print(v)\n",
        "d2 = dict(zip(k,v))\n",
        "print(d2)"
      ]
    },
    {
      "cell_type": "markdown",
      "id": "8c3e236d",
      "metadata": {
        "id": "8c3e236d"
      },
      "source": [
        "#### Iteration  in Dictionary"
      ]
    },
    {
      "cell_type": "code",
      "execution_count": null,
      "id": "0aa86caa",
      "metadata": {
        "scrolled": true,
        "id": "0aa86caa",
        "outputId": "805faa6d-74a4-401c-8b99-c1703590f4ff"
      },
      "outputs": [
        {
          "name": "stdout",
          "output_type": "stream",
          "text": [
            "a1 10 10\n",
            "a2 15 15\n",
            "a3 45 45\n"
          ]
        }
      ],
      "source": [
        "d1 = {'a1':10,'a2':15,'a3':45}\n",
        "for i in d1: # by default we iterate on keys in dict\n",
        "    print(i,d1[i],d1.get(i))\n",
        "# i corresponds to each and every key of the dict"
      ]
    },
    {
      "cell_type": "code",
      "execution_count": null,
      "id": "139afad4",
      "metadata": {
        "id": "139afad4",
        "outputId": "337fad1b-bf5c-4137-b0a4-8604284d3a31"
      },
      "outputs": [
        {
          "name": "stdout",
          "output_type": "stream",
          "text": [
            "a1 10 10\n",
            "a2 15 15\n",
            "a3 45 45\n"
          ]
        }
      ],
      "source": [
        "d1 = {'a1':10,'a2':15,'a3':45}\n",
        "for i in d1.keys():   # i coresponds to the keys of the dict\n",
        "    print(i,d1[i],d1.get(i))"
      ]
    },
    {
      "cell_type": "code",
      "execution_count": null,
      "id": "2e3666c5",
      "metadata": {
        "id": "2e3666c5",
        "outputId": "ac857c5d-7b43-4535-94bf-8cf8d5f3cf10"
      },
      "outputs": [
        {
          "name": "stdout",
          "output_type": "stream",
          "text": [
            "10\n",
            "15\n",
            "45\n"
          ]
        }
      ],
      "source": [
        "d1 = {'a1':10,'a2':15,'a3':45}\n",
        "for i in d1.values():  # i corresponds to the values of the dict\n",
        "    print(i)"
      ]
    },
    {
      "cell_type": "code",
      "execution_count": null,
      "id": "ec39ce12",
      "metadata": {
        "id": "ec39ce12",
        "outputId": "a7e1836f-8295-4b26-f0d2-c82ab08356a8"
      },
      "outputs": [
        {
          "name": "stdout",
          "output_type": "stream",
          "text": [
            "('a1', 10)\n",
            "('a2', 15)\n",
            "('a3', 45)\n"
          ]
        }
      ],
      "source": [
        "d1 = {'a1':10,'a2':15,'a3':45}\n",
        "for i in d1.items():  # i corresponds to each and every item of the dict\n",
        "    print(i)"
      ]
    },
    {
      "cell_type": "code",
      "execution_count": null,
      "id": "2237a98c",
      "metadata": {
        "id": "2237a98c",
        "outputId": "4800b2d0-d256-4e8e-82cb-278af8cb105b"
      },
      "outputs": [
        {
          "name": "stdout",
          "output_type": "stream",
          "text": [
            "a1 10\n",
            "a2 15\n",
            "a3 45\n"
          ]
        }
      ],
      "source": [
        "d1 = {'a1':10,'a2':15,'a3':45}\n",
        "for k,v in d1.items():  # k corresponds to keys and v corresponds to values\n",
        "    print(k,v)"
      ]
    },
    {
      "cell_type": "markdown",
      "id": "d7131112",
      "metadata": {
        "id": "d7131112"
      },
      "source": [
        "### Set\n",
        "1) It is unordered collection of elements of same or different data types<br>\n",
        "2) Set elements are represented in {} and are separated by comma<br>\n",
        "3) Set does not suport indexing or slicing (as it is unordered)<br>\n",
        "4) Set does not allow duplicate elements<br>\n",
        "5) Set is mutable(it can be changed)"
      ]
    },
    {
      "cell_type": "markdown",
      "id": "d65cc807",
      "metadata": {
        "id": "d65cc807"
      },
      "source": [
        "#### Empty Set"
      ]
    },
    {
      "cell_type": "code",
      "execution_count": null,
      "id": "7d9142a6",
      "metadata": {
        "id": "7d9142a6",
        "outputId": "135635d3-5068-4c77-d5ad-1d2c81257bfe"
      },
      "outputs": [
        {
          "name": "stdout",
          "output_type": "stream",
          "text": [
            "set()\n",
            "<class 'set'>\n"
          ]
        }
      ],
      "source": [
        "s1 = set()\n",
        "print(s1)\n",
        "print(type(s1))"
      ]
    },
    {
      "cell_type": "code",
      "execution_count": null,
      "id": "5eadaa67",
      "metadata": {
        "id": "5eadaa67",
        "outputId": "f917a5c9-7aa8-4f92-ac3b-abd0eade24a9"
      },
      "outputs": [
        {
          "name": "stdout",
          "output_type": "stream",
          "text": [
            "<class 'dict'>\n"
          ]
        }
      ],
      "source": [
        "s2 = {}\n",
        "print(type(s2))"
      ]
    },
    {
      "cell_type": "markdown",
      "id": "28453568",
      "metadata": {
        "id": "28453568"
      },
      "source": [
        "#### Sets cant have duplicate elements"
      ]
    },
    {
      "cell_type": "code",
      "execution_count": null,
      "id": "01f831f9",
      "metadata": {
        "id": "01f831f9",
        "outputId": "5c3eeead-2053-4462-8aab-9b4cc39a6c36"
      },
      "outputs": [
        {
          "name": "stdout",
          "output_type": "stream",
          "text": [
            "{50, 20, 40, 10, 30}\n"
          ]
        }
      ],
      "source": [
        "s = {10,20,10,30,40,50,20}\n",
        "print(s)"
      ]
    },
    {
      "cell_type": "code",
      "execution_count": null,
      "id": "8eb52cbf",
      "metadata": {
        "id": "8eb52cbf",
        "outputId": "838f6552-866a-4cf8-eb87-d7a71cc65d52"
      },
      "outputs": [
        {
          "ename": "TypeError",
          "evalue": "'set' object is not subscriptable",
          "output_type": "error",
          "traceback": [
            "\u001b[1;31m---------------------------------------------------------------------------\u001b[0m",
            "\u001b[1;31mTypeError\u001b[0m                                 Traceback (most recent call last)",
            "\u001b[1;32m~\\AppData\\Local\\Temp\\ipykernel_7528\\4011201815.py\u001b[0m in \u001b[0;36m<module>\u001b[1;34m\u001b[0m\n\u001b[0;32m      1\u001b[0m \u001b[1;31m# Indexing and slicing is not allowed on Sets\u001b[0m\u001b[1;33m\u001b[0m\u001b[1;33m\u001b[0m\u001b[0m\n\u001b[1;32m----> 2\u001b[1;33m \u001b[0mprint\u001b[0m\u001b[1;33m(\u001b[0m\u001b[0ms\u001b[0m\u001b[1;33m[\u001b[0m\u001b[1;36m2\u001b[0m\u001b[1;33m]\u001b[0m\u001b[1;33m)\u001b[0m\u001b[1;33m\u001b[0m\u001b[1;33m\u001b[0m\u001b[0m\n\u001b[0m",
            "\u001b[1;31mTypeError\u001b[0m: 'set' object is not subscriptable"
          ]
        }
      ],
      "source": [
        "# Indexing and slicing is not allowed on Sets\n",
        "print(s[2])"
      ]
    },
    {
      "cell_type": "markdown",
      "id": "f9f3da20",
      "metadata": {
        "id": "f9f3da20"
      },
      "source": [
        "#### Remove duplicates from list/tuple"
      ]
    },
    {
      "cell_type": "code",
      "execution_count": null,
      "id": "f3fdeea1",
      "metadata": {
        "id": "f3fdeea1",
        "outputId": "55cf28b6-418e-472d-c58f-62a81b35f9dc"
      },
      "outputs": [
        {
          "name": "stdout",
          "output_type": "stream",
          "text": [
            "(10, 30, 24, 25, 30, 20, 10, 36, 28, 30)\n",
            "[36, 10, 20, 24, 25, 28, 30]\n"
          ]
        }
      ],
      "source": [
        "w = (10,30,24,25,30,20,10,36,28,30)\n",
        "print(w)\n",
        "# Convert it to a list by removing all duplicates\n",
        "w1 = list(set(w))\n",
        "print(w1)"
      ]
    }
  ],
  "metadata": {
    "kernelspec": {
      "display_name": "Python 3 (ipykernel)",
      "language": "python",
      "name": "python3"
    },
    "language_info": {
      "codemirror_mode": {
        "name": "ipython",
        "version": 3
      },
      "file_extension": ".py",
      "mimetype": "text/x-python",
      "name": "python",
      "nbconvert_exporter": "python",
      "pygments_lexer": "ipython3",
      "version": "3.10.9"
    },
    "colab": {
      "provenance": [],
      "include_colab_link": true
    }
  },
  "nbformat": 4,
  "nbformat_minor": 5
}